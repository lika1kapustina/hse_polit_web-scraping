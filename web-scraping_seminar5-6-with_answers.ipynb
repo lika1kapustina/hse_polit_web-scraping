{
 "cells": [
  {
   "cell_type": "markdown",
   "id": "c3207f01",
   "metadata": {},
   "source": [
    "# Сбор данных с Web-scraping и API для социально-научных исследований\n",
    "---\n",
    "## Семинары 5-6. `BeautifulSoup` и `requests`: продолжение.\n",
    "\n",
    "---\n",
    "*ФСН, ОП \"Политология\", 2023-2024 гг.*\n",
    "\n",
    "Лика Капустина,\n",
    "\n",
    "lkapustina@hse.ru\n",
    "\n",
    "**План занятия:**\n",
    "1. [Этап 2.1 Собираем данные со страницы преподавателя на одном примере](#par1)\n",
    "2. [Этап 2.2 Собираем данные о преподавателях в цикле](#par2)\n",
    "3. [Обработка полученных данных и `pandas`](#par3)\n",
    "4. [Анализ данных и визуализации](#par4)\n",
    "5. [Дополнительные материалы](#parlast)\n",
    "---\n",
    "\n",
    "**Что было на предыдущем семинаре?**\n",
    "* Мы с вами поговорили про библиотеки `requests` и `bs4`;\n",
    "* Вспомнили основы работы с некоторыми базовыми конструкциями в Python;\n",
    "* Сформулировали цель и этапы нашего проекта – мы хотим собрать и проанализироватьданные о преподавателях ОП \"Политология\";\n",
    "* Собрали ссылки на страницы преподавателей – в файл `links_political_science_bachelor_tutors.txt`.\n",
    "\n",
    "Как мы обозначили раньше, **процесс сбора данных выглядит так:**\n",
    "1. Сбор ссылок на страницы преподавателей (лежат на [странице с преподавателями](https://www.hse.ru/ba/political/tutors));\n",
    "2. Сбор информации со страниц преподавателей (индивидуальные страницы преподавателей, организованные по одному шаблону).\n",
    "\n",
    "**А после сбора данных мы:**\n",
    "\n",
    "3. Займемся предобработкой данных и вспомним про то какие возможности `pandas` существуют;\n",
    "\n",
    "4. Возьмемся за анализ данных и исследуем наши данные, а также построим несколько графиков с помощью `matplotlib` и `seaborn`.\n",
    "\n",
    "**Первый этап сбора данных осуществлен, поэтому - переходим к этапу №2**"
   ]
  },
  {
   "cell_type": "markdown",
   "id": "3626da2d",
   "metadata": {},
   "source": [
    "## 0. Загружаем необходимые библиотеки"
   ]
  },
  {
   "cell_type": "code",
   "execution_count": 2,
   "id": "0f3dfa6a",
   "metadata": {},
   "outputs": [],
   "source": [
    "import requests               # для отправки http запросов веб-серверам\n",
    "from bs4 import BeautifulSoup # для обработки html\n",
    "import pandas as pd           # для работы с таблицами\n",
    "import numpy as np            # для базовых математических операций\n",
    "import re                     # для работы с регулярными выражениями"
   ]
  },
  {
   "cell_type": "markdown",
   "id": "4d11d0e5",
   "metadata": {},
   "source": [
    "## Этап 2.1 Собираем данные со страницы преподавателя на одном примере<a name=\"par1\"></a>\n",
    "\n",
    "Давайте сделаем запрос к одной странице преподавателя и сохраним результат в переменную `html`. В будущем, вы будете бесконечно использовать две эти строки:\n",
    "\n",
    "Базовая схема выглядит просто: запрос через `requests` + обработка HTML через `BeautifulSoup`. Для этого нужно всего три строчки:\n",
    "\n",
    "Для примера мы поработаем со страницей [Ильи Михайловича Локшина](https://www.hse.ru/org/persons/14276397). "
   ]
  },
  {
   "cell_type": "code",
   "execution_count": 3,
   "id": "c7d4f822",
   "metadata": {},
   "outputs": [],
   "source": [
    "link = 'https://www.hse.ru/org/persons/14276397' # сохраняем ссылку в переменную\n",
    "html = requests.get(link)                        # делаем к ней запрос\n",
    "soup = BeautifulSoup(html.text)                  # обрабатываем html с помощью BeautifulSoup"
   ]
  },
  {
   "cell_type": "markdown",
   "id": "d2f97c01",
   "metadata": {},
   "source": [
    "<center><b>Какие данные мы будем собирать со страниц преподавателей?</b></center>\n",
    "\n",
    "Лучше всего определиться с переменными, которые мы хотим собрать: это будут **основные переменные** и **дополнительные**.\n",
    "\n",
    "**Почему хорошо в начале работы над проектом сформулировать такое разделение?**\n",
    "\n",
    "В категорию **основные переменные** попадают те переменные, которые:\n",
    "1. **Необходимо** собрать по техническому заданию от вашего работодателя/по вашему проекту;\n",
    "2. Переменные, которые присутствуют **почти на любой странице** того типа, с которым мы будем работать;\n",
    "    \n",
    "Получением этих переменных из html-разметки страницы мы занимаемся до победного конца – пока не научимся собирать их и не протестируем сбор на ряде тестовых запросов, не прекращаем работу над проектом.\n",
    "    \n",
    "**Список основных параметров, которые мы будем собирать со страницы преподавателя:**\n",
    "\n",
    "1. ФИО преподавателя;\n",
    "2. Информация об образовании:\n",
    "    * Степень бакалавра;\n",
    "    * Степень магистра;\n",
    "    * Степень кандидата наук (PhD);\n",
    "3. Год старта работы в Вышке;\n",
    "4. Профессиональные интересы;\n",
    "5. Сколько раз преподаватель получал статус \"лучшего преподавателя\";\n",
    "6. Иностранные языки, которые знает преподаватель;\n",
    "7. Количество иностранных языков, которые знает преподаватель;\n",
    "8. Ссылка на страницу преподавателя;\n",
    "    \n",
    "В категорию **дополнительные переменные** будут попадать те переменные, которые:\n",
    "1. Можно собрать, но не требуется по условию т/з или задач проекта;\n",
    "2. Если соберете – <font color='green'>хорошо</font>, если не соберете – <font color='grey'>некритично</font>;\n",
    "3. Присутствуют, скорее всего, не на всех страницах такого типа (то есть, могут вызвать <font color='orange'>ошибки</font>);\n",
    "4. Их сбор <font color='orange'>затруднен или невозможен</font> в рамках работы с теми инструментами, которые вы выбрали (например, определенное значение может быть получено только после нажатия на кнопки или отправки форм с которыми вы могли бы поработать используя `Selenium` + `bs4`, а вы пока умеете работать только с `requests` + `bs4`).\n",
    "    \n",
    "\n",
    "\n",
    "\n",
    "**Дополнительно можно собрать:**\n",
    "\n",
    "1. Места работы в НИУ ВШЭ;\n",
    "2. Должности на местах работы;\n",
    "3. Количество публикаций преподавателя;\n",
    "4. Количество новостей на сайте Вышки с преподавателем;\n",
    "5. Названия курсов, которые он преподает;\n",
    "6. ID в наукометрических системах:\n",
    "    * Google Scholar;\n",
    "    * SPIN РИНЦ;\n",
    "    * ORCID;\n",
    "    * ResearcherID;\n",
    "    * Scopus Author ID\n",
    "7. Является ли участником программы кадрового резерва;\n",
    "8. Получал ли надбавку за академическую работу;\n",
    "9. Являлся ли победителем конкурса лучших научных работ сотрудников НИУ ВШЭ;\n",
    "10. Проекты на ярмарке проектов:\n",
    "    * Руководил ли хотя бы 1 проектом или нет;\n",
    "    * Число проектов под руководством преподавателя;\n",
    "11. Информация об опыте работы;\n",
    "12. Контакты, адрес работы;\n",
    "13. Часы присутствия и/или время консультаций,\n",
    "\n",
    "*и многое другое*. Эти данные присутствуют на странице не каждого преподавателя, но могут дополнить наше представление о преподавателях ОП \"Политология\"."
   ]
  },
  {
   "cell_type": "markdown",
   "id": "3c2ec141",
   "metadata": {},
   "source": [
    "<center><b>Как понять, какие данные вы вообще можете собрать со страницы, с которой работаете?</b></center>\n",
    "\n",
    "**Базовый вариант – проходитесь по нескольким страницам (включая самые наполненные), и выписываете себе те данные, которые можете с неё собрать**.\n",
    "\n",
    "**Иногда ваш заказчик или работодатель приходит к вам с конкретным списком** – нужно собрать такие-то переменные, и вы пишете скрипт, который получает необходимые данные со страницы.\n",
    "<p></p>\n",
    "<p></p>\n",
    "<center><b>Как увидеть html-разметку страницы?</b></center>\n",
    "\n",
    "Для того чтобы отработать сбор данных со страницы преподавателя на конкретном примере, откроем страницу одного преподавателя – это будет страница [Ильи Михайловича Локшина](https://www.hse.ru/org/persons/14276397) и пробежимся по ней. \n",
    "\n",
    "* **Вам нужно открыть его страницу в новом окне (я советую это сделать в браузере `Google Chrome`), нажать правой кнопкой мыши на экран и выбрать опцию `Показать код`.**\n",
    "\n",
    "* **Если вы пользуетесь Safari и принципиально не хотите устанавливать новый браузер**, вам нужно:\n",
    "    1. Открыть в Safari настройки приложения;\n",
    "    2. Кликнуть на `\"Дополнения\"`;\n",
    "    3. Нажать на `\"Показывать меню \"Разработка\"` в строке меню\";\n",
    "    4. После этого навести курсор на элемент, нажать **ПКМ**, кликнуть на `Проверить инструмент`.\n",
    "    \n",
    "**Если на вашем экране вы увидели что-то похожее, то шалость удалась и теперь вы можете ориентироватся по html-разметке страницы**\n",
    "\n",
    "![Страница](screen_1.png)\n",
    "\n",
    "*Если у вас не отображается скриншот, перейдите по [ссылке](https://drive.google.com/file/d/1z6xRAmz8EIxuuuCY7Sd1cKLsfOXoYFAD/view?usp=share_link).*\n",
    "\n",
    "**Когда вы ищите как получить конкретную информацию, вы можете опираться на две основные опции:**\n",
    "\n",
    "1. **Найти нужную информацию на странице, кликнуть на этот элемент ПКМ и нажать `Показать код`**;\n",
    "\n",
    "![Пример](screen_2.png)\n",
    "*Если у вас не отображается скриншот, перейдите по [ссылке](https://drive.google.com/file/d/1ryhcIN-04zgJccHLx3rCbz6ob0erAR_Y/view?usp=share_link)*\n",
    "\n",
    "2. **Нажать ПКМ, кликнуть `Показать код`, вызвать поисковую строку с помощью `Cmd` + `F` и ввести туда то значение, которое вы хотите получить** (например, ФИО, адрес, строку об учебе в бакалавриате).\n",
    "\n",
    "![Пример](screen_3.png)\n",
    "\n",
    "*Если у вас не отображается скриншот, перейдите по [ссылке](https://drive.google.com/file/d/1_GliL38txvu6SxF0TIylOgk5Frg29uif/view?usp=share_link)*."
   ]
  },
  {
   "cell_type": "markdown",
   "id": "8c7012d0",
   "metadata": {},
   "source": [
    "### Этап 2. Создание скрипта и сбор базовой информации.\n",
    "\n",
    "**Как мы с вами обозначили выше, есть некоторые базовые индикаторы, которые мы с вами в любом случае соберем. Это следующие переменные:**\n",
    "1. ФИО преподавателя;\n",
    "2. Информация об образовании:\n",
    "    * Степень бакалавра;\n",
    "    * Степень магистра;\n",
    "    * Степень кандидата наук (PhD);\n",
    "3. Год старта работы в Вышке;\n",
    "4. Профессиональные интересы;\n",
    "5. Сколько раз преподаватель получал статус \"лучшего преподавателя\";\n",
    "6. Иностранные языки, которые знает преподаватель;\n",
    "7. Количество иностранных языков, которые знает преподаватель;\n",
    "8. Ссылка на страницу преподавателя;\n",
    "\n",
    "Будем последовательно и начнем с ФИО:"
   ]
  },
  {
   "cell_type": "markdown",
   "id": "9ce21626",
   "metadata": {},
   "source": [
    "### 1. ФИО преподавателя\n",
    "\n",
    "Когда вы хотите получить информацию, которая встречается на странице много раз, у вас появляется сразу несколько опций получить желаемое. Это очень хорошо заметно когда вы ищите способы собрать ФИО преподавателя с его страницы:"
   ]
  },
  {
   "cell_type": "code",
   "execution_count": 122,
   "id": "92dc56c6",
   "metadata": {},
   "outputs": [
    {
     "data": {
      "text/plain": [
       "'Локшин Илья Михайлович'"
      ]
     },
     "execution_count": 122,
     "metadata": {},
     "output_type": "execute_result"
    }
   ],
   "source": [
    "soup.find_all('h1')[0].text # например, под тегом h1 содержится имя"
   ]
  },
  {
   "cell_type": "markdown",
   "id": "87e31e03",
   "metadata": {},
   "source": [
    "**Вопрос к вам – что будет, если использовать метод `soup.find('h1\")`? В чем его отличие от метода `soup.find_all('h1')`?**"
   ]
  },
  {
   "cell_type": "code",
   "execution_count": null,
   "id": "c69d1d89",
   "metadata": {},
   "outputs": [],
   "source": [
    "soup.find('h1')"
   ]
  },
  {
   "cell_type": "markdown",
   "id": "e8f66777",
   "metadata": {},
   "source": [
    "Продемонстрирую еще несколько примеров:"
   ]
  },
  {
   "cell_type": "code",
   "execution_count": 80,
   "id": "afed6ddd",
   "metadata": {},
   "outputs": [
    {
     "data": {
      "text/plain": [
       "'Сотрудники - Локшин Илья Михайлович — Национальный исследовательский университет «Высшая школа экономики»'"
      ]
     },
     "execution_count": 80,
     "metadata": {},
     "output_type": "execute_result"
    }
   ],
   "source": [
    "soup.find_all('title')[0].text # опция 2"
   ]
  },
  {
   "cell_type": "markdown",
   "id": "91bd9acc",
   "metadata": {},
   "source": [
    "ФИО можно получить даже из подписи к фото профиля:"
   ]
  },
  {
   "cell_type": "code",
   "execution_count": 88,
   "id": "748a802e",
   "metadata": {},
   "outputs": [
    {
     "data": {
      "text/plain": [
       "'Локшин Илья Михайлович'"
      ]
     },
     "execution_count": 88,
     "metadata": {},
     "output_type": "execute_result"
    }
   ],
   "source": [
    "soup.find_all('div', {'class':'g-pic person-avatar is-desktop'})[0]['title'] # опция 3"
   ]
  },
  {
   "cell_type": "code",
   "execution_count": 99,
   "id": "5706cf06",
   "metadata": {},
   "outputs": [
    {
     "data": {
      "text/plain": [
       "'Локшин Илья Михайлович'"
      ]
     },
     "execution_count": 99,
     "metadata": {},
     "output_type": "execute_result"
    }
   ],
   "source": [
    "soup.find_all('meta', {'property':'og:title'})[0]['content'] # опция 4"
   ]
  },
  {
   "cell_type": "markdown",
   "id": "de355c5f",
   "metadata": {},
   "source": [
    "<center><b>Почему записи выше отличаются? Или еще немного про html</b></center>\n",
    "\n",
    "**Опция №1:**\n",
    "\n",
    "С помощью кода ```soup.find_all('h1')[0].text``` мы получаем ФИО преподавателя (обращаясь к атрибуту `.text`) из элемента html ```<h1 class=\"person-caption\">Локшин Илья Михайлович</h1>```. \n",
    "\n",
    "Тут ФИО находится внутри тега `<h1>`, то есть, является значением. Когда мы используем `.text`, то получаем значение элемента – на выходе – обычную питоновскую строку.\n",
    "\n",
    "**Опция №3:**\n",
    "\n",
    "С помощью кода ```soup.find_all('div', {'class':'g-pic person-avatar is-desktop'})[0]['title']``` мы получаем ФИО преподавателя из элемента ```<div style=\"background-image:url('/pubs/share/thumb/484385454:c613x613+413+813:r190x190!.jpg');background-image: -webkit-image-set(url('/pubs/share/thumb/484385454:c613x613+413+813:r190x190!.jpg') 1x,url('/pubs/share/thumb/484385454:c613x613+413+813:r380x380!.jpg') 2x);background-image: image-set(url('/pubs/share/thumb/484385454:c613x613+413+813:r190x190!.jpg') 1x,url('/pubs/share/thumb/484385454:c613x613+413+813:r380x380!.jpg') 2x);\" class=\"g-pic person-avatar is-desktop\" title=\"Локшин Илья Михайлович\"></div>```\n",
    "\n",
    "На занятиях №1-2 и №3-4 мы с вами обсуждали, что элементы в html состоят из тегов (например, `<h1>`, `<h2>`, `<span>`) и атрибутов (например, `class`, `content` и др.). В рамках кода ниже мы обращаемся именно к **атрибуту `title`**.\n",
    "\n",
    "```soup.find_all('div', {'class':'g-pic person-avatar is-desktop'})[0]['title']```\n",
    "\n",
    "Почему к нему? Потому что, как можно заметить по элементу, именно в атрибуте `title` содержится ФИО преподавателя: ```title=\"Локшин Илья Михайлович\">```.\n",
    "\n",
    "Получить значение атрибута можно двумя способами – вызовя его через квадратные скобки `[]` или используя метод `get()`:\n",
    "* `<element>['name of attribute']`;\n",
    "* `<element>.get('name of attribute')`.\n",
    "\n",
    "**Помните про отличия между элементом, содержащимся под тегом, и атрибутом тега. Обращайте внимание, в какой части тега заключена необходимая вам информация**."
   ]
  },
  {
   "cell_type": "markdown",
   "id": "65fd8324",
   "metadata": {},
   "source": [
    "<center><b><font size=4>Задача №1</font></b></center>\n",
    "\n",
    "Поддержите мой флешмоб и найдите как минимум пятый способ получить значение `Илья Михайлович Локшин` из html-разметки страницы:"
   ]
  },
  {
   "cell_type": "code",
   "execution_count": 6,
   "id": "14afeb33",
   "metadata": {},
   "outputs": [
    {
     "data": {
      "text/plain": [
       "'Локшин Илья Михайлович'"
      ]
     },
     "execution_count": 6,
     "metadata": {},
     "output_type": "execute_result"
    }
   ],
   "source": [
    "soup.find_all('span', {'class': 'breadcrumb_current'})[0].text # ответ"
   ]
  },
  {
   "cell_type": "markdown",
   "id": "dc5af253",
   "metadata": {},
   "source": [
    "### 2. Информация об образовании:\n",
    "\n",
    "Как вы можете увидеть, на страницах преподавателей обычно сразу же указана информация об образовании. Можно легко понять, есть ли у преподавателя та или иная степень:\n",
    "* Степень бакалавра;\n",
    "* Степень магистра;\n",
    "* Степень кандидата наук (PhD);\n",
    "\n",
    "Исследуем html чтобы понять, под какими тегами заключена информация об образовании:\n",
    "\n",
    "```<li><div class=\"person-list-hangover\">2017</div>Кандидат политических наук</li>```\n",
    "\n",
    "Кажется, необходимая нам информация содержится под тегом `div` и class `person-list-hangover`."
   ]
  },
  {
   "cell_type": "code",
   "execution_count": 121,
   "id": "692725c2",
   "metadata": {},
   "outputs": [
    {
     "data": {
      "text/plain": [
       "[<div class=\"person-list-hangover\">2017</div>,\n",
       " <div class=\"person-list-hangover\">2013</div>,\n",
       " <div class=\"person-list-hangover\">2011</div>,\n",
       " <div class=\"person-list-hangover\"><img src=\"/images/traits/tp.png\"/></div>,\n",
       " <div class=\"person-list-hangover\">2017</div>,\n",
       " <div class=\"person-list-hangover\"><img src=\"https://www.hse.ru/pubs/share/book/cover/thumb/853287491x50\"/></div>,\n",
       " <div class=\"person-list-hangover\"><img src=\"https://www.hse.ru/pubs/share/book/cover/thumb/163078314x50\"/></div>,\n",
       " <div class=\"person-list-hangover\"><img src=\"https://www.hse.ru/pubs/share/preprint/cover/thumb/96217538x50\"/></div>]"
      ]
     },
     "execution_count": 121,
     "metadata": {},
     "output_type": "execute_result"
    }
   ],
   "source": [
    "soup.find_all('div', {'class':'person-list-hangover'}) # кажется, её тут нет..."
   ]
  },
  {
   "cell_type": "markdown",
   "id": "81ae76fd",
   "metadata": {},
   "source": [
    "Если мы еще раз посмотрим на тег, то может быть, под тегом `li` скрывается нужная нам информация?\n",
    "\n",
    "```<li><div class=\"person-list-hangover\">2017</div>Кандидат политических наук</li>```"
   ]
  },
  {
   "cell_type": "code",
   "execution_count": 122,
   "id": "9608c3ea",
   "metadata": {},
   "outputs": [
    {
     "data": {
      "text/plain": [
       "[<li class=\"sv-control__item sv-control__item--s_normal active\" data-type=\"size\" data-value=\"normal\">A</li>,\n",
       " <li class=\"sv-control__item sv-control__item--s_medium\" data-type=\"size\" data-value=\"medium\">A</li>,\n",
       " <li class=\"sv-control__item sv-control__item--s_large\" data-type=\"size\" data-value=\"large\">A</li>,\n",
       " <li class=\"active sv-control__item sv-control__item--ls_normal\" data-type=\"spacing\" data-value=\"normal\">АБВ</li>,\n",
       " <li class=\"sv-control__item sv-control__item--ls_medium\" data-type=\"spacing\" data-value=\"medium\">АБВ</li>,\n",
       " <li class=\"sv-control__item sv-control__item--ls_large\" data-type=\"spacing\" data-value=\"large\">АБВ</li>,\n",
       " <li class=\"sv-control__item sv-control__item---color1 active\" data-type=\"contrast\" data-value=\"normal\">А</li>,\n",
       " <li class=\"sv-control__item sv-control__item---color2\" data-type=\"contrast\" data-value=\"invert\">А</li>,\n",
       " <li class=\"sv-control__item sv-control__item---color3\" data-type=\"contrast\" data-value=\"blue\">А</li>,\n",
       " <li class=\"sv-control__item sv-control__item---color4\" data-type=\"contrast\" data-value=\"beige\">А</li>,\n",
       " <li class=\"sv-control__item sv-control__item---color5\" data-type=\"contrast\" data-value=\"brown\">А</li>,\n",
       " <li class=\"sv-control__item sv-control__item--image_on active\" data-type=\"image\" data-value=\"on\"></li>,\n",
       " <li class=\"sv-control__item sv-control__item--image_off\" data-type=\"image\" data-value=\"off\"></li>,\n",
       " <li><a class=\"link no-visited with-icon with-icon_flag-spb\" href=\"//spb.hse.ru/\">Санкт-Петербург</a></li>,\n",
       " <li><a class=\"link no-visited with-icon with-icon_flag-nn\" href=\"//nnov.hse.ru/\">Нижний Новгород</a></li>,\n",
       " <li><a class=\"link no-visited with-icon with-icon_flag-perm\" href=\"https://perm.hse.ru/\">Пермь</a></li>,\n",
       " <li><a class=\"link no-visited with-icon with-icon_flag-online\" href=\"https://online.hse.ru/\">Вышка Онлайн</a></li>,\n",
       " <li class=\"control_lang2_item first_child activated\"><span class=\"link link_no-visited link_no-underline\">RU</span></li>,\n",
       " <li class=\"control_lang2_item last_child\"><a class=\"link link_no-visited link_no-underline\" href=\"/en/org/persons/14276397\">EN</a></li>,\n",
       " <li class=\"header_breadcrumb__item\"><a class=\"link no-visited header_breadcrumb__link\" href=\"//www.hse.ru\"><span>Национальный исследовательский университет «Высшая школа экономики»</span></a></li>,\n",
       " <li class=\"header_breadcrumb__item\"><a class=\"link no-visited header_breadcrumb__link\" href=\"/org/hse/info/\"><span>О Вышке</span></a></li>,\n",
       " <li class=\"header_breadcrumb__item\"><a class=\"link no-visited header_breadcrumb__link\" href=\"/org/persons/\"><span>Преподаватели и сотрудники</span></a></li>,\n",
       " <li class=\"header_breadcrumb__item\"><span><span class=\"breadcrumb_current\">Локшин Илья Михайлович</span></span></li>,\n",
       " <li class=\"control_lang2_item first_child activated\"><span class=\"link link_no-visited link_no-underline\">RU</span></li>,\n",
       " <li class=\"control_lang2_item last_child\"><a class=\"link link_no-visited link_no-underline\" href=\"/en/org/persons/14276397\">EN</a></li>,\n",
       " <li><label class=\"with-checkbox\" for=\"show_pubs\"><input checked=\"\" class=\"show_pubs\" id=\"show_pubs\" type=\"checkbox\"/>с публикациями</label></li>,\n",
       " <li><label class=\"with-checkbox\" for=\"show_news\"><input checked=\"\" class=\"show_news\" id=\"show_news\" type=\"checkbox\"/>с новостями</label></li>,\n",
       " <li><button class=\"button button_blue with-indent\" onclick=\"window.print();\" type=\"button\">Распечатать</button></li>,\n",
       " <li><span class=\"person-appointment-title\">Ученый секретарь:</span><a class=\"link\" href=\"https://social.hse.ru/\">Факультет социальных наук</a></li>,\n",
       " <li><span class=\"person-appointment-title\">Доцент:</span><a class=\"link\" href=\"https://social.hse.ru/\">Факультет социальных наук</a> / <a class=\"link\" href=\"https://social.hse.ru/politics/\">Департамент политики и управления</a></li>,\n",
       " <li>Член <a class=\"link\" href=\"http://www.hse.ru/us/\">Ученого совета</a> НИУ ВШЭ</li>,\n",
       " <li class=\"i\">Начал работать в НИУ ВШЭ в 2011 году.</li>,\n",
       " <li class=\"i\">Научно-педагогический стаж: 12 лет.</li>,\n",
       " <li><div class=\"person-list-hangover\">2017</div>Кандидат политических наук</li>,\n",
       " <li><div class=\"person-list-hangover\">2013</div><p class=\"first_child last_child\">Магистратура: Национальный исследовательский университет «Высшая школа экономики», специальность «Политология», квалификация «Магистр»</p></li>,\n",
       " <li><div class=\"person-list-hangover\">2011</div><p class=\"first_child last_child\">Бакалавриат: Национальный исследовательский университет «Высшая школа экономики», специальность «Политология», квалификация «Бакалавр политологии»</p></li>,\n",
       " <li>Благодарность Высшей школы экономики (декабрь 2022)</li>,\n",
       " <li>Благодарность департамента политики и управления факультета социальных наук НИУ ВШЭ (декабрь 2021)</li>,\n",
       " <li>Благодарственное письмо проректора НИУ ВШЭ (ноябрь 2021)</li>,\n",
       " <li>Благодарственное письмо проректора НИУ ВШЭ (ноябрь 2021)</li>,\n",
       " <li>Благодарность проректора НИУ ВШЭ (июнь 2020)</li>,\n",
       " <li>Благодарность Факультета социальных наук НИУ ВШЭ (март 2019)</li>,\n",
       " <li>Благодарность Департамента политической науки НИУ ВШЭ (декабрь 2017)</li>,\n",
       " <li><p class=\"first_child last_child\">Лучший преподаватель – <a class=\"link n\" href=\"/best\">2023</a>, <a class=\"link n\" href=\"/best\">2022</a>, <a class=\"link n\" href=\"/best\">2021</a>, <a class=\"link n\" href=\"/best\">2020</a>, <a class=\"link n\" href=\"/best\">2019</a>, <a class=\"link n\" href=\"/best\">2018</a>, <a class=\"link n\" href=\"/best\">2017</a>, <a class=\"link n\" href=\"/best\">2016</a>, <a class=\"link n\" href=\"/best\">2015</a>, <a class=\"link n\" href=\"/best\">2014</a>, <a class=\"link n\" href=\"/best\">2013</a>, <a class=\"link n\" href=\"/best\">2012</a></p></li>,\n",
       " <li><p class=\"first_child last_child\">Надбавка за академическую работу (<a class=\"link n\" href=\"/science/scifund/bonus_2017_1\">2017-2018</a>, <a class=\"link n\" href=\"/science/scifund/bonus_2016_1\">2016-2017</a>)</p></li>,\n",
       " <li><a class=\"link\" href=\"https://www.hse.ru/science/scifund/worksrus/\">Победитель Конкурса лучших русскоязычных научных и научно-популярных работ работников НИУ ВШЭ – 2022</a></li>,\n",
       " <li><a class=\"link\" href=\"https://www.hse.ru/edu/courses/835244676\">Большие идеи в политике: актуальность несовременного</a> (Майнор; где читается: <a class=\"link\" href=\"https://social.hse.ru/\">Факультет социальных наук</a>; 3, 4 модуль)<span class=\"language-label\">Рус</span></li>,\n",
       " <li><p class=\"first_child last_child\">История политических учений (Бакалавриат; где читается: <a class=\"link\" href=\"https://social.hse.ru/\">Факультет социальных наук</a>; направление \"<a class=\"link\" href=\"https://www.hse.ru/edu/courses/835137696\">41.03.04. Политология\"</a>, направление \"<a class=\"link\" href=\"https://www.hse.ru/edu/courses/838221925\">01.03.02. Прикладная математика и информатика\"</a>; 1-й курс, 2-4 модуль)<span class=\"language-label\">Рус</span></p></li>,\n",
       " <li><p class=\"first_child last_child\">Категории политической науки (Бакалавриат; где читается: <a class=\"link\" href=\"https://social.hse.ru/\">Факультет социальных наук</a>; направление \"<a class=\"link\" href=\"https://www.hse.ru/edu/courses/835156111\">41.03.04. Политология\"</a>, направление \"<a class=\"link\" href=\"https://www.hse.ru/edu/courses/838234400\">01.03.02. Прикладная математика и информатика\"</a>; 1-й курс, 1, 2 модуль)<span class=\"language-label\">Рус</span></p></li>,\n",
       " <li><a class=\"link\" href=\"https://www.hse.ru/edu/courses/835157058\">Научно-исследовательский семинар</a> (Бакалавриат; где читается: <a class=\"link\" href=\"https://social.hse.ru/\">Факультет социальных наук</a>; 2-й курс, 2, 4 модуль)<span class=\"language-label\">Рус</span></li>,\n",
       " <li><a class=\"link\" href=\"https://www.hse.ru/edu/courses/835163690\">Research Seminar: Research Design</a> (Бакалавриат; где читается: <a class=\"link\" href=\"https://social.hse.ru/\">Факультет социальных наук</a>; 2-й курс, 1 модуль)<span class=\"language-label\">Анг</span></li>,\n",
       " <li><a class=\"link\" href=\"https://www.hse.ru/edu/courses/835155743\">Современная политика</a> (Бакалавриат; где читается: <a class=\"link\" href=\"https://cmd.hse.ru/\">Факультет креативных индустрий</a>; 4-й курс, 2 модуль)<span class=\"language-label\">Рус</span></li>,\n",
       " <li><span class=\"link edu-courses-archive-toogle\">Архив учебных курсов</span></li>,\n",
       " <li><a class=\"link\" href=\"https://www.hse.ru/edu/courses/570846634\">Большие идеи в политике: актуальность несовременного</a> (Майнор; где читается: <a class=\"link\" href=\"https://social.hse.ru/\">Факультет социальных наук</a>; 3, 4 модуль)<span class=\"language-label\">Рус</span></li>,\n",
       " <li><p class=\"first_child last_child\">История политических учений (Бакалавриат; где читается: <a class=\"link\" href=\"https://social.hse.ru/\">Факультет социальных наук</a>; направление \"<a class=\"link\" href=\"https://www.hse.ru/edu/courses/646480491\">41.03.04. Политология\"</a>, направление \"<a class=\"link\" href=\"https://www.hse.ru/edu/courses/749554398\">01.03.02. Прикладная математика и информатика\"</a>, направление \"<a class=\"link\" href=\"https://www.hse.ru/edu/courses/749554406\">01.03.02. Прикладная математика и информатика\"</a>; 1-й курс, 1-4 модуль)<span class=\"language-label\">Рус</span></p></li>,\n",
       " <li><p class=\"first_child last_child\">Категории политической науки (Бакалавриат; где читается: <a class=\"link\" href=\"https://social.hse.ru/\">Факультет социальных наук</a>; направление \"<a class=\"link\" href=\"https://www.hse.ru/edu/courses/646508786\">41.03.04. Политология\"</a>, направление \"<a class=\"link\" href=\"https://www.hse.ru/edu/courses/749634471\">01.03.02. Прикладная математика и информатика\"</a>; 1-й курс, 1, 2 модуль)<span class=\"language-label\">Рус</span></p></li>,\n",
       " <li><a class=\"link\" href=\"https://www.hse.ru/edu/courses/646524826\">Научно-исследовательский семинар</a> (Бакалавриат; где читается: <a class=\"link\" href=\"https://social.hse.ru/\">Факультет социальных наук</a>; 2-й курс, 2, 4 модуль)<span class=\"language-label\">Рус</span></li>,\n",
       " <li><a class=\"link\" href=\"https://www.hse.ru/edu/courses/646515897\">Research Seminar: Research Design</a> (Бакалавриат; где читается: <a class=\"link\" href=\"https://social.hse.ru/\">Факультет социальных наук</a>; 2-й курс, 1 модуль)<span class=\"language-label\">Анг</span></li>,\n",
       " <li><a class=\"link\" href=\"https://www.hse.ru/edu/courses/450828594\">Большие идеи в политике: актуальность несовременного</a> (Майнор; где читается: <a class=\"link\" href=\"https://social.hse.ru/\">Факультет социальных наук</a>; 3, 4 модуль)<span class=\"language-label\">Рус</span></li>,\n",
       " <li><a class=\"link\" href=\"https://www.hse.ru/edu/courses/450810135\">Введение в современную политическую науку</a> (Магистратура; где читается: <a class=\"link\" href=\"https://social.hse.ru/\">Факультет социальных наук</a>; 2-й курс, 2 модуль)<span class=\"language-label\">Рус</span></li>,\n",
       " <li><a class=\"link\" href=\"https://www.hse.ru/edu/courses/470895492\">История политических учений</a> (Бакалавриат; где читается: <a class=\"link\" href=\"https://social.hse.ru/\">Факультет социальных наук</a>; 1-й курс, 1-4 модуль)<span class=\"language-label\">Рус</span></li>,\n",
       " <li><a class=\"link\" href=\"https://www.hse.ru/edu/courses/470888070\">Категории политической науки</a> (Бакалавриат; где читается: <a class=\"link\" href=\"https://social.hse.ru/\">Факультет социальных наук</a>; 1-й курс, 3, 4 модуль)<span class=\"language-label\">Рус</span></li>,\n",
       " <li><a class=\"link\" href=\"https://www.hse.ru/edu/courses/504360197\">Research Seminar: Research Design</a> (Бакалавриат; где читается: <a class=\"link\" href=\"https://social.hse.ru/\">Факультет социальных наук</a>; 2-й курс, 1 модуль)<span class=\"language-label\">Анг</span></li>,\n",
       " <li><a class=\"link\" href=\"https://www.hse.ru/edu/courses/504360205\">Research Seminar: Research Design</a> (Бакалавриат; где читается: <a class=\"link\" href=\"https://spb.hse.ru/soc/\">Санкт-Петербургская школа социальных наук и востоковедения</a>; 3-й курс, 1 модуль)<span class=\"language-label\">Анг</span></li>,\n",
       " <li><a class=\"link\" href=\"https://www.hse.ru/edu/courses/492551925\">Большие идеи в политике: актуальность несовременного</a> (Майнор; где читается: <a class=\"link\" href=\"https://social.hse.ru/\">Факультет социальных наук</a>; 3, 4 модуль)<span class=\"language-label\">Рус</span></li>,\n",
       " <li><a class=\"link\" href=\"https://www.hse.ru/edu/courses/384739118\">История политических учений</a> (Бакалавриат; где читается: <a class=\"link\" href=\"https://social.hse.ru/\">Факультет социальных наук</a>; 1-й курс, 1-4 модуль)<span class=\"language-label\">Рус</span></li>,\n",
       " <li><a class=\"link\" href=\"https://www.hse.ru/edu/courses/384734242\">Категории политической науки</a> (Бакалавриат; где читается: <a class=\"link\" href=\"https://social.hse.ru/\">Факультет социальных наук</a>; 1-й курс, 3, 4 модуль)<span class=\"language-label\">Рус</span></li>,\n",
       " <li><a class=\"link\" href=\"https://www.hse.ru/edu/courses/375286182\">Model Thinking</a> (Бакалавриат; где читается: <a class=\"link\" href=\"https://social.hse.ru/\">Факультет социальных наук</a>; 2-й курс, 1 модуль)<span class=\"language-label\">Анг</span></li>,\n",
       " <li><a class=\"link\" href=\"https://www.hse.ru/edu/courses/343710723\">Большие идеи в политике: актуальность несовременного</a> (Майнор; где читается: <a class=\"link\" href=\"https://social.hse.ru/\">Факультет социальных наук</a>; 3, 4 модуль)<span class=\"language-label\">Рус</span></li>,\n",
       " <li><a class=\"link\" href=\"https://www.hse.ru/edu/courses/343711658\">Большие идеи в политике: актуальность несовременного</a> (Майнор; где читается: <a class=\"link\" href=\"https://social.hse.ru/\">Факультет социальных наук</a>; 1, 2 модуль)<span class=\"language-label\">Рус</span></li>,\n",
       " <li><a class=\"link\" href=\"https://www.hse.ru/edu/courses/296793341\">История политических учений</a> (Бакалавриат; где читается: <a class=\"link\" href=\"https://social.hse.ru/\">Факультет социальных наук</a>; 1-й курс, 1-3 модуль)<span class=\"language-label\">Рус</span></li>,\n",
       " <li><a class=\"link\" href=\"https://www.hse.ru/edu/courses/292662119\">Категории политической науки</a> (Бакалавриат; где читается: <a class=\"link\" href=\"https://social.hse.ru/\">Факультет социальных наук</a>; 2-й курс, 1 модуль)<span class=\"language-label\">Рус</span></li>,\n",
       " <li><a class=\"link\" href=\"https://www.hse.ru/edu/courses/296788720\">Категории политической науки</a> (Бакалавриат; где читается: <a class=\"link\" href=\"https://social.hse.ru/\">Факультет социальных наук</a>; 1-й курс, 3, 4 модуль)<span class=\"language-label\">Рус</span></li>,\n",
       " <li><a class=\"link\" href=\"https://www.hse.ru/edu/courses/420690929\">Большие идеи в политике: актуальность несовременного</a> (Майнор; где читается: <a class=\"link\" href=\"https://social.hse.ru/\">Факультет социальных наук</a>; 1, 2 модуль)<span class=\"language-label\">Рус</span></li>,\n",
       " <li><a class=\"link\" href=\"https://www.hse.ru/edu/courses/219869833\">История политических учений</a> (Бакалавриат; где читается: <a class=\"link\" href=\"https://social.hse.ru/\">Факультет социальных наук</a>; 1-й курс, 1-3 модуль)<span class=\"language-label\">Рус</span></li>,\n",
       " <li><a class=\"link\" href=\"https://www.hse.ru/edu/courses/219861606\">Категории политической науки</a> (Бакалавриат; где читается: <a class=\"link\" href=\"https://social.hse.ru/\">Факультет социальных наук</a>; 1-й курс, 4 модуль)<span class=\"language-label\">Рус</span></li>,\n",
       " <li><a class=\"link\" href=\"https://www.hse.ru/edu/courses/205511203\">История политических учений</a> (Бакалавриат; где читается: <a class=\"link\" href=\"https://social.hse.ru/\">Факультет социальных наук</a>; 1-й курс, 1-3 модуль)<span class=\"language-label\">Рус</span></li>,\n",
       " <li><a class=\"link\" href=\"https://www.hse.ru/edu/courses/205504796\">Категории политической науки</a> (Бакалавриат; где читается: <a class=\"link\" href=\"https://social.hse.ru/\">Факультет социальных наук</a>; 1-й курс, 3, 4 модуль)<span class=\"language-label\">Рус</span></li>,\n",
       " <li><a class=\"link\" href=\"https://openedu.ru/course/hse/INTMODPOL/\" target=\"_blank\">Введение в современную политическую науку</a> (на Национальной платформе открытого образования).</li>,\n",
       " <li><div class=\"large\"><span class=\"i\">Глава книги</span> <span class=\"nowrap\"><a class=\"link\" href=\"//www.hse.ru/org/persons/14250226\" target=\"_blank\">Богачёв М. И.</a></span>, <span class=\"nowrap\">Локшин И. М.</span> <a class=\"link\" href=\"https://publications.hse.ru/view/853467124\" target=\"_blank\">Глава 3. Политическая жизнь общества</a> // В кн.: Обществознание : 11 класс: учебное пособие: базовый уровень / Рук.: <span class=\"nowrap\"><a class=\"link\" href=\"//www.hse.ru/org/persons/63845\" target=\"_blank\">К. В. Сорвин</a></span>. М. : Просвещение, 2022. С. 244-386.</div></li>,\n",
       " <li><div class=\"person-list-hangover\"><img src=\"https://www.hse.ru/pubs/share/book/cover/thumb/853287491x50\"/></div><div class=\"large\"><span class=\"i\">Книга</span> <span class=\"nowrap\"><a class=\"link\" href=\"//www.hse.ru/org/persons/63845\" target=\"_blank\">Сорвин К. В.</a></span>, <span class=\"nowrap\"><a class=\"link\" href=\"//www.hse.ru/org/persons/14250226\" target=\"_blank\">Богачёв М. И.</a></span>, <span class=\"nowrap\"><a class=\"link\" href=\"//www.hse.ru/org/persons/486300\" target=\"_blank\">Иконникова Н. К.</a></span>, <span class=\"nowrap\">Литинский С. В.</span>, <span class=\"nowrap\">Локшин И. М.</span>, <span class=\"nowrap\"><a class=\"link\" href=\"//www.hse.ru/org/persons/133907881\" target=\"_blank\">Оганесян М. Р.</a></span>, <span class=\"nowrap\"><a class=\"link\" href=\"//www.hse.ru/org/persons/66534\" target=\"_blank\">Пащенко Т. В.</a></span>, <span class=\"nowrap\"><a class=\"link\" href=\"//www.hse.ru/org/persons/139972\" target=\"_blank\">Ростовцева Н. В.</a></span>, <span class=\"nowrap\"><a class=\"link\" href=\"//www.hse.ru/org/persons/209481327\" target=\"_blank\">Федоров О. Д.</a></span>, <span class=\"nowrap\"><a class=\"link\" href=\"//www.hse.ru/org/persons/14256141\" target=\"_blank\">Глазков К. П.</a></span> <a class=\"link\" href=\"https://publications.hse.ru/view/853287491\" target=\"_blank\">Обществознание : 11 класс: учебное пособие: базовый уровень</a> / Рук.: <span class=\"nowrap\"><a class=\"link\" href=\"//www.hse.ru/org/persons/63845\" target=\"_blank\">К. В. Сорвин</a></span>. М. : Просвещение, 2022.</div></li>,\n",
       " <li><div class=\"large\"><span class=\"i\">Статья</span> <span class=\"nowrap\"><a class=\"link\" href=\"//www.hse.ru/org/persons/24114108\" target=\"_blank\">Ахременко А. С.</a></span>, <span class=\"nowrap\">Локшин И. М.</span>, <span class=\"nowrap\">Петров А. П.</span> <a class=\"link\" href=\"https://publications.hse.ru/view/199140165\" target=\"_blank\">Граница институциональных возможностей и производительность общественных систем: к теоретическому синтезу</a> // Полис. Политические исследования. 2016. № 6. С. 95-113. <a class=\"link force_external\" href=\"http://doi.org/10.17976/jpps/2016.06.07\" style=\"font-size: 11px;\" target=\"_blank\">doi</a></div></li>,\n",
       " <li><div class=\"large\"><span class=\"i\">Статья</span> <span class=\"nowrap\">Локшин И. М.</span> <a class=\"link\" href=\"https://publications.hse.ru/view/210227758\" target=\"_blank\">Ловушка демократизации: связи между политиками и избирателями в молодых демократиях</a> // Вестник Московского университета. Серия 12: Политические науки. 2016. № 3. С. 38-63.</div></li>,\n",
       " <li><div class=\"large\"><span class=\"i\">Препринт</span> <span class=\"nowrap\">Lokshin I.</span> <i><a class=\"link\" href=\"https://publications.hse.ru/view/153501828\" target=\"_blank\">Whatever Explains Whatever: The Duhem-Quine Thesis and Conventional Quantitative Methods in Political Science</a></i> / NRU Higher School of Economics. Series PS \"Political Science\". 2015.</div></li>,\n",
       " <li><div class=\"large\"><span class=\"i\">Статья</span> <span class=\"nowrap\">Локшин И. М.</span> <a class=\"link\" href=\"https://publications.hse.ru/view/163075979\" target=\"_blank\">Игра в бисер? Конвенциональные количественные методы в свете тезиса Дюэма-Куайна</a> // Политическая наука. 2015. № 2. С. 80-103.</div></li>,\n",
       " <li><div class=\"large\"><span class=\"i\">Глава книги</span> Бернхаген П. <a class=\"link\" href=\"https://publications.hse.ru/view/153499605\" target=\"_blank\">Измерение демократии и демократизации</a> // В кн.: Демократизация / (под ред.: <span class=\"nowrap\"><a class=\"link\" href=\"//www.hse.ru/org/persons/16958077\" target=\"_blank\">М. Г. Миронюк</a></span>); науч. ред.: <span class=\"nowrap\">К. В. Харпфер</span>, <span class=\"nowrap\">П. Бернхаген</span>, <span class=\"nowrap\"><a class=\"link\" href=\"//www.hse.ru/org/persons/26435728\" target=\"_blank\">Р. Ф. Инглхарт</a></span>, <span class=\"nowrap\">К. П. Вельцель</span>. М. : Издательский дом НИУ ВШЭ, 2015. С. 69-97.</div></li>,\n",
       " <li><div class=\"large\"><span class=\"i\">Глава книги</span> МакАллистер И., Уайт С. <a class=\"link\" href=\"https://publications.hse.ru/view/153500553\" target=\"_blank\">Конвенциональное политическое участие</a> // В кн.: Демократизация / (под ред.: <span class=\"nowrap\"><a class=\"link\" href=\"//www.hse.ru/org/persons/16958077\" target=\"_blank\">М. Г. Миронюк</a></span>); науч. ред.: <span class=\"nowrap\">К. В. Харпфер</span>, <span class=\"nowrap\">П. Бернхаген</span>, <span class=\"nowrap\"><a class=\"link\" href=\"//www.hse.ru/org/persons/26435728\" target=\"_blank\">Р. Ф. Инглхарт</a></span>, <span class=\"nowrap\">К. П. Вельцель</span>. М. : Издательский дом НИУ ВШЭ, 2015. С. 326-349.</div></li>,\n",
       " <li><div class=\"large\"><span class=\"i\">Глава книги</span> Фиш С., Виттенберг Дж. <a class=\"link\" href=\"https://publications.hse.ru/view/98328383\" target=\"_blank\">Неудавшаяся демократизация</a> // В кн.: Демократизация / (под ред.: <span class=\"nowrap\"><a class=\"link\" href=\"//www.hse.ru/org/persons/16958077\" target=\"_blank\">М. Г. Миронюк</a></span>); науч. ред.: <span class=\"nowrap\">К. В. Харпфер</span>, <span class=\"nowrap\">П. Бернхаген</span>, <span class=\"nowrap\"><a class=\"link\" href=\"//www.hse.ru/org/persons/26435728\" target=\"_blank\">Р. Ф. Инглхарт</a></span>, <span class=\"nowrap\">К. П. Вельцель</span>. М. : Издательский дом НИУ ВШЭ, 2015. С. 425-454.</div></li>,\n",
       " <li><div class=\"person-list-hangover\"><img src=\"https://www.hse.ru/pubs/share/book/cover/thumb/163078314x50\"/></div><div class=\"large\"><span class=\"i\">Книга</span> <span class=\"nowrap\"><a class=\"link\" href=\"//www.hse.ru/org/persons/17512797\" target=\"_blank\">Макаренко Б. И.</a></span>, <span class=\"nowrap\">Локшин И. М.</span>, <span class=\"nowrap\">Мелешкина Е. Ю.</span>, <span class=\"nowrap\"><a class=\"link\" href=\"//www.hse.ru/org/persons/16958077\" target=\"_blank\">Миронюк М. Г.</a></span>, <span class=\"nowrap\">Петров Н. В.</span> <a class=\"link\" href=\"https://publications.hse.ru/view/163078314\" target=\"_blank\">Партии и партийные системы: современные тенденции развития</a> / Рук.: <span class=\"nowrap\"><a class=\"link\" href=\"//www.hse.ru/org/persons/17512797\" target=\"_blank\">Б. И. Макаренко</a></span>. М. : РОССПЭН, 2015.</div></li>,\n",
       " <li><div class=\"large\"><span class=\"i\">Глава книги</span> <span class=\"nowrap\">Вельцель К. П.</span>, <span class=\"nowrap\"><a class=\"link\" href=\"//www.hse.ru/org/persons/26435728\" target=\"_blank\">Инглхарт Р. Ф.</a></span> <a class=\"link\" href=\"https://publications.hse.ru/view/98328600\" target=\"_blank\">Политическая культура, массовые убеждения и изменения ценностей</a> // В кн.: Демократизация / (под ред.: <span class=\"nowrap\"><a class=\"link\" href=\"//www.hse.ru/org/persons/16958077\" target=\"_blank\">М. Г. Миронюк</a></span>); науч. ред.: <span class=\"nowrap\">К. В. Харпфер</span>, <span class=\"nowrap\">П. Бернхаген</span>, <span class=\"nowrap\"><a class=\"link\" href=\"//www.hse.ru/org/persons/26435728\" target=\"_blank\">Р. Ф. Инглхарт</a></span>, <span class=\"nowrap\">К. П. Вельцель</span>. М. : Издательский дом НИУ ВШЭ, 2015. С. 233-261.</div></li>,\n",
       " <li><div class=\"large\"><span class=\"i\">Глава книги</span> Морлино Л. <a class=\"link\" href=\"https://publications.hse.ru/view/153500871\" target=\"_blank\">Политические партии</a> // В кн.: Демократизация / (под ред.: <span class=\"nowrap\"><a class=\"link\" href=\"//www.hse.ru/org/persons/16958077\" target=\"_blank\">М. Г. Миронюк</a></span>); науч. ред.: <span class=\"nowrap\">К. В. Харпфер</span>, <span class=\"nowrap\">П. Бернхаген</span>, <span class=\"nowrap\"><a class=\"link\" href=\"//www.hse.ru/org/persons/26435728\" target=\"_blank\">Р. Ф. Инглхарт</a></span>, <span class=\"nowrap\">К. П. Вельцель</span>. М. : Издательский дом НИУ ВШЭ, 2015. С. 350-378.</div></li>,\n",
       " <li><div class=\"large\"><span class=\"i\">Глава книги</span> Хэрпфер К. <a class=\"link\" href=\"https://publications.hse.ru/view/98328746\" target=\"_blank\">Посткоммунистическая Европа и постсоветская Россия</a> // В кн.: Демократизация / (под ред.: <span class=\"nowrap\"><a class=\"link\" href=\"//www.hse.ru/org/persons/16958077\" target=\"_blank\">М. Г. Миронюк</a></span>); науч. ред.: <span class=\"nowrap\">К. В. Харпфер</span>, <span class=\"nowrap\">П. Бернхаген</span>, <span class=\"nowrap\"><a class=\"link\" href=\"//www.hse.ru/org/persons/26435728\" target=\"_blank\">Р. Ф. Инглхарт</a></span>, <span class=\"nowrap\">К. П. Вельцель</span>. М. : Издательский дом НИУ ВШЭ, 2015. С. 521-536.</div></li>,\n",
       " <li><div class=\"large\"><span class=\"i\">Статья</span> <span class=\"nowrap\"><a class=\"link\" href=\"//www.hse.ru/org/persons/17512797\" target=\"_blank\">Макаренко Б. И.</a></span>, <span class=\"nowrap\">Локшин И. М.</span> <a class=\"link\" href=\"https://publications.hse.ru/view/153501974\" target=\"_blank\">Современные партийные системы: сценарии эволюции и тенденции развития</a> // Полис. Политические исследования. 2015. № 3. С. 85-109.</div></li>,\n",
       " <li><div class=\"large\"><span class=\"i\">Глава книги</span> <span class=\"nowrap\">Вельцель К. П.</span> <a class=\"link\" href=\"https://publications.hse.ru/view/98328908\" target=\"_blank\">Теории демократизации</a> // В кн.: Демократизация / (под ред.: <span class=\"nowrap\"><a class=\"link\" href=\"//www.hse.ru/org/persons/16958077\" target=\"_blank\">М. Г. Миронюк</a></span>); науч. ред.: <span class=\"nowrap\">К. В. Харпфер</span>, <span class=\"nowrap\">П. Бернхаген</span>, <span class=\"nowrap\"><a class=\"link\" href=\"//www.hse.ru/org/persons/26435728\" target=\"_blank\">Р. Ф. Инглхарт</a></span>, <span class=\"nowrap\">К. П. Вельцель</span>. М. : Издательский дом НИУ ВШЭ, 2015. С. 148-178.</div></li>,\n",
       " <li><div class=\"large\"><span class=\"i\">Статья</span> <span class=\"nowrap\"><a class=\"link\" href=\"//www.hse.ru/org/persons/24114108\" target=\"_blank\">Ахременко А. С.</a></span>, <span class=\"nowrap\">Локшин И. М.</span>, <span class=\"nowrap\">Юрескул Е. А.</span> <a class=\"link\" href=\"https://publications.hse.ru/view/160514619\" target=\"_blank\">Экономический рост и выбор политического курса в авторитарных режимах: \"недостающее звено\"</a> // Полития: Анализ. Хроника. Прогноз. 2015. Т. 3. № 78. С. 50-74.</div></li>,\n",
       " <li><div class=\"large\"><span class=\"i\">Статья</span> <span class=\"nowrap\">Локшин И. М.</span> <a class=\"link\" href=\"https://publications.hse.ru/view/153502103\" target=\"_blank\">20 лет дискуссии об обновлении методологии социальных наук (Обзор)</a> // МЕТОД: Московский ежегодник трудов из обществоведческих дисциплин. 2014. Т. 4. С. 403-425.</div></li>,\n",
       " <li><div class=\"large\"><span class=\"i\">Статья</span> <span class=\"nowrap\">Локшин И. М.</span> <a class=\"link\" href=\"https://publications.hse.ru/view/98330507\" target=\"_blank\">Избрание на царство: от чего зависит объем президентских полномочий?</a> // Полис. Политические исследования. 2014. № 5. С. 118-138.</div></li>,\n",
       " <li><div class=\"large\"><span class=\"i\">Глава книги</span> <span class=\"nowrap\"><a class=\"link\" href=\"//www.hse.ru/org/persons/16958077\" target=\"_blank\">Миронюк М. Г.</a></span>, <span class=\"nowrap\">Мартынов Б. Ф.</span>, <span class=\"nowrap\">Локшин И. М.</span> <a class=\"link\" href=\"https://publications.hse.ru/view/63207892\" target=\"_blank\">Венесуэла</a> // В кн.: Политические системы современных государств / Отв. ред.: <span class=\"nowrap\"><a class=\"link\" href=\"//www.hse.ru/org/persons/16958077\" target=\"_blank\">М. Г. Миронюк</a></span>; под общ. ред.: <span class=\"nowrap\">А. В. Торкунов</span>; науч. ред.: <span class=\"nowrap\"><a class=\"link\" href=\"//www.hse.ru/org/persons/10444822\" target=\"_blank\">А. Ю. Мельвиль</a></span>. Т. 3: Америка, Австралия и Океания. М. : Аспект Пресс, 2012. С. 73-86.</div></li>,\n",
       " <li><div class=\"large\"><span class=\"i\">Глава книги</span> <span class=\"nowrap\">Розенберг Д. Я.</span>, <span class=\"nowrap\">Локшин И. М.</span> <a class=\"link\" href=\"https://publications.hse.ru/view/66989246\" target=\"_blank\">Доминика</a> // В кн.: Политические системы современных государств / Отв. ред.: <span class=\"nowrap\"><a class=\"link\" href=\"//www.hse.ru/org/persons/16958077\" target=\"_blank\">М. Г. Миронюк</a></span>; под общ. ред.: <span class=\"nowrap\">А. В. Торкунов</span>; науч. ред.: <span class=\"nowrap\"><a class=\"link\" href=\"//www.hse.ru/org/persons/10444822\" target=\"_blank\">А. Ю. Мельвиль</a></span>. Т. 3: Америка, Австралия и Океания. М. : Аспект Пресс, 2012. С. 129-136.</div></li>,\n",
       " <li><div class=\"large\"><span class=\"i\">Статья</span> Патцельт В. <a class=\"link\" href=\"https://publications.hse.ru/view/153501655\" target=\"_blank\">Эволюция институтов, морфология и уроки истории. Можно ли извлекать уроки из истории?</a> / Пер. с нем.: <span class=\"nowrap\">И. М. Локшин</span> // Политическая наука. 2012. № 3. С. 50-70.</div></li>,\n",
       " <li>Общий стаж: 12 лет</li>,\n",
       " <li>Научно-педагогический стаж: 12 лет</li>,\n",
       " <li>Преподавательский стаж: 12 лет</li>,\n",
       " <li class=\"parent\"><a class=\"link link_dark title no-visited\" href=\"//www.hse.ru/org/hse/info/\">О ВЫШКЕ</a> \n",
       " \t\t\t\t</li>,\n",
       " <li><a class=\"link no-visited\" href=\"//www.hse.ru/figures/\">Цифры и факты</a></li>,\n",
       " <li><a class=\"link no-visited\" href=\"//www.hse.ru/orgstructure/\">Руководство и структура</a></li>,\n",
       " <li><a class=\"link no-visited\" href=\"//www.hse.ru/org/persons/\">Преподаватели и сотрудники</a></li>,\n",
       " <li><a class=\"link no-visited\" href=\"//www.hse.ru/buildinghse\">Корпуса и общежития</a></li>,\n",
       " <li><a class=\"link no-visited\" href=\"https://www.hse.ru/org/hse/aup/procurement/\">Закупки</a></li>,\n",
       " <li><a class=\"link no-visited\" href=\"//www.hse.ru/appeal/\">Обращения граждан в НИУ ВШЭ</a></li>,\n",
       " <li><a class=\"link no-visited\" href=\"//endowment.hse.ru/\">Фонд целевого капитала</a></li>,\n",
       " <li><a class=\"link no-visited\" href=\"https://www.hse.ru/anticorruption\">Противодействие коррупции</a></li>,\n",
       " <li><a class=\"link no-visited\" href=\"https://www.hse.ru/anticorruption/information\">Сведения о доходах, расходах, об имуществе и обязательствах имущественного характера</a></li>,\n",
       " <li><a class=\"link no-visited\" href=\"//www.hse.ru/sveden/\">Сведения об образовательной организации</a></li>,\n",
       " <li><a class=\"link no-visited\" href=\"https://inclusive.hse.ru/\">Людям с ограниченными возможностями здоровья</a></li>,\n",
       " <li><a class=\"link no-visited\" href=\"https://pay.hse.ru/\">Единая платежная страница</a></li>,\n",
       " <li><a class=\"link no-visited\" href=\"https://www.hse.ru/career\">Работа в Вышке</a></li>,\n",
       " <li class=\"parent\"><a class=\"link link_dark title no-visited\" href=\"//www.hse.ru/education/\">ОБРАЗОВАНИЕ</a> \n",
       " \t\t\t\t</li>,\n",
       " <li><a class=\"link no-visited\" href=\"//school.hse.ru\">Лицей</a></li>,\n",
       " <li><a class=\"link no-visited\" href=\"https://fdp.hse.ru/\">Довузовская подготовка</a></li>,\n",
       " <li><a class=\"link no-visited\" href=\"//olymp.hse.ru/\">Олимпиады</a></li>,\n",
       " <li><a class=\"link no-visited\" href=\"//ba.hse.ru/\">Прием в бакалавриат</a></li>,\n",
       " <li><a class=\"link no-visited\" href=\"https://www.hse.ru/plus\">Вышка+</a></li>,\n",
       " <li><a class=\"link no-visited\" href=\"//ma.hse.ru/\">Прием в магистратуру</a></li>,\n",
       " <li><a class=\"link no-visited\" href=\"//aspirantura.hse.ru/\">Аспирантура</a></li>,\n",
       " <li><a class=\"link no-visited\" href=\"//busedu.hse.ru/\">Дополнительное образование</a></li>,\n",
       " <li><a class=\"link no-visited\" href=\"https://career.hse.ru/\">Центр развития карьеры</a></li>,\n",
       " <li><a class=\"link no-visited\" href=\"http://inc.hse.ru/\">Бизнес-инкубатор ВШЭ</a></li>,\n",
       " <li class=\"parent\"><a class=\"link link_dark title no-visited\" href=\"//www.hse.ru/science/\">НАУКА</a> \n",
       " \t\t\t\t</li>,\n",
       " <li><a class=\"link no-visited\" href=\"//www.hse.ru/science/centers\">Научные подразделения</a></li>,\n",
       " <li><a class=\"link no-visited\" href=\"https://www.hse.ru/org/projects/\">Исследовательские проекты</a></li>,\n",
       " <li><a class=\"link no-visited\" href=\"//www.hse.ru/monitoring/\">Мониторинги</a></li>,\n",
       " <li><a class=\"link no-visited\" href=\"//www.hse.ru/science/disscoun/\">Диссертационные советы</a></li>,\n",
       " <li><a class=\"link no-visited\" href=\"https://aspirantura.hse.ru/defence/announcements/\">Защиты диссертаций</a></li>,\n",
       " <li><a class=\"link no-visited\" href=\"//academics.hse.ru/\">Академическое развитие</a></li>,\n",
       " <li><a class=\"link no-visited\" href=\"//www.hse.ru/science/hsegrants\">Конкурсы и гранты</a></li>,\n",
       " <li><a class=\"link no-visited\" href=\"https://iq.hse.ru/\">Научно-образовательный портал IQ.hse.ru</a></li>,\n",
       " <li><a class=\"link no-visited\" href=\"https://conf.hse.ru/2023\">XXIV Ясинская (Апрельская) международная научная конференция по проблемам развития экономики и общества</a></li>,\n",
       " <li class=\"parent\"><a class=\"link link_dark title no-visited\" href=\"//publications.hse.ru\">РЕСУРСЫ</a> \n",
       " \t\t\t\t</li>,\n",
       " <li><a class=\"link no-visited\" href=\"https://library.hse.ru/\">Библиотека</a></li>,\n",
       " <li><a class=\"link no-visited\" href=\"//id.hse.ru\">Издательский дом ВШЭ</a></li>,\n",
       " <li><a class=\"link no-visited\" href=\"//bookshop.hse.ru/\">Книжный магазин «БукВышка»</a></li>,\n",
       " <li><a class=\"link no-visited\" href=\"https://print.hse.ru/\">Типография</a></li>,\n",
       " <li><a class=\"link no-visited\" href=\"https://mc.hse.ru/\">Медиацентр</a></li>,\n",
       " <li><a class=\"link no-visited\" href=\"//www.hse.ru/science/journals\">Журналы ВШЭ</a></li>,\n",
       " <li><a class=\"link no-visited\" href=\"//publications.hse.ru\">Публикации</a></li>,\n",
       " <li><a class=\"link no-visited\" href=\"http://sophist.hse.ru/\">Единый архив экономических и социологических данных</a></li>,\n",
       " <li class=\"parent\">Полезные ссылки</li>,\n",
       " <li><a class=\"link no-visited\" href=\"http://www.minobrnauki.gov.ru/\">Министерство науки и высшего образования РФ</a></li>,\n",
       " <li><a class=\"link no-visited\" href=\"https://edu.gov.ru/\">Министерство просвещения РФ</a></li>,\n",
       " <li><a class=\"link no-visited\" href=\"http://www.edu.ru\">Федеральный портал «Российское образование»</a></li>,\n",
       " <li><a class=\"link no-visited\" href=\"https://elearning.hse.ru/mooc\">Массовые открытые онлайн-курсы</a></li>]"
      ]
     },
     "execution_count": 122,
     "metadata": {},
     "output_type": "execute_result"
    }
   ],
   "source": [
    "soup.find_all('li') # ох, как много элементов"
   ]
  },
  {
   "cell_type": "markdown",
   "id": "511e8e7f",
   "metadata": {},
   "source": [
    "А если поискать альтернативы? Как видите, здесь, хотя и можно получить информацию о бакалавриате и магистратуре, отсутствует запись о кандидатской, а значит, использовать тег `<p>` и класс `first_child last_child` для поиска соответствующих строк нам не подойдет:"
   ]
  },
  {
   "cell_type": "code",
   "execution_count": 123,
   "id": "65f8bc9f",
   "metadata": {},
   "outputs": [
    {
     "data": {
      "text/plain": [
       "[<p class=\"first_child last_child\">Магистратура: Национальный исследовательский университет «Высшая школа экономики», специальность «Политология», квалификация «Магистр»</p>,\n",
       " <p class=\"first_child last_child\">Бакалавриат: Национальный исследовательский университет «Высшая школа экономики», специальность «Политология», квалификация «Бакалавр политологии»</p>,\n",
       " <p class=\"first_child last_child\">Лучший преподаватель – <a class=\"link n\" href=\"/best\">2023</a>, <a class=\"link n\" href=\"/best\">2022</a>, <a class=\"link n\" href=\"/best\">2021</a>, <a class=\"link n\" href=\"/best\">2020</a>, <a class=\"link n\" href=\"/best\">2019</a>, <a class=\"link n\" href=\"/best\">2018</a>, <a class=\"link n\" href=\"/best\">2017</a>, <a class=\"link n\" href=\"/best\">2016</a>, <a class=\"link n\" href=\"/best\">2015</a>, <a class=\"link n\" href=\"/best\">2014</a>, <a class=\"link n\" href=\"/best\">2013</a>, <a class=\"link n\" href=\"/best\">2012</a></p>,\n",
       " <p class=\"first_child last_child\">Надбавка за академическую работу (<a class=\"link n\" href=\"/science/scifund/bonus_2017_1\">2017-2018</a>, <a class=\"link n\" href=\"/science/scifund/bonus_2016_1\">2016-2017</a>)</p>,\n",
       " <p class=\"first_child last_child\">Группа высокого профессионального потенциала (<a class=\"link\" href=\"//academics.hse.ru/kr/main\">кадровый резерв НИУ ВШЭ</a>)<br/>Категория \"Новые преподаватели\" (2012-2013)</p>,\n",
       " <p class=\"first_child last_child\">История политических учений (Бакалавриат; где читается: <a class=\"link\" href=\"https://social.hse.ru/\">Факультет социальных наук</a>; направление \"<a class=\"link\" href=\"https://www.hse.ru/edu/courses/835137696\">41.03.04. Политология\"</a>, направление \"<a class=\"link\" href=\"https://www.hse.ru/edu/courses/838221925\">01.03.02. Прикладная математика и информатика\"</a>; 1-й курс, 2-4 модуль)<span class=\"language-label\">Рус</span></p>,\n",
       " <p class=\"first_child last_child\">Категории политической науки (Бакалавриат; где читается: <a class=\"link\" href=\"https://social.hse.ru/\">Факультет социальных наук</a>; направление \"<a class=\"link\" href=\"https://www.hse.ru/edu/courses/835156111\">41.03.04. Политология\"</a>, направление \"<a class=\"link\" href=\"https://www.hse.ru/edu/courses/838234400\">01.03.02. Прикладная математика и информатика\"</a>; 1-й курс, 1, 2 модуль)<span class=\"language-label\">Рус</span></p>,\n",
       " <p class=\"first_child last_child\">История политических учений (Бакалавриат; где читается: <a class=\"link\" href=\"https://social.hse.ru/\">Факультет социальных наук</a>; направление \"<a class=\"link\" href=\"https://www.hse.ru/edu/courses/646480491\">41.03.04. Политология\"</a>, направление \"<a class=\"link\" href=\"https://www.hse.ru/edu/courses/749554398\">01.03.02. Прикладная математика и информатика\"</a>, направление \"<a class=\"link\" href=\"https://www.hse.ru/edu/courses/749554406\">01.03.02. Прикладная математика и информатика\"</a>; 1-й курс, 1-4 модуль)<span class=\"language-label\">Рус</span></p>,\n",
       " <p class=\"first_child last_child\">Категории политической науки (Бакалавриат; где читается: <a class=\"link\" href=\"https://social.hse.ru/\">Факультет социальных наук</a>; направление \"<a class=\"link\" href=\"https://www.hse.ru/edu/courses/646508786\">41.03.04. Политология\"</a>, направление \"<a class=\"link\" href=\"https://www.hse.ru/edu/courses/749634471\">01.03.02. Прикладная математика и информатика\"</a>; 1-й курс, 1, 2 модуль)<span class=\"language-label\">Рус</span></p>,\n",
       " <p class=\"first_child last_child\">Локшин И. М. <a class=\"link\" href=\"/sci/diss/203854830\">Эндогенные ограничения демократизации</a></p>]"
      ]
     },
     "execution_count": 123,
     "metadata": {},
     "output_type": "execute_result"
    }
   ],
   "source": [
    "soup.find_all('p', {'class': \"first_child last_child\"}) # нет информации о кандидатской"
   ]
  },
  {
   "cell_type": "markdown",
   "id": "63ac4d55",
   "metadata": {},
   "source": [
    "**В данной ситуации мы столкнулись с распространенной проблемой**: информация на сайте представлена, сайт отдает данные через `requests`, html-разметка корректно обрабатывается с помощью `BeautifulSoup`, однако, нужная нам информация указана без специального класса. \n",
    "\n",
    "**Что делать в этой ситуации?** Пользоваться продвинутыми методами работы с html разметкой, которая предлагает `BeautifulSoup`.\n",
    "<p></p>\n",
    "<p></p>\n",
    "<center><b>Немного о reгулярных выражениях и BeautifulSoup</b></center>\n",
    "\n",
    "**В дальнейшем мы с вами еще будем упомянать модуль `re`**. Это модуль, позволяющий работать с регулярными выражениями и искать на их основе определенные элементы текстовых данных (последовательность цифр, букв, строки заданные по определенным правилам и т.д.). Сегодня мы не будем много говорить про этот модуль, но расскажем про одну из его функций – `re.compile()`.\n",
    "\n",
    "```re.compile(pattern)``` – эта команда компилирует объект регулярного выражения для последующего использования, где `pattern` – объект, по которому осуществляется поиск.\n",
    "\n",
    "Вы можете комбинировать `re.compile()` и метод `soup.find_all()`, используя запись `soup.find_all(string = re.compile(строка для поиска совпадений)`. \n",
    "\n",
    "**Преимущество поиска значений с помощью `re.compile()` в том, что вам не нужно уточнять название тега и его атрибуты**. Но в этом же и недостаток: если вы ищите недостаточно специфические значения (например, года или ФИО), вы можете считать и сохранить не ту информацию.\n",
    "\n",
    "Использование этой команды вернет вам список элементов, в которых встречается данное слово. Вы также можете пользоваться полноценным синтаксисом регулярных выражений и подавать в `re.compile()` выражения типа `”^(/wiki/)((?!:).)*$)\"`, но полноценно обсудить регулярные выражения мы сейчас не успеем."
   ]
  },
  {
   "cell_type": "code",
   "execution_count": null,
   "id": "668a6a99",
   "metadata": {},
   "outputs": [],
   "source": [
    "import re # импортируем модуль"
   ]
  },
  {
   "cell_type": "markdown",
   "id": "307bf762",
   "metadata": {},
   "source": [
    "Просто чтобы продемонстрировать что могут регулярные выражения, обратимся к регулярному выражению `^[0-9]*$`. Вы могли бы обнаружить его на Stackoverflow если бы искали, [как найти только строки, не состоящие из буквенных символов](https://stackoverflow.com/questions/19715303/regex-that-accepts-only-numbers-0-9-and-no-characters). Как вы видите, здесь есть как целые числа, так и символы переноса строки `\\n`.\n",
    "\n",
    "*Hint: если вам нужно использовать определенное регулярное выражение, напишите в Google то что вам нужно словами, или используйте [сайты](https://regex101.com), которые позволяют вам тестировать и расшифровывать регулярные выражения.*"
   ]
  },
  {
   "cell_type": "code",
   "execution_count": 135,
   "id": "1af9d7a9",
   "metadata": {},
   "outputs": [
    {
     "data": {
      "text/plain": [
       "['22764',\n",
       " '57192297326',\n",
       " '2017',\n",
       " '2013',\n",
       " '2011',\n",
       " '2023',\n",
       " '2022',\n",
       " '2021',\n",
       " '2020',\n",
       " '2019']"
      ]
     },
     "execution_count": 135,
     "metadata": {},
     "output_type": "execute_result"
    }
   ],
   "source": [
    "soup.find_all(string=re.compile('^[0-9]*$'))[:10] # пример использования регулярного выражения"
   ]
  },
  {
   "cell_type": "markdown",
   "id": "0e371f43",
   "metadata": {},
   "source": [
    "Воспользуемся `re.compile()` и соберем данные о бакалаврской, магистерской и кандидатской степени. Действовать будем очень просто: в качестве аргумента функции подадим строку формата `^Бакалавриат`, где `Бакалавриат` это значение, которое мы ищем в строках, а символ `^` означает, что мы будем искать строки, которые начинаются с этого значения.\n",
    "\n",
    "Код ниже вернет нам строки, которые начинаются с этой конкретной строки:"
   ]
  },
  {
   "cell_type": "code",
   "execution_count": 136,
   "id": "b1c89f7f",
   "metadata": {},
   "outputs": [
    {
     "data": {
      "text/plain": [
       "'Бакалавриат: Национальный исследовательский университет «Высшая школа экономики», специальность «Политология», квалификация «Бакалавр политологии»'"
      ]
     },
     "execution_count": 136,
     "metadata": {},
     "output_type": "execute_result"
    }
   ],
   "source": [
    "soup.find_all(string=re.compile('^Бакалавриат:'))[0] # ищем совпадающие строки"
   ]
  },
  {
   "cell_type": "code",
   "execution_count": 138,
   "id": "c7b3d12c",
   "metadata": {},
   "outputs": [
    {
     "data": {
      "text/plain": [
       "'Магистратура: Национальный исследовательский университет «Высшая школа экономики», специальность «Политология», квалификация «Магистр»'"
      ]
     },
     "execution_count": 138,
     "metadata": {},
     "output_type": "execute_result"
    }
   ],
   "source": [
    "soup.find_all(string=re.compile('^Магистратура:'))[0] # ищем совпадающие строки "
   ]
  },
  {
   "cell_type": "code",
   "execution_count": 137,
   "id": "13f6fb01",
   "metadata": {},
   "outputs": [
    {
     "data": {
      "text/plain": [
       "'Кандидат политических наук'"
      ]
     },
     "execution_count": 137,
     "metadata": {},
     "output_type": "execute_result"
    }
   ],
   "source": [
    "soup.find_all(string=re.compile('^Кандидат'))[0] # ищем совпадающие строки"
   ]
  },
  {
   "cell_type": "markdown",
   "id": "8cb031c6",
   "metadata": {},
   "source": [
    "**А теперь совместим использование регулярных выражений с написанием функций**.\n",
    "\n",
    "Объявление функции начинается с ключевого слова `def` (от англ. `define` - определять)."
   ]
  },
  {
   "cell_type": "code",
   "execution_count": 140,
   "id": "832b7b3e",
   "metadata": {},
   "outputs": [],
   "source": [
    "def some_name(some_argument): # название функции some_name, она принимает аргумент some_argument\n",
    "    # тело функции - блок кода, который будет исполняться\n",
    "    return some_argument # в нашем случае функция просто возвращает переменную, которую мы ей передали"
   ]
  },
  {
   "cell_type": "code",
   "execution_count": 145,
   "id": "12eb9ebd",
   "metadata": {},
   "outputs": [
    {
     "name": "stdout",
     "output_type": "stream",
     "text": [
      "16\n"
     ]
    }
   ],
   "source": [
    "# пример - функция, которая возвращает квадрат числа\n",
    "def return_square(number):\n",
    "    return number**2\n",
    "\n",
    "print(return_square(4)) # результат"
   ]
  },
  {
   "cell_type": "markdown",
   "id": "2ea71f55",
   "metadata": {},
   "source": [
    "Напишем несколько функций, которые будут принимать на вход объект `BeautifulSoup` (названный `soup`), и возвращать целое число – `0` или `1`."
   ]
  },
  {
   "cell_type": "code",
   "execution_count": 142,
   "id": "53e4b4ed",
   "metadata": {},
   "outputs": [
    {
     "data": {
      "text/plain": [
       "1"
      ]
     },
     "execution_count": 142,
     "metadata": {},
     "output_type": "execute_result"
    }
   ],
   "source": [
    "def get_is_bachelor(soup): # создаем функцию get_is_bachelor(), которая принимает на вход объект BeautifulSoup\n",
    "    if len(soup.find_all(string=re.compile('^Бакалавриат'))) > 0:\n",
    "        return 1 # возвращаем 1 если есть хотя бы одна строка, начинающаяся с \"Бакалавриат\"\n",
    "    else:\n",
    "        return 0 # и 0 если таких строк нет\n",
    "    \n",
    "get_is_bachelor(soup) # применяем её к нашему объекту BeautifulSoup"
   ]
  },
  {
   "cell_type": "code",
   "execution_count": 143,
   "id": "4d9762a6",
   "metadata": {},
   "outputs": [
    {
     "data": {
      "text/plain": [
       "1"
      ]
     },
     "execution_count": 143,
     "metadata": {},
     "output_type": "execute_result"
    }
   ],
   "source": [
    "def get_is_master(soup): # создаем функцию get_is_master(), которая принимает на вход объект BeautifulSoup\n",
    "    if len(soup.find_all(string=re.compile('^Магистратура'))) > 0:\n",
    "        return 1 # возвращаем 1 если есть хотя бы одна строка, начинающаяся с \"Магистратура\"\n",
    "    else:\n",
    "        return 0 # и 0 если таких строк нет\n",
    "    \n",
    "get_is_master(soup) # применяем её к нашему объекту BeautifulSoup"
   ]
  },
  {
   "cell_type": "code",
   "execution_count": 144,
   "id": "5e179ff0",
   "metadata": {},
   "outputs": [
    {
     "data": {
      "text/plain": [
       "1"
      ]
     },
     "execution_count": 144,
     "metadata": {},
     "output_type": "execute_result"
    }
   ],
   "source": [
    "def get_is_candidat(soup): # создаем функцию get_is_candidat(), которая принимает на вход объект BeautifulSoup\n",
    "    if len(soup.find_all(string=re.compile('^Кандидат'))) > 0 or (len(soup.find_all(string=re.compile('PhD')))) > 0:\n",
    "        return 1 # возвращаем 1 если есть хотя бы одна строка, начинающаяся с \"Кандидат\" ИЛИ \"PhD\"\n",
    "    else:\n",
    "        return 0 # и 0 если таких строк нет\n",
    "\n",
    "get_is_candidat(soup) # применяем её к нашему объекту BeautifulSoup"
   ]
  },
  {
   "cell_type": "markdown",
   "id": "8c2dd05e",
   "metadata": {},
   "source": [
    "**Совет: Практика создания собственных функций и объединения их потом в теле одной большой функции, которая собирает и обрабатывает данные с одной страницы – это хорошая практика. Если ваши данные требуют специальной обработки или дополнительных усилий по поиску, пишите свои функции**"
   ]
  },
  {
   "cell_type": "markdown",
   "id": "4295b1d6",
   "metadata": {},
   "source": [
    "<center><b><font size=4>Задача №2</font></b></center>\n",
    "\n",
    "Напишите функцию `get_gratitude_info(soup)` которая принимает на вход объект `BeautifulSoup` и возвращает **список** строк из объекта `BeautifulSoup`, которые **начинаются** на:\n",
    "* `Благодарственное письмо`\n",
    "* `Благодарность`\n",
    "\n",
    "Для значений, сохраненных в `soup` сейчас, ваша программа должна возвращать следующий результат:\n",
    "\n",
    "```['Благодарственное письмо проректора НИУ ВШЭ (ноябрь 2021)',\n",
    " 'Благодарственное письмо проректора НИУ ВШЭ (ноябрь 2021)',\n",
    " 'Благодарность Высшей школы экономики (декабрь 2022)',\n",
    " 'Благодарность департамента политики и управления факультета социальных наук НИУ ВШЭ (декабрь 2021)',\n",
    " 'Благодарность проректора НИУ ВШЭ (июнь 2020)',\n",
    " 'Благодарность Факультета социальных наук НИУ ВШЭ (март 2019)',\n",
    " 'Благодарность Департамента политической науки НИУ ВШЭ (декабрь 2017)']```\n",
    "\n",
    "*Подсказки:*\n",
    "* Списки в Python создаются с помощью записи `[]` или функции `list()`;\n",
    "* Пользуйтесь методом списков `.extend()` ИЛИ `.append()`;\n",
    "* Функции возвращают какие-то значения с помощью ключевого слова `return`."
   ]
  },
  {
   "cell_type": "code",
   "execution_count": 7,
   "id": "c4e2357e",
   "metadata": {},
   "outputs": [
    {
     "data": {
      "text/plain": [
       "['Благодарственное письмо проректора НИУ ВШЭ (ноябрь 2021)',\n",
       " 'Благодарственное письмо проректора НИУ ВШЭ (ноябрь 2021)',\n",
       " 'Благодарность Высшей школы экономики (декабрь 2022)',\n",
       " 'Благодарность департамента политики и управления факультета социальных наук НИУ ВШЭ (декабрь 2021)',\n",
       " 'Благодарность проректора НИУ ВШЭ (июнь 2020)',\n",
       " 'Благодарность Факультета социальных наук НИУ ВШЭ (март 2019)',\n",
       " 'Благодарность Департамента политической науки НИУ ВШЭ (декабрь 2017)']"
      ]
     },
     "execution_count": 7,
     "metadata": {},
     "output_type": "execute_result"
    }
   ],
   "source": [
    "# ответ\n",
    "\n",
    "def get_gratitude_info(soup): # создаем функцию\n",
    "    answer_list = [] # создаем пустой список\n",
    "    option_1_list = soup.find_all(string=re.compile('^Благодарственное письмо')) # опция один\n",
    "    answer_list.extend(option_1_list) # расширяем список за счет значений ИЗ option_1_list\n",
    "    \n",
    "    option_2_list = soup.find_all(string=re.compile('^Благодарность')) # опция два\n",
    "    answer_list.extend(option_2_list) # расширяем список за счет значений ИЗ option_2_list\n",
    "    \n",
    "    return answer_list\n",
    "\n",
    "get_gratitude_info(soup)"
   ]
  },
  {
   "cell_type": "markdown",
   "id": "1af108f2",
   "metadata": {},
   "source": [
    "### 3. Год старта работы в Вышке\n",
    "\n",
    "Иногда собрать данные оказывается не очень сложно. Как получить год старта работы в Вышке? Посмотрим на заголовок страницы:\n",
    "\n",
    "```Начал работать в НИУ ВШЭ в 2011 году.\n",
    "Научно-педагогический стаж: 12 лет```\n",
    "\n",
    "И посмотрим, под каким тегом скрывается этот элемент. Ага, под тегом `<li>`:\n",
    "\n",
    "```<li class=\"i\">Начал работать в НИУ ВШЭ в 2011 году.</li>```\n",
    "\n",
    "Вернемся к использованию нашего простого метода `.find_all()`"
   ]
  },
  {
   "cell_type": "code",
   "execution_count": 137,
   "id": "688075dc",
   "metadata": {},
   "outputs": [
    {
     "data": {
      "text/plain": [
       "[<li class=\"i\">Начал работать в НИУ ВШЭ в 2011 году.</li>,\n",
       " <li class=\"i\">Научно-педагогический стаж: 12 лет.</li>]"
      ]
     },
     "execution_count": 137,
     "metadata": {},
     "output_type": "execute_result"
    }
   ],
   "source": [
    "soup.find_all('li', {'class': 'i'}) # все элементы под тегом \"li\" и с классом \"i\""
   ]
  },
  {
   "cell_type": "code",
   "execution_count": 149,
   "id": "537f5210",
   "metadata": {},
   "outputs": [
    {
     "data": {
      "text/plain": [
       "<li class=\"i\">Начал работать в НИУ ВШЭ в 2011 году.</li>"
      ]
     },
     "execution_count": 149,
     "metadata": {},
     "output_type": "execute_result"
    }
   ],
   "source": [
    "soup.find_all('li', {'class': 'i'})[0] # обращаемся к первому элементу"
   ]
  },
  {
   "cell_type": "code",
   "execution_count": 150,
   "id": "13c22cd0",
   "metadata": {},
   "outputs": [
    {
     "data": {
      "text/plain": [
       "'Начал работать в НИУ ВШЭ в 2011 году.'"
      ]
     },
     "execution_count": 150,
     "metadata": {},
     "output_type": "execute_result"
    }
   ],
   "source": [
    "soup.find_all('li', {'class': 'i'})[0].text # превращаем его в строку"
   ]
  },
  {
   "cell_type": "code",
   "execution_count": 151,
   "id": "59644313",
   "metadata": {},
   "outputs": [
    {
     "data": {
      "text/plain": [
       "['Начал', 'работать', 'в', 'НИУ', 'ВШЭ', 'в', '2011', 'году.']"
      ]
     },
     "execution_count": 151,
     "metadata": {},
     "output_type": "execute_result"
    }
   ],
   "source": [
    "soup.find_all('li', {'class': 'i'})[0].text.split() # разбиваем строку по пробелам - теперь это список (list)"
   ]
  },
  {
   "cell_type": "code",
   "execution_count": 153,
   "id": "b9fa0e54",
   "metadata": {},
   "outputs": [
    {
     "data": {
      "text/plain": [
       "'2011'"
      ]
     },
     "execution_count": 153,
     "metadata": {},
     "output_type": "execute_result"
    }
   ],
   "source": [
    "soup.find_all('li', {'class': 'i'})[0].text.split()[-2] # нам нужен предпоследний элемент"
   ]
  },
  {
   "cell_type": "code",
   "execution_count": 154,
   "id": "95a27c1a",
   "metadata": {},
   "outputs": [
    {
     "data": {
      "text/plain": [
       "2011"
      ]
     },
     "execution_count": 154,
     "metadata": {},
     "output_type": "execute_result"
    }
   ],
   "source": [
    "# как превратить его в целое число?\n",
    "int(soup.find_all('li', {'class': 'i'})[0].text.split()[-2]) # использовать функцию int!"
   ]
  },
  {
   "cell_type": "markdown",
   "id": "6e81c2c5",
   "metadata": {},
   "source": [
    "<center><b><font size=4>Задача №3</font></b></center>\n",
    "\n",
    "Давайте освежим методы работы со строками. В предыдущей задаче мы получили следующий список:\n",
    "\n",
    "```['Благодарственное письмо проректора НИУ ВШЭ (ноябрь 2021)',\n",
    " 'Благодарственное письмо проректора НИУ ВШЭ (ноябрь 2021)',\n",
    " 'Благодарность Высшей школы экономики (декабрь 2022)',\n",
    " 'Благодарность департамента политики и управления факультета социальных наук НИУ ВШЭ (декабрь 2021)',\n",
    " 'Благодарность проректора НИУ ВШЭ (июнь 2020)',\n",
    " 'Благодарность Факультета социальных наук НИУ ВШЭ (март 2019)',\n",
    " 'Благодарность Департамента политической науки НИУ ВШЭ (декабрь 2017)']```\n",
    " \n",
    "**Напишите программу, которая вернет вам список из целых чисел** – года получения благодарностей и благодарственных писем, отсортированные по возрастанию значений.\n",
    "\n",
    "Результат должен быть такой: ```[2017, 2019, 2020, 2021, 2021, 2021, 2022]```\n",
    "\n",
    "*Подсказка:*\n",
    "* Сортировка в Python может быть произведена с помощью функции `sorted()` или с помощью метода `.sort()`."
   ]
  },
  {
   "cell_type": "code",
   "execution_count": 8,
   "id": "a8140498",
   "metadata": {},
   "outputs": [
    {
     "name": "stdout",
     "output_type": "stream",
     "text": [
      "[2017, 2019, 2020, 2021, 2021, 2021, 2022]\n"
     ]
    }
   ],
   "source": [
    "some_list = ['Благодарственное письмо проректора НИУ ВШЭ (ноябрь 2021)',\n",
    " 'Благодарственное письмо проректора НИУ ВШЭ (ноябрь 2021)',\n",
    " 'Благодарность Высшей школы экономики (декабрь 2022)',\n",
    " 'Благодарность департамента политики и управления факультета социальных наук НИУ ВШЭ (декабрь 2021)',\n",
    " 'Благодарность проректора НИУ ВШЭ (июнь 2020)',\n",
    " 'Благодарность Факультета социальных наук НИУ ВШЭ (март 2019)',\n",
    " 'Благодарность Департамента политической науки НИУ ВШЭ (декабрь 2017)']\n",
    "\n",
    "years = [int(i.strip(')').split()[-1]) for i in some_list] \n",
    "print(sorted(years)) # ответ"
   ]
  },
  {
   "cell_type": "markdown",
   "id": "d0a3f0b0",
   "metadata": {},
   "source": [
    "### 4. Профессиональные интересы\n",
    "\n",
    "Продолжим собирать информацию, которая не требует использования дополнительных модулей. Итак, обратимся к научным интересам. Научные интересы указаны под тегом `div`:"
   ]
  },
  {
   "cell_type": "code",
   "execution_count": 164,
   "id": "422a9f3c",
   "metadata": {},
   "outputs": [
    {
     "data": {
      "text/plain": [
       "<div class=\"b-person-data__inner b-person-data__tags\"><a class=\"tag tag_small\" href=\"/org/persons/?intst=76660881\">Новая политическая экономия</a><a class=\"tag tag_small\" href=\"/org/persons/?intst=63014388\">политические режимы</a><a class=\"tag tag_small\" href=\"/org/persons/?intst=37316398\">политическая философия</a></div>"
      ]
     },
     "execution_count": 164,
     "metadata": {},
     "output_type": "execute_result"
    }
   ],
   "source": [
    "soup.find_all('div', {'class': 'b-person-data__inner b-person-data__tags'})[0] # перечислены тут"
   ]
  },
  {
   "cell_type": "markdown",
   "id": "84d1aa33",
   "metadata": {},
   "source": [
    "Эти значения можно удобно преобразовать с помощью цикла или списковых вложений. **Вы помните, что такое списковые вложения?** \n",
    "\n",
    "Давайте вспомним на примере:"
   ]
  },
  {
   "cell_type": "code",
   "execution_count": 178,
   "id": "e945de56",
   "metadata": {},
   "outputs": [
    {
     "data": {
      "text/plain": [
       "[1, 2, 3, 4]"
      ]
     },
     "execution_count": 178,
     "metadata": {},
     "output_type": "execute_result"
    }
   ],
   "source": [
    "# пример\n",
    "\n",
    "## один и тот же код можно написать по-разному: с использованием циклов\n",
    "numbers = []\n",
    "\n",
    "for i in range(1, 5):\n",
    "    numbers.append(i) # на каждой итерации, добавляем в конец numbers значение i\n",
    "\n",
    "numbers"
   ]
  },
  {
   "cell_type": "code",
   "execution_count": 179,
   "id": "61f3d870",
   "metadata": {},
   "outputs": [
    {
     "name": "stdout",
     "output_type": "stream",
     "text": [
      "True\n"
     ]
    }
   ],
   "source": [
    "## и с использованием генераторов списков (списковых вложений)\n",
    "new_numbers = [i for i in range(1, 5)] # [элемент в последовательности [последовательность]]\n",
    "\n",
    "## проверим, что эти элементы одинаковы\n",
    "print(numbers == new_numbers) # да, они одинаковые"
   ]
  },
  {
   "cell_type": "code",
   "execution_count": 180,
   "id": "01b76a6e",
   "metadata": {},
   "outputs": [
    {
     "data": {
      "text/plain": [
       "['s', 'o', 'm', 'e', ' ', 's', 't', 'r', 'i', 'n', 'g']"
      ]
     },
     "execution_count": 180,
     "metadata": {},
     "output_type": "execute_result"
    }
   ],
   "source": [
    "# можно использовать генераторы списков чтобы получить все элементы в определенной строчке\n",
    "[i for i in 'some string'] # каждый элемент списка - один символ из строки"
   ]
  },
  {
   "cell_type": "code",
   "execution_count": 181,
   "id": "f405347f",
   "metadata": {},
   "outputs": [
    {
     "data": {
      "text/plain": [
       "[1, 4, 9, 16, 25, 36, 49, 64, 81]"
      ]
     },
     "execution_count": 181,
     "metadata": {},
     "output_type": "execute_result"
    }
   ],
   "source": [
    "# или чтобы выполнить определенные арифметические действия\n",
    "[i**2 for i in range(1, 10)] ## получаем квадраты чисел от 1 до 9 включительно"
   ]
  },
  {
   "cell_type": "markdown",
   "id": "70883521",
   "metadata": {},
   "source": [
    "**Совет:** если вы успели забыть, как работают циклы в Python, визуализируйте несколько примеров в онлайн-интерпретаторе кода. Например, на сайте [pythontutor.com](https://pythontutor.com)."
   ]
  },
  {
   "cell_type": "markdown",
   "id": "fb0c1cd3",
   "metadata": {},
   "source": [
    "А мы вернемся к нашим пирогам. Мы пройдемся по нашему первому элементу с тегом `div` и классом `b-person-data__inner b-person-data__tags`."
   ]
  },
  {
   "cell_type": "code",
   "execution_count": 165,
   "id": "8abbfb03",
   "metadata": {},
   "outputs": [
    {
     "name": "stdout",
     "output_type": "stream",
     "text": [
      "Новая политическая экономия\n",
      "политические режимы\n",
      "политическая философия\n"
     ]
    }
   ],
   "source": [
    "for i in soup.find_all('div', {'class': 'b-person-data__inner b-person-data__tags'})[0]:\n",
    "    print(i.text)"
   ]
  },
  {
   "cell_type": "code",
   "execution_count": 129,
   "id": "f03f4cd2",
   "metadata": {},
   "outputs": [
    {
     "data": {
      "text/plain": [
       "['Новая политическая экономия',\n",
       " 'политические режимы',\n",
       " 'политическая философия']"
      ]
     },
     "execution_count": 129,
     "metadata": {},
     "output_type": "execute_result"
    }
   ],
   "source": [
    "# эквивалентная запись\n",
    "[i.text for i in soup.find_all('div', {'class': 'b-person-data__inner b-person-data__tags'})[0]]"
   ]
  },
  {
   "cell_type": "markdown",
   "id": "1f692cef",
   "metadata": {},
   "source": [
    "Давайте сохраним это значение в переменную `interests_list` и преобразуем их: из списка - в строку с помощью функции `join()`. В качестве аргумента функции передается список, а перед ней в кавычках указывается элемент, с помощью которого мы хотим как бы склеить наши элементы:"
   ]
  },
  {
   "cell_type": "code",
   "execution_count": 134,
   "id": "aa335de0",
   "metadata": {},
   "outputs": [
    {
     "name": "stdout",
     "output_type": "stream",
     "text": [
      "Новая политическая экономия, политические режимы, политическая философия\n"
     ]
    }
   ],
   "source": [
    "interests_list = [i.text for i in soup.find_all('div', {'class': 'b-person-data__inner b-person-data__tags'})[0]]\n",
    "interests_string = ', '.join(interests_list) # в качестве разделителя используем запятую с пробелом\n",
    "print(interests_string) # результат тут!"
   ]
  },
  {
   "cell_type": "markdown",
   "id": "4a4f8d94",
   "metadata": {},
   "source": [
    "<center><b><font size=4>Задача №4</font></b></center>\n",
    "\n",
    "В переменную `courses_tags` сохранены теги, в которых содержится информация о всех курсах, которые когда-либо вел Илья Михайлович Локшин.\n",
    "\n",
    "Напишите код с использованием **генераторов списков**, который:\n",
    "1. Преобразует все теги в текстовые значения;\n",
    "2. Избавится от всех названий курсов, начинающихся с цифры;\n",
    "2. Оставит в списке только уникальные значения;\n",
    "3. Отсортирует и напечатает эти значения в алфавитном порядке;\n",
    "\n",
    "Для этого примера **ваш код должен напечатать:**\n",
    "```\n",
    "['Model Thinking', 'Research Seminar: Research Design', 'Большие идеи в политике: актуальность несовременного', 'Введение в современную политическую науку', 'История политических учений', 'Категории политической науки', 'Научно-исследовательский семинар', 'Современная политика']\n",
    "```\n",
    "\n",
    "\n",
    "*Подсказки:*\n",
    "* Вы помните, что такое множества в Python? Это тип коллекции, который содержит в себе только уникальные значения. Множество создается с помощью функции `set()` и может быть создано из списка;\n",
    "* Используйте строковый метод `.isdigit()` и не забудьте про то что строки в Python индексируются;\n",
    "* Сортировка в Python может быть произведена с помощью функции `sorted()` или с помощью метода `.sort()`."
   ]
  },
  {
   "cell_type": "code",
   "execution_count": 10,
   "id": "289ece7f",
   "metadata": {},
   "outputs": [
    {
     "data": {
      "text/plain": [
       "[<a class=\"link\" href=\"https://www.hse.ru/edu/courses/835244676\">Большие идеи в политике: актуальность несовременного</a>,\n",
       " <a class=\"link\" href=\"https://www.hse.ru/edu/courses/835137696\">41.03.04. Политология\"</a>,\n",
       " <a class=\"link\" href=\"https://www.hse.ru/edu/courses/838221925\">01.03.02. Прикладная математика и информатика\"</a>,\n",
       " <a class=\"link\" href=\"https://www.hse.ru/edu/courses/835156111\">41.03.04. Политология\"</a>,\n",
       " <a class=\"link\" href=\"https://www.hse.ru/edu/courses/838234400\">01.03.02. Прикладная математика и информатика\"</a>,\n",
       " <a class=\"link\" href=\"https://www.hse.ru/edu/courses/835157058\">Научно-исследовательский семинар</a>,\n",
       " <a class=\"link\" href=\"https://www.hse.ru/edu/courses/835163690\">Research Seminar: Research Design</a>,\n",
       " <a class=\"link\" href=\"https://www.hse.ru/edu/courses/835155743\">Современная политика</a>,\n",
       " <a class=\"link\" href=\"https://www.hse.ru/edu/courses/570846634\">Большие идеи в политике: актуальность несовременного</a>,\n",
       " <a class=\"link\" href=\"https://www.hse.ru/edu/courses/646480491\">41.03.04. Политология\"</a>,\n",
       " <a class=\"link\" href=\"https://www.hse.ru/edu/courses/749554398\">01.03.02. Прикладная математика и информатика\"</a>,\n",
       " <a class=\"link\" href=\"https://www.hse.ru/edu/courses/749554406\">01.03.02. Прикладная математика и информатика\"</a>,\n",
       " <a class=\"link\" href=\"https://www.hse.ru/edu/courses/646508786\">41.03.04. Политология\"</a>,\n",
       " <a class=\"link\" href=\"https://www.hse.ru/edu/courses/749634471\">01.03.02. Прикладная математика и информатика\"</a>,\n",
       " <a class=\"link\" href=\"https://www.hse.ru/edu/courses/646524826\">Научно-исследовательский семинар</a>,\n",
       " <a class=\"link\" href=\"https://www.hse.ru/edu/courses/646515897\">Research Seminar: Research Design</a>,\n",
       " <a class=\"link\" href=\"https://www.hse.ru/edu/courses/450828594\">Большие идеи в политике: актуальность несовременного</a>,\n",
       " <a class=\"link\" href=\"https://www.hse.ru/edu/courses/450810135\">Введение в современную политическую науку</a>,\n",
       " <a class=\"link\" href=\"https://www.hse.ru/edu/courses/470895492\">История политических учений</a>,\n",
       " <a class=\"link\" href=\"https://www.hse.ru/edu/courses/470888070\">Категории политической науки</a>,\n",
       " <a class=\"link\" href=\"https://www.hse.ru/edu/courses/504360197\">Research Seminar: Research Design</a>,\n",
       " <a class=\"link\" href=\"https://www.hse.ru/edu/courses/504360205\">Research Seminar: Research Design</a>,\n",
       " <a class=\"link\" href=\"https://www.hse.ru/edu/courses/492551925\">Большие идеи в политике: актуальность несовременного</a>,\n",
       " <a class=\"link\" href=\"https://www.hse.ru/edu/courses/384739118\">История политических учений</a>,\n",
       " <a class=\"link\" href=\"https://www.hse.ru/edu/courses/384734242\">Категории политической науки</a>,\n",
       " <a class=\"link\" href=\"https://www.hse.ru/edu/courses/375286182\">Model Thinking</a>,\n",
       " <a class=\"link\" href=\"https://www.hse.ru/edu/courses/343710723\">Большие идеи в политике: актуальность несовременного</a>,\n",
       " <a class=\"link\" href=\"https://www.hse.ru/edu/courses/343711658\">Большие идеи в политике: актуальность несовременного</a>,\n",
       " <a class=\"link\" href=\"https://www.hse.ru/edu/courses/296793341\">История политических учений</a>,\n",
       " <a class=\"link\" href=\"https://www.hse.ru/edu/courses/292662119\">Категории политической науки</a>,\n",
       " <a class=\"link\" href=\"https://www.hse.ru/edu/courses/296788720\">Категории политической науки</a>,\n",
       " <a class=\"link\" href=\"https://www.hse.ru/edu/courses/420690929\">Большие идеи в политике: актуальность несовременного</a>,\n",
       " <a class=\"link\" href=\"https://www.hse.ru/edu/courses/219869833\">История политических учений</a>,\n",
       " <a class=\"link\" href=\"https://www.hse.ru/edu/courses/219861606\">Категории политической науки</a>,\n",
       " <a class=\"link\" href=\"https://www.hse.ru/edu/courses/205511203\">История политических учений</a>,\n",
       " <a class=\"link\" href=\"https://www.hse.ru/edu/courses/205504796\">Категории политической науки</a>]"
      ]
     },
     "execution_count": 10,
     "metadata": {},
     "output_type": "execute_result"
    }
   ],
   "source": [
    "courses_tags = [i for i in soup.find_all('a') if i.get('href') != None and 'edu/courses' in i.get('href')]\n",
    "\n",
    "courses_tags"
   ]
  },
  {
   "cell_type": "code",
   "execution_count": 11,
   "id": "d7944920",
   "metadata": {},
   "outputs": [
    {
     "name": "stdout",
     "output_type": "stream",
     "text": [
      "['Model Thinking', 'Research Seminar: Research Design', 'Большие идеи в политике: актуальность несовременного', 'Введение в современную политическую науку', 'История политических учений', 'Категории политической науки', 'Научно-исследовательский семинар', 'Современная политика']\n"
     ]
    }
   ],
   "source": [
    "unique_courses = [i.text for i in courses_tags if i.text[0].isdigit() == False]\n",
    "unique_courses = sorted(set(unique_courses)) # превращаем в список -> сортируем;\n",
    "print(unique_courses) # ответ"
   ]
  },
  {
   "cell_type": "markdown",
   "id": "80e93ab9",
   "metadata": {},
   "source": [
    "### 5. Сколько раз преподаватель получал статус \"лучшего преподавателя\";\n",
    "\n",
    "\n",
    "И вновь возвращаемся к нашей любимой и уже обсужденной подробно на предыдущем семинаре теме – к работе со ссылками!\n",
    "\n",
    "Как понять, получал ли преподаватель статус лучшего преподавателя? Давайте обратимся к странице [Ильи Михайловича](https://www.hse.ru/org/persons/14276397) или [Анастасии Анатольевны Порецковой](https://www.hse.ru/org/persons/25922100) – там будут указания на это:\n",
    "\n",
    "```Лучший преподаватель – 2023, 2022, 2021, 2020, 2019, 2018, 2017, 2016, 2015, 2014, 2013, 2012``` в случае Ильи Михайловича;\n",
    "\n",
    "```Лучший преподаватель – 2023, 2022, 2021, 2020, 2019, 2018, 2017, 2016, 2015``` в случае Анастасии Анатольевны.\n",
    "\n",
    "В каждом случае за годом стоит гиперссылка на одну и ту же страницу – https://www.hse.ru/best.\n",
    "\n",
    "Элемент html с указанием на эту ссылку выглядит вот так:\n",
    "\n",
    "```<a href=\"/best\" class=\"link n\">2023</a>```\n",
    "\n",
    "Поэтому наш алгоритм очень прост – подсчитаем, сколько раз эта гиперссылка встречается на странице преподавателя:"
   ]
  },
  {
   "cell_type": "code",
   "execution_count": 183,
   "id": "e5426fa7",
   "metadata": {},
   "outputs": [
    {
     "data": {
      "text/plain": [
       "['/',\n",
       " '//spb.hse.ru/',\n",
       " '//nnov.hse.ru/',\n",
       " 'https://perm.hse.ru/',\n",
       " 'https://online.hse.ru/',\n",
       " '/en/org/persons/14276397',\n",
       " '?vision=enabled',\n",
       " '/lkuser/',\n",
       " '//www.hse.ru/search/search.html?simple=0&searchid=2284688',\n",
       " '/',\n",
       " '//www.hse.ru',\n",
       " '/org/hse/info/',\n",
       " '/org/persons/',\n",
       " '',\n",
       " '/en/org/persons/14276397']"
      ]
     },
     "execution_count": 183,
     "metadata": {},
     "output_type": "execute_result"
    }
   ],
   "source": [
    "all_links_href = [i.get('href') for i in soup.find_all('a')] # обратимся ко всем ссылкам,\n",
    "all_links_href[:15] # создадим список с полученными значениями атрибута 'href' (ссылка)"
   ]
  },
  {
   "cell_type": "markdown",
   "id": "9f2ce68b",
   "metadata": {},
   "source": [
    "Используем метод списков `.count()` и подсчитаем, сколько раз у нас на странице встречается это самое значение атрибута `href`."
   ]
  },
  {
   "cell_type": "code",
   "execution_count": 184,
   "id": "c7dbe516",
   "metadata": {
    "scrolled": true
   },
   "outputs": [
    {
     "data": {
      "text/plain": [
       "12"
      ]
     },
     "execution_count": 184,
     "metadata": {},
     "output_type": "execute_result"
    }
   ],
   "source": [
    "all_links_href.count('/best') # ответ - 12 раз!"
   ]
  },
  {
   "cell_type": "markdown",
   "id": "0e4b7bf1",
   "metadata": {},
   "source": [
    "<center><b><font size=4>Задача №5.1</font></b></center>\n",
    "\n",
    "Вспомните материал прошлого занятия и выполните по пунктам следующее:"
   ]
  },
  {
   "cell_type": "markdown",
   "id": "509f34de",
   "metadata": {},
   "source": [
    "1. Используйте генераторы списков и выведите на экран ссылки (элементы с тегами `a`), в которых присутствует строка `/best`.\n",
    "\n",
    "*Подсказка:* \n",
    "\n",
    "* Вы можете использовать логические проверки в генераторах списков. Например:\n",
    "\n",
    "```[i for i in range(1, 10) if i % 2 == 0]``` выведет только четные числа в промежутке от 1 до 9 включительно.\n",
    "\n",
    "* Вы можете использовать функцию `str()` к элементам разметки html внутри своего генератора списков."
   ]
  },
  {
   "cell_type": "code",
   "execution_count": 191,
   "id": "2beaab3d",
   "metadata": {},
   "outputs": [
    {
     "data": {
      "text/plain": [
       "[<a class=\"link n\" href=\"/best\">2023</a>,\n",
       " <a class=\"link n\" href=\"/best\">2022</a>,\n",
       " <a class=\"link n\" href=\"/best\">2021</a>,\n",
       " <a class=\"link n\" href=\"/best\">2020</a>,\n",
       " <a class=\"link n\" href=\"/best\">2019</a>,\n",
       " <a class=\"link n\" href=\"/best\">2018</a>,\n",
       " <a class=\"link n\" href=\"/best\">2017</a>,\n",
       " <a class=\"link n\" href=\"/best\">2016</a>,\n",
       " <a class=\"link n\" href=\"/best\">2015</a>,\n",
       " <a class=\"link n\" href=\"/best\">2014</a>,\n",
       " <a class=\"link n\" href=\"/best\">2013</a>,\n",
       " <a class=\"link n\" href=\"/best\">2012</a>]"
      ]
     },
     "execution_count": 191,
     "metadata": {},
     "output_type": "execute_result"
    }
   ],
   "source": [
    "[i for i in soup.find_all('a') if '/best' in str(i)]"
   ]
  },
  {
   "cell_type": "markdown",
   "id": "8c639f60",
   "metadata": {},
   "source": [
    "2. Преобразуйте эти значения в текстовые значения с помощью уже известного вам атрибута. Тут же, в рамках этого генератора списков, преобразуйте эти значения в целые числа.\n",
    "\n",
    "У вас должен получиться следующий результат:\n",
    "\n",
    "```[2023, 2022, 2021, 2020, 2019, 2018, 2017, 2016, 2015, 2014, 2013, 2012]```"
   ]
  },
  {
   "cell_type": "code",
   "execution_count": 193,
   "id": "7258a862",
   "metadata": {},
   "outputs": [
    {
     "data": {
      "text/plain": [
       "[2023, 2022, 2021, 2020, 2019, 2018, 2017, 2016, 2015, 2014, 2013, 2012]"
      ]
     },
     "execution_count": 193,
     "metadata": {},
     "output_type": "execute_result"
    }
   ],
   "source": [
    "[int(i.text) for i in soup.find_all('a') if '/best' in str(i)]"
   ]
  },
  {
   "cell_type": "markdown",
   "id": "f6bbc8aa",
   "metadata": {},
   "source": [
    "3. Используйте функцию `sorted()` и отсортируйте значения в получившемся списке.\n",
    "\n",
    "У вас должен получиться следующий результат:\n",
    "\n",
    "```[2012, 2013, 2014, 2015, 2016, 2017, 2018, 2019, 2020, 2021, 2022, 2023]```"
   ]
  },
  {
   "cell_type": "code",
   "execution_count": 194,
   "id": "71b596e1",
   "metadata": {},
   "outputs": [
    {
     "data": {
      "text/plain": [
       "[2012, 2013, 2014, 2015, 2016, 2017, 2018, 2019, 2020, 2021, 2022, 2023]"
      ]
     },
     "execution_count": 194,
     "metadata": {},
     "output_type": "execute_result"
    }
   ],
   "source": [
    "sorted([int(i.text) for i in soup.find_all('a') if '/best' in str(i)])"
   ]
  },
  {
   "cell_type": "markdown",
   "id": "32c2aec8",
   "metadata": {},
   "source": [
    "<center><b><font size=4>Задача №5.2</font></b></center>\n",
    "\n",
    "Напишите функцию `get_status_reserv(soup)`, которая будет принимать на вход объект `BeautifulSoup`, и возвращать целое число – `0` если преподаватель не участвовал в программе кадрового резерва НИУ ВШЭ, и `1` если участвовал. \n",
    "\n",
    "*Подсказка:* чтобы решить эту задачу, изучите html-разметку страницы [Ильи Михайловича](https://www.hse.ru/org/persons/14276397) или [Анастасии Анатольевны](https://www.hse.ru/org/persons/25922100)."
   ]
  },
  {
   "cell_type": "code",
   "execution_count": 12,
   "id": "de1a45d2",
   "metadata": {},
   "outputs": [
    {
     "data": {
      "text/plain": [
       "1"
      ]
     },
     "execution_count": 12,
     "metadata": {},
     "output_type": "execute_result"
    }
   ],
   "source": [
    "def get_status_reserv(soup):\n",
    "    if len([i for i in soup.find_all('a') if i.get('href') != None and i.get('href') == '//academics.hse.ru/kr/main']) > 0:\n",
    "        return 1\n",
    "    else:\n",
    "        return 0\n",
    "    \n",
    "get_status_reserv(soup) # ответ – 1"
   ]
  },
  {
   "cell_type": "markdown",
   "id": "e7f0ff39",
   "metadata": {},
   "source": [
    "Используйте этот тест для проверки. В результате функция должна вернуть `0`."
   ]
  },
  {
   "cell_type": "code",
   "execution_count": 198,
   "id": "a73a6a98",
   "metadata": {},
   "outputs": [
    {
     "data": {
      "text/plain": [
       "0"
      ]
     },
     "execution_count": 198,
     "metadata": {},
     "output_type": "execute_result"
    }
   ],
   "source": [
    "link_orlov = 'https://www.hse.ru/org/persons/67220'\n",
    "html_orlov = requests.get(link_orlov)\n",
    "soup_orlov = BeautifulSoup(html_orlov.text)\n",
    "get_status_reserv(soup_orlov) # в этом тесте должна выдаваться 0"
   ]
  },
  {
   "cell_type": "markdown",
   "id": "e8492906",
   "metadata": {},
   "source": [
    "### 6. Иностранные языки, которые знает преподаватель\n",
    "\n",
    "Продолжаем шаг за шагом находить способы собирать интересующую нас информацию. **Как вы считаете, чем отличаются строки, в которых содержится информация об иностранных языках преподавателя?**"
   ]
  },
  {
   "cell_type": "code",
   "execution_count": 200,
   "id": "e9ecd901",
   "metadata": {},
   "outputs": [
    {
     "data": {
      "text/plain": [
       "[<dd>английский</dd>,\n",
       " <dd>немецкий <span class=\"grey i\">(чтение)</span></dd>,\n",
       " <dd>французский <span class=\"grey i\">(чтение)</span></dd>,\n",
       " <dd>латинский <span class=\"grey i\">(чтение)</span></dd>,\n",
       " <dd>итальянский <span class=\"grey i\">(чтение)</span></dd>,\n",
       " <dd>древнегреческий <span class=\"grey i\">(чтение)</span></dd>,\n",
       " <dd>Телефон:<br/>+7 (495) 772-95-90<br/>22764</dd>,\n",
       " <dd>Адрес: Мясницкая ул., д. 20, каб. М20-529<br/><span class=\"grey\">Время работы: понедельник, с 11:00 до 13:00</span></dd>,\n",
       " <dd><span class=\"\"><a class=\"link\" href=\"https://www.hse.ru/org/persons/14276397/timetable\">Расписание</a></span></dd>,\n",
       " <dd><span class=\"b\">SPIN РИНЦ</span>:\n",
       " \n",
       " \t\t                        <a class=\"link\" href=\"https://elibrary.ru/author_profile.asp?authorid=809751\" rel=\"nofollow\">5131-3625</a></dd>,\n",
       " <dd><span class=\"b\">ORCID</span>:\n",
       " \n",
       " \t\t                        <a class=\"link\" href=\"https://orcid.org/0000-0002-0968-6868\" rel=\"nofollow\">0000-0002-0968-6868</a></dd>,\n",
       " <dd><span class=\"b\">ResearcherID</span>:\n",
       " \n",
       " \t\t                        <a class=\"link\" href=\"https://www.webofscience.com/wos/author/rid/K-5427-2015\" rel=\"nofollow\">K-5427-2015</a></dd>,\n",
       " <dd><span class=\"b\">Scopus AuthorID</span>:\n",
       " \n",
       " \t\t                        <a class=\"link\" href=\"https://www.scopus.com/authid/detail.uri?partnerID=HzOxMe3b&amp;authorId=57192297326&amp;origin=inward\" rel=\"nofollow\">57192297326</a></dd>,\n",
       " <dd><a class=\"link b\" href=\"https://scholar.google.ru/citations?user=K2tqK6YAAAAJ&amp;hl=en&amp;oi=ao\" rel=\"nofollow\">Google Scholar</a></dd>,\n",
       " <dd><a href=\"/staff/melville\">Мельвиль А. Ю.</a></dd>]"
      ]
     },
     "execution_count": 200,
     "metadata": {},
     "output_type": "execute_result"
    }
   ],
   "source": [
    "soup.find_all('dd') # они хранятся под тегом \"dd\" вместе с другими строками"
   ]
  },
  {
   "cell_type": "markdown",
   "id": "9c213a41",
   "metadata": {},
   "source": [
    "<center><b><font size=4>Задача №6</font></b></center>\n",
    "\n",
    "Напишите **или** функцию `get_languages(soup)` **или** генератор списков в одну строчку, которые позволят вам получить названия иностранных языков, которые знает преподаватель.\n",
    "\n",
    "*Дополнительно:* избавьтесь от части строк, демонстрирующих уровень знания языка `(чтение)`.\n",
    "\n",
    "В результате вы должны получить следующий список:\n",
    "```['английский',\n",
    " 'немецкий',\n",
    " 'французский',\n",
    " 'латинский',\n",
    " 'итальянский',\n",
    " 'древнегреческий']```\n",
    "\n",
    "*Подсказки:*\n",
    "* Вспомните про метод строк `.split()` и еще один метод, противоположный по смыслу `.startswith()`"
   ]
  },
  {
   "cell_type": "code",
   "execution_count": 13,
   "id": "f328c28b",
   "metadata": {},
   "outputs": [
    {
     "data": {
      "text/plain": [
       "['английский',\n",
       " 'немецкий (чтение)',\n",
       " 'французский (чтение)',\n",
       " 'латинский (чтение)',\n",
       " 'итальянский (чтение)',\n",
       " 'древнегреческий (чтение)']"
      ]
     },
     "execution_count": 13,
     "metadata": {},
     "output_type": "execute_result"
    }
   ],
   "source": [
    "[i.text for i in soup.find_all('dd') if str(i.text).split()[0].endswith('ий') or str(i.text).split()[0].endswith('и')]"
   ]
  },
  {
   "cell_type": "markdown",
   "id": "b329ed0d",
   "metadata": {},
   "source": [
    "### 7. Количество иностранных языков, которые знает преподаватель;\n",
    "<p></p>\n",
    "<p></p>\n",
    "<center><b><font size=4>Задача №7</font></b></center>\n",
    "\n",
    "\n",
    "Тут все еще проще. Используйте код, который вы написали выше, и сохраните языки в переменную `lang`. \n",
    "\n",
    "Выведите число элементов в этом списке:"
   ]
  },
  {
   "cell_type": "code",
   "execution_count": 17,
   "id": "1610779d",
   "metadata": {},
   "outputs": [
    {
     "name": "stdout",
     "output_type": "stream",
     "text": [
      "6\n"
     ]
    }
   ],
   "source": [
    "langs = [i.text for i in soup.find_all('dd') if str(i.text).split()[0].endswith('ий') or str(i.text).split()[0].endswith('и')]\n",
    "print(len(langs))"
   ]
  },
  {
   "cell_type": "markdown",
   "id": "8f5adcee",
   "metadata": {},
   "source": [
    "### 8. Ссылка на страницу преподавателя;\n",
    "\n",
    "<p></p>\n",
    "<p></p>\n",
    "<center><b><font size=4>Задача №8</font></b></center>\n",
    "\n",
    "Вспомните методы, которые применяются к объекту, который получается при сохранении результата запроса `requests.get(url)` в переменную `html`. Как получить ссылку на страницу, данные которой мы запрашивали?\n",
    "\n",
    "Вы должны получить строку вида: ```'https://www.hse.ru/org/persons/14276397'```\n",
    "\n",
    "*Подсказка*: мы обсуждали соответствующую тему в начале предыдущего семинара (тетрадка `web-scraping_seminar3-4`)."
   ]
  },
  {
   "cell_type": "code",
   "execution_count": 14,
   "id": "5eae0858",
   "metadata": {},
   "outputs": [
    {
     "data": {
      "text/plain": [
       "'https://www.hse.ru/org/persons/14276397'"
      ]
     },
     "execution_count": 14,
     "metadata": {},
     "output_type": "execute_result"
    }
   ],
   "source": [
    "html.url # ответ"
   ]
  },
  {
   "cell_type": "markdown",
   "id": "25d1b518",
   "metadata": {},
   "source": [
    "**Поздравляю! Мы с вами научились собирать базовую информацию о преподавателях, а еще вы освежили в памяти основы работы с основными типами данных и коллекциями в Python, можете все больше и больше работать с разметкой html и  объектами `BeautifulSoup` самостоятельно**."
   ]
  },
  {
   "cell_type": "markdown",
   "id": "426be687",
   "metadata": {},
   "source": [
    "### Дополнительная информация, которую можно найти на странице преподавателя\n",
    "\n",
    "Пока у нас с вами еще не отсохли лапки, давайте посмотрим что еще можно собрать со страницы преподавателя. Ранее выше мы обсудили что это могут быть:\n",
    "\n",
    "1. Места работы в НИУ ВШЭ;\n",
    "2. Должности на местах работы;\n",
    "3. Количество публикаций преподавателя;\n",
    "4. Количество новостей на сайте Вышки с преподавателем;\n",
    "5. Названия курсов, которые он преподает;\n",
    "6. ID в наукометрических системах:\n",
    "    * Google Scholar;\n",
    "    * SPIN РИНЦ;\n",
    "    * ORCID;\n",
    "    * ResearcherID;\n",
    "    * Scopus Author ID\n",
    "7. Является ли участником программы кадрового резерва;\n",
    "8. Получал ли надбавку за академическую работу;\n",
    "9. Являлся ли победителем конкурса лучших научных работ сотрудников НИУ ВШЭ;\n",
    "10. Проекты на ярмарке проектов:\n",
    "    * Руководил ли хотя бы 1 проектом или нет;\n",
    "    * Число проектов под руководством преподавателя;\n",
    "11. Информация об опыте работы;\n",
    "12. Контакты, адрес работы;\n",
    "13. Часы присутствия и/или время консультаций.\n",
    "\n",
    "Продемонстрирую пару примеров того, как могут быть собраны и обработаны и эти данные:"
   ]
  },
  {
   "cell_type": "markdown",
   "id": "35b95015",
   "metadata": {},
   "source": [
    "#### 2. Должности на местах работы:\n",
    "\n",
    "Должности на местах работы скрываются под тегом `span` и классом `person-appointment-title`."
   ]
  },
  {
   "cell_type": "code",
   "execution_count": 131,
   "id": "b6110178",
   "metadata": {},
   "outputs": [
    {
     "data": {
      "text/plain": [
       "[<span class=\"person-appointment-title\">Ученый секретарь:</span>,\n",
       " <span class=\"person-appointment-title\">Доцент:</span>]"
      ]
     },
     "execution_count": 131,
     "metadata": {},
     "output_type": "execute_result"
    }
   ],
   "source": [
    "soup.find_all('span', {'class':\"person-appointment-title\"}) # список"
   ]
  },
  {
   "cell_type": "code",
   "execution_count": 138,
   "id": "e86bb8bf",
   "metadata": {},
   "outputs": [
    {
     "data": {
      "text/plain": [
       "['Ученый секретарь:', 'Доцент:']"
      ]
     },
     "execution_count": 138,
     "metadata": {},
     "output_type": "execute_result"
    }
   ],
   "source": [
    "# с ними можно работать, используя списки\n",
    "[i.text for i in soup.find_all('span', {'class':\"person-appointment-title\"})]"
   ]
  },
  {
   "cell_type": "code",
   "execution_count": 234,
   "id": "4e47e82c",
   "metadata": {},
   "outputs": [
    {
     "data": {
      "text/plain": [
       "['Ученый секретарь', 'Доцент']"
      ]
     },
     "execution_count": 234,
     "metadata": {},
     "output_type": "execute_result"
    }
   ],
   "source": [
    "# избавиться от двоеточий на конце\n",
    "[i.text.strip(':') for i in soup.find_all('span', {'class':\"person-appointment-title\"})]"
   ]
  },
  {
   "cell_type": "code",
   "execution_count": 235,
   "id": "5b7b10ce",
   "metadata": {},
   "outputs": [
    {
     "data": {
      "text/plain": [
       "'Ученый секретарь, Доцент'"
      ]
     },
     "execution_count": 235,
     "metadata": {},
     "output_type": "execute_result"
    }
   ],
   "source": [
    "# и склеить из списка строку\n",
    "\", \".join([i.text.strip(':') for i in soup.find_all('span', {'class':\"person-appointment-title\"})])"
   ]
  },
  {
   "cell_type": "markdown",
   "id": "f2b907c0",
   "metadata": {},
   "source": [
    "#### 3. Количество публикаций преподавателя:\n",
    "\n",
    "Если мы изучим страницу Ильи Михайловича, то обнаружим, что самый надежный способ собрать публикации преподавателя – использовать тег `div` и обратиться к классу `large`."
   ]
  },
  {
   "cell_type": "code",
   "execution_count": 35,
   "id": "17d5e253",
   "metadata": {},
   "outputs": [
    {
     "data": {
      "text/plain": [
       "['Глава книги Богачёв М. И., Локшин И. М. Глава 3. Политическая жизнь общества\\xa0// В кн.: Обществознание : 11 класс: учебное пособие: базовый уровень / Рук.: К. В. Сорвин. М. : Просвещение, 2022. С.\\xa0244-386.',\n",
       " 'Книга Сорвин К. В., Богачёв М. И., Иконникова Н. К., Литинский С. В., Локшин И. М., Оганесян М. Р., Пащенко Т. В., Ростовцева Н. В., Федоров О. Д., Глазков К. П. Обществознание : 11 класс: учебное пособие: базовый уровень / Рук.: К. В. Сорвин. М. : Просвещение, 2022.',\n",
       " 'Статья Локшин И. М. Демократия против народного суверенитета? Лики власти народа: теоретическая реконструкция\\xa0// Полития: Анализ. Хроника. Прогноз. 2021. Т.\\xa02. №\\xa0101. С.\\xa06-29. doi',\n",
       " 'Статья Локшин И. М. Политическая наука и укрощение контингентности\\xa0// Политическая экспертиза: ПОЛИТЭКС. 2019. Т.\\xa015. №\\xa01. С.\\xa045-58. doi',\n",
       " 'Глава книги Авдонин В. С., Адильбаев Т. Ш., Артамонова Ю. Д., Золян С. Т., Ильин М. В., Локшин И. М., Фомин И. В. Образный язык как трансдисциплинарный интерфейс: От биологических метафор к политическим и обратно\\xa0// В кн.: МЕТОД: Московский ежегодник трудов из обществоведческих дисциплин / Сост.: М. В. Ильин. Вып. 8: Образ и образность. От образования Вселенной до образования ее исследователя. [б.и.], 2018. С.\\xa0286-311.',\n",
       " 'Статья Ахременко А. С., Локшин И. М., Юрескул Е. А. Трудности перехода: к политической экономии препятствий модернизации\\xa0// Полития: Анализ. Хроника. Прогноз. 2017. №\\xa02. С.\\xa05-31.',\n",
       " 'Статья Ахременко А. С., Локшин И. М., Петров А. П. Граница институциональных возможностей и производительность общественных систем: к теоретическому синтезу\\xa0// Полис. Политические исследования. 2016. №\\xa06. С.\\xa095-113. doi',\n",
       " 'Статья Локшин И. М. Ловушка демократизации: связи между политиками и избирателями в молодых демократиях\\xa0// Вестник Московского университета. Серия 12: Политические науки. 2016. №\\xa03. С.\\xa038-63.',\n",
       " 'Препринт Lokshin I. Whatever Explains Whatever: The Duhem-Quine Thesis and Conventional Quantitative Methods in Political Science / NRU Higher School of Economics. Series PS \"Political Science\". 2015.',\n",
       " 'Статья Локшин И. М. Игра в бисер? Конвенциональные количественные методы в свете тезиса Дюэма-Куайна\\xa0// Политическая наука. 2015. №\\xa02. С.\\xa080-103.',\n",
       " 'Глава книги Бернхаген П. Измерение демократии и демократизации\\xa0// В кн.: Демократизация / (под ред.: М. Г. Миронюк); науч. ред.: К. В. Харпфер, П. Бернхаген, Р. Ф. Инглхарт, К. П. Вельцель. М. : Издательский дом НИУ ВШЭ, 2015. С.\\xa069-97.',\n",
       " 'Глава книги МакАллистер И., Уайт С. Конвенциональное политическое участие\\xa0// В кн.: Демократизация / (под ред.: М. Г. Миронюк); науч. ред.: К. В. Харпфер, П. Бернхаген, Р. Ф. Инглхарт, К. П. Вельцель. М. : Издательский дом НИУ ВШЭ, 2015. С.\\xa0326-349.',\n",
       " 'Глава книги Фиш С., Виттенберг Дж. Неудавшаяся демократизация\\xa0// В кн.: Демократизация / (под ред.: М. Г. Миронюк); науч. ред.: К. В. Харпфер, П. Бернхаген, Р. Ф. Инглхарт, К. П. Вельцель. М. : Издательский дом НИУ ВШЭ, 2015. С.\\xa0425-454.',\n",
       " 'Книга Макаренко Б. И., Локшин И. М., Мелешкина Е. Ю., Миронюк М. Г., Петров Н. В. Партии и партийные системы: современные тенденции развития / Рук.: Б. И. Макаренко. М. : РОССПЭН, 2015.',\n",
       " 'Глава книги Вельцель К. П., Инглхарт Р. Ф. Политическая культура, массовые убеждения и изменения ценностей\\xa0// В кн.: Демократизация / (под ред.: М. Г. Миронюк); науч. ред.: К. В. Харпфер, П. Бернхаген, Р. Ф. Инглхарт, К. П. Вельцель. М. : Издательский дом НИУ ВШЭ, 2015. С.\\xa0233-261.',\n",
       " 'Глава книги Морлино Л. Политические партии\\xa0// В кн.: Демократизация / (под ред.: М. Г. Миронюк); науч. ред.: К. В. Харпфер, П. Бернхаген, Р. Ф. Инглхарт, К. П. Вельцель. М. : Издательский дом НИУ ВШЭ, 2015. С.\\xa0350-378.',\n",
       " 'Глава книги Хэрпфер К. Посткоммунистическая Европа и постсоветская Россия\\xa0// В кн.: Демократизация / (под ред.: М. Г. Миронюк); науч. ред.: К. В. Харпфер, П. Бернхаген, Р. Ф. Инглхарт, К. П. Вельцель. М. : Издательский дом НИУ ВШЭ, 2015. С.\\xa0521-536.',\n",
       " 'Статья Макаренко Б. И., Локшин И. М. Современные партийные системы: сценарии эволюции и тенденции развития\\xa0// Полис. Политические исследования. 2015. №\\xa03. С.\\xa085-109.',\n",
       " 'Глава книги Вельцель К. П. Теории демократизации\\xa0// В кн.: Демократизация / (под ред.: М. Г. Миронюк); науч. ред.: К. В. Харпфер, П. Бернхаген, Р. Ф. Инглхарт, К. П. Вельцель. М. : Издательский дом НИУ ВШЭ, 2015. С.\\xa0148-178.',\n",
       " 'Статья Ахременко А. С., Локшин И. М., Юрескул Е. А. Экономический рост и выбор политического курса в авторитарных режимах: \"недостающее звено\"\\xa0// Полития: Анализ. Хроника. Прогноз. 2015. Т.\\xa03. №\\xa078. С.\\xa050-74.',\n",
       " 'Статья Локшин И. М. 20 лет дискуссии об обновлении методологии социальных наук (Обзор)\\xa0// МЕТОД: Московский ежегодник трудов из обществоведческих дисциплин. 2014. Т.\\xa04. С.\\xa0403-425.',\n",
       " 'Статья Локшин И. М. Избрание на царство: от чего зависит объем президентских полномочий?\\xa0// Полис. Политические исследования. 2014. №\\xa05. С.\\xa0118-138.',\n",
       " 'Препринт Локшин И. М. Индекс величины политических ставок / Высшая школа экономики. Серия WP14 \"Политическая теория и политический анализ\". 2013. № WP14/2013/04.',\n",
       " 'Глава книги Миронюк М. Г., Мартынов Б. Ф., Локшин И. М. Венесуэла\\xa0// В кн.: Политические системы современных государств / Отв. ред.: М. Г. Миронюк; под общ. ред.: А. В. Торкунов; науч. ред.: А. Ю. Мельвиль. Т. 3: Америка, Австралия и Океания. М. : Аспект Пресс, 2012. С.\\xa073-86.',\n",
       " 'Глава книги Розенберг Д. Я., Локшин И. М. Доминика\\xa0// В кн.: Политические системы современных государств / Отв. ред.: М. Г. Миронюк; под общ. ред.: А. В. Торкунов; науч. ред.: А. Ю. Мельвиль. Т. 3: Америка, Австралия и Океания. М. : Аспект Пресс, 2012. С.\\xa0129-136.',\n",
       " 'Статья Патцельт В. Эволюция институтов, морфология и уроки истории. Можно ли извлекать уроки из истории? / Пер. с нем.: И. М. Локшин\\xa0// Политическая наука. 2012. №\\xa03. С.\\xa050-70.',\n",
       " 'Статья Локшин И. М. Политические режимы и качество функционирования государства: анализ взаимосвязи\\xa0// Полития: Анализ. Хроника. Прогноз. 2011. №\\xa04. С.\\xa074-92.']"
      ]
     },
     "execution_count": 35,
     "metadata": {},
     "output_type": "execute_result"
    }
   ],
   "source": [
    "[i.text for i in soup.find_all('div', {'class': 'large'})] # публикации"
   ]
  },
  {
   "cell_type": "code",
   "execution_count": 236,
   "id": "1b081c4c",
   "metadata": {},
   "outputs": [
    {
     "data": {
      "text/plain": [
       "27"
      ]
     },
     "execution_count": 236,
     "metadata": {},
     "output_type": "execute_result"
    }
   ],
   "source": [
    "len([i.text for i in soup.find_all('div', {'class': 'large'})]) # число публикаций"
   ]
  },
  {
   "cell_type": "markdown",
   "id": "824a40df",
   "metadata": {},
   "source": [
    "#### 12. Контакты, адрес работы:\n",
    "Давайте соберем контактную информацию, если она доступна на сайте в открытом доступе:"
   ]
  },
  {
   "cell_type": "code",
   "execution_count": 145,
   "id": "b9d6c0ea",
   "metadata": {},
   "outputs": [
    {
     "data": {
      "text/plain": [
       "<dl class=\"main-list large\"><dt class=\"b\">Контакты</dt><dd>Телефон:<br/>+7 (495) 772-95-90<br/>22764</dd><dd>Адрес: Мясницкая ул., д. 20, каб. М20-529<br/><span class=\"grey\">Время работы: понедельник, с 11:00 до 13:00</span></dd></dl>"
      ]
     },
     "execution_count": 145,
     "metadata": {},
     "output_type": "execute_result"
    }
   ],
   "source": [
    "soup.find_all('dl', {'class': 'main-list large'})[0] # тег dl, класс 'main-list large', первый элемент"
   ]
  },
  {
   "cell_type": "code",
   "execution_count": 147,
   "id": "931f6dc4",
   "metadata": {},
   "outputs": [
    {
     "data": {
      "text/plain": [
       "['Контакты',\n",
       " 'Телефон:+7 (495) 772-95-9022764',\n",
       " 'Адрес: Мясницкая ул., д. 20, каб. М20-529Время работы: понедельник, с 11:00 до 13:00']"
      ]
     },
     "execution_count": 147,
     "metadata": {},
     "output_type": "execute_result"
    }
   ],
   "source": [
    "[i.text for i in soup.find_all('dl', {'class': 'main-list large'})[0]] # преобразуем в текст"
   ]
  },
  {
   "cell_type": "code",
   "execution_count": 214,
   "id": "edff89d7",
   "metadata": {},
   "outputs": [
    {
     "data": {
      "text/plain": [
       "['Адрес: Мясницкая ул., д. 20, каб. М20-529']"
      ]
     },
     "execution_count": 214,
     "metadata": {},
     "output_type": "execute_result"
    }
   ],
   "source": [
    "# или другой вариант, используя re.compile()\n",
    "soup.find_all(string=re.compile('^Адрес:')) # ищем строки, которые начинаются со строки \"Адрес:\"\n",
    "# кажется, получилось более точно:"
   ]
  },
  {
   "cell_type": "markdown",
   "id": "f5842c8f",
   "metadata": {},
   "source": [
    "#### 13. Часы присутствия и/или время консультаций.\n",
    "\n",
    "Соберем ссылку на \"Расписание\"."
   ]
  },
  {
   "cell_type": "code",
   "execution_count": 167,
   "id": "e1b99212",
   "metadata": {},
   "outputs": [
    {
     "data": {
      "text/plain": [
       "<dl class=\"main-list person-extra-indent person-extra-indent-timetable\"><dd><span class=\"\"><a class=\"link\" href=\"https://www.hse.ru/org/persons/14276397/timetable\">Расписание</a></span></dd></dl>"
      ]
     },
     "execution_count": 167,
     "metadata": {},
     "output_type": "execute_result"
    }
   ],
   "source": [
    "soup.find_all('dl', {'class': 'main-list person-extra-indent person-extra-indent-timetable'})[0]"
   ]
  },
  {
   "cell_type": "markdown",
   "id": "4f1e4b51",
   "metadata": {},
   "source": [
    "Как получить ссылку на само расписание? Здесь мы сталкиваемся с такой историей, как **дочерние элементы** и **потомки** в **html**. **О чем речь и почему важно это знать?**\n",
    "\n",
    "**Когда вы видите html разметку, то встречаете как достаточно простую разметку:**\n",
    "\n",
    "    <h1>Тут текст для заголовка первого уровня</h1>\n",
    "    <h2>Тут текст для заголовка второго уровня</h2>\n",
    "    <p>Тут написан обычный текст</p>\n",
    "    \n",
    "**Так и разметку, в которой на одной строке вы можете встретить сразу несколько тегов:**\n",
    "\n",
    "    <body>\n",
    "        <head><p>Тут какая-то информация для заголовка страницы</p>\n",
    "                <p>Информация, которая будет лежать тут на второй строчке</p>\n",
    "        </head>\n",
    "        \n",
    "        <h1>Здесь заголовок первого уровня</h1>\n",
    "        <p>А здесь обычный текст, только выделенный <b>жирным</b>\n",
    "    \n",
    "    </body>\n",
    "\n",
    "    \n",
    "**Тут мы сталкиваемся с двумя терминами:**\n",
    "\n",
    "* **Дочерние элементы (дети)** – элементы, которые лежат непосредственно внутри данного. Например, внутри `<HTML>` обычно лежат `<HEAD>` и `<BODY>`. В примере выше, внутри `<HEAD>` лежат элементы под тегом `<p>`. Это означает, что `<p>` – это дочерние элементы для элемента `<HEAD>`. Более узкое понятие.\n",
    "\n",
    "Например, у нас есть элемент под тегом `li`: ```<li class=\"control_lang2_item last_child\"><a class=\"link link_no-visited link_no-underline\" href=\"/en/org/persons/14276397\">EN</a></li>,```. У этого элемента есть дочерний элемент - это элемент под тегом `a`.\n",
    "\n",
    "* **Потомки** – все элементы, которые лежат внутри данного, вместе с их детьми, детьми их детей и так далее. Более широкое понятие.\n",
    "\n",
    "**Почему это важно при сборе данных с `requests` и `BeautifulSoup`?**\n",
    "\n",
    "Зачастую не то что под одним тегом, но под одним тегом и одним названием класса встречается очень много элементов. Например, под тегом `li` встречается очень много разных элементов ```soup.find_all('li')``` – от кнопок и чекбоксов до ссылок и обычных текстовых значений. Зачастую именно через работу с дочерними и родительскими тегами мы сможем решить нашу пресловутую **загадку** – понять, как собрать все нужные нам данные и не сломать голову. Один пример:"
   ]
  },
  {
   "cell_type": "code",
   "execution_count": 218,
   "id": "a6b6f3ed",
   "metadata": {},
   "outputs": [
    {
     "data": {
      "text/plain": [
       "<a class=\"link\" href=\"https://www.hse.ru/org/persons/14276397/timetable\">Расписание</a>"
      ]
     },
     "execution_count": 218,
     "metadata": {},
     "output_type": "execute_result"
    }
   ],
   "source": [
    "# мы обратились к первому элементу dl с определенным классом, а далее обращаемся к тегу a используя запись .a\n",
    "soup.find_all('dl', {'class': 'main-list person-extra-indent person-extra-indent-timetable'})[0].a"
   ]
  },
  {
   "cell_type": "code",
   "execution_count": 219,
   "id": "1c2e6d78",
   "metadata": {},
   "outputs": [
    {
     "data": {
      "text/plain": [
       "'https://www.hse.ru/org/persons/14276397/timetable'"
      ]
     },
     "execution_count": 219,
     "metadata": {},
     "output_type": "execute_result"
    }
   ],
   "source": [
    "# а вот это способ получить полную ссылку\n",
    "soup.find_all('dl', {'class': 'main-list person-extra-indent person-extra-indent-timetable'})[0].a.get('href')"
   ]
  },
  {
   "cell_type": "markdown",
   "id": "f3f4e898",
   "metadata": {},
   "source": [
    "Например, если мы хотим собрать информацию о профиле пользователя в наукометрических системах, мы можем воспользоваться методом `.find_all()` и передать туда параметры `'span', {'class': 'b'}`"
   ]
  },
  {
   "cell_type": "code",
   "execution_count": 201,
   "id": "85ec0814",
   "metadata": {},
   "outputs": [
    {
     "data": {
      "text/plain": [
       "[<span class=\"b\">SPIN РИНЦ</span>,\n",
       " <span class=\"b\">ORCID</span>,\n",
       " <span class=\"b\">ResearcherID</span>,\n",
       " <span class=\"b\">Scopus AuthorID</span>,\n",
       " <span class=\"b\">Локшин Илья Михайлович</span>]"
      ]
     },
     "execution_count": 201,
     "metadata": {},
     "output_type": "execute_result"
    }
   ],
   "source": [
    "soup.find_all('span', {'class': 'b'}) # первый вариант"
   ]
  },
  {
   "cell_type": "markdown",
   "id": "901614b5",
   "metadata": {},
   "source": [
    "Но если бы это было невозможно, пришлось искать бы другие пути. Например, мы можем обнаружить элементы `span` внутри первого элемента под тегом `dl` и классом `'main-list person-extra-indent'`."
   ]
  },
  {
   "cell_type": "code",
   "execution_count": 202,
   "id": "1c54ac1a",
   "metadata": {},
   "outputs": [
    {
     "data": {
      "text/plain": [
       "[<dl class=\"main-list person-extra-indent\"><dd><span class=\"b\">SPIN РИНЦ</span>:\n",
       " \n",
       " \t\t                        <a class=\"link\" href=\"https://elibrary.ru/author_profile.asp?authorid=809751\" rel=\"nofollow\">5131-3625</a></dd><dd><span class=\"b\">ORCID</span>:\n",
       " \n",
       " \t\t                        <a class=\"link\" href=\"https://orcid.org/0000-0002-0968-6868\" rel=\"nofollow\">0000-0002-0968-6868</a></dd><dd><span class=\"b\">ResearcherID</span>:\n",
       " \n",
       " \t\t                        <a class=\"link\" href=\"https://www.webofscience.com/wos/author/rid/K-5427-2015\" rel=\"nofollow\">K-5427-2015</a></dd><dd><span class=\"b\">Scopus AuthorID</span>:\n",
       " \n",
       " \t\t                        <a class=\"link\" href=\"https://www.scopus.com/authid/detail.uri?partnerID=HzOxMe3b&amp;authorId=57192297326&amp;origin=inward\" rel=\"nofollow\">57192297326</a></dd><dd><a class=\"link b\" href=\"https://scholar.google.ru/citations?user=K2tqK6YAAAAJ&amp;hl=en&amp;oi=ao\" rel=\"nofollow\">Google Scholar</a></dd></dl>,\n",
       " <dl class=\"main-list person-extra-indent\"><dt class=\"b\">Руководитель</dt><dd><a href=\"/staff/melville\">Мельвиль А. Ю.</a></dd></dl>]"
      ]
     },
     "execution_count": 202,
     "metadata": {},
     "output_type": "execute_result"
    }
   ],
   "source": [
    "soup.find_all('dl', {'class': 'main-list person-extra-indent'}) # весь список "
   ]
  },
  {
   "cell_type": "code",
   "execution_count": 203,
   "id": "0eb496db",
   "metadata": {},
   "outputs": [
    {
     "data": {
      "text/plain": [
       "<dl class=\"main-list person-extra-indent\"><dd><span class=\"b\">SPIN РИНЦ</span>:\n",
       "\n",
       "\t\t                        <a class=\"link\" href=\"https://elibrary.ru/author_profile.asp?authorid=809751\" rel=\"nofollow\">5131-3625</a></dd><dd><span class=\"b\">ORCID</span>:\n",
       "\n",
       "\t\t                        <a class=\"link\" href=\"https://orcid.org/0000-0002-0968-6868\" rel=\"nofollow\">0000-0002-0968-6868</a></dd><dd><span class=\"b\">ResearcherID</span>:\n",
       "\n",
       "\t\t                        <a class=\"link\" href=\"https://www.webofscience.com/wos/author/rid/K-5427-2015\" rel=\"nofollow\">K-5427-2015</a></dd><dd><span class=\"b\">Scopus AuthorID</span>:\n",
       "\n",
       "\t\t                        <a class=\"link\" href=\"https://www.scopus.com/authid/detail.uri?partnerID=HzOxMe3b&amp;authorId=57192297326&amp;origin=inward\" rel=\"nofollow\">57192297326</a></dd><dd><a class=\"link b\" href=\"https://scholar.google.ru/citations?user=K2tqK6YAAAAJ&amp;hl=en&amp;oi=ao\" rel=\"nofollow\">Google Scholar</a></dd></dl>"
      ]
     },
     "execution_count": 203,
     "metadata": {},
     "output_type": "execute_result"
    }
   ],
   "source": [
    "soup.find_all('dl', {'class': 'main-list person-extra-indent'})[0] # первый элемент"
   ]
  },
  {
   "cell_type": "markdown",
   "id": "2b7a68e9",
   "metadata": {},
   "source": [
    "После того, как мы получили конкретный список результатов (с помощью `soup.find_all()`), мы можем поискат дочерние элементы с помощью еще одного вызова метода `.find_all()`."
   ]
  },
  {
   "cell_type": "code",
   "execution_count": 204,
   "id": "f02783d2",
   "metadata": {},
   "outputs": [
    {
     "data": {
      "text/plain": [
       "[<span class=\"b\">SPIN РИНЦ</span>,\n",
       " <span class=\"b\">ORCID</span>,\n",
       " <span class=\"b\">ResearcherID</span>,\n",
       " <span class=\"b\">Scopus AuthorID</span>]"
      ]
     },
     "execution_count": 204,
     "metadata": {},
     "output_type": "execute_result"
    }
   ],
   "source": [
    "# сперва обращаемся к элементам под тегом dl с классом 'main-list person-extra-indent',\n",
    "# далее обращаемся к первому элементу в списке результатов (с помощью индексации – [0])\n",
    "# а после – обращаемся к элементам под тегам 'span' среди дочерних элементов\n",
    "soup.find_all('dl', {'class': 'main-list person-extra-indent'})[0].find_all('span')"
   ]
  },
  {
   "cell_type": "markdown",
   "id": "adb7f419",
   "metadata": {},
   "source": [
    "Возможно, информация про дочерние и родительские тэги покажется вам лишней, но вы точно вспомните про дочерние теги и потомков когда вы столкнетесь со сложностями в обработке html.\n",
    "\n",
    "Пара методов, которые я советую вам держать на уме:\n",
    "\n",
    "* `.children` – возвращает list_iterator с информацией об элементах потомках одного конкретного элемента;\n",
    "* `.parent`   – возвращает элемент html, который является родителем для выбранного нами элемента.\n",
    "\n",
    "Подробнее почитать об этом можно в [документации BeautifulSoup](https://www.crummy.com/software/BeautifulSoup/bs4/doc/#next-sibling-and-previous-sibling)."
   ]
  },
  {
   "cell_type": "code",
   "execution_count": 185,
   "id": "516a7a94",
   "metadata": {
    "scrolled": true
   },
   "outputs": [
    {
     "data": {
      "text/plain": [
       "<list_iterator at 0x7f9b190a5a30>"
      ]
     },
     "execution_count": 185,
     "metadata": {},
     "output_type": "execute_result"
    }
   ],
   "source": [
    "# возвращает list_iterator с информацией об элементах потомках одного конкретного элемента\n",
    "soup.find_all('dl', {'class': 'main-list person-extra-indent person-extra-indent-timetable'})[0].children"
   ]
  },
  {
   "cell_type": "code",
   "execution_count": 184,
   "id": "e5452031",
   "metadata": {
    "scrolled": true
   },
   "outputs": [
    {
     "name": "stdout",
     "output_type": "stream",
     "text": [
      "<dd><span class=\"\"><a class=\"link\" href=\"https://www.hse.ru/org/persons/14276397/timetable\">Расписание</a></span></dd>\n"
     ]
    }
   ],
   "source": [
    "# можем пройтись по элементам-потомкам\n",
    "for i in soup.find_all('dl', {'class': 'main-list person-extra-indent person-extra-indent-timetable'})[0].children:\n",
    "    print(i)"
   ]
  },
  {
   "cell_type": "markdown",
   "id": "2fee0900",
   "metadata": {},
   "source": [
    "Мы также можем посмотреть на родительский элемент:"
   ]
  },
  {
   "cell_type": "code",
   "execution_count": 217,
   "id": "0bc6b704",
   "metadata": {
    "scrolled": true
   },
   "outputs": [
    {
     "data": {
      "text/plain": [
       "<div class=\"l-extra__inner\"><div class=\"g-pic person-avatar is-desktop\" style=\"background-image:url('/pubs/share/thumb/484385454:c613x613+413+813:r190x190!.jpg');background-image: -webkit-image-set(url('/pubs/share/thumb/484385454:c613x613+413+813:r190x190!.jpg') 1x,url('/pubs/share/thumb/484385454:c613x613+413+813:r380x380!.jpg') 2x);background-image: image-set(url('/pubs/share/thumb/484385454:c613x613+413+813:r190x190!.jpg') 1x,url('/pubs/share/thumb/484385454:c613x613+413+813:r380x380!.jpg') 2x);\" title=\"Локшин Илья Михайлович\"></div><dl class=\"main-list large main-list-language-knowledge-level\"><dt class=\"b\">Владение языками</dt><dd>английский</dd><dd>немецкий <span class=\"grey i\">(чтение)</span></dd><dd>французский <span class=\"grey i\">(чтение)</span></dd><dd>латинский <span class=\"grey i\">(чтение)</span></dd><dd>итальянский <span class=\"grey i\">(чтение)</span></dd><dd>древнегреческий <span class=\"grey i\">(чтение)</span></dd></dl><dl class=\"main-list large\"><dt class=\"b\">Контакты</dt><dd>Телефон:<br/>+7 (495) 772-95-90<br/>22764</dd><dd>Адрес: Мясницкая ул., д. 20, каб. М20-529<br/><span class=\"grey\">Время работы: понедельник, с 11:00 до 13:00</span></dd></dl><dl class=\"main-list person-extra-indent person-extra-indent-timetable\"><dd><span class=\"\"><a class=\"link\" href=\"https://www.hse.ru/org/persons/14276397/timetable\">Расписание</a></span></dd></dl><dl class=\"main-list person-extra-indent\"><dd><span class=\"b\">SPIN РИНЦ</span>:\n",
       "\n",
       "\t\t                        <a class=\"link\" href=\"https://elibrary.ru/author_profile.asp?authorid=809751\" rel=\"nofollow\">5131-3625</a></dd><dd><span class=\"b\">ORCID</span>:\n",
       "\n",
       "\t\t                        <a class=\"link\" href=\"https://orcid.org/0000-0002-0968-6868\" rel=\"nofollow\">0000-0002-0968-6868</a></dd><dd><span class=\"b\">ResearcherID</span>:\n",
       "\n",
       "\t\t                        <a class=\"link\" href=\"https://www.webofscience.com/wos/author/rid/K-5427-2015\" rel=\"nofollow\">K-5427-2015</a></dd><dd><span class=\"b\">Scopus AuthorID</span>:\n",
       "\n",
       "\t\t                        <a class=\"link\" href=\"https://www.scopus.com/authid/detail.uri?partnerID=HzOxMe3b&amp;authorId=57192297326&amp;origin=inward\" rel=\"nofollow\">57192297326</a></dd><dd><a class=\"link b\" href=\"https://scholar.google.ru/citations?user=K2tqK6YAAAAJ&amp;hl=en&amp;oi=ao\" rel=\"nofollow\">Google Scholar</a></dd></dl><dl class=\"main-list person-extra-indent\"><dt class=\"b\">Руководитель</dt><dd><a href=\"/staff/melville\">Мельвиль А. Ю.</a></dd></dl><div class=\"with-indent2 is-desktop\"><span class=\"person-print js-person_print_title i\">Версия для печати<span class=\"b-arr b-arr_3 b-arr_down\"></span></span><div class=\"js-person_print_content\" style=\"display: none;\"><ul class=\"first_child last_child navigation navigation_filter\"><li><label class=\"with-checkbox\" for=\"show_pubs\"><input checked=\"\" class=\"show_pubs\" id=\"show_pubs\" type=\"checkbox\"/>с публикациями</label></li><li><label class=\"with-checkbox\" for=\"show_news\"><input checked=\"\" class=\"show_news\" id=\"show_news\" type=\"checkbox\"/>с новостями</label></li><li><button class=\"button button_blue with-indent\" onclick=\"window.print();\" type=\"button\">Распечатать</button></li></ul></div></div><div class=\"b-side b-side_notice\"><div class=\"b-side__inner\"><br/><!--noindex--><span class=\"with-icon with-icon_tick\"> </span><p class=\"last_child with-indent\">\n",
       "\t\t\t\tНашли <span class=\"wrong\">опечатку</span>?<br/>\n",
       "\t\t\t\tВыделите её, нажмите Ctrl+Enter и отправьте нам уведомление. Спасибо за участие!<br/>\n",
       "\t\t\t\tСервис предназначен только для отправки сообщений об орфографических и пунктуационных ошибках.\n",
       "\t\t\t</p><!--/noindex--><script type=\"text/javascript\">\n",
       "\t\t\t(function() {\n",
       "\t\t\t\tvar s = document.createElement('script'); s.type = 'text/javascript'; s.async = true;\n",
       "\t\t\t\ts.src = '/f/src/_/jquery.orfo.js';\n",
       "\t\t\t\ts.onload = s.onreadystatechange = function() {\n",
       "\t\t\t\t\tif ($.fn.hseOrfo) {\t// old IE...\n",
       "\t\t\t\t\t\t$(document).hseOrfo({\n",
       "\t\t\t\t\t\t\t'lang': 'ru'\n",
       "\t\t\t\t\t\t});\n",
       "\t\t\t\t\t}\n",
       "\t\t\t\t};\n",
       "\t\t\t\tvar t = document.getElementsByTagName('script')[0]; t.parentNode.insertBefore(s, t);\n",
       "\t\t\t})();\n",
       "\t\t</script></div></div></div>"
      ]
     },
     "execution_count": 217,
     "metadata": {},
     "output_type": "execute_result"
    }
   ],
   "source": [
    "# возвращает элемент html, который является родителем для выбранного нами элемента.\n",
    "soup.find_all('dl', {'class': 'main-list person-extra-indent person-extra-indent-timetable'})[0].parent"
   ]
  },
  {
   "cell_type": "markdown",
   "id": "64351eb7",
   "metadata": {},
   "source": [
    "А теперь вернемся к нашим ссылкам и соберем словарь, в котором будут отражены аккаунты в наукометрических системах пользователя:"
   ]
  },
  {
   "cell_type": "code",
   "execution_count": 214,
   "id": "926c087b",
   "metadata": {},
   "outputs": [
    {
     "data": {
      "text/plain": [
       "[<a class=\"link\" href=\"https://elibrary.ru/author_profile.asp?authorid=809751\" rel=\"nofollow\">5131-3625</a>,\n",
       " <a class=\"link\" href=\"https://orcid.org/0000-0002-0968-6868\" rel=\"nofollow\">0000-0002-0968-6868</a>,\n",
       " <a class=\"link\" href=\"https://www.webofscience.com/wos/author/rid/K-5427-2015\" rel=\"nofollow\">K-5427-2015</a>,\n",
       " <a class=\"link\" href=\"https://www.scopus.com/authid/detail.uri?partnerID=HzOxMe3b&amp;authorId=57192297326&amp;origin=inward\" rel=\"nofollow\">57192297326</a>]"
      ]
     },
     "execution_count": 214,
     "metadata": {},
     "output_type": "execute_result"
    }
   ],
   "source": [
    "some_links = soup.find_all('dl', {'class': 'main-list person-extra-indent'})[0].find_all('a', {'class': 'link'})[:4]\n",
    "some_links"
   ]
  },
  {
   "cell_type": "code",
   "execution_count": 216,
   "id": "e776d52e",
   "metadata": {},
   "outputs": [
    {
     "data": {
      "text/plain": [
       "['https://elibrary.ru/author_profile.asp?authorid=809751',\n",
       " 'https://orcid.org/0000-0002-0968-6868',\n",
       " 'https://www.webofscience.com/wos/author/rid/K-5427-2015',\n",
       " 'https://www.scopus.com/authid/detail.uri?partnerID=HzOxMe3b&authorId=57192297326&origin=inward']"
      ]
     },
     "execution_count": 216,
     "metadata": {},
     "output_type": "execute_result"
    }
   ],
   "source": [
    "some_links = [i.get('href') for i in some_links] # преобразуем\n",
    "some_links"
   ]
  },
  {
   "cell_type": "code",
   "execution_count": 220,
   "id": "93db334b",
   "metadata": {},
   "outputs": [
    {
     "data": {
      "text/plain": [
       "['SPIN РИНЦ', 'ORCID', 'ResearcherID', 'Scopus AuthorID']"
      ]
     },
     "execution_count": 220,
     "metadata": {},
     "output_type": "execute_result"
    }
   ],
   "source": [
    "some_names = soup.find_all('dl', {'class': 'main-list person-extra-indent'})[0].find_all('span')\n",
    "some_names = [i.text for i in some_names]\n",
    "some_names"
   ]
  },
  {
   "cell_type": "markdown",
   "id": "c116395d",
   "metadata": {},
   "source": [
    "Воспользуемся здесь генератором словарей. Они работают идентично генераторам списков:"
   ]
  },
  {
   "cell_type": "code",
   "execution_count": 221,
   "id": "94295afc",
   "metadata": {},
   "outputs": [
    {
     "data": {
      "text/plain": [
       "{'SPIN РИНЦ': 'https://elibrary.ru/author_profile.asp?authorid=809751',\n",
       " 'ORCID': 'https://orcid.org/0000-0002-0968-6868',\n",
       " 'ResearcherID': 'https://www.webofscience.com/wos/author/rid/K-5427-2015',\n",
       " 'Scopus AuthorID': 'https://www.scopus.com/authid/detail.uri?partnerID=HzOxMe3b&authorId=57192297326&origin=inward'}"
      ]
     },
     "execution_count": 221,
     "metadata": {},
     "output_type": "execute_result"
    }
   ],
   "source": [
    "author_dict = {some_names[i]:some_links[i] for i in range(len(some_names))}\n",
    "author_dict"
   ]
  },
  {
   "cell_type": "code",
   "execution_count": null,
   "id": "44111190",
   "metadata": {},
   "outputs": [],
   "source": [
    "# базовый синтаксис\n",
    "{k:v for key, value in ...} # ключ : значение for ключ, значение in <какая-то последовательность>"
   ]
  },
  {
   "cell_type": "code",
   "execution_count": 222,
   "id": "b52f5d55",
   "metadata": {},
   "outputs": [
    {
     "data": {
      "text/plain": [
       "{1: 1, 2: 4, 3: 9, 4: 16, 5: 25, 6: 36, 7: 49, 8: 64, 9: 81}"
      ]
     },
     "execution_count": 222,
     "metadata": {},
     "output_type": "execute_result"
    }
   ],
   "source": [
    "# пара примеров\n",
    "{i:i**2 for i in range(1, 10)} # ключ - число; значение - его квадрат, для чисел от 1 до 9 включительно"
   ]
  },
  {
   "cell_type": "markdown",
   "id": "5bb84fbb",
   "metadata": {},
   "source": [
    "<center><b><font size=4>Задача №9</font></b></center>\n",
    "\n",
    "Раз уж мы с вами заговорили про словари, давайте вернемся и обсудим методы словарей. Сделаем это с помощью задачки.\n",
    "\n",
    "Ранее мы уже работали со списком `courses_tags`: сюда сохранена разметка html, в которой содержится информация о курсах, которые когда-либо вел Илья Михайлович.\n",
    "\n",
    "**Напишите программу, которая преобразует все значения из списка `courses_tag` в строки, и подсчитайте с помощью цикла и словаря, сколько раз Илья Михайлович преподавал тот или иной курс**\n",
    "\n",
    "*Подсказки:*\n",
    "* Ключи в словаре являются уникальными;\n",
    "* Словари создаются с помощью записи `{}` или функции `dict()`;\n",
    "* Обновлять значение словарей можно с помощью метода `.get()` или просто делая логические проверки на присутствие там определенного ключа."
   ]
  },
  {
   "cell_type": "code",
   "execution_count": 223,
   "id": "a4c7f77d",
   "metadata": {},
   "outputs": [
    {
     "data": {
      "text/plain": [
       "[<a class=\"link\" href=\"https://www.hse.ru/edu/courses/835244676\">Большие идеи в политике: актуальность несовременного</a>,\n",
       " <a class=\"link\" href=\"https://www.hse.ru/edu/courses/835137696\">41.03.04. Политология\"</a>,\n",
       " <a class=\"link\" href=\"https://www.hse.ru/edu/courses/838221925\">01.03.02. Прикладная математика и информатика\"</a>,\n",
       " <a class=\"link\" href=\"https://www.hse.ru/edu/courses/835156111\">41.03.04. Политология\"</a>,\n",
       " <a class=\"link\" href=\"https://www.hse.ru/edu/courses/838234400\">01.03.02. Прикладная математика и информатика\"</a>,\n",
       " <a class=\"link\" href=\"https://www.hse.ru/edu/courses/835157058\">Научно-исследовательский семинар</a>,\n",
       " <a class=\"link\" href=\"https://www.hse.ru/edu/courses/835163690\">Research Seminar: Research Design</a>,\n",
       " <a class=\"link\" href=\"https://www.hse.ru/edu/courses/835155743\">Современная политика</a>,\n",
       " <a class=\"link\" href=\"https://www.hse.ru/edu/courses/570846634\">Большие идеи в политике: актуальность несовременного</a>,\n",
       " <a class=\"link\" href=\"https://www.hse.ru/edu/courses/646480491\">41.03.04. Политология\"</a>,\n",
       " <a class=\"link\" href=\"https://www.hse.ru/edu/courses/749554398\">01.03.02. Прикладная математика и информатика\"</a>,\n",
       " <a class=\"link\" href=\"https://www.hse.ru/edu/courses/749554406\">01.03.02. Прикладная математика и информатика\"</a>,\n",
       " <a class=\"link\" href=\"https://www.hse.ru/edu/courses/646508786\">41.03.04. Политология\"</a>,\n",
       " <a class=\"link\" href=\"https://www.hse.ru/edu/courses/749634471\">01.03.02. Прикладная математика и информатика\"</a>,\n",
       " <a class=\"link\" href=\"https://www.hse.ru/edu/courses/646524826\">Научно-исследовательский семинар</a>,\n",
       " <a class=\"link\" href=\"https://www.hse.ru/edu/courses/646515897\">Research Seminar: Research Design</a>,\n",
       " <a class=\"link\" href=\"https://www.hse.ru/edu/courses/450828594\">Большие идеи в политике: актуальность несовременного</a>,\n",
       " <a class=\"link\" href=\"https://www.hse.ru/edu/courses/450810135\">Введение в современную политическую науку</a>,\n",
       " <a class=\"link\" href=\"https://www.hse.ru/edu/courses/470895492\">История политических учений</a>,\n",
       " <a class=\"link\" href=\"https://www.hse.ru/edu/courses/470888070\">Категории политической науки</a>,\n",
       " <a class=\"link\" href=\"https://www.hse.ru/edu/courses/504360197\">Research Seminar: Research Design</a>,\n",
       " <a class=\"link\" href=\"https://www.hse.ru/edu/courses/504360205\">Research Seminar: Research Design</a>,\n",
       " <a class=\"link\" href=\"https://www.hse.ru/edu/courses/492551925\">Большие идеи в политике: актуальность несовременного</a>,\n",
       " <a class=\"link\" href=\"https://www.hse.ru/edu/courses/384739118\">История политических учений</a>,\n",
       " <a class=\"link\" href=\"https://www.hse.ru/edu/courses/384734242\">Категории политической науки</a>,\n",
       " <a class=\"link\" href=\"https://www.hse.ru/edu/courses/375286182\">Model Thinking</a>,\n",
       " <a class=\"link\" href=\"https://www.hse.ru/edu/courses/343710723\">Большие идеи в политике: актуальность несовременного</a>,\n",
       " <a class=\"link\" href=\"https://www.hse.ru/edu/courses/343711658\">Большие идеи в политике: актуальность несовременного</a>,\n",
       " <a class=\"link\" href=\"https://www.hse.ru/edu/courses/296793341\">История политических учений</a>,\n",
       " <a class=\"link\" href=\"https://www.hse.ru/edu/courses/292662119\">Категории политической науки</a>,\n",
       " <a class=\"link\" href=\"https://www.hse.ru/edu/courses/296788720\">Категории политической науки</a>,\n",
       " <a class=\"link\" href=\"https://www.hse.ru/edu/courses/420690929\">Большие идеи в политике: актуальность несовременного</a>,\n",
       " <a class=\"link\" href=\"https://www.hse.ru/edu/courses/219869833\">История политических учений</a>,\n",
       " <a class=\"link\" href=\"https://www.hse.ru/edu/courses/219861606\">Категории политической науки</a>,\n",
       " <a class=\"link\" href=\"https://www.hse.ru/edu/courses/205511203\">История политических учений</a>,\n",
       " <a class=\"link\" href=\"https://www.hse.ru/edu/courses/205504796\">Категории политической науки</a>]"
      ]
     },
     "execution_count": 223,
     "metadata": {},
     "output_type": "execute_result"
    }
   ],
   "source": [
    "courses_tags = [i for i in soup.find_all('a') if i.get('href') != None and 'edu/courses' in i.get('href')]\n",
    "\n",
    "courses_tags"
   ]
  },
  {
   "cell_type": "code",
   "execution_count": 15,
   "id": "4f3af633",
   "metadata": {},
   "outputs": [
    {
     "name": "stdout",
     "output_type": "stream",
     "text": [
      "{'Большие идеи в политике: актуальность несовременного': 7, '41.03.04. Политология\"': 4, '01.03.02. Прикладная математика и информатика\"': 5, 'Научно-исследовательский семинар': 2, 'Research Seminar: Research Design': 4, 'Современная политика': 1, 'Введение в современную политическую науку': 1, 'История политических учений': 5, 'Категории политической науки': 6, 'Model Thinking': 1}\n"
     ]
    }
   ],
   "source": [
    "my_dict = {}\n",
    "\n",
    "for i in courses_tags:\n",
    "    my_dict[i.text] = my_dict.get(i.text, 0) + 1\n",
    "    \n",
    "print(my_dict)"
   ]
  },
  {
   "cell_type": "markdown",
   "id": "b9872f56",
   "metadata": {},
   "source": [
    "<center><b><font size=4>Задача №10</font></b></center>\n",
    "\n",
    "Осмотрите данные в `soup` и на странице [Ильи Михайловича](https://www.hse.ru/org/persons/14276397), [Анастасии Анатольевны](https://www.hse.ru/org/persons/25922100), [Игоря Борисовича](https://www.hse.ru/org/persons/67220). \n",
    "\n",
    "**Какие еще данные можно извлечь и обработать?** Выберите одну переменную, которую вы хотели бы научиться обрабатывать, и напишите код, который извлечет и обработает эту переменную.\n",
    "\n",
    "**Напоминание:** если вы хотите извлечь html-разметку со страницы Анастасии Анатольевны или Игоря Борисовича, вам нужно сделать запрос к этой ссылке с помощью `requests.get()` и обработать html с помощью функции `BeautifulSoup()`.\n",
    "\n",
    "\n",
    "**Напоминаю вам о том, что у нас есть список дополнительных переменных**. Можете выбрать какую-то переменную отсюда:\n",
    "1. Места работы в НИУ ВШЭ;\n",
    "2. Должности на местах работы;\n",
    "3. Количество публикаций преподавателя;\n",
    "4. Количество новостей на сайте Вышки с преподавателем;\n",
    "5. Названия курсов, которые он преподает;\n",
    "6. ID в наукометрических системах:\n",
    "    * Google Scholar;\n",
    "    * SPIN РИНЦ;\n",
    "    * ORCID;\n",
    "    * ResearcherID;\n",
    "    * Scopus Author ID\n",
    "7. Является ли участником программы кадрового резерва;\n",
    "8. Получал ли надбавку за академическую работу;\n",
    "9. Являлся ли победителем конкурса лучших научных работ сотрудников НИУ ВШЭ;\n",
    "10. Проекты на ярмарке проектов:\n",
    "    * Руководил ли хотя бы 1 проектом или нет;\n",
    "    * Число проектов под руководством преподавателя;\n",
    "11. Информация об опыте работы;\n",
    "12. Контакты, адрес работы;\n",
    "13. Часы присутствия и/или время консультаций."
   ]
  },
  {
   "cell_type": "code",
   "execution_count": null,
   "id": "1bd0cd08",
   "metadata": {},
   "outputs": [],
   "source": [
    "# YOUR CODE HERE"
   ]
  },
  {
   "cell_type": "markdown",
   "id": "d17a401e",
   "metadata": {},
   "source": [
    "## Этап 2.2 Собираем данные о преподавателях в цикле <a name=\"par2\"></a>\n",
    "\n",
    "**Давайте соберем базовую функцию для сбора данных**.\n",
    "\n",
    "Лучше всего собирать базовую функцию для сбора данных с одной страницы конкретного типа после того, как вы разобрали на нескольких примерах какие данные можете получить и с какими можете работать. \n",
    "\n",
    "**Напишем функцию `get_person_data(link)` которая будет принимать на вход ссылку на страницу сотрудника Вышки и возвращать по нему базовую информацию в виде `pandas.DataFrame`**.\n",
    "\n",
    "Она может выглядеть как-то так:"
   ]
  },
  {
   "cell_type": "code",
   "execution_count": null,
   "id": "6274c58b",
   "metadata": {},
   "outputs": [],
   "source": [
    "def get_person_data(link):\n",
    "    # 1. Отправляете запрос к веб-серверу по ссылке и сохраняете html в переменную\n",
    "    html = requests.get(link) # делаем запрос по ссылке;\n",
    "    soup = BeautifulSoup(html.text) # обрабатываем html.\n",
    "    \n",
    "    # 2. Процесс сбора данных \n",
    "    # здесь можно будет использовать те куски кода, которые мы написали выше\n",
    "    \n",
    "    # 3. Сбор датафрейма по одному конкретному сотруднику НИУ ВШЭ\n",
    "    one_person_df = pd.DataFrame()\n",
    "    \n",
    "    # 4. Окончание функции, возвращение значений - то есть, pandas.DataFrame\n",
    "    return one_person_df"
   ]
  },
  {
   "cell_type": "markdown",
   "id": "d9f43ffc",
   "metadata": {},
   "source": [
    "Теперь давайте наполним эту функциями кусочками кода, которые мы написали выше:"
   ]
  },
  {
   "cell_type": "code",
   "execution_count": 254,
   "id": "64236d21",
   "metadata": {},
   "outputs": [],
   "source": [
    "def get_person_data(link):\n",
    "    # 1. Отправляете запрос к веб-серверу по ссылке и сохраняете html в переменную\n",
    "    html = requests.get(link) # делаем запрос по ссылке;\n",
    "    soup = BeautifulSoup(html.text) # обрабатываем html.\n",
    "    \n",
    "    # 2. Процесс сбора данных \n",
    "    # здесь можно будет использовать те куски кода, которые мы написали выше\n",
    "    ## 2.1 ФИО преподавателя:\n",
    "    name = soup.find_all('h1')[0].text\n",
    "    \n",
    "    ## 2.2 Образование:\n",
    "    is_bachelor = get_is_bachelor(soup)\n",
    "    is_master = get_is_master(soup)\n",
    "    is_candidat = get_is_candidat(soup)\n",
    "    \n",
    "    ## 2.3 Год старта работы в Вышке:\n",
    "    year_start_in_hse = int(soup.find_all('li', {'class': 'i'})[0].text.strip('.').split()[-2])\n",
    "    \n",
    "    ## 2.4 Строка с профессиональными интересами:\n",
    "    interests_list = [i.text for i in soup.find_all('div', {'class': 'b-person-data__inner b-person-data__tags'})[0]]\n",
    "    interests_string = ', '.join(interests_list)\n",
    "    \n",
    "    ## 2.5 Сколько раз преподаватель получал статус \"лучшего преподавателя\"\n",
    "    all_links_href = [i.get('href') for i in soup.find_all('a')]\n",
    "    n_of_best = all_links_href.count('/best')\n",
    "    \n",
    "    ## 2.6 Иностранные языки, которые знает преподаватель:\n",
    "    languages = [i.text.lower().split()[0] for i in soup.find_all('dd') if str(i.text).split()[0].endswith('ий') or str(i.text).split()[0].endswith('и')]\n",
    "    languages = ', '.join(languages)\n",
    "    \n",
    "    ## 2.7 Число иностранных языков:\n",
    "    n_languages = len(languages.split(', '))\n",
    "    \n",
    "    ## 2.8 Ссылка\n",
    "    link = link\n",
    "    \n",
    "    ## 2.9 Дополнительная информация:\n",
    "    ### 2.9.1 Число публикаций\n",
    "    n_of_publications = len([i.text for i in soup.find_all('div', {'class': 'large'})]) # число публикаций\n",
    "    \n",
    "    ### 2.9.2 Уникальные курсы, которые ведет преподаватель\n",
    "    courses_tags = [i for i in soup.find_all('a') if i.get('href') != None and 'edu/courses' in i.get('href')]\n",
    "    unique_courses = [i.text for i in courses_tags if i.text[0].isdigit() == False]\n",
    "    unique_courses = sorted(set(unique_courses))\n",
    "    unique_courses = ', '.join(unique_courses)\n",
    "    ### 2.9.3 Число уникальных курсов, которые ведет преподаватель\n",
    "    n_unique_courses = len(unique_courses.split(', '))\n",
    "    \n",
    "    # 3. Сбор датафрейма\n",
    "    ## 3.1 Собираем датафрейм: сперва как бы создаем список, а внутри перечисляем переменные\n",
    "    one_person_df = pd.DataFrame([name, is_bachelor, is_master, is_candidat,\n",
    "                                  year_start_in_hse, interests_string, n_of_best, \n",
    "                                  languages, n_languages, n_of_publications, n_unique_courses, unique_courses, link])\n",
    "    \n",
    "    ## 3.2 Переворачиваем датафрейм, чтобы он был в правильном - горизонтальном - положении;\n",
    "    one_person_df = one_person_df.transpose()\n",
    "    \n",
    "    ## 3.3 Присваиваем названия колонкам датафрейма\n",
    "    one_person_df.columns = ['name', 'is_bachelor', 'is_master', 'is_candidat', 'year_start_in_hse', 'interests', 'n_of_best', \n",
    "                             'languages', 'n_languages', 'n_of_publications', 'n_unique_courses', 'unique_courses', \n",
    "                             'link']\n",
    "    # 4. Окончание функции и возвращение значений\n",
    "    return one_person_df ## возвращаем pandas.DataFrame с информацией о преподавателе\n"
   ]
  },
  {
   "cell_type": "code",
   "execution_count": 255,
   "id": "db4c3856",
   "metadata": {},
   "outputs": [
    {
     "data": {
      "text/html": [
       "<div>\n",
       "<style scoped>\n",
       "    .dataframe tbody tr th:only-of-type {\n",
       "        vertical-align: middle;\n",
       "    }\n",
       "\n",
       "    .dataframe tbody tr th {\n",
       "        vertical-align: top;\n",
       "    }\n",
       "\n",
       "    .dataframe thead th {\n",
       "        text-align: right;\n",
       "    }\n",
       "</style>\n",
       "<table border=\"1\" class=\"dataframe\">\n",
       "  <thead>\n",
       "    <tr style=\"text-align: right;\">\n",
       "      <th></th>\n",
       "      <th>name</th>\n",
       "      <th>is_bachelor</th>\n",
       "      <th>is_master</th>\n",
       "      <th>is_candidat</th>\n",
       "      <th>year_start_in_hse</th>\n",
       "      <th>interests</th>\n",
       "      <th>n_of_best</th>\n",
       "      <th>languages</th>\n",
       "      <th>n_languages</th>\n",
       "      <th>n_of_publications</th>\n",
       "      <th>n_unique_courses</th>\n",
       "      <th>unique_courses</th>\n",
       "      <th>link</th>\n",
       "    </tr>\n",
       "  </thead>\n",
       "  <tbody>\n",
       "    <tr>\n",
       "      <th>0</th>\n",
       "      <td>Локшин Илья Михайлович</td>\n",
       "      <td>1</td>\n",
       "      <td>1</td>\n",
       "      <td>1</td>\n",
       "      <td>2011</td>\n",
       "      <td>Новая политическая экономия, политические режи...</td>\n",
       "      <td>12</td>\n",
       "      <td>английский, немецкий, французский, латинский, ...</td>\n",
       "      <td>6</td>\n",
       "      <td>27</td>\n",
       "      <td>8</td>\n",
       "      <td>Model Thinking, Research Seminar: Research Des...</td>\n",
       "      <td>https://www.hse.ru/org/persons/14276397</td>\n",
       "    </tr>\n",
       "  </tbody>\n",
       "</table>\n",
       "</div>"
      ],
      "text/plain": [
       "                     name is_bachelor is_master is_candidat year_start_in_hse   \n",
       "0  Локшин Илья Михайлович           1         1           1              2011  \\\n",
       "\n",
       "                                           interests n_of_best   \n",
       "0  Новая политическая экономия, политические режи...        12  \\\n",
       "\n",
       "                                           languages n_languages   \n",
       "0  английский, немецкий, французский, латинский, ...           6  \\\n",
       "\n",
       "  n_of_publications n_unique_courses   \n",
       "0                27                8  \\\n",
       "\n",
       "                                      unique_courses   \n",
       "0  Model Thinking, Research Seminar: Research Des...  \\\n",
       "\n",
       "                                      link  \n",
       "0  https://www.hse.ru/org/persons/14276397  "
      ]
     },
     "execution_count": 255,
     "metadata": {},
     "output_type": "execute_result"
    }
   ],
   "source": [
    "get_person_data('https://www.hse.ru/org/persons/14276397') # тестируем"
   ]
  },
  {
   "cell_type": "markdown",
   "id": "816a1e70",
   "metadata": {},
   "source": [
    "### Тестируем наш код на примерах:\n",
    "\n",
    "Лучше всего перед началом работы протестировать код на нескольких похожих страницах. Например:"
   ]
  },
  {
   "cell_type": "code",
   "execution_count": 244,
   "id": "772d9c2c",
   "metadata": {
    "scrolled": true
   },
   "outputs": [
    {
     "data": {
      "text/html": [
       "<div>\n",
       "<style scoped>\n",
       "    .dataframe tbody tr th:only-of-type {\n",
       "        vertical-align: middle;\n",
       "    }\n",
       "\n",
       "    .dataframe tbody tr th {\n",
       "        vertical-align: top;\n",
       "    }\n",
       "\n",
       "    .dataframe thead th {\n",
       "        text-align: right;\n",
       "    }\n",
       "</style>\n",
       "<table border=\"1\" class=\"dataframe\">\n",
       "  <thead>\n",
       "    <tr style=\"text-align: right;\">\n",
       "      <th></th>\n",
       "      <th>name</th>\n",
       "      <th>is_bachelor</th>\n",
       "      <th>is_master</th>\n",
       "      <th>is_candidat</th>\n",
       "      <th>year_start_in_hse</th>\n",
       "      <th>interests</th>\n",
       "      <th>n_of_best</th>\n",
       "      <th>languages</th>\n",
       "      <th>n_languages</th>\n",
       "      <th>n_of_publications</th>\n",
       "      <th>n_unique_courses</th>\n",
       "      <th>unique_courses</th>\n",
       "      <th>link</th>\n",
       "    </tr>\n",
       "  </thead>\n",
       "  <tbody>\n",
       "    <tr>\n",
       "      <th>0</th>\n",
       "      <td>Порецкова Анастасия Анатольевна</td>\n",
       "      <td>1</td>\n",
       "      <td>1</td>\n",
       "      <td>1</td>\n",
       "      <td>2013</td>\n",
       "      <td>политическая теория, политическая пропаганда, ...</td>\n",
       "      <td>9</td>\n",
       "      <td>английский</td>\n",
       "      <td>1</td>\n",
       "      <td>21</td>\n",
       "      <td>12</td>\n",
       "      <td>Modern Political Science, Political Science, P...</td>\n",
       "      <td>https://www.hse.ru/org/persons/25922100</td>\n",
       "    </tr>\n",
       "  </tbody>\n",
       "</table>\n",
       "</div>"
      ],
      "text/plain": [
       "                              name is_bachelor is_master is_candidat   \n",
       "0  Порецкова Анастасия Анатольевна           1         1           1  \\\n",
       "\n",
       "  year_start_in_hse                                          interests   \n",
       "0              2013  политическая теория, политическая пропаганда, ...  \\\n",
       "\n",
       "  n_of_best   languages n_languages n_of_publications n_unique_courses   \n",
       "0         9  английский           1                21               12  \\\n",
       "\n",
       "                                      unique_courses   \n",
       "0  Modern Political Science, Political Science, P...  \\\n",
       "\n",
       "                                      link  \n",
       "0  https://www.hse.ru/org/persons/25922100  "
      ]
     },
     "execution_count": 244,
     "metadata": {},
     "output_type": "execute_result"
    }
   ],
   "source": [
    "get_person_data('https://www.hse.ru/org/persons/25922100')"
   ]
  },
  {
   "cell_type": "code",
   "execution_count": 245,
   "id": "f04956fd",
   "metadata": {},
   "outputs": [
    {
     "data": {
      "text/html": [
       "<div>\n",
       "<style scoped>\n",
       "    .dataframe tbody tr th:only-of-type {\n",
       "        vertical-align: middle;\n",
       "    }\n",
       "\n",
       "    .dataframe tbody tr th {\n",
       "        vertical-align: top;\n",
       "    }\n",
       "\n",
       "    .dataframe thead th {\n",
       "        text-align: right;\n",
       "    }\n",
       "</style>\n",
       "<table border=\"1\" class=\"dataframe\">\n",
       "  <thead>\n",
       "    <tr style=\"text-align: right;\">\n",
       "      <th></th>\n",
       "      <th>name</th>\n",
       "      <th>is_bachelor</th>\n",
       "      <th>is_master</th>\n",
       "      <th>is_candidat</th>\n",
       "      <th>year_start_in_hse</th>\n",
       "      <th>interests</th>\n",
       "      <th>n_of_best</th>\n",
       "      <th>languages</th>\n",
       "      <th>n_languages</th>\n",
       "      <th>n_of_publications</th>\n",
       "      <th>n_unique_courses</th>\n",
       "      <th>unique_courses</th>\n",
       "      <th>link</th>\n",
       "    </tr>\n",
       "  </thead>\n",
       "  <tbody>\n",
       "    <tr>\n",
       "      <th>0</th>\n",
       "      <td>Орлов Игорь Борисович</td>\n",
       "      <td>0</td>\n",
       "      <td>0</td>\n",
       "      <td>0</td>\n",
       "      <td>2002</td>\n",
       "      <td>03.01.07 Методология и методы исследования ист...</td>\n",
       "      <td>6</td>\n",
       "      <td>английский</td>\n",
       "      <td>1</td>\n",
       "      <td>150</td>\n",
       "      <td>4</td>\n",
       "      <td>История России новейшего времени, Научно-иссле...</td>\n",
       "      <td>https://www.hse.ru/org/persons/67220</td>\n",
       "    </tr>\n",
       "  </tbody>\n",
       "</table>\n",
       "</div>"
      ],
      "text/plain": [
       "                    name is_bachelor is_master is_candidat year_start_in_hse   \n",
       "0  Орлов Игорь Борисович           0         0           0              2002  \\\n",
       "\n",
       "                                           interests n_of_best   languages   \n",
       "0  03.01.07 Методология и методы исследования ист...         6  английский  \\\n",
       "\n",
       "  n_languages n_of_publications n_unique_courses   \n",
       "0           1               150                4  \\\n",
       "\n",
       "                                      unique_courses   \n",
       "0  История России новейшего времени, Научно-иссле...  \\\n",
       "\n",
       "                                   link  \n",
       "0  https://www.hse.ru/org/persons/67220  "
      ]
     },
     "execution_count": 245,
     "metadata": {},
     "output_type": "execute_result"
    }
   ],
   "source": [
    "get_person_data('https://www.hse.ru/org/persons/67220')"
   ]
  },
  {
   "cell_type": "markdown",
   "id": "b406630b",
   "metadata": {},
   "source": [
    "Тут мы вспомним еще один модуль - модуль `tqdm`. Мы будем использовать из него ровно одну функцию - `tqdm.tqdm()`, и он поможет нам видеть прогресс-бар сбора данных."
   ]
  },
  {
   "cell_type": "code",
   "execution_count": 246,
   "id": "f3d38d11",
   "metadata": {},
   "outputs": [],
   "source": [
    "import tqdm"
   ]
  },
  {
   "cell_type": "markdown",
   "id": "144d8eb4",
   "metadata": {},
   "source": [
    "**А теперь давайте попытаемся собрать наш датафрейм.**"
   ]
  },
  {
   "cell_type": "markdown",
   "id": "32b7e199",
   "metadata": {},
   "source": [
    "Сперва прочитаем ссылки из файла `links_political_science_bachelor_tutors.txt`:"
   ]
  },
  {
   "cell_type": "code",
   "execution_count": 250,
   "id": "56ca6750",
   "metadata": {},
   "outputs": [
    {
     "data": {
      "text/html": [
       "<div>\n",
       "<style scoped>\n",
       "    .dataframe tbody tr th:only-of-type {\n",
       "        vertical-align: middle;\n",
       "    }\n",
       "\n",
       "    .dataframe tbody tr th {\n",
       "        vertical-align: top;\n",
       "    }\n",
       "\n",
       "    .dataframe thead th {\n",
       "        text-align: right;\n",
       "    }\n",
       "</style>\n",
       "<table border=\"1\" class=\"dataframe\">\n",
       "  <thead>\n",
       "    <tr style=\"text-align: right;\">\n",
       "      <th></th>\n",
       "      <th>0</th>\n",
       "    </tr>\n",
       "  </thead>\n",
       "  <tbody>\n",
       "    <tr>\n",
       "      <th>0</th>\n",
       "      <td>https://www.hse.ru/mirror/org/persons/redir/30...</td>\n",
       "    </tr>\n",
       "    <tr>\n",
       "      <th>1</th>\n",
       "      <td>https://www.hse.ru/mirror/org/persons/redir/22...</td>\n",
       "    </tr>\n",
       "    <tr>\n",
       "      <th>2</th>\n",
       "      <td>https://www.hse.ru/mirror/org/persons/redir/61...</td>\n",
       "    </tr>\n",
       "    <tr>\n",
       "      <th>3</th>\n",
       "      <td>https://www.hse.ru/mirror/org/persons/redir/20...</td>\n",
       "    </tr>\n",
       "    <tr>\n",
       "      <th>4</th>\n",
       "      <td>https://www.hse.ru/mirror/org/persons/redir/93...</td>\n",
       "    </tr>\n",
       "    <tr>\n",
       "      <th>...</th>\n",
       "      <td>...</td>\n",
       "    </tr>\n",
       "    <tr>\n",
       "      <th>99</th>\n",
       "      <td>https://www.hse.ru/mirror/org/persons/redir/19...</td>\n",
       "    </tr>\n",
       "    <tr>\n",
       "      <th>100</th>\n",
       "      <td>https://www.hse.ru/mirror/org/persons/redir/20...</td>\n",
       "    </tr>\n",
       "    <tr>\n",
       "      <th>101</th>\n",
       "      <td>https://www.hse.ru/mirror/org/persons/redir/46...</td>\n",
       "    </tr>\n",
       "    <tr>\n",
       "      <th>102</th>\n",
       "      <td>https://www.hse.ru/mirror/org/persons/redir/31...</td>\n",
       "    </tr>\n",
       "    <tr>\n",
       "      <th>103</th>\n",
       "      <td>https://www.hse.ru/mirror/org/persons/redir/22...</td>\n",
       "    </tr>\n",
       "  </tbody>\n",
       "</table>\n",
       "<p>104 rows × 1 columns</p>\n",
       "</div>"
      ],
      "text/plain": [
       "                                                     0\n",
       "0    https://www.hse.ru/mirror/org/persons/redir/30...\n",
       "1    https://www.hse.ru/mirror/org/persons/redir/22...\n",
       "2    https://www.hse.ru/mirror/org/persons/redir/61...\n",
       "3    https://www.hse.ru/mirror/org/persons/redir/20...\n",
       "4    https://www.hse.ru/mirror/org/persons/redir/93...\n",
       "..                                                 ...\n",
       "99   https://www.hse.ru/mirror/org/persons/redir/19...\n",
       "100  https://www.hse.ru/mirror/org/persons/redir/20...\n",
       "101  https://www.hse.ru/mirror/org/persons/redir/46...\n",
       "102  https://www.hse.ru/mirror/org/persons/redir/31...\n",
       "103  https://www.hse.ru/mirror/org/persons/redir/22...\n",
       "\n",
       "[104 rows x 1 columns]"
      ]
     },
     "execution_count": 250,
     "metadata": {},
     "output_type": "execute_result"
    }
   ],
   "source": [
    "links = pd.read_csv('links_political_science_bachelor_tutors.txt') # в скобках - абсолютный путь к файлу или частичный\n",
    "links"
   ]
  },
  {
   "cell_type": "markdown",
   "id": "fb25c9e4",
   "metadata": {},
   "source": [
    "Вы также можете использовать метод `.tolist()`, чтобы преобразовать колонку `pandas.DataFrame` в список. Например:"
   ]
  },
  {
   "cell_type": "code",
   "execution_count": 251,
   "id": "be08dccc",
   "metadata": {},
   "outputs": [
    {
     "data": {
      "text/plain": [
       "['https://www.hse.ru/mirror/org/persons/redir/305053833?pl=',\n",
       " 'https://www.hse.ru/mirror/org/persons/redir/223725168?pl=',\n",
       " 'https://www.hse.ru/mirror/org/persons/redir/61713365?pl=',\n",
       " 'https://www.hse.ru/mirror/org/persons/redir/209638517?pl=',\n",
       " 'https://www.hse.ru/mirror/org/persons/redir/93759602?pl=',\n",
       " 'https://www.hse.ru/mirror/org/persons/redir/137284738?pl=',\n",
       " 'https://www.hse.ru/mirror/org/persons/redir/224906215?pl=',\n",
       " 'https://www.hse.ru/mirror/org/persons/redir/160957135?pl=',\n",
       " 'https://www.hse.ru/mirror/org/persons/redir/95928025?pl=',\n",
       " 'https://www.hse.ru/mirror/org/persons/redir/46695224?pl=']"
      ]
     },
     "execution_count": 251,
     "metadata": {},
     "output_type": "execute_result"
    }
   ],
   "source": [
    "links = links.iloc[: ,0].tolist() # используем метод .tolist()\n",
    "links[:10] # теперь тут находятся ссылки"
   ]
  },
  {
   "cell_type": "markdown",
   "id": "cee0ea10",
   "metadata": {},
   "source": [
    "Запустим наш цикл! Тут надо вспомнить цикл `for`."
   ]
  },
  {
   "cell_type": "code",
   "execution_count": 256,
   "id": "8f0b6808",
   "metadata": {},
   "outputs": [
    {
     "name": "stderr",
     "output_type": "stream",
     "text": [
      " 13%|█████▋                                    | 14/104 [00:33<03:32,  2.36s/it]\n"
     ]
    },
    {
     "ename": "IndexError",
     "evalue": "list index out of range",
     "output_type": "error",
     "traceback": [
      "\u001b[0;31m---------------------------------------------------------------------------\u001b[0m",
      "\u001b[0;31mIndexError\u001b[0m                                Traceback (most recent call last)",
      "\u001b[0;32m/var/folders/lj/_28hw2ts0ys306v1sq_8mxzh0000gn/T/ipykernel_49234/3216890933.py\u001b[0m in \u001b[0;36m<module>\u001b[0;34m\u001b[0m\n\u001b[1;32m      2\u001b[0m \u001b[0;34m\u001b[0m\u001b[0m\n\u001b[1;32m      3\u001b[0m \u001b[0;32mfor\u001b[0m \u001b[0mlink\u001b[0m \u001b[0;32min\u001b[0m \u001b[0mtqdm\u001b[0m\u001b[0;34m.\u001b[0m\u001b[0mtqdm\u001b[0m\u001b[0;34m(\u001b[0m\u001b[0mlinks\u001b[0m\u001b[0;34m)\u001b[0m\u001b[0;34m:\u001b[0m \u001b[0;31m# идем по нашим ссылкам\u001b[0m\u001b[0;34m\u001b[0m\u001b[0;34m\u001b[0m\u001b[0m\n\u001b[0;32m----> 4\u001b[0;31m     \u001b[0mone_person_data\u001b[0m \u001b[0;34m=\u001b[0m \u001b[0mget_person_data\u001b[0m\u001b[0;34m(\u001b[0m\u001b[0mlink\u001b[0m\u001b[0;34m)\u001b[0m \u001b[0;31m# в каждой итерации кода сохраняем в one_person_data один pandas.DataFrame\u001b[0m\u001b[0;34m\u001b[0m\u001b[0;34m\u001b[0m\u001b[0m\n\u001b[0m\u001b[1;32m      5\u001b[0m     \u001b[0mdf\u001b[0m \u001b[0;34m=\u001b[0m \u001b[0mpd\u001b[0m\u001b[0;34m.\u001b[0m\u001b[0mconcat\u001b[0m\u001b[0;34m(\u001b[0m\u001b[0;34m[\u001b[0m\u001b[0mdf\u001b[0m\u001b[0;34m,\u001b[0m \u001b[0mone_person_data\u001b[0m\u001b[0;34m]\u001b[0m\u001b[0;34m,\u001b[0m \u001b[0mignore_index\u001b[0m\u001b[0;34m=\u001b[0m\u001b[0;32mTrue\u001b[0m\u001b[0;34m)\u001b[0m \u001b[0;31m# используем метод pd.concat() чтобы склеить несколько dataframes\u001b[0m\u001b[0;34m\u001b[0m\u001b[0;34m\u001b[0m\u001b[0m\n",
      "\u001b[0;32m/var/folders/lj/_28hw2ts0ys306v1sq_8mxzh0000gn/T/ipykernel_49234/2419183920.py\u001b[0m in \u001b[0;36mget_person_data\u001b[0;34m(link)\u001b[0m\n\u001b[1;32m     18\u001b[0m \u001b[0;34m\u001b[0m\u001b[0m\n\u001b[1;32m     19\u001b[0m     \u001b[0;31m## 2.4 Строка с профессиональными интересами:\u001b[0m\u001b[0;34m\u001b[0m\u001b[0;34m\u001b[0m\u001b[0m\n\u001b[0;32m---> 20\u001b[0;31m     \u001b[0minterests_list\u001b[0m \u001b[0;34m=\u001b[0m \u001b[0;34m[\u001b[0m\u001b[0mi\u001b[0m\u001b[0;34m.\u001b[0m\u001b[0mtext\u001b[0m \u001b[0;32mfor\u001b[0m \u001b[0mi\u001b[0m \u001b[0;32min\u001b[0m \u001b[0msoup\u001b[0m\u001b[0;34m.\u001b[0m\u001b[0mfind_all\u001b[0m\u001b[0;34m(\u001b[0m\u001b[0;34m'div'\u001b[0m\u001b[0;34m,\u001b[0m \u001b[0;34m{\u001b[0m\u001b[0;34m'class'\u001b[0m\u001b[0;34m:\u001b[0m \u001b[0;34m'b-person-data__inner b-person-data__tags'\u001b[0m\u001b[0;34m}\u001b[0m\u001b[0;34m)\u001b[0m\u001b[0;34m[\u001b[0m\u001b[0;36m0\u001b[0m\u001b[0;34m]\u001b[0m\u001b[0;34m]\u001b[0m\u001b[0;34m\u001b[0m\u001b[0;34m\u001b[0m\u001b[0m\n\u001b[0m\u001b[1;32m     21\u001b[0m     \u001b[0minterests_string\u001b[0m \u001b[0;34m=\u001b[0m \u001b[0;34m', '\u001b[0m\u001b[0;34m.\u001b[0m\u001b[0mjoin\u001b[0m\u001b[0;34m(\u001b[0m\u001b[0minterests_list\u001b[0m\u001b[0;34m)\u001b[0m\u001b[0;34m\u001b[0m\u001b[0;34m\u001b[0m\u001b[0m\n\u001b[1;32m     22\u001b[0m \u001b[0;34m\u001b[0m\u001b[0m\n",
      "\u001b[0;31mIndexError\u001b[0m: list index out of range"
     ]
    }
   ],
   "source": [
    "df = pd.DataFrame() # создаем пустой датафрейм\n",
    "\n",
    "for link in tqdm.tqdm(links): # идем по нашим ссылкам\n",
    "    one_person_data = get_person_data(link) # в каждой итерации кода сохраняем в one_person_data один pandas.DataFrame\n",
    "    df = pd.concat([df, one_person_data], ignore_index=True) # используем метод pd.concat() чтобы склеить несколько dataframes"
   ]
  },
  {
   "cell_type": "markdown",
   "id": "37d6ab38",
   "metadata": {},
   "source": [
    "Как видите, мы столкнулись с ошибкой. Давайте напишем наш код, чтобы для тех ссылок которые могут быть обработаны корректно, сохранить информацию о преподавателях в датафрейм, а остальные сохраним в отдельный список чтобы их изучить.\n",
    "\n",
    "Для этого мы будем использовать конструкцию `try-except`. Её основное назначение - обход ошибок:"
   ]
  },
  {
   "cell_type": "code",
   "execution_count": 258,
   "id": "2a44ebd9",
   "metadata": {},
   "outputs": [
    {
     "name": "stdout",
     "output_type": "stream",
     "text": [
      "3.0\n"
     ]
    }
   ],
   "source": [
    "# синтаксис:\n",
    "try: # питон, попробуй запустить этот код\n",
    "    print(9 / 3) # напечатай это\n",
    "except: # если столкнешься с ошибкой, не делай то что написано выше, выполни следующий блок кода:\n",
    "    print('не вышло') # напечатай это"
   ]
  },
  {
   "cell_type": "code",
   "execution_count": 259,
   "id": "7522dcac",
   "metadata": {},
   "outputs": [
    {
     "name": "stdout",
     "output_type": "stream",
     "text": [
      "не вышло\n"
     ]
    }
   ],
   "source": [
    "# синтаксис:\n",
    "try: # питон, попробуй запустить этот код\n",
    "    print('s' / 3) # напечатай это\n",
    "except: # если столкнешься с ошибкой, не делай то что написано выше, выполни следующий блок кода:\n",
    "    print('не вышло') # напечатай это"
   ]
  },
  {
   "cell_type": "markdown",
   "id": "6ef7896d",
   "metadata": {},
   "source": [
    "А что, если вы хотите напечатать тип ошибки, с которой столкнулись?"
   ]
  },
  {
   "cell_type": "code",
   "execution_count": 266,
   "id": "eb2a9ca5",
   "metadata": {},
   "outputs": [
    {
     "name": "stdout",
     "output_type": "stream",
     "text": [
      "не вышло\n",
      "unsupported operand type(s) for /: 'str' and 'int'\n"
     ]
    }
   ],
   "source": [
    "# синтаксис:\n",
    "try: # питон, попробуй запустить этот код\n",
    "    print('s' / 3)\n",
    "except Exception as e: # если столкнешься с ошибкой, не делай то что написано выше, выполни следующий блок кода:\n",
    "    print('не вышло') # напечатай это\n",
    "    print(e) # и описание ошибки"
   ]
  },
  {
   "cell_type": "markdown",
   "id": "030c14f5",
   "metadata": {},
   "source": [
    "Почему удобно использовать `try-except` когда вы собираете данные? Потому что вы можете **обойти** ошибку, и ваш код, исполняемый в цикле, не прервется.\n",
    "\n",
    "У этой конструкции ровно одна проблема – даже если код не прервется, вы все равно не соберете данные. Нужно отсматривать где возникают ошибки и переписывать ваши функции..."
   ]
  },
  {
   "cell_type": "code",
   "execution_count": 257,
   "id": "e6880c36",
   "metadata": {},
   "outputs": [
    {
     "name": "stderr",
     "output_type": "stream",
     "text": [
      "100%|█████████████████████████████████████████| 104/104 [03:31<00:00,  2.03s/it]\n"
     ]
    }
   ],
   "source": [
    "df = pd.DataFrame() # создаем пустой датафрейм\n",
    "problem_links = []  # создаем пустой список, куда будем сохранять \"проблемные\" (необработавшиеся) ссылки;\n",
    "\n",
    "for link in tqdm.tqdm(links): # идем по нашим ссылкам\n",
    "    try: # питон, попробуй запустить этот код\n",
    "        one_person_data = get_person_data(link) # в каждой итерации кода сохраняем в one_person_data один pandas.DataFrame\n",
    "        df = pd.concat([df, one_person_data])  # используем метод pd.concat() чтобы склеить несколько dataframes\n",
    "    except: # если столкнешься с ошибкой, не делай то что написано выше, выполни следующий блок кода:\n",
    "         problem_links.append(link) # добавь эту ссылку в problem_links"
   ]
  },
  {
   "cell_type": "markdown",
   "id": "2fb3aae7",
   "metadata": {},
   "source": [
    "Сейчас мы проигнорируем \"проблемные ссылки\", однако, в такой ситуации вы всегда можете посмотреть, какая ошибка возникает при попытке сбора данных с этими ссылками, и отредактировать ваши функции.\n",
    "<p></p>\n",
    "<center><b><font size=4>Задача №1 – Extra</font></b></center>\n",
    "\n",
    "Если вы дошли до этого момента самостоятельно, пока мы разбирались в классе, предлагаю вам потестировать код на этих ссылках и выяснить, где возникает ошибка. Когда вы разберетесь с ошибкой – позовите меня, я подойду и посмотрю, а также продемонстрирую ваш код и прокомментирую изменения для коллег. "
   ]
  },
  {
   "cell_type": "code",
   "execution_count": 260,
   "id": "1480b67a",
   "metadata": {},
   "outputs": [
    {
     "data": {
      "text/plain": [
       "['https://www.hse.ru/mirror/org/persons/redir/223572050?pl=',\n",
       " 'https://www.hse.ru/mirror/org/persons/redir/856269155?pl=',\n",
       " 'https://www.hse.ru/mirror/org/persons/redir/208501738?pl=',\n",
       " 'https://www.hse.ru/mirror/org/persons/redir/873420723?pl=',\n",
       " 'https://www.hse.ru/mirror/org/persons/redir/208509635?pl=',\n",
       " 'https://www.hse.ru/mirror/org/persons/redir/135897?pl=',\n",
       " 'https://www.hse.ru/mirror/org/persons/redir/796745413?pl=',\n",
       " 'https://www.hse.ru/mirror/org/persons/redir/856269176?pl=',\n",
       " 'https://www.hse.ru/mirror/org/persons/redir/46755325?pl=']"
      ]
     },
     "execution_count": 260,
     "metadata": {},
     "output_type": "execute_result"
    }
   ],
   "source": [
    "problem_links # проблемные ссылки"
   ]
  },
  {
   "cell_type": "code",
   "execution_count": 276,
   "id": "6ee44e64",
   "metadata": {},
   "outputs": [
    {
     "data": {
      "text/html": [
       "<div>\n",
       "<style scoped>\n",
       "    .dataframe tbody tr th:only-of-type {\n",
       "        vertical-align: middle;\n",
       "    }\n",
       "\n",
       "    .dataframe tbody tr th {\n",
       "        vertical-align: top;\n",
       "    }\n",
       "\n",
       "    .dataframe thead th {\n",
       "        text-align: right;\n",
       "    }\n",
       "</style>\n",
       "<table border=\"1\" class=\"dataframe\">\n",
       "  <thead>\n",
       "    <tr style=\"text-align: right;\">\n",
       "      <th></th>\n",
       "      <th>Unnamed: 0</th>\n",
       "      <th>name</th>\n",
       "      <th>is_bachelor</th>\n",
       "      <th>is_master</th>\n",
       "      <th>is_candidat</th>\n",
       "      <th>year_start_in_hse</th>\n",
       "      <th>interests</th>\n",
       "      <th>n_of_best</th>\n",
       "      <th>languages</th>\n",
       "      <th>n_languages</th>\n",
       "      <th>n_of_publications</th>\n",
       "      <th>n_unique_courses</th>\n",
       "      <th>unique_courses</th>\n",
       "      <th>link</th>\n",
       "    </tr>\n",
       "  </thead>\n",
       "  <tbody>\n",
       "    <tr>\n",
       "      <th>0</th>\n",
       "      <td>0</td>\n",
       "      <td>Акаева Кавсарат Исламовна</td>\n",
       "      <td>0</td>\n",
       "      <td>1</td>\n",
       "      <td>0</td>\n",
       "      <td>2019</td>\n",
       "      <td>высшее образование, инновации в образовании, ц...</td>\n",
       "      <td>0</td>\n",
       "      <td>английский</td>\n",
       "      <td>1</td>\n",
       "      <td>1</td>\n",
       "      <td>14</td>\n",
       "      <td>Independent Data Science Test. Advanced Level,...</td>\n",
       "      <td>https://www.hse.ru/mirror/org/persons/redir/30...</td>\n",
       "    </tr>\n",
       "    <tr>\n",
       "      <th>1</th>\n",
       "      <td>0</td>\n",
       "      <td>Акоз Кемаль Киванч</td>\n",
       "      <td>1</td>\n",
       "      <td>1</td>\n",
       "      <td>1</td>\n",
       "      <td>2018</td>\n",
       "      <td>Прикладная микроэкономическая теория, политиче...</td>\n",
       "      <td>3</td>\n",
       "      <td>английский, турецкий, пекарский</td>\n",
       "      <td>3</td>\n",
       "      <td>7</td>\n",
       "      <td>9</td>\n",
       "      <td>Contemporary Economics, International Economic...</td>\n",
       "      <td>https://www.hse.ru/mirror/org/persons/redir/22...</td>\n",
       "    </tr>\n",
       "    <tr>\n",
       "      <th>2</th>\n",
       "      <td>0</td>\n",
       "      <td>Арбатли Эким</td>\n",
       "      <td>1</td>\n",
       "      <td>1</td>\n",
       "      <td>1</td>\n",
       "      <td>2012</td>\n",
       "      <td>демократизация, ресурсный национализм, граждан...</td>\n",
       "      <td>3</td>\n",
       "      <td>турецкий, английский, французский, русский</td>\n",
       "      <td>4</td>\n",
       "      <td>15</td>\n",
       "      <td>5</td>\n",
       "      <td>Comparative Politics, Current Trends in Politi...</td>\n",
       "      <td>https://www.hse.ru/mirror/org/persons/redir/61...</td>\n",
       "    </tr>\n",
       "    <tr>\n",
       "      <th>3</th>\n",
       "      <td>0</td>\n",
       "      <td>Баженов Григорий Александрович</td>\n",
       "      <td>0</td>\n",
       "      <td>0</td>\n",
       "      <td>1</td>\n",
       "      <td>2024</td>\n",
       "      <td>всеобщая экономическая история, макроэкономика...</td>\n",
       "      <td>0</td>\n",
       "      <td>английский</td>\n",
       "      <td>1</td>\n",
       "      <td>0</td>\n",
       "      <td>6</td>\n",
       "      <td>Макроэкономика, Макроэкономика (продвинутый ур...</td>\n",
       "      <td>https://www.hse.ru/mirror/org/persons/redir/20...</td>\n",
       "    </tr>\n",
       "    <tr>\n",
       "      <th>4</th>\n",
       "      <td>0</td>\n",
       "      <td>Байссвенгер Мартин Эрвин</td>\n",
       "      <td>0</td>\n",
       "      <td>1</td>\n",
       "      <td>1</td>\n",
       "      <td>2013</td>\n",
       "      <td>русская история, европейская история, интеллек...</td>\n",
       "      <td>7</td>\n",
       "      <td>английский, немецкий, русский, чешский, францу...</td>\n",
       "      <td>6</td>\n",
       "      <td>36</td>\n",
       "      <td>8</td>\n",
       "      <td>Political Projects in the XX Сentury, Politica...</td>\n",
       "      <td>https://www.hse.ru/mirror/org/persons/redir/93...</td>\n",
       "    </tr>\n",
       "    <tr>\n",
       "      <th>...</th>\n",
       "      <td>...</td>\n",
       "      <td>...</td>\n",
       "      <td>...</td>\n",
       "      <td>...</td>\n",
       "      <td>...</td>\n",
       "      <td>...</td>\n",
       "      <td>...</td>\n",
       "      <td>...</td>\n",
       "      <td>...</td>\n",
       "      <td>...</td>\n",
       "      <td>...</td>\n",
       "      <td>...</td>\n",
       "      <td>...</td>\n",
       "      <td>...</td>\n",
       "    </tr>\n",
       "    <tr>\n",
       "      <th>90</th>\n",
       "      <td>0</td>\n",
       "      <td>Чеснаков Алексей Александрович</td>\n",
       "      <td>0</td>\n",
       "      <td>0</td>\n",
       "      <td>1</td>\n",
       "      <td>2019</td>\n",
       "      <td>методология политической науки, Политический а...</td>\n",
       "      <td>0</td>\n",
       "      <td>английский</td>\n",
       "      <td>1</td>\n",
       "      <td>0</td>\n",
       "      <td>4</td>\n",
       "      <td>Политическая экспертиза, Политические исследов...</td>\n",
       "      <td>https://www.hse.ru/mirror/org/persons/redir/30...</td>\n",
       "    </tr>\n",
       "    <tr>\n",
       "      <th>91</th>\n",
       "      <td>0</td>\n",
       "      <td>Шендерович Мария Филипповна</td>\n",
       "      <td>0</td>\n",
       "      <td>0</td>\n",
       "      <td>0</td>\n",
       "      <td>2016</td>\n",
       "      <td>иностранные языки</td>\n",
       "      <td>0</td>\n",
       "      <td>английский</td>\n",
       "      <td>1</td>\n",
       "      <td>0</td>\n",
       "      <td>8</td>\n",
       "      <td>English for General Communication Purposes. In...</td>\n",
       "      <td>https://www.hse.ru/mirror/org/persons/redir/19...</td>\n",
       "    </tr>\n",
       "    <tr>\n",
       "      <th>92</th>\n",
       "      <td>0</td>\n",
       "      <td>Шипи Элиф Аладдиновна</td>\n",
       "      <td>1</td>\n",
       "      <td>1</td>\n",
       "      <td>0</td>\n",
       "      <td>2018</td>\n",
       "      <td>политические коммуникации, медиапотребление, р...</td>\n",
       "      <td>0</td>\n",
       "      <td>английский, турецкий, французский</td>\n",
       "      <td>3</td>\n",
       "      <td>1</td>\n",
       "      <td>5</td>\n",
       "      <td>Introduction to Global Communication, Интегрир...</td>\n",
       "      <td>https://www.hse.ru/mirror/org/persons/redir/20...</td>\n",
       "    </tr>\n",
       "    <tr>\n",
       "      <th>93</th>\n",
       "      <td>0</td>\n",
       "      <td>Шустова Елена Дмитриевна</td>\n",
       "      <td>0</td>\n",
       "      <td>1</td>\n",
       "      <td>0</td>\n",
       "      <td>2019</td>\n",
       "      <td>когнитивная лингвистика, критический дискурс-а...</td>\n",
       "      <td>0</td>\n",
       "      <td>английский, немецкий</td>\n",
       "      <td>2</td>\n",
       "      <td>2</td>\n",
       "      <td>11</td>\n",
       "      <td>English Language, English for General Academic...</td>\n",
       "      <td>https://www.hse.ru/mirror/org/persons/redir/31...</td>\n",
       "    </tr>\n",
       "    <tr>\n",
       "      <th>94</th>\n",
       "      <td>0</td>\n",
       "      <td>Юзбекова Карина Шамильевна</td>\n",
       "      <td>0</td>\n",
       "      <td>1</td>\n",
       "      <td>0</td>\n",
       "      <td>2020</td>\n",
       "      <td>российский федерализм, региональная политика, ...</td>\n",
       "      <td>0</td>\n",
       "      <td>английский</td>\n",
       "      <td>1</td>\n",
       "      <td>1</td>\n",
       "      <td>2</td>\n",
       "      <td>Comparative Politics, Political Regional Studies</td>\n",
       "      <td>https://www.hse.ru/mirror/org/persons/redir/22...</td>\n",
       "    </tr>\n",
       "  </tbody>\n",
       "</table>\n",
       "<p>95 rows × 14 columns</p>\n",
       "</div>"
      ],
      "text/plain": [
       "    Unnamed: 0                            name  is_bachelor  is_master   \n",
       "0            0       Акаева Кавсарат Исламовна            0          1  \\\n",
       "1            0              Акоз Кемаль Киванч            1          1   \n",
       "2            0                    Арбатли Эким            1          1   \n",
       "3            0  Баженов Григорий Александрович            0          0   \n",
       "4            0        Байссвенгер Мартин Эрвин            0          1   \n",
       "..         ...                             ...          ...        ...   \n",
       "90           0  Чеснаков Алексей Александрович            0          0   \n",
       "91           0     Шендерович Мария Филипповна            0          0   \n",
       "92           0           Шипи Элиф Аладдиновна            1          1   \n",
       "93           0        Шустова Елена Дмитриевна            0          1   \n",
       "94           0      Юзбекова Карина Шамильевна            0          1   \n",
       "\n",
       "    is_candidat  year_start_in_hse   \n",
       "0             0               2019  \\\n",
       "1             1               2018   \n",
       "2             1               2012   \n",
       "3             1               2024   \n",
       "4             1               2013   \n",
       "..          ...                ...   \n",
       "90            1               2019   \n",
       "91            0               2016   \n",
       "92            0               2018   \n",
       "93            0               2019   \n",
       "94            0               2020   \n",
       "\n",
       "                                            interests  n_of_best   \n",
       "0   высшее образование, инновации в образовании, ц...          0  \\\n",
       "1   Прикладная микроэкономическая теория, политиче...          3   \n",
       "2   демократизация, ресурсный национализм, граждан...          3   \n",
       "3   всеобщая экономическая история, макроэкономика...          0   \n",
       "4   русская история, европейская история, интеллек...          7   \n",
       "..                                                ...        ...   \n",
       "90  методология политической науки, Политический а...          0   \n",
       "91                                  иностранные языки          0   \n",
       "92  политические коммуникации, медиапотребление, р...          0   \n",
       "93  когнитивная лингвистика, критический дискурс-а...          0   \n",
       "94  российский федерализм, региональная политика, ...          0   \n",
       "\n",
       "                                            languages  n_languages   \n",
       "0                                          английский            1  \\\n",
       "1                     английский, турецкий, пекарский            3   \n",
       "2          турецкий, английский, французский, русский            4   \n",
       "3                                          английский            1   \n",
       "4   английский, немецкий, русский, чешский, францу...            6   \n",
       "..                                                ...          ...   \n",
       "90                                         английский            1   \n",
       "91                                         английский            1   \n",
       "92                  английский, турецкий, французский            3   \n",
       "93                               английский, немецкий            2   \n",
       "94                                         английский            1   \n",
       "\n",
       "    n_of_publications  n_unique_courses   \n",
       "0                   1                14  \\\n",
       "1                   7                 9   \n",
       "2                  15                 5   \n",
       "3                   0                 6   \n",
       "4                  36                 8   \n",
       "..                ...               ...   \n",
       "90                  0                 4   \n",
       "91                  0                 8   \n",
       "92                  1                 5   \n",
       "93                  2                11   \n",
       "94                  1                 2   \n",
       "\n",
       "                                       unique_courses   \n",
       "0   Independent Data Science Test. Advanced Level,...  \\\n",
       "1   Contemporary Economics, International Economic...   \n",
       "2   Comparative Politics, Current Trends in Politi...   \n",
       "3   Макроэкономика, Макроэкономика (продвинутый ур...   \n",
       "4   Political Projects in the XX Сentury, Politica...   \n",
       "..                                                ...   \n",
       "90  Политическая экспертиза, Политические исследов...   \n",
       "91  English for General Communication Purposes. In...   \n",
       "92  Introduction to Global Communication, Интегрир...   \n",
       "93  English Language, English for General Academic...   \n",
       "94   Comparative Politics, Political Regional Studies   \n",
       "\n",
       "                                                 link  \n",
       "0   https://www.hse.ru/mirror/org/persons/redir/30...  \n",
       "1   https://www.hse.ru/mirror/org/persons/redir/22...  \n",
       "2   https://www.hse.ru/mirror/org/persons/redir/61...  \n",
       "3   https://www.hse.ru/mirror/org/persons/redir/20...  \n",
       "4   https://www.hse.ru/mirror/org/persons/redir/93...  \n",
       "..                                                ...  \n",
       "90  https://www.hse.ru/mirror/org/persons/redir/30...  \n",
       "91  https://www.hse.ru/mirror/org/persons/redir/19...  \n",
       "92  https://www.hse.ru/mirror/org/persons/redir/20...  \n",
       "93  https://www.hse.ru/mirror/org/persons/redir/31...  \n",
       "94  https://www.hse.ru/mirror/org/persons/redir/22...  \n",
       "\n",
       "[95 rows x 14 columns]"
      ]
     },
     "execution_count": 276,
     "metadata": {},
     "output_type": "execute_result"
    }
   ],
   "source": [
    "df # датафрейм"
   ]
  },
  {
   "cell_type": "markdown",
   "id": "c1f91c12",
   "metadata": {},
   "source": [
    "Вы всегда можете сохранить ваши данные в разных форматах – **.csv**, **.xlsx**, **.pickle** и прочих. При работе с небольшими наборами данных я выбираю **.xlsx**, потому что они легко открываются, а также их можно сразу отправить вашему коллеге или заказчику – и он сможет открыть файл и просмотреть его без дополнительных усилий."
   ]
  },
  {
   "cell_type": "code",
   "execution_count": 262,
   "id": "2439c02d",
   "metadata": {},
   "outputs": [],
   "source": [
    "df.to_excel('political_science_tutors_24.01.2024.xlsx') # в скобках - как назовем файл."
   ]
  },
  {
   "cell_type": "markdown",
   "id": "1e254008",
   "metadata": {},
   "source": [
    "<p></p>\n",
    "<center><b><font size=4>Задача №2 – Extra</font></b></center>\n",
    "\n",
    "Если вы дошли до этого момента самостоятельно, пока мы разбирались в классе, предлагаю вам просмотреть созданный нами файл `'political_science_tutors_24.01.2024.xlsx'`. Если вы заметили аномалии в данных, исследуйте страницы преподавателей. \n",
    "\n",
    "Если вы обнаружили ошибки или неточности, зафиксируйте их в этой ячеек и расскажите позднее о них мне."
   ]
  },
  {
   "cell_type": "markdown",
   "id": "f5312f82",
   "metadata": {},
   "source": [
    "## Обработка полученных данных и `pandas` <a name=\"par3\"></a>\n",
    "\n",
    "-----\n",
    "\n",
    "Ура, мы собрали датафрейм! Что обсудим сейчас?\n",
    "\n",
    "+ Как читать файлы разных форматов;\n",
    "+ Как удалять строчки и столбцы\n",
    "+ Как фильтровать датафрейм по определенным значениям;\n",
    "+ Как создавать и изменять столбцы с помощью `.apply()`;\n",
    "+ Как вызывать описательные статистики в `pandas`."
   ]
  },
  {
   "cell_type": "markdown",
   "id": "ed746f67",
   "metadata": {},
   "source": [
    "### Чтение файлов"
   ]
  },
  {
   "cell_type": "code",
   "execution_count": 22,
   "id": "4115032d",
   "metadata": {},
   "outputs": [
    {
     "data": {
      "text/html": [
       "<div>\n",
       "<style scoped>\n",
       "    .dataframe tbody tr th:only-of-type {\n",
       "        vertical-align: middle;\n",
       "    }\n",
       "\n",
       "    .dataframe tbody tr th {\n",
       "        vertical-align: top;\n",
       "    }\n",
       "\n",
       "    .dataframe thead th {\n",
       "        text-align: right;\n",
       "    }\n",
       "</style>\n",
       "<table border=\"1\" class=\"dataframe\">\n",
       "  <thead>\n",
       "    <tr style=\"text-align: right;\">\n",
       "      <th></th>\n",
       "      <th>Unnamed: 0</th>\n",
       "      <th>name</th>\n",
       "      <th>is_bachelor</th>\n",
       "      <th>is_master</th>\n",
       "      <th>is_candidat</th>\n",
       "      <th>year_start_in_hse</th>\n",
       "      <th>interests</th>\n",
       "      <th>n_of_best</th>\n",
       "      <th>languages</th>\n",
       "      <th>n_languages</th>\n",
       "      <th>n_of_publications</th>\n",
       "      <th>n_unique_courses</th>\n",
       "      <th>unique_courses</th>\n",
       "      <th>link</th>\n",
       "    </tr>\n",
       "  </thead>\n",
       "  <tbody>\n",
       "    <tr>\n",
       "      <th>0</th>\n",
       "      <td>0</td>\n",
       "      <td>Акаева Кавсарат Исламовна</td>\n",
       "      <td>0</td>\n",
       "      <td>1</td>\n",
       "      <td>0</td>\n",
       "      <td>2019</td>\n",
       "      <td>высшее образование, инновации в образовании, ц...</td>\n",
       "      <td>0</td>\n",
       "      <td>английский</td>\n",
       "      <td>1</td>\n",
       "      <td>1</td>\n",
       "      <td>14</td>\n",
       "      <td>Independent Data Science Test. Advanced Level,...</td>\n",
       "      <td>https://www.hse.ru/mirror/org/persons/redir/30...</td>\n",
       "    </tr>\n",
       "    <tr>\n",
       "      <th>1</th>\n",
       "      <td>0</td>\n",
       "      <td>Акоз Кемаль Киванч</td>\n",
       "      <td>1</td>\n",
       "      <td>1</td>\n",
       "      <td>1</td>\n",
       "      <td>2018</td>\n",
       "      <td>Прикладная микроэкономическая теория, политиче...</td>\n",
       "      <td>3</td>\n",
       "      <td>английский, турецкий, пекарский</td>\n",
       "      <td>3</td>\n",
       "      <td>7</td>\n",
       "      <td>9</td>\n",
       "      <td>Contemporary Economics, International Economic...</td>\n",
       "      <td>https://www.hse.ru/mirror/org/persons/redir/22...</td>\n",
       "    </tr>\n",
       "    <tr>\n",
       "      <th>2</th>\n",
       "      <td>0</td>\n",
       "      <td>Арбатли Эким</td>\n",
       "      <td>1</td>\n",
       "      <td>1</td>\n",
       "      <td>1</td>\n",
       "      <td>2012</td>\n",
       "      <td>демократизация, ресурсный национализм, граждан...</td>\n",
       "      <td>3</td>\n",
       "      <td>турецкий, английский, французский, русский</td>\n",
       "      <td>4</td>\n",
       "      <td>15</td>\n",
       "      <td>5</td>\n",
       "      <td>Comparative Politics, Current Trends in Politi...</td>\n",
       "      <td>https://www.hse.ru/mirror/org/persons/redir/61...</td>\n",
       "    </tr>\n",
       "    <tr>\n",
       "      <th>3</th>\n",
       "      <td>0</td>\n",
       "      <td>Баженов Григорий Александрович</td>\n",
       "      <td>0</td>\n",
       "      <td>0</td>\n",
       "      <td>1</td>\n",
       "      <td>2024</td>\n",
       "      <td>всеобщая экономическая история, макроэкономика...</td>\n",
       "      <td>0</td>\n",
       "      <td>английский</td>\n",
       "      <td>1</td>\n",
       "      <td>0</td>\n",
       "      <td>6</td>\n",
       "      <td>Макроэкономика, Макроэкономика (продвинутый ур...</td>\n",
       "      <td>https://www.hse.ru/mirror/org/persons/redir/20...</td>\n",
       "    </tr>\n",
       "    <tr>\n",
       "      <th>4</th>\n",
       "      <td>0</td>\n",
       "      <td>Байссвенгер Мартин Эрвин</td>\n",
       "      <td>0</td>\n",
       "      <td>1</td>\n",
       "      <td>1</td>\n",
       "      <td>2013</td>\n",
       "      <td>русская история, европейская история, интеллек...</td>\n",
       "      <td>7</td>\n",
       "      <td>английский, немецкий, русский, чешский, францу...</td>\n",
       "      <td>6</td>\n",
       "      <td>36</td>\n",
       "      <td>8</td>\n",
       "      <td>Political Projects in the XX Сentury, Politica...</td>\n",
       "      <td>https://www.hse.ru/mirror/org/persons/redir/93...</td>\n",
       "    </tr>\n",
       "    <tr>\n",
       "      <th>...</th>\n",
       "      <td>...</td>\n",
       "      <td>...</td>\n",
       "      <td>...</td>\n",
       "      <td>...</td>\n",
       "      <td>...</td>\n",
       "      <td>...</td>\n",
       "      <td>...</td>\n",
       "      <td>...</td>\n",
       "      <td>...</td>\n",
       "      <td>...</td>\n",
       "      <td>...</td>\n",
       "      <td>...</td>\n",
       "      <td>...</td>\n",
       "      <td>...</td>\n",
       "    </tr>\n",
       "    <tr>\n",
       "      <th>90</th>\n",
       "      <td>0</td>\n",
       "      <td>Чеснаков Алексей Александрович</td>\n",
       "      <td>0</td>\n",
       "      <td>0</td>\n",
       "      <td>1</td>\n",
       "      <td>2019</td>\n",
       "      <td>методология политической науки, Политический а...</td>\n",
       "      <td>0</td>\n",
       "      <td>английский</td>\n",
       "      <td>1</td>\n",
       "      <td>0</td>\n",
       "      <td>4</td>\n",
       "      <td>Политическая экспертиза, Политические исследов...</td>\n",
       "      <td>https://www.hse.ru/mirror/org/persons/redir/30...</td>\n",
       "    </tr>\n",
       "    <tr>\n",
       "      <th>91</th>\n",
       "      <td>0</td>\n",
       "      <td>Шендерович Мария Филипповна</td>\n",
       "      <td>0</td>\n",
       "      <td>0</td>\n",
       "      <td>0</td>\n",
       "      <td>2016</td>\n",
       "      <td>иностранные языки</td>\n",
       "      <td>0</td>\n",
       "      <td>английский</td>\n",
       "      <td>1</td>\n",
       "      <td>0</td>\n",
       "      <td>8</td>\n",
       "      <td>English for General Communication Purposes. In...</td>\n",
       "      <td>https://www.hse.ru/mirror/org/persons/redir/19...</td>\n",
       "    </tr>\n",
       "    <tr>\n",
       "      <th>92</th>\n",
       "      <td>0</td>\n",
       "      <td>Шипи Элиф Аладдиновна</td>\n",
       "      <td>1</td>\n",
       "      <td>1</td>\n",
       "      <td>0</td>\n",
       "      <td>2018</td>\n",
       "      <td>политические коммуникации, медиапотребление, р...</td>\n",
       "      <td>0</td>\n",
       "      <td>английский, турецкий, французский</td>\n",
       "      <td>3</td>\n",
       "      <td>1</td>\n",
       "      <td>5</td>\n",
       "      <td>Introduction to Global Communication, Интегрир...</td>\n",
       "      <td>https://www.hse.ru/mirror/org/persons/redir/20...</td>\n",
       "    </tr>\n",
       "    <tr>\n",
       "      <th>93</th>\n",
       "      <td>0</td>\n",
       "      <td>Шустова Елена Дмитриевна</td>\n",
       "      <td>0</td>\n",
       "      <td>1</td>\n",
       "      <td>0</td>\n",
       "      <td>2019</td>\n",
       "      <td>когнитивная лингвистика, критический дискурс-а...</td>\n",
       "      <td>0</td>\n",
       "      <td>английский, немецкий</td>\n",
       "      <td>2</td>\n",
       "      <td>2</td>\n",
       "      <td>11</td>\n",
       "      <td>English Language, English for General Academic...</td>\n",
       "      <td>https://www.hse.ru/mirror/org/persons/redir/31...</td>\n",
       "    </tr>\n",
       "    <tr>\n",
       "      <th>94</th>\n",
       "      <td>0</td>\n",
       "      <td>Юзбекова Карина Шамильевна</td>\n",
       "      <td>0</td>\n",
       "      <td>1</td>\n",
       "      <td>0</td>\n",
       "      <td>2020</td>\n",
       "      <td>российский федерализм, региональная политика, ...</td>\n",
       "      <td>0</td>\n",
       "      <td>английский</td>\n",
       "      <td>1</td>\n",
       "      <td>1</td>\n",
       "      <td>2</td>\n",
       "      <td>Comparative Politics, Political Regional Studies</td>\n",
       "      <td>https://www.hse.ru/mirror/org/persons/redir/22...</td>\n",
       "    </tr>\n",
       "  </tbody>\n",
       "</table>\n",
       "<p>95 rows × 14 columns</p>\n",
       "</div>"
      ],
      "text/plain": [
       "    Unnamed: 0                            name  is_bachelor  is_master   \n",
       "0            0       Акаева Кавсарат Исламовна            0          1  \\\n",
       "1            0              Акоз Кемаль Киванч            1          1   \n",
       "2            0                    Арбатли Эким            1          1   \n",
       "3            0  Баженов Григорий Александрович            0          0   \n",
       "4            0        Байссвенгер Мартин Эрвин            0          1   \n",
       "..         ...                             ...          ...        ...   \n",
       "90           0  Чеснаков Алексей Александрович            0          0   \n",
       "91           0     Шендерович Мария Филипповна            0          0   \n",
       "92           0           Шипи Элиф Аладдиновна            1          1   \n",
       "93           0        Шустова Елена Дмитриевна            0          1   \n",
       "94           0      Юзбекова Карина Шамильевна            0          1   \n",
       "\n",
       "    is_candidat  year_start_in_hse   \n",
       "0             0               2019  \\\n",
       "1             1               2018   \n",
       "2             1               2012   \n",
       "3             1               2024   \n",
       "4             1               2013   \n",
       "..          ...                ...   \n",
       "90            1               2019   \n",
       "91            0               2016   \n",
       "92            0               2018   \n",
       "93            0               2019   \n",
       "94            0               2020   \n",
       "\n",
       "                                            interests  n_of_best   \n",
       "0   высшее образование, инновации в образовании, ц...          0  \\\n",
       "1   Прикладная микроэкономическая теория, политиче...          3   \n",
       "2   демократизация, ресурсный национализм, граждан...          3   \n",
       "3   всеобщая экономическая история, макроэкономика...          0   \n",
       "4   русская история, европейская история, интеллек...          7   \n",
       "..                                                ...        ...   \n",
       "90  методология политической науки, Политический а...          0   \n",
       "91                                  иностранные языки          0   \n",
       "92  политические коммуникации, медиапотребление, р...          0   \n",
       "93  когнитивная лингвистика, критический дискурс-а...          0   \n",
       "94  российский федерализм, региональная политика, ...          0   \n",
       "\n",
       "                                            languages  n_languages   \n",
       "0                                          английский            1  \\\n",
       "1                     английский, турецкий, пекарский            3   \n",
       "2          турецкий, английский, французский, русский            4   \n",
       "3                                          английский            1   \n",
       "4   английский, немецкий, русский, чешский, францу...            6   \n",
       "..                                                ...          ...   \n",
       "90                                         английский            1   \n",
       "91                                         английский            1   \n",
       "92                  английский, турецкий, французский            3   \n",
       "93                               английский, немецкий            2   \n",
       "94                                         английский            1   \n",
       "\n",
       "    n_of_publications  n_unique_courses   \n",
       "0                   1                14  \\\n",
       "1                   7                 9   \n",
       "2                  15                 5   \n",
       "3                   0                 6   \n",
       "4                  36                 8   \n",
       "..                ...               ...   \n",
       "90                  0                 4   \n",
       "91                  0                 8   \n",
       "92                  1                 5   \n",
       "93                  2                11   \n",
       "94                  1                 2   \n",
       "\n",
       "                                       unique_courses   \n",
       "0   Independent Data Science Test. Advanced Level,...  \\\n",
       "1   Contemporary Economics, International Economic...   \n",
       "2   Comparative Politics, Current Trends in Politi...   \n",
       "3   Макроэкономика, Макроэкономика (продвинутый ур...   \n",
       "4   Political Projects in the XX Сentury, Politica...   \n",
       "..                                                ...   \n",
       "90  Политическая экспертиза, Политические исследов...   \n",
       "91  English for General Communication Purposes. In...   \n",
       "92  Introduction to Global Communication, Интегрир...   \n",
       "93  English Language, English for General Academic...   \n",
       "94   Comparative Politics, Political Regional Studies   \n",
       "\n",
       "                                                 link  \n",
       "0   https://www.hse.ru/mirror/org/persons/redir/30...  \n",
       "1   https://www.hse.ru/mirror/org/persons/redir/22...  \n",
       "2   https://www.hse.ru/mirror/org/persons/redir/61...  \n",
       "3   https://www.hse.ru/mirror/org/persons/redir/20...  \n",
       "4   https://www.hse.ru/mirror/org/persons/redir/93...  \n",
       "..                                                ...  \n",
       "90  https://www.hse.ru/mirror/org/persons/redir/30...  \n",
       "91  https://www.hse.ru/mirror/org/persons/redir/19...  \n",
       "92  https://www.hse.ru/mirror/org/persons/redir/20...  \n",
       "93  https://www.hse.ru/mirror/org/persons/redir/31...  \n",
       "94  https://www.hse.ru/mirror/org/persons/redir/22...  \n",
       "\n",
       "[95 rows x 14 columns]"
      ]
     },
     "execution_count": 22,
     "metadata": {},
     "output_type": "execute_result"
    }
   ],
   "source": [
    "# загрузить данные можно с помощью функции pandas.read_excel() или .read_csv() если вы работаете с файлом .csv\n",
    "df = pd.read_excel('political_science_tutors_24.01.2024.xlsx')\n",
    "df"
   ]
  },
  {
   "cell_type": "markdown",
   "id": "f864bb66",
   "metadata": {},
   "source": [
    "### Удаление строк"
   ]
  },
  {
   "cell_type": "code",
   "execution_count": 23,
   "id": "44f776cb",
   "metadata": {},
   "outputs": [
    {
     "data": {
      "text/html": [
       "<div>\n",
       "<style scoped>\n",
       "    .dataframe tbody tr th:only-of-type {\n",
       "        vertical-align: middle;\n",
       "    }\n",
       "\n",
       "    .dataframe tbody tr th {\n",
       "        vertical-align: top;\n",
       "    }\n",
       "\n",
       "    .dataframe thead th {\n",
       "        text-align: right;\n",
       "    }\n",
       "</style>\n",
       "<table border=\"1\" class=\"dataframe\">\n",
       "  <thead>\n",
       "    <tr style=\"text-align: right;\">\n",
       "      <th></th>\n",
       "      <th>name</th>\n",
       "      <th>is_bachelor</th>\n",
       "      <th>is_master</th>\n",
       "      <th>is_candidat</th>\n",
       "      <th>year_start_in_hse</th>\n",
       "      <th>interests</th>\n",
       "      <th>n_of_best</th>\n",
       "      <th>languages</th>\n",
       "      <th>n_languages</th>\n",
       "      <th>n_of_publications</th>\n",
       "      <th>n_unique_courses</th>\n",
       "      <th>unique_courses</th>\n",
       "      <th>link</th>\n",
       "    </tr>\n",
       "  </thead>\n",
       "  <tbody>\n",
       "    <tr>\n",
       "      <th>0</th>\n",
       "      <td>Акаева Кавсарат Исламовна</td>\n",
       "      <td>0</td>\n",
       "      <td>1</td>\n",
       "      <td>0</td>\n",
       "      <td>2019</td>\n",
       "      <td>высшее образование, инновации в образовании, ц...</td>\n",
       "      <td>0</td>\n",
       "      <td>английский</td>\n",
       "      <td>1</td>\n",
       "      <td>1</td>\n",
       "      <td>14</td>\n",
       "      <td>Independent Data Science Test. Advanced Level,...</td>\n",
       "      <td>https://www.hse.ru/mirror/org/persons/redir/30...</td>\n",
       "    </tr>\n",
       "    <tr>\n",
       "      <th>1</th>\n",
       "      <td>Акоз Кемаль Киванч</td>\n",
       "      <td>1</td>\n",
       "      <td>1</td>\n",
       "      <td>1</td>\n",
       "      <td>2018</td>\n",
       "      <td>Прикладная микроэкономическая теория, политиче...</td>\n",
       "      <td>3</td>\n",
       "      <td>английский, турецкий, пекарский</td>\n",
       "      <td>3</td>\n",
       "      <td>7</td>\n",
       "      <td>9</td>\n",
       "      <td>Contemporary Economics, International Economic...</td>\n",
       "      <td>https://www.hse.ru/mirror/org/persons/redir/22...</td>\n",
       "    </tr>\n",
       "    <tr>\n",
       "      <th>2</th>\n",
       "      <td>Арбатли Эким</td>\n",
       "      <td>1</td>\n",
       "      <td>1</td>\n",
       "      <td>1</td>\n",
       "      <td>2012</td>\n",
       "      <td>демократизация, ресурсный национализм, граждан...</td>\n",
       "      <td>3</td>\n",
       "      <td>турецкий, английский, французский, русский</td>\n",
       "      <td>4</td>\n",
       "      <td>15</td>\n",
       "      <td>5</td>\n",
       "      <td>Comparative Politics, Current Trends in Politi...</td>\n",
       "      <td>https://www.hse.ru/mirror/org/persons/redir/61...</td>\n",
       "    </tr>\n",
       "    <tr>\n",
       "      <th>3</th>\n",
       "      <td>Баженов Григорий Александрович</td>\n",
       "      <td>0</td>\n",
       "      <td>0</td>\n",
       "      <td>1</td>\n",
       "      <td>2024</td>\n",
       "      <td>всеобщая экономическая история, макроэкономика...</td>\n",
       "      <td>0</td>\n",
       "      <td>английский</td>\n",
       "      <td>1</td>\n",
       "      <td>0</td>\n",
       "      <td>6</td>\n",
       "      <td>Макроэкономика, Макроэкономика (продвинутый ур...</td>\n",
       "      <td>https://www.hse.ru/mirror/org/persons/redir/20...</td>\n",
       "    </tr>\n",
       "    <tr>\n",
       "      <th>4</th>\n",
       "      <td>Байссвенгер Мартин Эрвин</td>\n",
       "      <td>0</td>\n",
       "      <td>1</td>\n",
       "      <td>1</td>\n",
       "      <td>2013</td>\n",
       "      <td>русская история, европейская история, интеллек...</td>\n",
       "      <td>7</td>\n",
       "      <td>английский, немецкий, русский, чешский, францу...</td>\n",
       "      <td>6</td>\n",
       "      <td>36</td>\n",
       "      <td>8</td>\n",
       "      <td>Political Projects in the XX Сentury, Politica...</td>\n",
       "      <td>https://www.hse.ru/mirror/org/persons/redir/93...</td>\n",
       "    </tr>\n",
       "    <tr>\n",
       "      <th>...</th>\n",
       "      <td>...</td>\n",
       "      <td>...</td>\n",
       "      <td>...</td>\n",
       "      <td>...</td>\n",
       "      <td>...</td>\n",
       "      <td>...</td>\n",
       "      <td>...</td>\n",
       "      <td>...</td>\n",
       "      <td>...</td>\n",
       "      <td>...</td>\n",
       "      <td>...</td>\n",
       "      <td>...</td>\n",
       "      <td>...</td>\n",
       "    </tr>\n",
       "    <tr>\n",
       "      <th>90</th>\n",
       "      <td>Чеснаков Алексей Александрович</td>\n",
       "      <td>0</td>\n",
       "      <td>0</td>\n",
       "      <td>1</td>\n",
       "      <td>2019</td>\n",
       "      <td>методология политической науки, Политический а...</td>\n",
       "      <td>0</td>\n",
       "      <td>английский</td>\n",
       "      <td>1</td>\n",
       "      <td>0</td>\n",
       "      <td>4</td>\n",
       "      <td>Политическая экспертиза, Политические исследов...</td>\n",
       "      <td>https://www.hse.ru/mirror/org/persons/redir/30...</td>\n",
       "    </tr>\n",
       "    <tr>\n",
       "      <th>91</th>\n",
       "      <td>Шендерович Мария Филипповна</td>\n",
       "      <td>0</td>\n",
       "      <td>0</td>\n",
       "      <td>0</td>\n",
       "      <td>2016</td>\n",
       "      <td>иностранные языки</td>\n",
       "      <td>0</td>\n",
       "      <td>английский</td>\n",
       "      <td>1</td>\n",
       "      <td>0</td>\n",
       "      <td>8</td>\n",
       "      <td>English for General Communication Purposes. In...</td>\n",
       "      <td>https://www.hse.ru/mirror/org/persons/redir/19...</td>\n",
       "    </tr>\n",
       "    <tr>\n",
       "      <th>92</th>\n",
       "      <td>Шипи Элиф Аладдиновна</td>\n",
       "      <td>1</td>\n",
       "      <td>1</td>\n",
       "      <td>0</td>\n",
       "      <td>2018</td>\n",
       "      <td>политические коммуникации, медиапотребление, р...</td>\n",
       "      <td>0</td>\n",
       "      <td>английский, турецкий, французский</td>\n",
       "      <td>3</td>\n",
       "      <td>1</td>\n",
       "      <td>5</td>\n",
       "      <td>Introduction to Global Communication, Интегрир...</td>\n",
       "      <td>https://www.hse.ru/mirror/org/persons/redir/20...</td>\n",
       "    </tr>\n",
       "    <tr>\n",
       "      <th>93</th>\n",
       "      <td>Шустова Елена Дмитриевна</td>\n",
       "      <td>0</td>\n",
       "      <td>1</td>\n",
       "      <td>0</td>\n",
       "      <td>2019</td>\n",
       "      <td>когнитивная лингвистика, критический дискурс-а...</td>\n",
       "      <td>0</td>\n",
       "      <td>английский, немецкий</td>\n",
       "      <td>2</td>\n",
       "      <td>2</td>\n",
       "      <td>11</td>\n",
       "      <td>English Language, English for General Academic...</td>\n",
       "      <td>https://www.hse.ru/mirror/org/persons/redir/31...</td>\n",
       "    </tr>\n",
       "    <tr>\n",
       "      <th>94</th>\n",
       "      <td>Юзбекова Карина Шамильевна</td>\n",
       "      <td>0</td>\n",
       "      <td>1</td>\n",
       "      <td>0</td>\n",
       "      <td>2020</td>\n",
       "      <td>российский федерализм, региональная политика, ...</td>\n",
       "      <td>0</td>\n",
       "      <td>английский</td>\n",
       "      <td>1</td>\n",
       "      <td>1</td>\n",
       "      <td>2</td>\n",
       "      <td>Comparative Politics, Political Regional Studies</td>\n",
       "      <td>https://www.hse.ru/mirror/org/persons/redir/22...</td>\n",
       "    </tr>\n",
       "  </tbody>\n",
       "</table>\n",
       "<p>95 rows × 13 columns</p>\n",
       "</div>"
      ],
      "text/plain": [
       "                              name  is_bachelor  is_master  is_candidat   \n",
       "0        Акаева Кавсарат Исламовна            0          1            0  \\\n",
       "1               Акоз Кемаль Киванч            1          1            1   \n",
       "2                     Арбатли Эким            1          1            1   \n",
       "3   Баженов Григорий Александрович            0          0            1   \n",
       "4         Байссвенгер Мартин Эрвин            0          1            1   \n",
       "..                             ...          ...        ...          ...   \n",
       "90  Чеснаков Алексей Александрович            0          0            1   \n",
       "91     Шендерович Мария Филипповна            0          0            0   \n",
       "92           Шипи Элиф Аладдиновна            1          1            0   \n",
       "93        Шустова Елена Дмитриевна            0          1            0   \n",
       "94      Юзбекова Карина Шамильевна            0          1            0   \n",
       "\n",
       "    year_start_in_hse                                          interests   \n",
       "0                2019  высшее образование, инновации в образовании, ц...  \\\n",
       "1                2018  Прикладная микроэкономическая теория, политиче...   \n",
       "2                2012  демократизация, ресурсный национализм, граждан...   \n",
       "3                2024  всеобщая экономическая история, макроэкономика...   \n",
       "4                2013  русская история, европейская история, интеллек...   \n",
       "..                ...                                                ...   \n",
       "90               2019  методология политической науки, Политический а...   \n",
       "91               2016                                  иностранные языки   \n",
       "92               2018  политические коммуникации, медиапотребление, р...   \n",
       "93               2019  когнитивная лингвистика, критический дискурс-а...   \n",
       "94               2020  российский федерализм, региональная политика, ...   \n",
       "\n",
       "    n_of_best                                          languages  n_languages   \n",
       "0           0                                         английский            1  \\\n",
       "1           3                    английский, турецкий, пекарский            3   \n",
       "2           3         турецкий, английский, французский, русский            4   \n",
       "3           0                                         английский            1   \n",
       "4           7  английский, немецкий, русский, чешский, францу...            6   \n",
       "..        ...                                                ...          ...   \n",
       "90          0                                         английский            1   \n",
       "91          0                                         английский            1   \n",
       "92          0                  английский, турецкий, французский            3   \n",
       "93          0                               английский, немецкий            2   \n",
       "94          0                                         английский            1   \n",
       "\n",
       "    n_of_publications  n_unique_courses   \n",
       "0                   1                14  \\\n",
       "1                   7                 9   \n",
       "2                  15                 5   \n",
       "3                   0                 6   \n",
       "4                  36                 8   \n",
       "..                ...               ...   \n",
       "90                  0                 4   \n",
       "91                  0                 8   \n",
       "92                  1                 5   \n",
       "93                  2                11   \n",
       "94                  1                 2   \n",
       "\n",
       "                                       unique_courses   \n",
       "0   Independent Data Science Test. Advanced Level,...  \\\n",
       "1   Contemporary Economics, International Economic...   \n",
       "2   Comparative Politics, Current Trends in Politi...   \n",
       "3   Макроэкономика, Макроэкономика (продвинутый ур...   \n",
       "4   Political Projects in the XX Сentury, Politica...   \n",
       "..                                                ...   \n",
       "90  Политическая экспертиза, Политические исследов...   \n",
       "91  English for General Communication Purposes. In...   \n",
       "92  Introduction to Global Communication, Интегрир...   \n",
       "93  English Language, English for General Academic...   \n",
       "94   Comparative Politics, Political Regional Studies   \n",
       "\n",
       "                                                 link  \n",
       "0   https://www.hse.ru/mirror/org/persons/redir/30...  \n",
       "1   https://www.hse.ru/mirror/org/persons/redir/22...  \n",
       "2   https://www.hse.ru/mirror/org/persons/redir/61...  \n",
       "3   https://www.hse.ru/mirror/org/persons/redir/20...  \n",
       "4   https://www.hse.ru/mirror/org/persons/redir/93...  \n",
       "..                                                ...  \n",
       "90  https://www.hse.ru/mirror/org/persons/redir/30...  \n",
       "91  https://www.hse.ru/mirror/org/persons/redir/19...  \n",
       "92  https://www.hse.ru/mirror/org/persons/redir/20...  \n",
       "93  https://www.hse.ru/mirror/org/persons/redir/31...  \n",
       "94  https://www.hse.ru/mirror/org/persons/redir/22...  \n",
       "\n",
       "[95 rows x 13 columns]"
      ]
     },
     "execution_count": 23,
     "metadata": {},
     "output_type": "execute_result"
    }
   ],
   "source": [
    "# удалим ненужную колонку с помощью метода .drop()\n",
    "# axis=1 указывает, что мы удаляем колонки (а не строчки) датафрейма\n",
    "df = df.drop(axis=1, columns=['Unnamed: 0']) # в columns= перечисляем названия колонок, которые хотим удалить\n",
    "df"
   ]
  },
  {
   "cell_type": "markdown",
   "id": "1aa2e87c",
   "metadata": {},
   "source": [
    "### Как фильтровать датафрейм по определенным значениям"
   ]
  },
  {
   "cell_type": "code",
   "execution_count": 24,
   "id": "8625e546",
   "metadata": {},
   "outputs": [
    {
     "data": {
      "text/html": [
       "<div>\n",
       "<style scoped>\n",
       "    .dataframe tbody tr th:only-of-type {\n",
       "        vertical-align: middle;\n",
       "    }\n",
       "\n",
       "    .dataframe tbody tr th {\n",
       "        vertical-align: top;\n",
       "    }\n",
       "\n",
       "    .dataframe thead th {\n",
       "        text-align: right;\n",
       "    }\n",
       "</style>\n",
       "<table border=\"1\" class=\"dataframe\">\n",
       "  <thead>\n",
       "    <tr style=\"text-align: right;\">\n",
       "      <th></th>\n",
       "      <th>name</th>\n",
       "      <th>is_bachelor</th>\n",
       "      <th>is_master</th>\n",
       "      <th>is_candidat</th>\n",
       "      <th>year_start_in_hse</th>\n",
       "      <th>interests</th>\n",
       "      <th>n_of_best</th>\n",
       "      <th>languages</th>\n",
       "      <th>n_languages</th>\n",
       "      <th>n_of_publications</th>\n",
       "      <th>n_unique_courses</th>\n",
       "      <th>unique_courses</th>\n",
       "      <th>link</th>\n",
       "    </tr>\n",
       "  </thead>\n",
       "  <tbody>\n",
       "    <tr>\n",
       "      <th>3</th>\n",
       "      <td>Баженов Григорий Александрович</td>\n",
       "      <td>0</td>\n",
       "      <td>0</td>\n",
       "      <td>1</td>\n",
       "      <td>2024</td>\n",
       "      <td>всеобщая экономическая история, макроэкономика...</td>\n",
       "      <td>0</td>\n",
       "      <td>английский</td>\n",
       "      <td>1</td>\n",
       "      <td>0</td>\n",
       "      <td>6</td>\n",
       "      <td>Макроэкономика, Макроэкономика (продвинутый ур...</td>\n",
       "      <td>https://www.hse.ru/mirror/org/persons/redir/20...</td>\n",
       "    </tr>\n",
       "    <tr>\n",
       "      <th>23</th>\n",
       "      <td>Игнатьев Глеб Игоревич</td>\n",
       "      <td>1</td>\n",
       "      <td>0</td>\n",
       "      <td>0</td>\n",
       "      <td>2023</td>\n",
       "      <td>политические науки</td>\n",
       "      <td>0</td>\n",
       "      <td>английский, русский, португальский</td>\n",
       "      <td>3</td>\n",
       "      <td>0</td>\n",
       "      <td>3</td>\n",
       "      <td>Основы российской государственности, Политолог...</td>\n",
       "      <td>https://www.hse.ru/mirror/org/persons/redir/22...</td>\n",
       "    </tr>\n",
       "    <tr>\n",
       "      <th>29</th>\n",
       "      <td>Кондратьев Сергей Викторович</td>\n",
       "      <td>0</td>\n",
       "      <td>1</td>\n",
       "      <td>0</td>\n",
       "      <td>2023</td>\n",
       "      <td>международные отношения, Глобальная климатичес...</td>\n",
       "      <td>0</td>\n",
       "      <td>английский, немецкий</td>\n",
       "      <td>2</td>\n",
       "      <td>0</td>\n",
       "      <td>1</td>\n",
       "      <td>World Politics and International Relations</td>\n",
       "      <td>https://www.hse.ru/mirror/org/persons/redir/79...</td>\n",
       "    </tr>\n",
       "    <tr>\n",
       "      <th>56</th>\n",
       "      <td>Павлова Ксения Валерьевна</td>\n",
       "      <td>0</td>\n",
       "      <td>0</td>\n",
       "      <td>0</td>\n",
       "      <td>2023</td>\n",
       "      <td>коммуникативная методика преподавания английск...</td>\n",
       "      <td>0</td>\n",
       "      <td>английский, немецкий, французский</td>\n",
       "      <td>3</td>\n",
       "      <td>0</td>\n",
       "      <td>6</td>\n",
       "      <td>English for General Communication Purposes. Ad...</td>\n",
       "      <td>https://www.hse.ru/mirror/org/persons/redir/74...</td>\n",
       "    </tr>\n",
       "    <tr>\n",
       "      <th>57</th>\n",
       "      <td>Паникар Марина Михайловна</td>\n",
       "      <td>0</td>\n",
       "      <td>0</td>\n",
       "      <td>1</td>\n",
       "      <td>2023</td>\n",
       "      <td>Международные отношения в Арктическом регионе,...</td>\n",
       "      <td>0</td>\n",
       "      <td>английский</td>\n",
       "      <td>1</td>\n",
       "      <td>8</td>\n",
       "      <td>5</td>\n",
       "      <td>International Relations in the Post-Soviet Spa...</td>\n",
       "      <td>https://www.hse.ru/mirror/org/persons/redir/85...</td>\n",
       "    </tr>\n",
       "    <tr>\n",
       "      <th>60</th>\n",
       "      <td>Першина Дарья Станиславовна</td>\n",
       "      <td>1</td>\n",
       "      <td>1</td>\n",
       "      <td>0</td>\n",
       "      <td>2023</td>\n",
       "      <td>иностранные языки, иностранные языки и межкуль...</td>\n",
       "      <td>0</td>\n",
       "      <td>английский, французский, испанский</td>\n",
       "      <td>3</td>\n",
       "      <td>0</td>\n",
       "      <td>9</td>\n",
       "      <td>English for General Academic Purposes. Advance...</td>\n",
       "      <td>https://www.hse.ru/mirror/org/persons/redir/19...</td>\n",
       "    </tr>\n",
       "    <tr>\n",
       "      <th>67</th>\n",
       "      <td>Родина Ольга Алексеевна</td>\n",
       "      <td>1</td>\n",
       "      <td>1</td>\n",
       "      <td>0</td>\n",
       "      <td>2023</td>\n",
       "      <td>рождаемость в России, демография</td>\n",
       "      <td>0</td>\n",
       "      <td>английский, немецкий</td>\n",
       "      <td>2</td>\n",
       "      <td>2</td>\n",
       "      <td>3</td>\n",
       "      <td>Demography, Демография, Политическая демография</td>\n",
       "      <td>https://www.hse.ru/mirror/org/persons/redir/82...</td>\n",
       "    </tr>\n",
       "    <tr>\n",
       "      <th>80</th>\n",
       "      <td>Телин Кирилл Олегович</td>\n",
       "      <td>0</td>\n",
       "      <td>0</td>\n",
       "      <td>0</td>\n",
       "      <td>2023</td>\n",
       "      <td>политическая стабильность, идентичность, госуд...</td>\n",
       "      <td>0</td>\n",
       "      <td>английский, французский</td>\n",
       "      <td>2</td>\n",
       "      <td>17</td>\n",
       "      <td>2</td>\n",
       "      <td>Политический менеджмент, Политическое управление</td>\n",
       "      <td>https://www.hse.ru/mirror/org/persons/redir/85...</td>\n",
       "    </tr>\n",
       "    <tr>\n",
       "      <th>88</th>\n",
       "      <td>Чебанова Дарья Сергеевна</td>\n",
       "      <td>0</td>\n",
       "      <td>0</td>\n",
       "      <td>0</td>\n",
       "      <td>2023</td>\n",
       "      <td>национальная идентичность, региональная иденти...</td>\n",
       "      <td>0</td>\n",
       "      <td>английский, французский</td>\n",
       "      <td>2</td>\n",
       "      <td>2</td>\n",
       "      <td>2</td>\n",
       "      <td>Научно-исследовательский семинар, Научно-иссле...</td>\n",
       "      <td>https://www.hse.ru/mirror/org/persons/redir/30...</td>\n",
       "    </tr>\n",
       "  </tbody>\n",
       "</table>\n",
       "</div>"
      ],
      "text/plain": [
       "                              name  is_bachelor  is_master  is_candidat   \n",
       "3   Баженов Григорий Александрович            0          0            1  \\\n",
       "23          Игнатьев Глеб Игоревич            1          0            0   \n",
       "29    Кондратьев Сергей Викторович            0          1            0   \n",
       "56       Павлова Ксения Валерьевна            0          0            0   \n",
       "57       Паникар Марина Михайловна            0          0            1   \n",
       "60     Першина Дарья Станиславовна            1          1            0   \n",
       "67         Родина Ольга Алексеевна            1          1            0   \n",
       "80           Телин Кирилл Олегович            0          0            0   \n",
       "88        Чебанова Дарья Сергеевна            0          0            0   \n",
       "\n",
       "    year_start_in_hse                                          interests   \n",
       "3                2024  всеобщая экономическая история, макроэкономика...  \\\n",
       "23               2023                                 политические науки   \n",
       "29               2023  международные отношения, Глобальная климатичес...   \n",
       "56               2023  коммуникативная методика преподавания английск...   \n",
       "57               2023  Международные отношения в Арктическом регионе,...   \n",
       "60               2023  иностранные языки, иностранные языки и межкуль...   \n",
       "67               2023                   рождаемость в России, демография   \n",
       "80               2023  политическая стабильность, идентичность, госуд...   \n",
       "88               2023  национальная идентичность, региональная иденти...   \n",
       "\n",
       "    n_of_best                           languages  n_languages   \n",
       "3           0                          английский            1  \\\n",
       "23          0  английский, русский, португальский            3   \n",
       "29          0                английский, немецкий            2   \n",
       "56          0   английский, немецкий, французский            3   \n",
       "57          0                          английский            1   \n",
       "60          0  английский, французский, испанский            3   \n",
       "67          0                английский, немецкий            2   \n",
       "80          0             английский, французский            2   \n",
       "88          0             английский, французский            2   \n",
       "\n",
       "    n_of_publications  n_unique_courses   \n",
       "3                   0                 6  \\\n",
       "23                  0                 3   \n",
       "29                  0                 1   \n",
       "56                  0                 6   \n",
       "57                  8                 5   \n",
       "60                  0                 9   \n",
       "67                  2                 3   \n",
       "80                 17                 2   \n",
       "88                  2                 2   \n",
       "\n",
       "                                       unique_courses   \n",
       "3   Макроэкономика, Макроэкономика (продвинутый ур...  \\\n",
       "23  Основы российской государственности, Политолог...   \n",
       "29         World Politics and International Relations   \n",
       "56  English for General Communication Purposes. Ad...   \n",
       "57  International Relations in the Post-Soviet Spa...   \n",
       "60  English for General Academic Purposes. Advance...   \n",
       "67    Demography, Демография, Политическая демография   \n",
       "80   Политический менеджмент, Политическое управление   \n",
       "88  Научно-исследовательский семинар, Научно-иссле...   \n",
       "\n",
       "                                                 link  \n",
       "3   https://www.hse.ru/mirror/org/persons/redir/20...  \n",
       "23  https://www.hse.ru/mirror/org/persons/redir/22...  \n",
       "29  https://www.hse.ru/mirror/org/persons/redir/79...  \n",
       "56  https://www.hse.ru/mirror/org/persons/redir/74...  \n",
       "57  https://www.hse.ru/mirror/org/persons/redir/85...  \n",
       "60  https://www.hse.ru/mirror/org/persons/redir/19...  \n",
       "67  https://www.hse.ru/mirror/org/persons/redir/82...  \n",
       "80  https://www.hse.ru/mirror/org/persons/redir/85...  \n",
       "88  https://www.hse.ru/mirror/org/persons/redir/30...  "
      ]
     },
     "execution_count": 24,
     "metadata": {},
     "output_type": "execute_result"
    }
   ],
   "source": [
    "# фильтрация в pandas работает следующим образом: \n",
    "df[df['year_start_in_hse'] > 2022] # преподаватели, которые работают в Вышке с 2023 года;"
   ]
  },
  {
   "cell_type": "code",
   "execution_count": 25,
   "id": "427f5e03",
   "metadata": {
    "scrolled": true
   },
   "outputs": [
    {
     "data": {
      "text/html": [
       "<div>\n",
       "<style scoped>\n",
       "    .dataframe tbody tr th:only-of-type {\n",
       "        vertical-align: middle;\n",
       "    }\n",
       "\n",
       "    .dataframe tbody tr th {\n",
       "        vertical-align: top;\n",
       "    }\n",
       "\n",
       "    .dataframe thead th {\n",
       "        text-align: right;\n",
       "    }\n",
       "</style>\n",
       "<table border=\"1\" class=\"dataframe\">\n",
       "  <thead>\n",
       "    <tr style=\"text-align: right;\">\n",
       "      <th></th>\n",
       "      <th>name</th>\n",
       "      <th>is_bachelor</th>\n",
       "      <th>is_master</th>\n",
       "      <th>is_candidat</th>\n",
       "      <th>year_start_in_hse</th>\n",
       "      <th>interests</th>\n",
       "      <th>n_of_best</th>\n",
       "      <th>languages</th>\n",
       "      <th>n_languages</th>\n",
       "      <th>n_of_publications</th>\n",
       "      <th>n_unique_courses</th>\n",
       "      <th>unique_courses</th>\n",
       "      <th>link</th>\n",
       "    </tr>\n",
       "  </thead>\n",
       "  <tbody>\n",
       "    <tr>\n",
       "      <th>6</th>\n",
       "      <td>Баранова Татьяна Александровна</td>\n",
       "      <td>0</td>\n",
       "      <td>0</td>\n",
       "      <td>0</td>\n",
       "      <td>2018</td>\n",
       "      <td>фонетика, фонетика и интонация английского язы...</td>\n",
       "      <td>0</td>\n",
       "      <td>английский, французский</td>\n",
       "      <td>2</td>\n",
       "      <td>2</td>\n",
       "      <td>13</td>\n",
       "      <td>English Language, English for General Academic...</td>\n",
       "      <td>https://www.hse.ru/mirror/org/persons/redir/22...</td>\n",
       "    </tr>\n",
       "    <tr>\n",
       "      <th>7</th>\n",
       "      <td>Борисенко Максим Сергеевич</td>\n",
       "      <td>1</td>\n",
       "      <td>0</td>\n",
       "      <td>0</td>\n",
       "      <td>2020</td>\n",
       "      <td>федерализм, гражданское образование, многоуров...</td>\n",
       "      <td>0</td>\n",
       "      <td>английский, немецкий</td>\n",
       "      <td>2</td>\n",
       "      <td>1</td>\n",
       "      <td>5</td>\n",
       "      <td>Comparative Politics, Contemporary Russian Pol...</td>\n",
       "      <td>https://www.hse.ru/mirror/org/persons/redir/16...</td>\n",
       "    </tr>\n",
       "    <tr>\n",
       "      <th>8</th>\n",
       "      <td>Бородкина Елена Владимировна</td>\n",
       "      <td>0</td>\n",
       "      <td>0</td>\n",
       "      <td>0</td>\n",
       "      <td>2013</td>\n",
       "      <td>общие проблемы грамматики, культура речи и язы...</td>\n",
       "      <td>0</td>\n",
       "      <td>английский, французский</td>\n",
       "      <td>2</td>\n",
       "      <td>1</td>\n",
       "      <td>13</td>\n",
       "      <td>English Language, English for Business Purpose...</td>\n",
       "      <td>https://www.hse.ru/mirror/org/persons/redir/95...</td>\n",
       "    </tr>\n",
       "    <tr>\n",
       "      <th>16</th>\n",
       "      <td>Данилова Елизавета Андреевна</td>\n",
       "      <td>1</td>\n",
       "      <td>0</td>\n",
       "      <td>0</td>\n",
       "      <td>2018</td>\n",
       "      <td>английская грамматика, лингвистика лингводидак...</td>\n",
       "      <td>0</td>\n",
       "      <td>французский, английский</td>\n",
       "      <td>2</td>\n",
       "      <td>2</td>\n",
       "      <td>9</td>\n",
       "      <td>English Language, English for General Academic...</td>\n",
       "      <td>https://www.hse.ru/mirror/org/persons/redir/22...</td>\n",
       "    </tr>\n",
       "    <tr>\n",
       "      <th>18</th>\n",
       "      <td>Джахангирова Вефа Сабухи кызы</td>\n",
       "      <td>1</td>\n",
       "      <td>0</td>\n",
       "      <td>0</td>\n",
       "      <td>2022</td>\n",
       "      <td>перевод и переводоведение, иностранные языки, ...</td>\n",
       "      <td>0</td>\n",
       "      <td>английский, испанский, турецкий</td>\n",
       "      <td>3</td>\n",
       "      <td>1</td>\n",
       "      <td>7</td>\n",
       "      <td>Academic English Writing, English for Business...</td>\n",
       "      <td>https://www.hse.ru/mirror/org/persons/redir/22...</td>\n",
       "    </tr>\n",
       "    <tr>\n",
       "      <th>19</th>\n",
       "      <td>Долгушина Елена Анатольевна</td>\n",
       "      <td>0</td>\n",
       "      <td>0</td>\n",
       "      <td>0</td>\n",
       "      <td>2006</td>\n",
       "      <td>методика преподавания иностранного языка, псих...</td>\n",
       "      <td>0</td>\n",
       "      <td>английский, французский, белорусский</td>\n",
       "      <td>3</td>\n",
       "      <td>1</td>\n",
       "      <td>7</td>\n",
       "      <td>English for Business Purposes. Advanced Course...</td>\n",
       "      <td>https://www.hse.ru/mirror/org/persons/redir/36...</td>\n",
       "    </tr>\n",
       "    <tr>\n",
       "      <th>20</th>\n",
       "      <td>Егорова Инна Сергеевна</td>\n",
       "      <td>0</td>\n",
       "      <td>0</td>\n",
       "      <td>0</td>\n",
       "      <td>2009</td>\n",
       "      <td>методика преподавания, межкультурная коммуника...</td>\n",
       "      <td>0</td>\n",
       "      <td>английский</td>\n",
       "      <td>1</td>\n",
       "      <td>7</td>\n",
       "      <td>8</td>\n",
       "      <td>English Language, English for Specific Purpose...</td>\n",
       "      <td>https://www.hse.ru/mirror/org/persons/redir/10...</td>\n",
       "    </tr>\n",
       "    <tr>\n",
       "      <th>21</th>\n",
       "      <td>Зарипов Никита Андреевич</td>\n",
       "      <td>1</td>\n",
       "      <td>0</td>\n",
       "      <td>0</td>\n",
       "      <td>2022</td>\n",
       "      <td>политические институты и процессы в России, за...</td>\n",
       "      <td>0</td>\n",
       "      <td>английский</td>\n",
       "      <td>1</td>\n",
       "      <td>5</td>\n",
       "      <td>2</td>\n",
       "      <td>Научно-исследовательский семинар, Научно-иссле...</td>\n",
       "      <td>https://www.hse.ru/mirror/org/persons/redir/22...</td>\n",
       "    </tr>\n",
       "    <tr>\n",
       "      <th>23</th>\n",
       "      <td>Игнатьев Глеб Игоревич</td>\n",
       "      <td>1</td>\n",
       "      <td>0</td>\n",
       "      <td>0</td>\n",
       "      <td>2023</td>\n",
       "      <td>политические науки</td>\n",
       "      <td>0</td>\n",
       "      <td>английский, русский, португальский</td>\n",
       "      <td>3</td>\n",
       "      <td>0</td>\n",
       "      <td>3</td>\n",
       "      <td>Основы российской государственности, Политолог...</td>\n",
       "      <td>https://www.hse.ru/mirror/org/persons/redir/22...</td>\n",
       "    </tr>\n",
       "    <tr>\n",
       "      <th>27</th>\n",
       "      <td>Каспэ Святослав Игоревич</td>\n",
       "      <td>0</td>\n",
       "      <td>0</td>\n",
       "      <td>0</td>\n",
       "      <td>1999</td>\n",
       "      <td>имперские политические системы, федерализм, По...</td>\n",
       "      <td>8</td>\n",
       "      <td>английский, французский</td>\n",
       "      <td>2</td>\n",
       "      <td>43</td>\n",
       "      <td>5</td>\n",
       "      <td>Большие идеи в политике: актуальность несоврем...</td>\n",
       "      <td>https://www.hse.ru/mirror/org/persons/redir/67...</td>\n",
       "    </tr>\n",
       "    <tr>\n",
       "      <th>30</th>\n",
       "      <td>Кошелева Виктория Павловна</td>\n",
       "      <td>0</td>\n",
       "      <td>0</td>\n",
       "      <td>0</td>\n",
       "      <td>2019</td>\n",
       "      <td>коммуникативный подход, грамматика английского...</td>\n",
       "      <td>0</td>\n",
       "      <td>английский, немецкий, французский</td>\n",
       "      <td>3</td>\n",
       "      <td>0</td>\n",
       "      <td>12</td>\n",
       "      <td>Academic English Writing, English for General ...</td>\n",
       "      <td>https://www.hse.ru/mirror/org/persons/redir/30...</td>\n",
       "    </tr>\n",
       "    <tr>\n",
       "      <th>32</th>\n",
       "      <td>Кузина Екатерина Андреевна</td>\n",
       "      <td>0</td>\n",
       "      <td>0</td>\n",
       "      <td>0</td>\n",
       "      <td>2020</td>\n",
       "      <td>преподавание английского языка в вузе, иностра...</td>\n",
       "      <td>0</td>\n",
       "      <td>английский, немецкий, испанский</td>\n",
       "      <td>3</td>\n",
       "      <td>0</td>\n",
       "      <td>1</td>\n",
       "      <td>NaN</td>\n",
       "      <td>https://www.hse.ru/mirror/org/persons/redir/30...</td>\n",
       "    </tr>\n",
       "    <tr>\n",
       "      <th>34</th>\n",
       "      <td>Кульков Даниил Андреевич</td>\n",
       "      <td>0</td>\n",
       "      <td>0</td>\n",
       "      <td>0</td>\n",
       "      <td>2022</td>\n",
       "      <td>иностранные языки и межкультурная коммуникация...</td>\n",
       "      <td>0</td>\n",
       "      <td>английский, немецкий</td>\n",
       "      <td>2</td>\n",
       "      <td>1</td>\n",
       "      <td>11</td>\n",
       "      <td>English for General Academic Purposes. Profici...</td>\n",
       "      <td>https://www.hse.ru/mirror/org/persons/redir/74...</td>\n",
       "    </tr>\n",
       "    <tr>\n",
       "      <th>35</th>\n",
       "      <td>Левитская Галина Юрьевна</td>\n",
       "      <td>0</td>\n",
       "      <td>0</td>\n",
       "      <td>0</td>\n",
       "      <td>1998</td>\n",
       "      <td>художественная литература, Язык специальности ...</td>\n",
       "      <td>0</td>\n",
       "      <td>английский, немецкий</td>\n",
       "      <td>2</td>\n",
       "      <td>17</td>\n",
       "      <td>10</td>\n",
       "      <td>English Language, English for General Communic...</td>\n",
       "      <td>https://www.hse.ru/mirror/org/persons/redir/64...</td>\n",
       "    </tr>\n",
       "    <tr>\n",
       "      <th>37</th>\n",
       "      <td>Леонов Тимофей Витальевич</td>\n",
       "      <td>1</td>\n",
       "      <td>0</td>\n",
       "      <td>0</td>\n",
       "      <td>2021</td>\n",
       "      <td>иностранные языки, иностранные языки и межкуль...</td>\n",
       "      <td>0</td>\n",
       "      <td>английский, французский, испанский</td>\n",
       "      <td>3</td>\n",
       "      <td>5</td>\n",
       "      <td>7</td>\n",
       "      <td>Academic English Writing, English for General ...</td>\n",
       "      <td>https://www.hse.ru/mirror/org/persons/redir/20...</td>\n",
       "    </tr>\n",
       "    <tr>\n",
       "      <th>40</th>\n",
       "      <td>Лучкина Татьяна Васильевна</td>\n",
       "      <td>0</td>\n",
       "      <td>0</td>\n",
       "      <td>0</td>\n",
       "      <td>2009</td>\n",
       "      <td>оценивание и тестирование, английский язык для...</td>\n",
       "      <td>1</td>\n",
       "      <td>английский</td>\n",
       "      <td>1</td>\n",
       "      <td>0</td>\n",
       "      <td>9</td>\n",
       "      <td>English for General Communication Purposes. Ad...</td>\n",
       "      <td>https://www.hse.ru/mirror/org/persons/redir/10...</td>\n",
       "    </tr>\n",
       "    <tr>\n",
       "      <th>41</th>\n",
       "      <td>Мазурова Дарья Андреевна</td>\n",
       "      <td>0</td>\n",
       "      <td>0</td>\n",
       "      <td>0</td>\n",
       "      <td>2022</td>\n",
       "      <td>лексикология английского языка, медиадискурс</td>\n",
       "      <td>0</td>\n",
       "      <td>английский, русский, испанский</td>\n",
       "      <td>3</td>\n",
       "      <td>0</td>\n",
       "      <td>10</td>\n",
       "      <td>English Language in Interdisciplinary Contexts...</td>\n",
       "      <td>https://www.hse.ru/mirror/org/persons/redir/40...</td>\n",
       "    </tr>\n",
       "    <tr>\n",
       "      <th>43</th>\n",
       "      <td>Макарова Яна Петровна</td>\n",
       "      <td>0</td>\n",
       "      <td>0</td>\n",
       "      <td>0</td>\n",
       "      <td>2012</td>\n",
       "      <td>16.00.00 Языкознание, 14.07.09 Общая методика ...</td>\n",
       "      <td>0</td>\n",
       "      <td>английский, японский</td>\n",
       "      <td>2</td>\n",
       "      <td>4</td>\n",
       "      <td>4</td>\n",
       "      <td>English for General Communication Purposes. In...</td>\n",
       "      <td>https://www.hse.ru/mirror/org/persons/redir/64...</td>\n",
       "    </tr>\n",
       "    <tr>\n",
       "      <th>52</th>\n",
       "      <td>Мостачева Елена Юрьевна</td>\n",
       "      <td>0</td>\n",
       "      <td>0</td>\n",
       "      <td>0</td>\n",
       "      <td>2003</td>\n",
       "      <td>Идиомы и фразеологизмы, дискурс</td>\n",
       "      <td>0</td>\n",
       "      <td>английский, немецкий</td>\n",
       "      <td>2</td>\n",
       "      <td>5</td>\n",
       "      <td>10</td>\n",
       "      <td>English for General Academic Purposes. Advance...</td>\n",
       "      <td>https://www.hse.ru/mirror/org/persons/redir/13...</td>\n",
       "    </tr>\n",
       "    <tr>\n",
       "      <th>55</th>\n",
       "      <td>Орлов Игорь Борисович</td>\n",
       "      <td>0</td>\n",
       "      <td>0</td>\n",
       "      <td>0</td>\n",
       "      <td>2002</td>\n",
       "      <td>03.01.07 Методология и методы исследования ист...</td>\n",
       "      <td>6</td>\n",
       "      <td>английский</td>\n",
       "      <td>1</td>\n",
       "      <td>150</td>\n",
       "      <td>4</td>\n",
       "      <td>История России новейшего времени, Научно-иссле...</td>\n",
       "      <td>https://www.hse.ru/mirror/org/persons/redir/67...</td>\n",
       "    </tr>\n",
       "    <tr>\n",
       "      <th>56</th>\n",
       "      <td>Павлова Ксения Валерьевна</td>\n",
       "      <td>0</td>\n",
       "      <td>0</td>\n",
       "      <td>0</td>\n",
       "      <td>2023</td>\n",
       "      <td>коммуникативная методика преподавания английск...</td>\n",
       "      <td>0</td>\n",
       "      <td>английский, немецкий, французский</td>\n",
       "      <td>3</td>\n",
       "      <td>0</td>\n",
       "      <td>6</td>\n",
       "      <td>English for General Communication Purposes. Ad...</td>\n",
       "      <td>https://www.hse.ru/mirror/org/persons/redir/74...</td>\n",
       "    </tr>\n",
       "    <tr>\n",
       "      <th>59</th>\n",
       "      <td>Перепечкина Наталья Валентиновна</td>\n",
       "      <td>1</td>\n",
       "      <td>0</td>\n",
       "      <td>0</td>\n",
       "      <td>2016</td>\n",
       "      <td>иностранные языки, английский для делового общ...</td>\n",
       "      <td>0</td>\n",
       "      <td>английский, португальский</td>\n",
       "      <td>2</td>\n",
       "      <td>0</td>\n",
       "      <td>6</td>\n",
       "      <td>English for Business Purposes. Advanced Course...</td>\n",
       "      <td>https://www.hse.ru/mirror/org/persons/redir/19...</td>\n",
       "    </tr>\n",
       "    <tr>\n",
       "      <th>61</th>\n",
       "      <td>Питра Татьяна Георгиевна</td>\n",
       "      <td>0</td>\n",
       "      <td>0</td>\n",
       "      <td>0</td>\n",
       "      <td>2009</td>\n",
       "      <td>коммуникативная методика преподавания иностран...</td>\n",
       "      <td>0</td>\n",
       "      <td>английский, немецкий</td>\n",
       "      <td>2</td>\n",
       "      <td>1</td>\n",
       "      <td>9</td>\n",
       "      <td>English for General Academic Purposes. Upper-I...</td>\n",
       "      <td>https://www.hse.ru/mirror/org/persons/redir/10...</td>\n",
       "    </tr>\n",
       "    <tr>\n",
       "      <th>62</th>\n",
       "      <td>Поляков Леонид Владимирович</td>\n",
       "      <td>0</td>\n",
       "      <td>0</td>\n",
       "      <td>0</td>\n",
       "      <td>2003</td>\n",
       "      <td>история политических учений, политическая фило...</td>\n",
       "      <td>5</td>\n",
       "      <td>английский</td>\n",
       "      <td>1</td>\n",
       "      <td>47</td>\n",
       "      <td>4</td>\n",
       "      <td>GR в современной России: теория и практика, Бо...</td>\n",
       "      <td>https://www.hse.ru/mirror/org/persons/redir/67...</td>\n",
       "    </tr>\n",
       "    <tr>\n",
       "      <th>63</th>\n",
       "      <td>Попова Анна Игоревна</td>\n",
       "      <td>0</td>\n",
       "      <td>0</td>\n",
       "      <td>0</td>\n",
       "      <td>2020</td>\n",
       "      <td>межкультурная коммуникация</td>\n",
       "      <td>0</td>\n",
       "      <td>английский, французский</td>\n",
       "      <td>2</td>\n",
       "      <td>0</td>\n",
       "      <td>6</td>\n",
       "      <td>English for Business Purposes. Advanced Course...</td>\n",
       "      <td>https://www.hse.ru/mirror/org/persons/redir/41...</td>\n",
       "    </tr>\n",
       "    <tr>\n",
       "      <th>68</th>\n",
       "      <td>Рокотянская Людмила Юрьевна</td>\n",
       "      <td>0</td>\n",
       "      <td>0</td>\n",
       "      <td>0</td>\n",
       "      <td>2004</td>\n",
       "      <td>Разработка авторских программ и курсов, корпус...</td>\n",
       "      <td>0</td>\n",
       "      <td>русский, английский, французский</td>\n",
       "      <td>3</td>\n",
       "      <td>2</td>\n",
       "      <td>9</td>\n",
       "      <td>English for Business Purposes. Advanced Course...</td>\n",
       "      <td>https://www.hse.ru/mirror/org/persons/redir/69...</td>\n",
       "    </tr>\n",
       "    <tr>\n",
       "      <th>74</th>\n",
       "      <td>Смирнов Никита Максимович</td>\n",
       "      <td>1</td>\n",
       "      <td>0</td>\n",
       "      <td>0</td>\n",
       "      <td>2020</td>\n",
       "      <td>политическая теория, социология высшего образо...</td>\n",
       "      <td>0</td>\n",
       "      <td>английский, французский</td>\n",
       "      <td>2</td>\n",
       "      <td>2</td>\n",
       "      <td>5</td>\n",
       "      <td>Data Culture, Культура работы с данными, Научн...</td>\n",
       "      <td>https://www.hse.ru/mirror/org/persons/redir/22...</td>\n",
       "    </tr>\n",
       "    <tr>\n",
       "      <th>79</th>\n",
       "      <td>Тамбовцева Алла Андреевна</td>\n",
       "      <td>1</td>\n",
       "      <td>0</td>\n",
       "      <td>0</td>\n",
       "      <td>2014</td>\n",
       "      <td>16.31.21 Автоматическая обработка текста. Авто...</td>\n",
       "      <td>7</td>\n",
       "      <td>английский, испанский, французский, словенский</td>\n",
       "      <td>4</td>\n",
       "      <td>2</td>\n",
       "      <td>24</td>\n",
       "      <td>Data Analysis in the Social Sciences, Preproce...</td>\n",
       "      <td>https://www.hse.ru/mirror/org/persons/redir/65...</td>\n",
       "    </tr>\n",
       "    <tr>\n",
       "      <th>80</th>\n",
       "      <td>Телин Кирилл Олегович</td>\n",
       "      <td>0</td>\n",
       "      <td>0</td>\n",
       "      <td>0</td>\n",
       "      <td>2023</td>\n",
       "      <td>политическая стабильность, идентичность, госуд...</td>\n",
       "      <td>0</td>\n",
       "      <td>английский, французский</td>\n",
       "      <td>2</td>\n",
       "      <td>17</td>\n",
       "      <td>2</td>\n",
       "      <td>Политический менеджмент, Политическое управление</td>\n",
       "      <td>https://www.hse.ru/mirror/org/persons/redir/85...</td>\n",
       "    </tr>\n",
       "    <tr>\n",
       "      <th>88</th>\n",
       "      <td>Чебанова Дарья Сергеевна</td>\n",
       "      <td>0</td>\n",
       "      <td>0</td>\n",
       "      <td>0</td>\n",
       "      <td>2023</td>\n",
       "      <td>национальная идентичность, региональная иденти...</td>\n",
       "      <td>0</td>\n",
       "      <td>английский, французский</td>\n",
       "      <td>2</td>\n",
       "      <td>2</td>\n",
       "      <td>2</td>\n",
       "      <td>Научно-исследовательский семинар, Научно-иссле...</td>\n",
       "      <td>https://www.hse.ru/mirror/org/persons/redir/30...</td>\n",
       "    </tr>\n",
       "    <tr>\n",
       "      <th>91</th>\n",
       "      <td>Шендерович Мария Филипповна</td>\n",
       "      <td>0</td>\n",
       "      <td>0</td>\n",
       "      <td>0</td>\n",
       "      <td>2016</td>\n",
       "      <td>иностранные языки</td>\n",
       "      <td>0</td>\n",
       "      <td>английский</td>\n",
       "      <td>1</td>\n",
       "      <td>0</td>\n",
       "      <td>8</td>\n",
       "      <td>English for General Communication Purposes. In...</td>\n",
       "      <td>https://www.hse.ru/mirror/org/persons/redir/19...</td>\n",
       "    </tr>\n",
       "  </tbody>\n",
       "</table>\n",
       "</div>"
      ],
      "text/plain": [
       "                                name  is_bachelor  is_master  is_candidat   \n",
       "6     Баранова Татьяна Александровна            0          0            0  \\\n",
       "7         Борисенко Максим Сергеевич            1          0            0   \n",
       "8       Бородкина Елена Владимировна            0          0            0   \n",
       "16      Данилова Елизавета Андреевна            1          0            0   \n",
       "18     Джахангирова Вефа Сабухи кызы            1          0            0   \n",
       "19       Долгушина Елена Анатольевна            0          0            0   \n",
       "20            Егорова Инна Сергеевна            0          0            0   \n",
       "21          Зарипов Никита Андреевич            1          0            0   \n",
       "23            Игнатьев Глеб Игоревич            1          0            0   \n",
       "27          Каспэ Святослав Игоревич            0          0            0   \n",
       "30        Кошелева Виктория Павловна            0          0            0   \n",
       "32        Кузина Екатерина Андреевна            0          0            0   \n",
       "34          Кульков Даниил Андреевич            0          0            0   \n",
       "35          Левитская Галина Юрьевна            0          0            0   \n",
       "37         Леонов Тимофей Витальевич            1          0            0   \n",
       "40        Лучкина Татьяна Васильевна            0          0            0   \n",
       "41          Мазурова Дарья Андреевна            0          0            0   \n",
       "43             Макарова Яна Петровна            0          0            0   \n",
       "52           Мостачева Елена Юрьевна            0          0            0   \n",
       "55             Орлов Игорь Борисович            0          0            0   \n",
       "56         Павлова Ксения Валерьевна            0          0            0   \n",
       "59  Перепечкина Наталья Валентиновна            1          0            0   \n",
       "61          Питра Татьяна Георгиевна            0          0            0   \n",
       "62       Поляков Леонид Владимирович            0          0            0   \n",
       "63              Попова Анна Игоревна            0          0            0   \n",
       "68       Рокотянская Людмила Юрьевна            0          0            0   \n",
       "74         Смирнов Никита Максимович            1          0            0   \n",
       "79         Тамбовцева Алла Андреевна            1          0            0   \n",
       "80             Телин Кирилл Олегович            0          0            0   \n",
       "88          Чебанова Дарья Сергеевна            0          0            0   \n",
       "91       Шендерович Мария Филипповна            0          0            0   \n",
       "\n",
       "    year_start_in_hse                                          interests   \n",
       "6                2018  фонетика, фонетика и интонация английского язы...  \\\n",
       "7                2020  федерализм, гражданское образование, многоуров...   \n",
       "8                2013  общие проблемы грамматики, культура речи и язы...   \n",
       "16               2018  английская грамматика, лингвистика лингводидак...   \n",
       "18               2022  перевод и переводоведение, иностранные языки, ...   \n",
       "19               2006  методика преподавания иностранного языка, псих...   \n",
       "20               2009  методика преподавания, межкультурная коммуника...   \n",
       "21               2022  политические институты и процессы в России, за...   \n",
       "23               2023                                 политические науки   \n",
       "27               1999  имперские политические системы, федерализм, По...   \n",
       "30               2019  коммуникативный подход, грамматика английского...   \n",
       "32               2020  преподавание английского языка в вузе, иностра...   \n",
       "34               2022  иностранные языки и межкультурная коммуникация...   \n",
       "35               1998  художественная литература, Язык специальности ...   \n",
       "37               2021  иностранные языки, иностранные языки и межкуль...   \n",
       "40               2009  оценивание и тестирование, английский язык для...   \n",
       "41               2022       лексикология английского языка, медиадискурс   \n",
       "43               2012  16.00.00 Языкознание, 14.07.09 Общая методика ...   \n",
       "52               2003                    Идиомы и фразеологизмы, дискурс   \n",
       "55               2002  03.01.07 Методология и методы исследования ист...   \n",
       "56               2023  коммуникативная методика преподавания английск...   \n",
       "59               2016  иностранные языки, английский для делового общ...   \n",
       "61               2009  коммуникативная методика преподавания иностран...   \n",
       "62               2003  история политических учений, политическая фило...   \n",
       "63               2020                         межкультурная коммуникация   \n",
       "68               2004  Разработка авторских программ и курсов, корпус...   \n",
       "74               2020  политическая теория, социология высшего образо...   \n",
       "79               2014  16.31.21 Автоматическая обработка текста. Авто...   \n",
       "80               2023  политическая стабильность, идентичность, госуд...   \n",
       "88               2023  национальная идентичность, региональная иденти...   \n",
       "91               2016                                  иностранные языки   \n",
       "\n",
       "    n_of_best                                       languages  n_languages   \n",
       "6           0                         английский, французский            2  \\\n",
       "7           0                            английский, немецкий            2   \n",
       "8           0                         английский, французский            2   \n",
       "16          0                         французский, английский            2   \n",
       "18          0                 английский, испанский, турецкий            3   \n",
       "19          0            английский, французский, белорусский            3   \n",
       "20          0                                      английский            1   \n",
       "21          0                                      английский            1   \n",
       "23          0              английский, русский, португальский            3   \n",
       "27          8                         английский, французский            2   \n",
       "30          0               английский, немецкий, французский            3   \n",
       "32          0                 английский, немецкий, испанский            3   \n",
       "34          0                            английский, немецкий            2   \n",
       "35          0                            английский, немецкий            2   \n",
       "37          0              английский, французский, испанский            3   \n",
       "40          1                                      английский            1   \n",
       "41          0                  английский, русский, испанский            3   \n",
       "43          0                            английский, японский            2   \n",
       "52          0                            английский, немецкий            2   \n",
       "55          6                                      английский            1   \n",
       "56          0               английский, немецкий, французский            3   \n",
       "59          0                       английский, португальский            2   \n",
       "61          0                            английский, немецкий            2   \n",
       "62          5                                      английский            1   \n",
       "63          0                         английский, французский            2   \n",
       "68          0                русский, английский, французский            3   \n",
       "74          0                         английский, французский            2   \n",
       "79          7  английский, испанский, французский, словенский            4   \n",
       "80          0                         английский, французский            2   \n",
       "88          0                         английский, французский            2   \n",
       "91          0                                      английский            1   \n",
       "\n",
       "    n_of_publications  n_unique_courses   \n",
       "6                   2                13  \\\n",
       "7                   1                 5   \n",
       "8                   1                13   \n",
       "16                  2                 9   \n",
       "18                  1                 7   \n",
       "19                  1                 7   \n",
       "20                  7                 8   \n",
       "21                  5                 2   \n",
       "23                  0                 3   \n",
       "27                 43                 5   \n",
       "30                  0                12   \n",
       "32                  0                 1   \n",
       "34                  1                11   \n",
       "35                 17                10   \n",
       "37                  5                 7   \n",
       "40                  0                 9   \n",
       "41                  0                10   \n",
       "43                  4                 4   \n",
       "52                  5                10   \n",
       "55                150                 4   \n",
       "56                  0                 6   \n",
       "59                  0                 6   \n",
       "61                  1                 9   \n",
       "62                 47                 4   \n",
       "63                  0                 6   \n",
       "68                  2                 9   \n",
       "74                  2                 5   \n",
       "79                  2                24   \n",
       "80                 17                 2   \n",
       "88                  2                 2   \n",
       "91                  0                 8   \n",
       "\n",
       "                                       unique_courses   \n",
       "6   English Language, English for General Academic...  \\\n",
       "7   Comparative Politics, Contemporary Russian Pol...   \n",
       "8   English Language, English for Business Purpose...   \n",
       "16  English Language, English for General Academic...   \n",
       "18  Academic English Writing, English for Business...   \n",
       "19  English for Business Purposes. Advanced Course...   \n",
       "20  English Language, English for Specific Purpose...   \n",
       "21  Научно-исследовательский семинар, Научно-иссле...   \n",
       "23  Основы российской государственности, Политолог...   \n",
       "27  Большие идеи в политике: актуальность несоврем...   \n",
       "30  Academic English Writing, English for General ...   \n",
       "32                                                NaN   \n",
       "34  English for General Academic Purposes. Profici...   \n",
       "35  English Language, English for General Communic...   \n",
       "37  Academic English Writing, English for General ...   \n",
       "40  English for General Communication Purposes. Ad...   \n",
       "41  English Language in Interdisciplinary Contexts...   \n",
       "43  English for General Communication Purposes. In...   \n",
       "52  English for General Academic Purposes. Advance...   \n",
       "55  История России новейшего времени, Научно-иссле...   \n",
       "56  English for General Communication Purposes. Ad...   \n",
       "59  English for Business Purposes. Advanced Course...   \n",
       "61  English for General Academic Purposes. Upper-I...   \n",
       "62  GR в современной России: теория и практика, Бо...   \n",
       "63  English for Business Purposes. Advanced Course...   \n",
       "68  English for Business Purposes. Advanced Course...   \n",
       "74  Data Culture, Культура работы с данными, Научн...   \n",
       "79  Data Analysis in the Social Sciences, Preproce...   \n",
       "80   Политический менеджмент, Политическое управление   \n",
       "88  Научно-исследовательский семинар, Научно-иссле...   \n",
       "91  English for General Communication Purposes. In...   \n",
       "\n",
       "                                                 link  \n",
       "6   https://www.hse.ru/mirror/org/persons/redir/22...  \n",
       "7   https://www.hse.ru/mirror/org/persons/redir/16...  \n",
       "8   https://www.hse.ru/mirror/org/persons/redir/95...  \n",
       "16  https://www.hse.ru/mirror/org/persons/redir/22...  \n",
       "18  https://www.hse.ru/mirror/org/persons/redir/22...  \n",
       "19  https://www.hse.ru/mirror/org/persons/redir/36...  \n",
       "20  https://www.hse.ru/mirror/org/persons/redir/10...  \n",
       "21  https://www.hse.ru/mirror/org/persons/redir/22...  \n",
       "23  https://www.hse.ru/mirror/org/persons/redir/22...  \n",
       "27  https://www.hse.ru/mirror/org/persons/redir/67...  \n",
       "30  https://www.hse.ru/mirror/org/persons/redir/30...  \n",
       "32  https://www.hse.ru/mirror/org/persons/redir/30...  \n",
       "34  https://www.hse.ru/mirror/org/persons/redir/74...  \n",
       "35  https://www.hse.ru/mirror/org/persons/redir/64...  \n",
       "37  https://www.hse.ru/mirror/org/persons/redir/20...  \n",
       "40  https://www.hse.ru/mirror/org/persons/redir/10...  \n",
       "41  https://www.hse.ru/mirror/org/persons/redir/40...  \n",
       "43  https://www.hse.ru/mirror/org/persons/redir/64...  \n",
       "52  https://www.hse.ru/mirror/org/persons/redir/13...  \n",
       "55  https://www.hse.ru/mirror/org/persons/redir/67...  \n",
       "56  https://www.hse.ru/mirror/org/persons/redir/74...  \n",
       "59  https://www.hse.ru/mirror/org/persons/redir/19...  \n",
       "61  https://www.hse.ru/mirror/org/persons/redir/10...  \n",
       "62  https://www.hse.ru/mirror/org/persons/redir/67...  \n",
       "63  https://www.hse.ru/mirror/org/persons/redir/41...  \n",
       "68  https://www.hse.ru/mirror/org/persons/redir/69...  \n",
       "74  https://www.hse.ru/mirror/org/persons/redir/22...  \n",
       "79  https://www.hse.ru/mirror/org/persons/redir/65...  \n",
       "80  https://www.hse.ru/mirror/org/persons/redir/85...  \n",
       "88  https://www.hse.ru/mirror/org/persons/redir/30...  \n",
       "91  https://www.hse.ru/mirror/org/persons/redir/19...  "
      ]
     },
     "execution_count": 25,
     "metadata": {},
     "output_type": "execute_result"
    }
   ],
   "source": [
    "# если мы хотим использовать несколько условий для фильтрации, нужно использовать мягкие скобки \n",
    "# и логические операторы между ними\n",
    "\n",
    "# преподаватели, у которых нет магистерской И кандидатской\n",
    "df[(df['is_master'] == 0) & (df['is_candidat'] == 0)] # & это логическое \"И\""
   ]
  },
  {
   "cell_type": "code",
   "execution_count": 26,
   "id": "dfdef4c8",
   "metadata": {},
   "outputs": [
    {
     "data": {
      "text/html": [
       "<div>\n",
       "<style scoped>\n",
       "    .dataframe tbody tr th:only-of-type {\n",
       "        vertical-align: middle;\n",
       "    }\n",
       "\n",
       "    .dataframe tbody tr th {\n",
       "        vertical-align: top;\n",
       "    }\n",
       "\n",
       "    .dataframe thead th {\n",
       "        text-align: right;\n",
       "    }\n",
       "</style>\n",
       "<table border=\"1\" class=\"dataframe\">\n",
       "  <thead>\n",
       "    <tr style=\"text-align: right;\">\n",
       "      <th></th>\n",
       "      <th>name</th>\n",
       "      <th>is_bachelor</th>\n",
       "      <th>is_master</th>\n",
       "      <th>is_candidat</th>\n",
       "      <th>year_start_in_hse</th>\n",
       "      <th>interests</th>\n",
       "      <th>n_of_best</th>\n",
       "      <th>languages</th>\n",
       "      <th>n_languages</th>\n",
       "      <th>n_of_publications</th>\n",
       "      <th>n_unique_courses</th>\n",
       "      <th>unique_courses</th>\n",
       "      <th>link</th>\n",
       "    </tr>\n",
       "  </thead>\n",
       "  <tbody>\n",
       "    <tr>\n",
       "      <th>0</th>\n",
       "      <td>Акаева Кавсарат Исламовна</td>\n",
       "      <td>0</td>\n",
       "      <td>1</td>\n",
       "      <td>0</td>\n",
       "      <td>2019</td>\n",
       "      <td>высшее образование, инновации в образовании, ц...</td>\n",
       "      <td>0</td>\n",
       "      <td>английский</td>\n",
       "      <td>1</td>\n",
       "      <td>1</td>\n",
       "      <td>14</td>\n",
       "      <td>Independent Data Science Test. Advanced Level,...</td>\n",
       "      <td>https://www.hse.ru/mirror/org/persons/redir/30...</td>\n",
       "    </tr>\n",
       "    <tr>\n",
       "      <th>3</th>\n",
       "      <td>Баженов Григорий Александрович</td>\n",
       "      <td>0</td>\n",
       "      <td>0</td>\n",
       "      <td>1</td>\n",
       "      <td>2024</td>\n",
       "      <td>всеобщая экономическая история, макроэкономика...</td>\n",
       "      <td>0</td>\n",
       "      <td>английский</td>\n",
       "      <td>1</td>\n",
       "      <td>0</td>\n",
       "      <td>6</td>\n",
       "      <td>Макроэкономика, Макроэкономика (продвинутый ур...</td>\n",
       "      <td>https://www.hse.ru/mirror/org/persons/redir/20...</td>\n",
       "    </tr>\n",
       "    <tr>\n",
       "      <th>5</th>\n",
       "      <td>Баландин Юлиан Андреевич</td>\n",
       "      <td>0</td>\n",
       "      <td>1</td>\n",
       "      <td>0</td>\n",
       "      <td>2016</td>\n",
       "      <td>российский политический режим, антикоррупционн...</td>\n",
       "      <td>3</td>\n",
       "      <td>английский</td>\n",
       "      <td>1</td>\n",
       "      <td>4</td>\n",
       "      <td>5</td>\n",
       "      <td>Политическая экспертиза, Политический менеджме...</td>\n",
       "      <td>https://www.hse.ru/mirror/org/persons/redir/13...</td>\n",
       "    </tr>\n",
       "    <tr>\n",
       "      <th>6</th>\n",
       "      <td>Баранова Татьяна Александровна</td>\n",
       "      <td>0</td>\n",
       "      <td>0</td>\n",
       "      <td>0</td>\n",
       "      <td>2018</td>\n",
       "      <td>фонетика, фонетика и интонация английского язы...</td>\n",
       "      <td>0</td>\n",
       "      <td>английский, французский</td>\n",
       "      <td>2</td>\n",
       "      <td>2</td>\n",
       "      <td>13</td>\n",
       "      <td>English Language, English for General Academic...</td>\n",
       "      <td>https://www.hse.ru/mirror/org/persons/redir/22...</td>\n",
       "    </tr>\n",
       "    <tr>\n",
       "      <th>7</th>\n",
       "      <td>Борисенко Максим Сергеевич</td>\n",
       "      <td>1</td>\n",
       "      <td>0</td>\n",
       "      <td>0</td>\n",
       "      <td>2020</td>\n",
       "      <td>федерализм, гражданское образование, многоуров...</td>\n",
       "      <td>0</td>\n",
       "      <td>английский, немецкий</td>\n",
       "      <td>2</td>\n",
       "      <td>1</td>\n",
       "      <td>5</td>\n",
       "      <td>Comparative Politics, Contemporary Russian Pol...</td>\n",
       "      <td>https://www.hse.ru/mirror/org/persons/redir/16...</td>\n",
       "    </tr>\n",
       "    <tr>\n",
       "      <th>...</th>\n",
       "      <td>...</td>\n",
       "      <td>...</td>\n",
       "      <td>...</td>\n",
       "      <td>...</td>\n",
       "      <td>...</td>\n",
       "      <td>...</td>\n",
       "      <td>...</td>\n",
       "      <td>...</td>\n",
       "      <td>...</td>\n",
       "      <td>...</td>\n",
       "      <td>...</td>\n",
       "      <td>...</td>\n",
       "      <td>...</td>\n",
       "    </tr>\n",
       "    <tr>\n",
       "      <th>90</th>\n",
       "      <td>Чеснаков Алексей Александрович</td>\n",
       "      <td>0</td>\n",
       "      <td>0</td>\n",
       "      <td>1</td>\n",
       "      <td>2019</td>\n",
       "      <td>методология политической науки, Политический а...</td>\n",
       "      <td>0</td>\n",
       "      <td>английский</td>\n",
       "      <td>1</td>\n",
       "      <td>0</td>\n",
       "      <td>4</td>\n",
       "      <td>Политическая экспертиза, Политические исследов...</td>\n",
       "      <td>https://www.hse.ru/mirror/org/persons/redir/30...</td>\n",
       "    </tr>\n",
       "    <tr>\n",
       "      <th>91</th>\n",
       "      <td>Шендерович Мария Филипповна</td>\n",
       "      <td>0</td>\n",
       "      <td>0</td>\n",
       "      <td>0</td>\n",
       "      <td>2016</td>\n",
       "      <td>иностранные языки</td>\n",
       "      <td>0</td>\n",
       "      <td>английский</td>\n",
       "      <td>1</td>\n",
       "      <td>0</td>\n",
       "      <td>8</td>\n",
       "      <td>English for General Communication Purposes. In...</td>\n",
       "      <td>https://www.hse.ru/mirror/org/persons/redir/19...</td>\n",
       "    </tr>\n",
       "    <tr>\n",
       "      <th>92</th>\n",
       "      <td>Шипи Элиф Аладдиновна</td>\n",
       "      <td>1</td>\n",
       "      <td>1</td>\n",
       "      <td>0</td>\n",
       "      <td>2018</td>\n",
       "      <td>политические коммуникации, медиапотребление, р...</td>\n",
       "      <td>0</td>\n",
       "      <td>английский, турецкий, французский</td>\n",
       "      <td>3</td>\n",
       "      <td>1</td>\n",
       "      <td>5</td>\n",
       "      <td>Introduction to Global Communication, Интегрир...</td>\n",
       "      <td>https://www.hse.ru/mirror/org/persons/redir/20...</td>\n",
       "    </tr>\n",
       "    <tr>\n",
       "      <th>93</th>\n",
       "      <td>Шустова Елена Дмитриевна</td>\n",
       "      <td>0</td>\n",
       "      <td>1</td>\n",
       "      <td>0</td>\n",
       "      <td>2019</td>\n",
       "      <td>когнитивная лингвистика, критический дискурс-а...</td>\n",
       "      <td>0</td>\n",
       "      <td>английский, немецкий</td>\n",
       "      <td>2</td>\n",
       "      <td>2</td>\n",
       "      <td>11</td>\n",
       "      <td>English Language, English for General Academic...</td>\n",
       "      <td>https://www.hse.ru/mirror/org/persons/redir/31...</td>\n",
       "    </tr>\n",
       "    <tr>\n",
       "      <th>94</th>\n",
       "      <td>Юзбекова Карина Шамильевна</td>\n",
       "      <td>0</td>\n",
       "      <td>1</td>\n",
       "      <td>0</td>\n",
       "      <td>2020</td>\n",
       "      <td>российский федерализм, региональная политика, ...</td>\n",
       "      <td>0</td>\n",
       "      <td>английский</td>\n",
       "      <td>1</td>\n",
       "      <td>1</td>\n",
       "      <td>2</td>\n",
       "      <td>Comparative Politics, Political Regional Studies</td>\n",
       "      <td>https://www.hse.ru/mirror/org/persons/redir/22...</td>\n",
       "    </tr>\n",
       "  </tbody>\n",
       "</table>\n",
       "<p>82 rows × 13 columns</p>\n",
       "</div>"
      ],
      "text/plain": [
       "                              name  is_bachelor  is_master  is_candidat   \n",
       "0        Акаева Кавсарат Исламовна            0          1            0  \\\n",
       "3   Баженов Григорий Александрович            0          0            1   \n",
       "5         Баландин Юлиан Андреевич            0          1            0   \n",
       "6   Баранова Татьяна Александровна            0          0            0   \n",
       "7       Борисенко Максим Сергеевич            1          0            0   \n",
       "..                             ...          ...        ...          ...   \n",
       "90  Чеснаков Алексей Александрович            0          0            1   \n",
       "91     Шендерович Мария Филипповна            0          0            0   \n",
       "92           Шипи Элиф Аладдиновна            1          1            0   \n",
       "93        Шустова Елена Дмитриевна            0          1            0   \n",
       "94      Юзбекова Карина Шамильевна            0          1            0   \n",
       "\n",
       "    year_start_in_hse                                          interests   \n",
       "0                2019  высшее образование, инновации в образовании, ц...  \\\n",
       "3                2024  всеобщая экономическая история, макроэкономика...   \n",
       "5                2016  российский политический режим, антикоррупционн...   \n",
       "6                2018  фонетика, фонетика и интонация английского язы...   \n",
       "7                2020  федерализм, гражданское образование, многоуров...   \n",
       "..                ...                                                ...   \n",
       "90               2019  методология политической науки, Политический а...   \n",
       "91               2016                                  иностранные языки   \n",
       "92               2018  политические коммуникации, медиапотребление, р...   \n",
       "93               2019  когнитивная лингвистика, критический дискурс-а...   \n",
       "94               2020  российский федерализм, региональная политика, ...   \n",
       "\n",
       "    n_of_best                          languages  n_languages   \n",
       "0           0                         английский            1  \\\n",
       "3           0                         английский            1   \n",
       "5           3                         английский            1   \n",
       "6           0            английский, французский            2   \n",
       "7           0               английский, немецкий            2   \n",
       "..        ...                                ...          ...   \n",
       "90          0                         английский            1   \n",
       "91          0                         английский            1   \n",
       "92          0  английский, турецкий, французский            3   \n",
       "93          0               английский, немецкий            2   \n",
       "94          0                         английский            1   \n",
       "\n",
       "    n_of_publications  n_unique_courses   \n",
       "0                   1                14  \\\n",
       "3                   0                 6   \n",
       "5                   4                 5   \n",
       "6                   2                13   \n",
       "7                   1                 5   \n",
       "..                ...               ...   \n",
       "90                  0                 4   \n",
       "91                  0                 8   \n",
       "92                  1                 5   \n",
       "93                  2                11   \n",
       "94                  1                 2   \n",
       "\n",
       "                                       unique_courses   \n",
       "0   Independent Data Science Test. Advanced Level,...  \\\n",
       "3   Макроэкономика, Макроэкономика (продвинутый ур...   \n",
       "5   Политическая экспертиза, Политический менеджме...   \n",
       "6   English Language, English for General Academic...   \n",
       "7   Comparative Politics, Contemporary Russian Pol...   \n",
       "..                                                ...   \n",
       "90  Политическая экспертиза, Политические исследов...   \n",
       "91  English for General Communication Purposes. In...   \n",
       "92  Introduction to Global Communication, Интегрир...   \n",
       "93  English Language, English for General Academic...   \n",
       "94   Comparative Politics, Political Regional Studies   \n",
       "\n",
       "                                                 link  \n",
       "0   https://www.hse.ru/mirror/org/persons/redir/30...  \n",
       "3   https://www.hse.ru/mirror/org/persons/redir/20...  \n",
       "5   https://www.hse.ru/mirror/org/persons/redir/13...  \n",
       "6   https://www.hse.ru/mirror/org/persons/redir/22...  \n",
       "7   https://www.hse.ru/mirror/org/persons/redir/16...  \n",
       "..                                                ...  \n",
       "90  https://www.hse.ru/mirror/org/persons/redir/30...  \n",
       "91  https://www.hse.ru/mirror/org/persons/redir/19...  \n",
       "92  https://www.hse.ru/mirror/org/persons/redir/20...  \n",
       "93  https://www.hse.ru/mirror/org/persons/redir/31...  \n",
       "94  https://www.hse.ru/mirror/org/persons/redir/22...  \n",
       "\n",
       "[82 rows x 13 columns]"
      ]
     },
     "execution_count": 26,
     "metadata": {},
     "output_type": "execute_result"
    }
   ],
   "source": [
    "# преподаватели, у которых нет либо магистерской, либо кандидатской\n",
    "df[(df['is_master'] == 0) | (df['is_candidat'] == 0)] # | это логическое \"или\""
   ]
  },
  {
   "cell_type": "markdown",
   "id": "3b4b0774",
   "metadata": {},
   "source": [
    "### Как создавать и изменять столбцы с помощью `.apply()`\n",
    "\n",
    "Что такое `apply()`? Это функция, позволяющая преобразовывать столбцы датафрейма, применяя к ним определенную функцию.\n",
    "\n",
    "**В Python существует два типа функций:**\n",
    "1. Именованные. Вы часто с ними сталкивались: `int()`, `round()`, `sum()` и др.;\n",
    "2. Анонимные. Вы наверняка писали анонимные функции когда пользовались функцией `map()` или `filter()`.\n",
    "\n",
    "**C именованными функциями все понятно** – вы можете вызвать их из числа базовых питоновских функций, встроенных питоновских модулей, других модулей, или создать сами (объявив с помощью ключевого слова `def`).\n",
    "\n",
    "**С анонимными функциями сложнее**. Почему они вообще анонимные? Потому что вы не даете им имя. В основном их назначение – быть использованными один раз, то есть обычно это достаточно простые функции. Скорее всего, выглядеть они будут как-то так:\n",
    "\n",
    "```lambda x: x.some_action()```\n",
    "\n",
    "```lambda x: some_function(x)```\n",
    "\n",
    "Рассмотрим пример:"
   ]
  },
  {
   "cell_type": "code",
   "execution_count": 27,
   "id": "6b441739",
   "metadata": {},
   "outputs": [
    {
     "data": {
      "text/plain": [
       "0          АКАЕВА КАВСАРАТ ИСЛАМОВНА\n",
       "1                 АКОЗ КЕМАЛЬ КИВАНЧ\n",
       "2                       АРБАТЛИ ЭКИМ\n",
       "3     БАЖЕНОВ ГРИГОРИЙ АЛЕКСАНДРОВИЧ\n",
       "4           БАЙССВЕНГЕР МАРТИН ЭРВИН\n",
       "                   ...              \n",
       "90    ЧЕСНАКОВ АЛЕКСЕЙ АЛЕКСАНДРОВИЧ\n",
       "91       ШЕНДЕРОВИЧ МАРИЯ ФИЛИППОВНА\n",
       "92             ШИПИ ЭЛИФ АЛАДДИНОВНА\n",
       "93          ШУСТОВА ЕЛЕНА ДМИТРИЕВНА\n",
       "94        ЮЗБЕКОВА КАРИНА ШАМИЛЬЕВНА\n",
       "Name: name, Length: 95, dtype: object"
      ]
     },
     "execution_count": 27,
     "metadata": {},
     "output_type": "execute_result"
    }
   ],
   "source": [
    "# как преобразовать колонку? использовать метод .apply() и анонимные функции\n",
    "df['name'].apply(lambda x: x.upper()) # применяем к элементам в колонке метод строк .upper() -> переводим в верх регистр"
   ]
  },
  {
   "cell_type": "code",
   "execution_count": 28,
   "id": "ec9b5cda",
   "metadata": {},
   "outputs": [
    {
     "data": {
      "text/plain": [
       "0          АКАЕВА КАВСАРАТ ИСЛАМОВНА\n",
       "1                 АКОЗ КЕМАЛЬ КИВАНЧ\n",
       "2                       АРБАТЛИ ЭКИМ\n",
       "3     БАЖЕНОВ ГРИГОРИЙ АЛЕКСАНДРОВИЧ\n",
       "4           БАЙССВЕНГЕР МАРТИН ЭРВИН\n",
       "                   ...              \n",
       "90    ЧЕСНАКОВ АЛЕКСЕЙ АЛЕКСАНДРОВИЧ\n",
       "91       ШЕНДЕРОВИЧ МАРИЯ ФИЛИППОВНА\n",
       "92             ШИПИ ЭЛИФ АЛАДДИНОВНА\n",
       "93          ШУСТОВА ЕЛЕНА ДМИТРИЕВНА\n",
       "94        ЮЗБЕКОВА КАРИНА ШАМИЛЬЕВНА\n",
       "Name: name, Length: 95, dtype: object"
      ]
     },
     "execution_count": 28,
     "metadata": {},
     "output_type": "execute_result"
    }
   ],
   "source": [
    "# запись выше аналогична записи, но как видите, вам не нужно объявлять функцию\n",
    "def text_to_upper(text):\n",
    "    return text.upper()\n",
    "\n",
    "df['name'].apply(text_to_upper)"
   ]
  },
  {
   "cell_type": "markdown",
   "id": "8b0e9b34",
   "metadata": {},
   "source": [
    "**Как создаются новые колонки?**\n",
    "\n",
    "Все очень просто: в левой части вам нужно написать название колонки (например, `df['last_name']`), далее использовать оператор присваивания и присвоить ему определенное значение. "
   ]
  },
  {
   "cell_type": "code",
   "execution_count": 29,
   "id": "fc23c8d4",
   "metadata": {},
   "outputs": [
    {
     "data": {
      "text/plain": [
       "0          Акаева\n",
       "1            Акоз\n",
       "2         Арбатли\n",
       "3         Баженов\n",
       "4     Байссвенгер\n",
       "         ...     \n",
       "90       Чеснаков\n",
       "91     Шендерович\n",
       "92           Шипи\n",
       "93        Шустова\n",
       "94       Юзбекова\n",
       "Name: last_name, Length: 95, dtype: object"
      ]
     },
     "execution_count": 29,
     "metadata": {},
     "output_type": "execute_result"
    }
   ],
   "source": [
    "df['last_name'] = df['name'].apply(lambda x: x.split()[0]) # разбиваем строку по пробелам, берем первый элемент\n",
    "df['last_name']"
   ]
  },
  {
   "cell_type": "markdown",
   "id": "ec0940db",
   "metadata": {},
   "source": [
    "<center><b><font size=4>Задача №11</font></b></center>\n",
    "\n",
    "Напишите функцию `get_gender(last_name)`, которая принимает на вход фамилию человека и, пользуясь очень упрощенными правилами, возвращает гендер преподавателя.\n",
    "\n",
    "**Считается, что:**\n",
    "* Если `last_name` оканчивается на `ова`, `ева`, `ая`, `ина`, можно с некоторой долей уверенности говорить о том что это женщина. Функция должна возвращать строку `ж`; \n",
    "* Если `last_name` оканчивается на `ов`, `ев`, `ин`, `ий` можно с некоторой долей уверенности говорить о том что это мужчина. Функция должна возвращать строку `м`\n",
    "* Если `last_name` оканчивается на другие значения, то функция возвращает строку `не определено`\n",
    "\n",
    "Примените эту функцию к колонке `df['last_name']`, сохраните результат применения функции в переменную `df['gender']`.\n",
    "\n",
    "Примеры работы функции:\n",
    "\n",
    "<center> \n",
    "    <table>\n",
    "        <tr>\n",
    "            <th>last_name</th>\n",
    "            <th> Результат </th>\n",
    "        </tr> \n",
    "        <tr><td>Акаева</td><td>ж</td></tr>\n",
    "        <tr><td>Баженов</td><td>м</td></tr>\n",
    "        <tr><td>Акоз</td><td>не определено</td></tr>\n",
    "    </table>\n",
    "</center>\n",
    "\n",
    "*Подсказки:*\n",
    "* Вспомните условные конструкции `if`-`elif`-`else`;\n",
    "* Используйте метод строк `.endswith()` или срезы строк."
   ]
  },
  {
   "cell_type": "code",
   "execution_count": 30,
   "id": "2f581f2b",
   "metadata": {},
   "outputs": [],
   "source": [
    "def get_gender(last_name):\n",
    "    if last_name.endswith('ова') or last_name.endswith('ева') or last_name.endswith('ая')\\\n",
    "    or last_name.endswith('ина'):\n",
    "        return 'ж'\n",
    "    elif last_name.endswith('ов') or last_name.endswith('ев') or last_name.endswith('ин')\\\n",
    "    or last_name.endswith('ий'):\n",
    "        return 'м'\n",
    "    else:\n",
    "        return 'не определено'"
   ]
  },
  {
   "cell_type": "code",
   "execution_count": 31,
   "id": "1d1eb860",
   "metadata": {},
   "outputs": [],
   "source": [
    "df['gender'] = df['last_name'].apply(get_gender)"
   ]
  },
  {
   "cell_type": "code",
   "execution_count": 32,
   "id": "c779396f",
   "metadata": {},
   "outputs": [
    {
     "data": {
      "text/plain": [
       "gender\n",
       "ж                45\n",
       "м                27\n",
       "не определено    23\n",
       "Name: count, dtype: int64"
      ]
     },
     "execution_count": 32,
     "metadata": {},
     "output_type": "execute_result"
    }
   ],
   "source": [
    "df['gender'].value_counts()"
   ]
  },
  {
   "cell_type": "markdown",
   "id": "858808df",
   "metadata": {},
   "source": [
    "Продолжим дополнять наш датасет. Создадим еще одну переменную – `'was_the_best_teacher'`."
   ]
  },
  {
   "cell_type": "code",
   "execution_count": 33,
   "id": "4a394c57",
   "metadata": {
    "scrolled": true
   },
   "outputs": [
    {
     "data": {
      "text/plain": [
       "0     0\n",
       "1     1\n",
       "2     1\n",
       "3     0\n",
       "4     1\n",
       "     ..\n",
       "90    0\n",
       "91    0\n",
       "92    0\n",
       "93    0\n",
       "94    0\n",
       "Name: was_the_best_teacher, Length: 95, dtype: int64"
      ]
     },
     "execution_count": 33,
     "metadata": {},
     "output_type": "execute_result"
    }
   ],
   "source": [
    "# создадим колонку - был/не был лучшим преподавателем\n",
    "df['was_the_best_teacher'] = df['n_of_best'].apply(lambda x: 1 if x > 0 else 0)\n",
    "df['was_the_best_teacher']"
   ]
  },
  {
   "cell_type": "markdown",
   "id": "36cd7dd3",
   "metadata": {},
   "source": [
    "### Как вызывать описательные статистики в `pandas`\n",
    "\n",
    "**Зачем нам нужны описательные статистики?** Это – ваше первое соприкосновение с аналитикой, которую вы можете собрать по только что собранным и обработанным данным. Как мы обсуждали на предыдущем семинаре зачастую если вы собираете и обрабатываете какие-то данные самостоятельно, даже дескриптивных статистик хватает чтобы защитить проект или написать про эти данные статью.\n",
    "\n",
    "**Начнем делать небольшие выводы про данные и то, что замечаем**"
   ]
  },
  {
   "cell_type": "markdown",
   "id": "b5e86a7f",
   "metadata": {},
   "source": [
    "Посмотрим на код ниже. Какой вывод мы можем сделать? 33.6% преподавателей ОП \"Политология\" хотя бы раз становились лучшими преподавателями;"
   ]
  },
  {
   "cell_type": "code",
   "execution_count": 337,
   "id": "2a912678",
   "metadata": {},
   "outputs": [
    {
     "data": {
      "text/plain": [
       "was_the_best_teacher\n",
       "0    63\n",
       "1    32\n",
       "Name: count, dtype: int64"
      ]
     },
     "execution_count": 337,
     "metadata": {},
     "output_type": "execute_result"
    }
   ],
   "source": [
    "# распределение переменной можно посмотреть с помощью метода .value_counts()\n",
    "df['was_the_best_teacher'].value_counts()"
   ]
  },
  {
   "cell_type": "code",
   "execution_count": 338,
   "id": "2fbef878",
   "metadata": {},
   "outputs": [
    {
     "data": {
      "text/plain": [
       "was_the_best_teacher\n",
       "0    0.663158\n",
       "1    0.336842\n",
       "Name: proportion, dtype: float64"
      ]
     },
     "execution_count": 338,
     "metadata": {},
     "output_type": "execute_result"
    }
   ],
   "source": [
    "# в долях - с помощью аргумента normalize=True\n",
    "df['was_the_best_teacher'].value_counts(normalize=True)"
   ]
  },
  {
   "cell_type": "markdown",
   "id": "82956c70",
   "metadata": {},
   "source": [
    "Большинство преподавателей ОП \"Политология\" указывают, что в той или иной степени знают хотя бы два языка: такую информацию про себя внесли `33.68%` преподавателей. Еще `27.4%` преподаваталей знают только один иностранный язык. Пять или шесть языков знает только `5%` преподавателей ОП \"Политология\"."
   ]
  },
  {
   "cell_type": "code",
   "execution_count": 300,
   "id": "fbbc5f88",
   "metadata": {},
   "outputs": [
    {
     "data": {
      "text/plain": [
       "n_languages\n",
       "2    33.684211\n",
       "1    27.368421\n",
       "3    25.263158\n",
       "4     8.421053\n",
       "6     3.157895\n",
       "5     2.105263\n",
       "Name: proportion, dtype: float64"
      ]
     },
     "execution_count": 300,
     "metadata": {},
     "output_type": "execute_result"
    }
   ],
   "source": [
    "df['n_languages'].value_counts(normalize=True) * 100 # эти значения также можно умножать на определенные числа\n",
    "# например, на 100, если мы хотим получить проценты"
   ]
  },
  {
   "cell_type": "markdown",
   "id": "d2303095",
   "metadata": {},
   "source": [
    "В среднем, у преподавателей ОП \"Политология\" написано по `21` статье. При этом половина преподавателей пока успела написать `4` статьи и меньше, а другая половина – более `4`х статей."
   ]
  },
  {
   "cell_type": "code",
   "execution_count": 303,
   "id": "f6c6e3b7",
   "metadata": {},
   "outputs": [
    {
     "data": {
      "text/plain": [
       "count     95.000000\n",
       "mean      21.021053\n",
       "std       40.684301\n",
       "min        0.000000\n",
       "25%        1.000000\n",
       "50%        4.000000\n",
       "75%       17.500000\n",
       "max      213.000000\n",
       "Name: n_of_publications, dtype: float64"
      ]
     },
     "execution_count": 303,
     "metadata": {},
     "output_type": "execute_result"
    }
   ],
   "source": [
    "df['n_of_publications'].describe() # можно запросить описательные статистики по одной колонке"
   ]
  },
  {
   "cell_type": "markdown",
   "id": "59df1d41",
   "metadata": {},
   "source": [
    "Другой полезный метод `pandas` – `.unique()`, который позволяет получить набор уникальных значений в определенном столбце:"
   ]
  },
  {
   "cell_type": "code",
   "execution_count": 305,
   "id": "8748ea60",
   "metadata": {},
   "outputs": [
    {
     "data": {
      "text/plain": [
       "array(['английский', 'английский, турецкий, пекарский',\n",
       "       'турецкий, английский, французский, русский',\n",
       "       'английский, немецкий, русский, чешский, французский, каменский',\n",
       "       'английский, французский', 'английский, немецкий',\n",
       "       'русский, английский',\n",
       "       'русский, английский, японский, китайский, немецкий, испанский',\n",
       "       'английский, французский, хорватский',\n",
       "       'русский, английский, испанский, португальский, немецкий',\n",
       "       'французский, английский', 'английский, испанский, турецкий',\n",
       "       'английский, французский, белорусский',\n",
       "       'русский, английский, белорусский',\n",
       "       'английский, русский, португальский', 'английский, шведский',\n",
       "       'английский, русский, испанский',\n",
       "       'английский, немецкий, французский',\n",
       "       'русский, английский, испанский, татарский',\n",
       "       'английский, немецкий, испанский',\n",
       "       'английский, арабский, азербайджанский, турецкий',\n",
       "       'английский, французский, испанский',\n",
       "       'английский, немецкий, французский, латинский, итальянский, древнегреческий',\n",
       "       'английский, французский, турецкий',\n",
       "       'английский, арабский, французский', 'английский, японский',\n",
       "       'английский, немецкий, корейский',\n",
       "       'английский, французский, хинди', 'английский, португальский',\n",
       "       'английский, русский', 'русский, английский, французский',\n",
       "       'английский, испанский, французский',\n",
       "       'английский, немецкий, белорусский, братерский',\n",
       "       'английский, китайский, болгарский, врадий',\n",
       "       'английский, испанский, немецкий',\n",
       "       'английский, русский, туровский',\n",
       "       'английский, испанский, французский, словенский',\n",
       "       'английский, итальянский, румынский', 'английский, каменский',\n",
       "       'английский, сербский',\n",
       "       'английский, французский, немецкий, испанский',\n",
       "       'русский, английский, испанский, немецкий, грузинский',\n",
       "       'английский, испанский, итальянский, русский',\n",
       "       'английский, турецкий, французский'], dtype=object)"
      ]
     },
     "execution_count": 305,
     "metadata": {},
     "output_type": "execute_result"
    }
   ],
   "source": [
    "df['languages'].unique() # получаем array"
   ]
  },
  {
   "cell_type": "code",
   "execution_count": 339,
   "id": "427ea459",
   "metadata": {},
   "outputs": [
    {
     "data": {
      "text/plain": [
       "(95, 9)"
      ]
     },
     "execution_count": 339,
     "metadata": {},
     "output_type": "execute_result"
    }
   ],
   "source": [
    "# узнать размерность датафрейма можно с помощью атрибута .shape\n",
    "df.shape # (число строк, число колонок)"
   ]
  },
  {
   "cell_type": "code",
   "execution_count": 309,
   "id": "e0610eca",
   "metadata": {},
   "outputs": [
    {
     "data": {
      "text/html": [
       "<div>\n",
       "<style scoped>\n",
       "    .dataframe tbody tr th:only-of-type {\n",
       "        vertical-align: middle;\n",
       "    }\n",
       "\n",
       "    .dataframe tbody tr th {\n",
       "        vertical-align: top;\n",
       "    }\n",
       "\n",
       "    .dataframe thead th {\n",
       "        text-align: right;\n",
       "    }\n",
       "</style>\n",
       "<table border=\"1\" class=\"dataframe\">\n",
       "  <thead>\n",
       "    <tr style=\"text-align: right;\">\n",
       "      <th></th>\n",
       "      <th>is_bachelor</th>\n",
       "      <th>is_master</th>\n",
       "      <th>is_candidat</th>\n",
       "      <th>year_start_in_hse</th>\n",
       "      <th>n_of_best</th>\n",
       "      <th>n_languages</th>\n",
       "      <th>n_of_publications</th>\n",
       "      <th>n_unique_courses</th>\n",
       "      <th>was_the_best_teacher</th>\n",
       "    </tr>\n",
       "  </thead>\n",
       "  <tbody>\n",
       "    <tr>\n",
       "      <th>count</th>\n",
       "      <td>95.000000</td>\n",
       "      <td>95.000000</td>\n",
       "      <td>95.000000</td>\n",
       "      <td>95.000000</td>\n",
       "      <td>95.000000</td>\n",
       "      <td>95.000000</td>\n",
       "      <td>95.000000</td>\n",
       "      <td>95.000000</td>\n",
       "      <td>95.000000</td>\n",
       "    </tr>\n",
       "    <tr>\n",
       "      <th>mean</th>\n",
       "      <td>0.431579</td>\n",
       "      <td>0.494737</td>\n",
       "      <td>0.315789</td>\n",
       "      <td>2014.547368</td>\n",
       "      <td>1.557895</td>\n",
       "      <td>2.336842</td>\n",
       "      <td>21.021053</td>\n",
       "      <td>8.052632</td>\n",
       "      <td>0.336842</td>\n",
       "    </tr>\n",
       "    <tr>\n",
       "      <th>std</th>\n",
       "      <td>0.497924</td>\n",
       "      <td>0.502625</td>\n",
       "      <td>0.467295</td>\n",
       "      <td>6.591046</td>\n",
       "      <td>2.816047</td>\n",
       "      <td>1.208221</td>\n",
       "      <td>40.684301</td>\n",
       "      <td>4.631916</td>\n",
       "      <td>0.475138</td>\n",
       "    </tr>\n",
       "    <tr>\n",
       "      <th>min</th>\n",
       "      <td>0.000000</td>\n",
       "      <td>0.000000</td>\n",
       "      <td>0.000000</td>\n",
       "      <td>1995.000000</td>\n",
       "      <td>0.000000</td>\n",
       "      <td>1.000000</td>\n",
       "      <td>0.000000</td>\n",
       "      <td>1.000000</td>\n",
       "      <td>0.000000</td>\n",
       "    </tr>\n",
       "    <tr>\n",
       "      <th>25%</th>\n",
       "      <td>0.000000</td>\n",
       "      <td>0.000000</td>\n",
       "      <td>0.000000</td>\n",
       "      <td>2010.000000</td>\n",
       "      <td>0.000000</td>\n",
       "      <td>1.000000</td>\n",
       "      <td>1.000000</td>\n",
       "      <td>5.000000</td>\n",
       "      <td>0.000000</td>\n",
       "    </tr>\n",
       "    <tr>\n",
       "      <th>50%</th>\n",
       "      <td>0.000000</td>\n",
       "      <td>0.000000</td>\n",
       "      <td>0.000000</td>\n",
       "      <td>2016.000000</td>\n",
       "      <td>0.000000</td>\n",
       "      <td>2.000000</td>\n",
       "      <td>4.000000</td>\n",
       "      <td>8.000000</td>\n",
       "      <td>0.000000</td>\n",
       "    </tr>\n",
       "    <tr>\n",
       "      <th>75%</th>\n",
       "      <td>1.000000</td>\n",
       "      <td>1.000000</td>\n",
       "      <td>1.000000</td>\n",
       "      <td>2020.000000</td>\n",
       "      <td>1.500000</td>\n",
       "      <td>3.000000</td>\n",
       "      <td>17.500000</td>\n",
       "      <td>10.000000</td>\n",
       "      <td>1.000000</td>\n",
       "    </tr>\n",
       "    <tr>\n",
       "      <th>max</th>\n",
       "      <td>1.000000</td>\n",
       "      <td>1.000000</td>\n",
       "      <td>1.000000</td>\n",
       "      <td>2024.000000</td>\n",
       "      <td>12.000000</td>\n",
       "      <td>6.000000</td>\n",
       "      <td>213.000000</td>\n",
       "      <td>24.000000</td>\n",
       "      <td>1.000000</td>\n",
       "    </tr>\n",
       "  </tbody>\n",
       "</table>\n",
       "</div>"
      ],
      "text/plain": [
       "       is_bachelor  is_master  is_candidat  year_start_in_hse  n_of_best   \n",
       "count    95.000000  95.000000    95.000000          95.000000  95.000000  \\\n",
       "mean      0.431579   0.494737     0.315789        2014.547368   1.557895   \n",
       "std       0.497924   0.502625     0.467295           6.591046   2.816047   \n",
       "min       0.000000   0.000000     0.000000        1995.000000   0.000000   \n",
       "25%       0.000000   0.000000     0.000000        2010.000000   0.000000   \n",
       "50%       0.000000   0.000000     0.000000        2016.000000   0.000000   \n",
       "75%       1.000000   1.000000     1.000000        2020.000000   1.500000   \n",
       "max       1.000000   1.000000     1.000000        2024.000000  12.000000   \n",
       "\n",
       "       n_languages  n_of_publications  n_unique_courses  was_the_best_teacher  \n",
       "count    95.000000          95.000000         95.000000             95.000000  \n",
       "mean      2.336842          21.021053          8.052632              0.336842  \n",
       "std       1.208221          40.684301          4.631916              0.475138  \n",
       "min       1.000000           0.000000          1.000000              0.000000  \n",
       "25%       1.000000           1.000000          5.000000              0.000000  \n",
       "50%       2.000000           4.000000          8.000000              0.000000  \n",
       "75%       3.000000          17.500000         10.000000              1.000000  \n",
       "max       6.000000         213.000000         24.000000              1.000000  "
      ]
     },
     "execution_count": 309,
     "metadata": {},
     "output_type": "execute_result"
    }
   ],
   "source": [
    "# а общие описательные статистики – с помощью метода .describe()\n",
    "df.describe()"
   ]
  },
  {
   "cell_type": "markdown",
   "id": "f68be729",
   "metadata": {},
   "source": [
    "<center><b><font size=4>Задача №12</font></b></center>\n",
    "\n",
    "Посмотрите на другие переменные в вашем датасете. Вызовите по ним описательные статистики и проинтерпретируйте их в этой ячейке так, как мы сделали это выше:\n",
    "\n",
    "<b>Место для вашей интерпретации:</b> (тык)"
   ]
  },
  {
   "cell_type": "code",
   "execution_count": null,
   "id": "0ea20078",
   "metadata": {},
   "outputs": [],
   "source": [
    "#YOUR CODE HERE"
   ]
  },
  {
   "cell_type": "markdown",
   "id": "c118482a",
   "metadata": {},
   "source": [
    "## Анализ данных и визуализации <a name=\"par4\"></a>\n",
    "\n",
    "**Наконец, мы с вами подошли к последней и наиболее содержательной части нашего ноутбука - части с анализом данных. Хотя мы с вами на этапе сбора данных сформулировали очень общую задачу – собрать и проанализировать данные о преподавателях ОП \"Политология\" – на этапе после сбора данных мы уже можем присмотреться к интересным переменным. Например, подготовить небольшой аналитический отчет о том, чем же отличаются \"лучшие\" и \"не лучшие\" преподаватели?**\n",
    "\n",
    "**Итак, что это за институт \"лучшего преподавателя\" такой? Давайте разбираться:**\n",
    "\n",
    "Подробное описание процедуры голосования за лучших преподавателей НИУ ВШЭ описан на [соответствующей странице](https://www.hse.ru/best/):\n",
    "\n",
    ">*В ходе выборов студенты голосовали онлайн в модуле LMS «Оцени свои курсы», сразу после обязательной ежемодульной процедуры оценки преподавателей и учебных курсов. Студенты образовательных программ МИЭФ, а также совместной бакалаврской программы по экономике ВШЭ и РЭШ проголосовали в собственных информационных системах. Каждый студент мог указать в качестве лучших не более четырех преподавателей.*\n",
    "\n",
    "На этой же странице можно ознакомиться со статистикой голосования по подразделениям и образовательным программам Вышки.\n",
    "\n",
    "1. **Как вы думаете, какой процент в среднем по Вышке проголосовал за лучших преподавателей?**\n",
    "\n",
    "2. **А какой процент на ОП \"Политология\"?**"
   ]
  },
  {
   "cell_type": "markdown",
   "id": "bd17e8ee",
   "metadata": {},
   "source": [
    "**Давайте подумаем, отличия в каком разрезе мы можем пронаблюдать?**\n",
    "Оглядывая наш датасет, можно предположить, что мы увидим различия в следующих переменных:\n",
    "* `n_of_publications` – возможно, тратя больше времени на исследования, у сотрудников остается меньше возможностей для того чтобы много вкладываться в преподаваемые курсы. Хотя возможна и ситуация наоборот – подготовка исследований по схожей теме может облегчить подготовку курса и сделать его более интересным для слушателей;\n",
    "* `year_start_in_hse` – скорее всего, более опытные преподаватели чаще получают этот статус;\n",
    "* В конце концов, возможно, мы сможем пронаблюдать некоторые интересные различия по переменным `gender` - гендер преподавателя, и `n_languages` – числу иностранных языков, которые знает преподаватель."
   ]
  },
  {
   "cell_type": "code",
   "execution_count": 310,
   "id": "3aa77e05",
   "metadata": {},
   "outputs": [
    {
     "data": {
      "text/plain": [
       "Index(['name', 'is_bachelor', 'is_master', 'is_candidat', 'year_start_in_hse',\n",
       "       'interests', 'n_of_best', 'languages', 'n_languages',\n",
       "       'n_of_publications', 'n_unique_courses', 'unique_courses', 'link',\n",
       "       'last_name', 'gender', 'was_the_best_teacher'],\n",
       "      dtype='object')"
      ]
     },
     "execution_count": 310,
     "metadata": {},
     "output_type": "execute_result"
    }
   ],
   "source": [
    "df.columns # получить список всех переменных можно с помощью метода .columns"
   ]
  },
  {
   "cell_type": "markdown",
   "id": "8896de71",
   "metadata": {},
   "source": [
    "В нашей с вами работе мы будем использовать два основных модуля: `seaborn` и `matplotlib.pyplot`:\n",
    "\n",
    "* `seaborn` позволяет строить более простые графики и быстрее. Документация по [ссылке](https://seaborn.pydata.org/examples/index.html);\n",
    "* с `matplotlib.pyplot` вы можете строить более сложные графики и использовать продвинутые настройки. Документация по [ссылке](https://matplotlib.org/stable/users/index.html)."
   ]
  },
  {
   "cell_type": "code",
   "execution_count": 312,
   "id": "1ae51aec",
   "metadata": {},
   "outputs": [],
   "source": [
    "# импортируем модули для графиков чтобы не забыть\n",
    "import seaborn as sns\n",
    "import matplotlib.pyplot as plt"
   ]
  },
  {
   "cell_type": "markdown",
   "id": "a87fbf20",
   "metadata": {},
   "source": [
    "### Число публикаций\n",
    "\n",
    "Как вы можете продемонстрировать описательные статистики в разрезе определенных групп? Используйте метод `.groupby()` для того чтобы сгруппировать датасет по определенной переменной, а далее метод `.agg()` чтобы агрегировать данные по какой-то переменной и показать по ней определенное значение - среднее (`mean`), максимальное значение (`max`), минимальное (`min`) и так далее."
   ]
  },
  {
   "cell_type": "code",
   "execution_count": 311,
   "id": "cdb8da19",
   "metadata": {},
   "outputs": [
    {
     "data": {
      "text/html": [
       "<div>\n",
       "<style scoped>\n",
       "    .dataframe tbody tr th:only-of-type {\n",
       "        vertical-align: middle;\n",
       "    }\n",
       "\n",
       "    .dataframe tbody tr th {\n",
       "        vertical-align: top;\n",
       "    }\n",
       "\n",
       "    .dataframe thead th {\n",
       "        text-align: right;\n",
       "    }\n",
       "</style>\n",
       "<table border=\"1\" class=\"dataframe\">\n",
       "  <thead>\n",
       "    <tr style=\"text-align: right;\">\n",
       "      <th></th>\n",
       "      <th>n_of_publications</th>\n",
       "    </tr>\n",
       "    <tr>\n",
       "      <th>was_the_best_teacher</th>\n",
       "      <th></th>\n",
       "    </tr>\n",
       "  </thead>\n",
       "  <tbody>\n",
       "    <tr>\n",
       "      <th>0</th>\n",
       "      <td>11.269841</td>\n",
       "    </tr>\n",
       "    <tr>\n",
       "      <th>1</th>\n",
       "      <td>40.218750</td>\n",
       "    </tr>\n",
       "  </tbody>\n",
       "</table>\n",
       "</div>"
      ],
      "text/plain": [
       "                      n_of_publications\n",
       "was_the_best_teacher                   \n",
       "0                             11.269841\n",
       "1                             40.218750"
      ]
     },
     "execution_count": 311,
     "metadata": {},
     "output_type": "execute_result"
    }
   ],
   "source": [
    "# группируем датафрейм по переменной \"был лучшим преподавателем\" - получается две группы (0 и 1)\n",
    "# агрегируем значения по переменной \"число публикаций\", запрашиваем \"mean\" (среднее)\n",
    "df.groupby('was_the_best_teacher').agg({'n_of_publications':'mean'})"
   ]
  },
  {
   "cell_type": "markdown",
   "id": "d2b9f4ee",
   "metadata": {},
   "source": [
    "Проиллюстрируем это с помощью графика типа **barplot**"
   ]
  },
  {
   "cell_type": "code",
   "execution_count": 320,
   "id": "6bab48a2",
   "metadata": {},
   "outputs": [
    {
     "data": {
      "text/html": [
       "<div>\n",
       "<style scoped>\n",
       "    .dataframe tbody tr th:only-of-type {\n",
       "        vertical-align: middle;\n",
       "    }\n",
       "\n",
       "    .dataframe tbody tr th {\n",
       "        vertical-align: top;\n",
       "    }\n",
       "\n",
       "    .dataframe thead th {\n",
       "        text-align: right;\n",
       "    }\n",
       "</style>\n",
       "<table border=\"1\" class=\"dataframe\">\n",
       "  <thead>\n",
       "    <tr style=\"text-align: right;\">\n",
       "      <th></th>\n",
       "      <th>was_the_best_teacher</th>\n",
       "      <th>n_of_publications</th>\n",
       "    </tr>\n",
       "  </thead>\n",
       "  <tbody>\n",
       "    <tr>\n",
       "      <th>0</th>\n",
       "      <td>0</td>\n",
       "      <td>11.269841</td>\n",
       "    </tr>\n",
       "    <tr>\n",
       "      <th>1</th>\n",
       "      <td>1</td>\n",
       "      <td>40.218750</td>\n",
       "    </tr>\n",
       "  </tbody>\n",
       "</table>\n",
       "</div>"
      ],
      "text/plain": [
       "   was_the_best_teacher  n_of_publications\n",
       "0                     0          11.269841\n",
       "1                     1          40.218750"
      ]
     },
     "execution_count": 320,
     "metadata": {},
     "output_type": "execute_result"
    }
   ],
   "source": [
    "# сохраним табличку выше в отдельный pandas.DataFrame чтобы на её основе визуализировать данные:\n",
    "df_plot_1 = df.groupby('was_the_best_teacher').agg({'n_of_publications':'mean'})\n",
    "df_plot_1 = df_plot_1.reset_index() # сбросим индекс\n",
    "df_plot_1"
   ]
  },
  {
   "cell_type": "markdown",
   "id": "4e51a452",
   "metadata": {},
   "source": [
    "Даже на этом базовом графике видно, что \"лучшие преподаватели\" пишут гораздо больше статей, чем их коллеги без статуса \"лучшего преподавателя\". Пока можем предположить, что гипотеза о разделении \"преподавательского\" и \"исследовательского\" не подтверждается.\n",
    "\n",
    "<p></p>\n",
    "<center><b><font size=4>Задача №3 – Extra</font></b></center>\n",
    "\n",
    "Если вы ушли в материале вперед, то можете поиграть с настройками этого графика. Я бы посоветовала вам:\n",
    "* Убрать output (строку `<AxesSubplot:xlabel='was_the_best_teacher', ylabel='n_of_publications'>`);\n",
    "* Добавить подпись графика;\n",
    "* Изменить его масштабы."
   ]
  },
  {
   "cell_type": "code",
   "execution_count": 321,
   "id": "eb849e47",
   "metadata": {},
   "outputs": [
    {
     "data": {
      "text/plain": [
       "<AxesSubplot:xlabel='was_the_best_teacher', ylabel='n_of_publications'>"
      ]
     },
     "execution_count": 321,
     "metadata": {},
     "output_type": "execute_result"
    },
    {
     "data": {
      "image/png": "[encoded data removed]",
      "text/plain": [
       "<Figure size 640x480 with 1 Axes>"
      ]
     },
     "metadata": {},
     "output_type": "display_data"
    }
   ],
   "source": [
    "sns.barplot(data=df_plot_1, x=\"was_the_best_teacher\", y=\"n_of_publications\")"
   ]
  },
  {
   "cell_type": "markdown",
   "id": "29ecf376",
   "metadata": {},
   "source": [
    "### Год старта работы в Вышке\n",
    "\n",
    "Создадим два датасета: `best`, `not_best`.\n",
    "\n",
    "* В датасет `best` отфильтруем тех преподавателей ОП \"Политология\", которые получали хотя бы раз статус лучшего преподавателя;\n",
    "* В датасет `not_best` отфильтруем тех преподавателей ОП \"Политология\", которые ни разу не получали статус лучшего преподавателя."
   ]
  },
  {
   "cell_type": "code",
   "execution_count": 322,
   "id": "623fdd5b",
   "metadata": {},
   "outputs": [],
   "source": [
    "best = df[df['was_the_best_teacher'] == 1]\n",
    "not_best = df[df['was_the_best_teacher'] == 0]"
   ]
  },
  {
   "cell_type": "markdown",
   "id": "17bbb42f",
   "metadata": {},
   "source": [
    "Теперь посчитаем год начала работы в Вышке для каждой из группы преподавателей."
   ]
  },
  {
   "cell_type": "code",
   "execution_count": 323,
   "id": "930e5317",
   "metadata": {},
   "outputs": [
    {
     "data": {
      "text/html": [
       "<div>\n",
       "<style scoped>\n",
       "    .dataframe tbody tr th:only-of-type {\n",
       "        vertical-align: middle;\n",
       "    }\n",
       "\n",
       "    .dataframe tbody tr th {\n",
       "        vertical-align: top;\n",
       "    }\n",
       "\n",
       "    .dataframe thead th {\n",
       "        text-align: right;\n",
       "    }\n",
       "</style>\n",
       "<table border=\"1\" class=\"dataframe\">\n",
       "  <thead>\n",
       "    <tr style=\"text-align: right;\">\n",
       "      <th></th>\n",
       "      <th>year</th>\n",
       "      <th>count</th>\n",
       "    </tr>\n",
       "  </thead>\n",
       "  <tbody>\n",
       "    <tr>\n",
       "      <th>13</th>\n",
       "      <td>1999</td>\n",
       "      <td>1</td>\n",
       "    </tr>\n",
       "    <tr>\n",
       "      <th>10</th>\n",
       "      <td>2002</td>\n",
       "      <td>1</td>\n",
       "    </tr>\n",
       "    <tr>\n",
       "      <th>9</th>\n",
       "      <td>2003</td>\n",
       "      <td>1</td>\n",
       "    </tr>\n",
       "    <tr>\n",
       "      <th>11</th>\n",
       "      <td>2004</td>\n",
       "      <td>1</td>\n",
       "    </tr>\n",
       "    <tr>\n",
       "      <th>5</th>\n",
       "      <td>2005</td>\n",
       "      <td>2</td>\n",
       "    </tr>\n",
       "    <tr>\n",
       "      <th>14</th>\n",
       "      <td>2007</td>\n",
       "      <td>1</td>\n",
       "    </tr>\n",
       "    <tr>\n",
       "      <th>4</th>\n",
       "      <td>2008</td>\n",
       "      <td>2</td>\n",
       "    </tr>\n",
       "    <tr>\n",
       "      <th>2</th>\n",
       "      <td>2009</td>\n",
       "      <td>4</td>\n",
       "    </tr>\n",
       "    <tr>\n",
       "      <th>7</th>\n",
       "      <td>2010</td>\n",
       "      <td>2</td>\n",
       "    </tr>\n",
       "    <tr>\n",
       "      <th>1</th>\n",
       "      <td>2011</td>\n",
       "      <td>4</td>\n",
       "    </tr>\n",
       "    <tr>\n",
       "      <th>6</th>\n",
       "      <td>2012</td>\n",
       "      <td>2</td>\n",
       "    </tr>\n",
       "    <tr>\n",
       "      <th>0</th>\n",
       "      <td>2013</td>\n",
       "      <td>5</td>\n",
       "    </tr>\n",
       "    <tr>\n",
       "      <th>3</th>\n",
       "      <td>2014</td>\n",
       "      <td>2</td>\n",
       "    </tr>\n",
       "    <tr>\n",
       "      <th>8</th>\n",
       "      <td>2015</td>\n",
       "      <td>1</td>\n",
       "    </tr>\n",
       "    <tr>\n",
       "      <th>15</th>\n",
       "      <td>2016</td>\n",
       "      <td>1</td>\n",
       "    </tr>\n",
       "    <tr>\n",
       "      <th>16</th>\n",
       "      <td>2017</td>\n",
       "      <td>1</td>\n",
       "    </tr>\n",
       "    <tr>\n",
       "      <th>12</th>\n",
       "      <td>2018</td>\n",
       "      <td>1</td>\n",
       "    </tr>\n",
       "  </tbody>\n",
       "</table>\n",
       "</div>"
      ],
      "text/plain": [
       "    year  count\n",
       "13  1999      1\n",
       "10  2002      1\n",
       "9   2003      1\n",
       "11  2004      1\n",
       "5   2005      2\n",
       "14  2007      1\n",
       "4   2008      2\n",
       "2   2009      4\n",
       "7   2010      2\n",
       "1   2011      4\n",
       "6   2012      2\n",
       "0   2013      5\n",
       "3   2014      2\n",
       "8   2015      1\n",
       "15  2016      1\n",
       "16  2017      1\n",
       "12  2018      1"
      ]
     },
     "execution_count": 323,
     "metadata": {},
     "output_type": "execute_result"
    }
   ],
   "source": [
    "# для \"лучших преподавателей\" - сколько человек в каком году начали работать\n",
    "for_plot_best = best['year_start_in_hse'].value_counts().reset_index()\n",
    "for_plot_best.sort_values('year_start_in_hse', inplace=True)\n",
    "for_plot_best.columns = ['year', 'count']\n",
    "for_plot_best"
   ]
  },
  {
   "cell_type": "code",
   "execution_count": 324,
   "id": "a77bf4d3",
   "metadata": {},
   "outputs": [
    {
     "data": {
      "text/html": [
       "<div>\n",
       "<style scoped>\n",
       "    .dataframe tbody tr th:only-of-type {\n",
       "        vertical-align: middle;\n",
       "    }\n",
       "\n",
       "    .dataframe tbody tr th {\n",
       "        vertical-align: top;\n",
       "    }\n",
       "\n",
       "    .dataframe thead th {\n",
       "        text-align: right;\n",
       "    }\n",
       "</style>\n",
       "<table border=\"1\" class=\"dataframe\">\n",
       "  <thead>\n",
       "    <tr style=\"text-align: right;\">\n",
       "      <th></th>\n",
       "      <th>year</th>\n",
       "      <th>count</th>\n",
       "    </tr>\n",
       "  </thead>\n",
       "  <tbody>\n",
       "    <tr>\n",
       "      <th>15</th>\n",
       "      <td>1995</td>\n",
       "      <td>1</td>\n",
       "    </tr>\n",
       "    <tr>\n",
       "      <th>14</th>\n",
       "      <td>1998</td>\n",
       "      <td>1</td>\n",
       "    </tr>\n",
       "    <tr>\n",
       "      <th>16</th>\n",
       "      <td>2003</td>\n",
       "      <td>1</td>\n",
       "    </tr>\n",
       "    <tr>\n",
       "      <th>18</th>\n",
       "      <td>2004</td>\n",
       "      <td>1</td>\n",
       "    </tr>\n",
       "    <tr>\n",
       "      <th>12</th>\n",
       "      <td>2006</td>\n",
       "      <td>1</td>\n",
       "    </tr>\n",
       "    <tr>\n",
       "      <th>19</th>\n",
       "      <td>2008</td>\n",
       "      <td>1</td>\n",
       "    </tr>\n",
       "    <tr>\n",
       "      <th>6</th>\n",
       "      <td>2009</td>\n",
       "      <td>4</td>\n",
       "    </tr>\n",
       "    <tr>\n",
       "      <th>10</th>\n",
       "      <td>2011</td>\n",
       "      <td>2</td>\n",
       "    </tr>\n",
       "    <tr>\n",
       "      <th>8</th>\n",
       "      <td>2012</td>\n",
       "      <td>2</td>\n",
       "    </tr>\n",
       "    <tr>\n",
       "      <th>7</th>\n",
       "      <td>2013</td>\n",
       "      <td>2</td>\n",
       "    </tr>\n",
       "    <tr>\n",
       "      <th>17</th>\n",
       "      <td>2014</td>\n",
       "      <td>1</td>\n",
       "    </tr>\n",
       "    <tr>\n",
       "      <th>2</th>\n",
       "      <td>2016</td>\n",
       "      <td>7</td>\n",
       "    </tr>\n",
       "    <tr>\n",
       "      <th>11</th>\n",
       "      <td>2017</td>\n",
       "      <td>2</td>\n",
       "    </tr>\n",
       "    <tr>\n",
       "      <th>5</th>\n",
       "      <td>2018</td>\n",
       "      <td>4</td>\n",
       "    </tr>\n",
       "    <tr>\n",
       "      <th>3</th>\n",
       "      <td>2019</td>\n",
       "      <td>6</td>\n",
       "    </tr>\n",
       "    <tr>\n",
       "      <th>4</th>\n",
       "      <td>2020</td>\n",
       "      <td>6</td>\n",
       "    </tr>\n",
       "    <tr>\n",
       "      <th>9</th>\n",
       "      <td>2021</td>\n",
       "      <td>2</td>\n",
       "    </tr>\n",
       "    <tr>\n",
       "      <th>0</th>\n",
       "      <td>2022</td>\n",
       "      <td>10</td>\n",
       "    </tr>\n",
       "    <tr>\n",
       "      <th>1</th>\n",
       "      <td>2023</td>\n",
       "      <td>8</td>\n",
       "    </tr>\n",
       "    <tr>\n",
       "      <th>13</th>\n",
       "      <td>2024</td>\n",
       "      <td>1</td>\n",
       "    </tr>\n",
       "  </tbody>\n",
       "</table>\n",
       "</div>"
      ],
      "text/plain": [
       "    year  count\n",
       "15  1995      1\n",
       "14  1998      1\n",
       "16  2003      1\n",
       "18  2004      1\n",
       "12  2006      1\n",
       "19  2008      1\n",
       "6   2009      4\n",
       "10  2011      2\n",
       "8   2012      2\n",
       "7   2013      2\n",
       "17  2014      1\n",
       "2   2016      7\n",
       "11  2017      2\n",
       "5   2018      4\n",
       "3   2019      6\n",
       "4   2020      6\n",
       "9   2021      2\n",
       "0   2022     10\n",
       "1   2023      8\n",
       "13  2024      1"
      ]
     },
     "execution_count": 324,
     "metadata": {},
     "output_type": "execute_result"
    }
   ],
   "source": [
    "# для не \"лучших преподавателей\" - сколько человек в каком году начали работать\n",
    "for_plot_not_best = not_best['year_start_in_hse'].value_counts().reset_index()\n",
    "for_plot_not_best.sort_values('year_start_in_hse', inplace=True)\n",
    "for_plot_not_best.columns = ['year', 'count']\n",
    "for_plot_not_best"
   ]
  },
  {
   "cell_type": "markdown",
   "id": "32b0f405",
   "metadata": {},
   "source": [
    "Используя комбинацию `seaborn` и `matplotlib`, нарисуем два barplot'а чтобы понять, в какие годы приходило больше \"лучших преподавателей\", а в какие – тех преподавателей ОП \"Политология\", которые этот статус еще не получили."
   ]
  },
  {
   "cell_type": "code",
   "execution_count": 327,
   "id": "6cf0d910",
   "metadata": {},
   "outputs": [
    {
     "data": {
      "image/png": "[encoded data removed]",
      "text/plain": [
       "<Figure size 1000x400 with 1 Axes>"
      ]
     },
     "metadata": {},
     "output_type": "display_data"
    }
   ],
   "source": [
    "plt.figure(figsize=(10,4))\n",
    "graph = sns.barplot(data=for_plot_best, x=\"year\", y=\"count\")"
   ]
  },
  {
   "cell_type": "code",
   "execution_count": 329,
   "id": "a855b917",
   "metadata": {},
   "outputs": [
    {
     "data": {
      "image/png": "[encoded data removed]",
      "text/plain": [
       "<Figure size 1000x400 with 1 Axes>"
      ]
     },
     "metadata": {},
     "output_type": "display_data"
    }
   ],
   "source": [
    "plt.figure(figsize=(10, 4))\n",
    "graph = sns.barplot(data=for_plot_not_best, x=\"year\", y=\"count\")"
   ]
  },
  {
   "cell_type": "markdown",
   "id": "a2eec877",
   "metadata": {},
   "source": [
    "Как мы можем понять по этому графику, то больше всего \"лучших преподавателей\" ОП \"Политология\" приходило в университет примерно в 2008-2014 годах. Пик же прихода в Вышку преподавателей без этого статуса сильно позднее – наблюдается волна в 2016-2020 годах и в 2022-2023 соответственно.\n",
    "\n",
    "<p></p>\n",
    "<center><b><font size=4>Задача №4 – Extra</font></b></center>\n",
    "\n",
    "Если вы ушли в материале вперед, то можете поиграть с настройками этого графика. Я бы посоветовала вам:\n",
    "* Добавить название графика;\n",
    "* Поменять названия осей на русскоязычные."
   ]
  },
  {
   "cell_type": "markdown",
   "id": "3389395f",
   "metadata": {},
   "source": [
    "Вы также можете строить в `matplotlib.pyplot` scatterplot'ы – или **графики рассеивания**. Они демонстрируют меру связи между двумя количественными переменными.\n",
    "\n",
    "Что мы можем сказать по этому графику? Кажется, преподаватели, которые дольше в Вышке, имеют больше шансов написать больше публикаций."
   ]
  },
  {
   "cell_type": "code",
   "execution_count": 343,
   "id": "7670c8b1",
   "metadata": {},
   "outputs": [
    {
     "data": {
      "image/png": "[encoded data removed]",
      "text/plain": [
       "<Figure size 640x480 with 1 Axes>"
      ]
     },
     "metadata": {},
     "output_type": "display_data"
    }
   ],
   "source": [
    "plt.scatter(df['year_start_in_hse'], df['n_of_publications'], alpha=0.5);\n",
    "plt.title('Год прихода в Вышку и число публикаций');"
   ]
  },
  {
   "cell_type": "markdown",
   "id": "d0481865",
   "metadata": {},
   "source": [
    "А что если мы хотим сказать что-то в разрезе статуса \"Лучший преподаватель\"? У большинства функций для создания графиков есть параметр `hue`, куда можно передать название переменной, по которой будет происходить разделение по цвету и легенде на графике. Хотя график неидеален, но мы уже можем заметитть, что \"лучшие преподаватели\" находятся в Университете как минимум по 4-5 лет (самая правая точка – у 2019 года), и что у них чаще больше публикаций, нежели у преподавателей без этого статуса."
   ]
  },
  {
   "cell_type": "code",
   "execution_count": 341,
   "id": "226068cf",
   "metadata": {},
   "outputs": [
    {
     "data": {
      "image/png": "[encoded data removed]",
      "text/plain": [
       "<Figure size 665.236x500 with 1 Axes>"
      ]
     },
     "metadata": {},
     "output_type": "display_data"
    }
   ],
   "source": [
    "sns.lmplot(x='year_start_in_hse', y='n_of_publications', data=df, hue='was_the_best_teacher');"
   ]
  },
  {
   "cell_type": "markdown",
   "id": "3a35aa10",
   "metadata": {},
   "source": [
    "<p></p>\n",
    "<center><b><font size=4>Задача №5 – Extra</font></b></center>\n",
    "\n",
    "Если вы ушли вперед, проанализируйте – есть ли гендерные отличия в получении статуса \"Лучший преподаватель\" - или – есть ли отличия в получении статуса \"Лучший преподаватель\" для преподавателей с разным числом иностранных языков. Используйте описательные статистики, графики, при желании – статистические критерии."
   ]
  },
  {
   "cell_type": "markdown",
   "id": "4624fe3c",
   "metadata": {},
   "source": [
    "<p></p>\n",
    "<center><b><font size=4>Задача №6 – Extra</font></b></center>\n",
    "\n",
    "Порефлексируйте над следующим: \n",
    "1. Как вы считаете, можно ли сказать, что наши данные полные? Почему вы можете сказать что они полные/не полные?\n",
    "2. Обладают ли страницы преподавателей какой-то спецификой в отношении вопроса времени?\n",
    "3. Могут ли данные, собранные нами, как-то повлиять на жизни этих лиц, если будут опубликованы публично?"
   ]
  },
  {
   "cell_type": "markdown",
   "id": "5aa0d121",
   "metadata": {},
   "source": [
    "<p></p>\n",
    "<center><b><font size=4>P. S.</font></b></center>\n",
    "\n",
    "\n",
    "Возможно, мы не успели до конца разобрать материал этого ноутбука, но это не страшно. Его главной целью было отточить ваши навыки работы с данными и сбора их в один датафрейм, а также рассказать вам о том что и как можно анализировать на ваших данных как только вы их собрали. Описательные статистики и графики, представленные выше, релевантны только для преподавателей ОП \"Политология\" в начале календарного 2024 года, но, надеюсь, это было вам полезно и интересно."
   ]
  }
 ],
 "metadata": {
  "kernelspec": {
   "display_name": "Python 3 (ipykernel)",
   "language": "python",
   "name": "python3"
  },
  "language_info": {
   "codemirror_mode": {
    "name": "ipython",
    "version": 3
   },
   "file_extension": ".py",
   "mimetype": "text/x-python",
   "name": "python",
   "nbconvert_exporter": "python",
   "pygments_lexer": "ipython3",
   "version": "3.9.13"
  }
 },
 "nbformat": 4,
 "nbformat_minor": 5
}
