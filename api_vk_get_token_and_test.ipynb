{
 "cells": [
  {
   "cell_type": "markdown",
   "id": "52612ab7",
   "metadata": {},
   "source": [
    "# Сбор данных с Web-scraping и API для социально-научных исследований\n",
    "---\n",
    "## Подготовка к семинарам `7-8`. Работа с API ВКонтакте\n",
    "\n",
    "---\n",
    "*ФСН, ОП \"Политология\", 2023-2024 гг.*\n",
    "\n",
    "Лика Капустина,\n",
    "\n",
    "lkapustina@hse.ru"
   ]
  },
  {
   "cell_type": "markdown",
   "id": "1a6c24bb",
   "metadata": {},
   "source": [
    "Наша следующая тема - **работа с API ВКонтакте**. Работа с частью API требует получения токена – специального ключа. Он может включать в себя информацию о вас, вашем профиле; токен может действовать постоянно или определенное количество времени.\n",
    "\n",
    "\n",
    "**API ВКонтакте требует от вас создать специальный токен, чтобы получать данные и управлять определенными действиями с вашего аккаунта или с администрируемыми вами группами. В этом ноутбуке описано, как вы можете сгенерировать свой токен.**"
   ]
  },
  {
   "cell_type": "markdown",
   "id": "0a4a6d2d",
   "metadata": {},
   "source": [
    "<center><b><font size=6>Инструкция</font></b></center>\n",
    "\n",
    "Инструкция основана на материале [devman.org](https://dvmn.org/encyclopedia/qna/63/kak-poluchit-token-polzovatelja-dlja-vkontakte/)\n",
    "\n",
    "\n",
    "<font size=3><b>Шаг 1. Откройте раздел \"Мои приложения\" и создайте свое</b></font>\n",
    "\n",
    "* Откройте страницу [Мои приложения](https://vk.com/apps?act=manage);\n",
    "* Нажмите на кнопку \"Создать\";\n",
    "* Придумайте название вашему приложению;\n",
    "* Выберите платформу: **Standalone-приложение**;\n",
    "* Остальные настройки не так важны (описание, тип). Вы можете не редактировать дефолтные значения.\n",
    "* Кликните на кнопку \"создать\". \n",
    "\n",
    "<font size=3><b>Шаг 2. Достаньте client_id</b></font>\n",
    "\n",
    "* Кликните на ваше приложение;\n",
    "* Нажмите на кнопку \"Редактировать\";\n",
    "* Нажмите на адресную строку. Скопируйте url;\n",
    "* Вы получите url такого типа: ```https://vk.com/editapp?id=666``` где `id` равно `666`. Скопируйте значение id вашего приложения.\n",
    "\n",
    "<font size=3><b>Шаг 3. Сгенерируйте ссылку из которой будете получать токен.</b></font>\n",
    "\n",
    "* Проверьте [последнюю версию API VK](https://dev.vk.com/ru/reference/versions?ref=old_portal).\n",
    "* Выберите значения для параметра `scope`. Все возможные указаны на соответствующей странице [API ВК](https://dev.vk.com/ru/reference/access-rights). Этот параметр отвечает за права доступа – то есть, за те действия, которые вы сможете совершать используя сгенерированную потом строку токена. \n",
    "    * Например: `'scope=friends'` позволит вам использовать дополнительные методы работы с друзьями (отправлять им сообщения, получать данные по ним и пр.;\n",
    "    * Если вы хотите указать несколько `scope` (а я советую вам выбрать сразу несколько параметров), их нужно указать через запятую: `'friends,wall,status,wall'`\n",
    "* Запустите код ниже или склейте строку самостоятельно."
   ]
  },
  {
   "cell_type": "code",
   "execution_count": 21,
   "id": "d0679703",
   "metadata": {},
   "outputs": [
    {
     "name": "stdout",
     "output_type": "stream",
     "text": [
      "Введите версию API ВК: 5.1\n",
      "Введите id вашего приложения: 666\n",
      "\n",
      "Ваша ссылка для генерации API в ВК:\n",
      "\n",
      "https://oauth.vk.com/authorize?client_id=666&display=page&scope=friends,wall,status,wall&redirect_uri=https://oauth.vk.com/blank.html&response_type=token&v=5.1&state=123456\n"
     ]
    }
   ],
   "source": [
    "api_version = input('Введите версию API ВК: ')      # последняя версия апи вк\n",
    "client_id = input('Введите id вашего приложения: ') # client_id вашего приложения \n",
    "\n",
    "scope = 'friends,wall,status,wall'                  # настройки доступа\n",
    "\n",
    "print('\\nВаша ссылка для генерации API в ВК:\\n')\n",
    "print(f'https://oauth.vk.com/authorize?client_id={client_id}&display=page&scope={scope}&redirect_uri=https://oauth.vk.com/blank.html&response_type=token&v={api_version}&state=123456')"
   ]
  },
  {
   "cell_type": "markdown",
   "id": "26b6557b",
   "metadata": {},
   "source": [
    "<font size=3><b>Шаг 4. Работа с ссылкой выше.</b></font>\n",
    "\n",
    "Запомните:<font color=red> НИКОМУ НЕЛЬЗЯ ПЕРЕДАВАТЬ ССЫЛКУ ВЫШЕ.</font> Передача этой ссылки грозит тем, что получивший её человек сможет с помощью методов API ВКонтакте управлять вашей страницей: например, рассылать какие-то сообщения вашим друзьям, удалить все записи на вашей странице и сделать другие неприятные вещи.\n",
    "\n",
    "*Параметры `client_id` и токен, которые тут демонстрирую я, ненастоящие.*\n",
    "\n",
    "**Сохраните эту ссылку в защищенную заметку или другое надежное место на вашем компьютере**.\n",
    "\n",
    "Теперь, каждый раз когда вам нужно сгенерировать токен для работы с API ВКонтакте, вы будете переходить по этой ссылке. Ваш токен в дальнейшем будет использоваться для отправки запросов к API ВКонтакте.\n",
    "\n",
    "**Перейдите по ссылке**\n",
    "\n",
    "Вы должны увидеть следующую запись: \n",
    "\n",
    "```Пожалуйста, не копируйте данные из адресной строки для сторонних сайтов. Таким образом Вы можете потерять доступ к Вашему аккаунту.```\n",
    "\n",
    "Кликните на поле с адресом страницы. Теперь там должна появиться следующая строка:\n",
    "\n",
    "```https://oauth.vk.com/blank.html#access_token=vk1.a.h1t15y9MSMQtVe0jlX4jeSA&expires_in=86400&user_id=000666```, где:\n",
    "* `access_token` – сам токен доступа. Эта строка будет выглядеть сильно больше, но для этого примера я сократила реальный токен;\n",
    "* `expires_in=86400` это число секунд, через которые истечет срок действия этого токена. 86 тысяч 400 секунд это 24 часа;\n",
    "* `user_id=000666` это ваш id ВКонтакте.\n",
    "\n",
    "Протестируйте, работает ли ваш токен:"
   ]
  },
  {
   "cell_type": "code",
   "execution_count": 4,
   "id": "bf68e232",
   "metadata": {},
   "outputs": [
    {
     "name": "stdout",
     "output_type": "stream",
     "text": [
      "Введите ваш токен ВКонтакте: vk1.a.h1t15y9MSMQtVe0jlX4jeSA&expires_in=86400&user_id=000666\n"
     ]
    }
   ],
   "source": [
    "token = input('Введите ваш токен ВКонтакте: ') # сохраним токен (начиная с vk1.a.)"
   ]
  },
  {
   "cell_type": "code",
   "execution_count": 5,
   "id": "827fc161",
   "metadata": {},
   "outputs": [],
   "source": [
    "# импортируем библиотеки\n",
    "import requests\n",
    "import pandas as pd\n",
    "import numpy"
   ]
  },
  {
   "cell_type": "code",
   "execution_count": 18,
   "id": "0aab5536",
   "metadata": {},
   "outputs": [],
   "source": [
    "# отправим запрос к вашей странице\n",
    "# воспользуемся подготовленной мной функцией\n",
    "def get_user_data(user_ids, method='users.get'):\n",
    "    parameters = 'fields=sex,about,screen_name,bdate,city,country,home_town'\n",
    "    url = 'https://api.vk.com/method/' + method + '?' + parameters + '&v=' + version + '&access_token=' + token + '&user_ids=' + user_ids\n",
    "    response = requests.get(url)\n",
    "    users_data = response.json()\n",
    "    \n",
    "    # Данные\n",
    "    user_ids = [users_data['response'][i]['id'] for i in range(len(users_data['response']))]\n",
    "    first_names = [users_data['response'][i]['first_name'] for i in range(len(users_data['response']))]\n",
    "    last_names = [users_data['response'][i]['last_name'] for i in range(len(users_data['response']))]\n",
    "    users_sex = [{0: 'Н', 1: 'Ж', 2: 'М'}[users_data['response'][i]['sex']] for i in range(len(users_data['response']))]\n",
    "    is_closed_accounts = [users_data['response'][i]['is_closed'] for i in range(len(users_data['response']))]        \n",
    "    \n",
    "    # создаем датафрейм по пользователям\n",
    "    df_users = pd.DataFrame({'id': user_ids, 'first_name': first_names, 'last_name': last_names, \n",
    "                             'sex': users_sex, 'is_closed': is_closed_accounts})\n",
    "    df_users['first_name'] = df_users['first_name'] + ' ' + df_users['last_name']\n",
    "    df_users.drop('last_name', axis=1, inplace=True)\n",
    "    df_users = df_users.rename(columns={'first_name': 'full_name'})\n",
    "    df_users = df_users.fillna('')\n",
    "    # возвращаем датафрейм\n",
    "    return df_users"
   ]
  },
  {
   "cell_type": "markdown",
   "id": "93335d16",
   "metadata": {},
   "source": [
    "В результате отправки запроса вы должны увидеть краткую информацию о себе. Проверьте, что совпадает ваше имя (`full_name`), указанный пол - `sex` – (нет, в примере не ошибка), и статус – `is_closed` (`True`/`False`)."
   ]
  },
  {
   "cell_type": "code",
   "execution_count": 19,
   "id": "dd70d438",
   "metadata": {},
   "outputs": [
    {
     "data": {
      "text/html": [
       "<div>\n",
       "<style scoped>\n",
       "    .dataframe tbody tr th:only-of-type {\n",
       "        vertical-align: middle;\n",
       "    }\n",
       "\n",
       "    .dataframe tbody tr th {\n",
       "        vertical-align: top;\n",
       "    }\n",
       "\n",
       "    .dataframe thead th {\n",
       "        text-align: right;\n",
       "    }\n",
       "</style>\n",
       "<table border=\"1\" class=\"dataframe\">\n",
       "  <thead>\n",
       "    <tr style=\"text-align: right;\">\n",
       "      <th></th>\n",
       "      <th>id</th>\n",
       "      <th>full_name</th>\n",
       "      <th>sex</th>\n",
       "      <th>is_closed</th>\n",
       "    </tr>\n",
       "  </thead>\n",
       "  <tbody>\n",
       "    <tr>\n",
       "      <th>0</th>\n",
       "      <td>441721976</td>\n",
       "      <td>Lika Kapustina</td>\n",
       "      <td>М</td>\n",
       "      <td>True</td>\n",
       "    </tr>\n",
       "  </tbody>\n",
       "</table>\n",
       "</div>"
      ],
      "text/plain": [
       "          id       full_name sex  is_closed\n",
       "0  441721976  Lika Kapustina   М       True"
      ]
     },
     "execution_count": 19,
     "metadata": {},
     "output_type": "execute_result"
    }
   ],
   "source": [
    "your_user_id = token.split('user_id=')[1] # тут получаем id нашей страницы (не client_id)\n",
    "version = api_version # сохраняем в переменную version версию АПИ ВКонтакте\n",
    "\n",
    "get_user_data(user_ids=f'{your_user_id}') "
   ]
  },
  {
   "cell_type": "markdown",
   "id": "100088e7",
   "metadata": {},
   "source": [
    "Если все совпадает – **поздравляю, вы можете пользоваться вашим токеном!**\n",
    "\n",
    "Если нет – пройдитесь по инструкции еще раз. Если у вас не получилось, то напишите об этом мне в чате курса."
   ]
  }
 ],
 "metadata": {
  "kernelspec": {
   "display_name": "Python 3 (ipykernel)",
   "language": "python",
   "name": "python3"
  },
  "language_info": {
   "codemirror_mode": {
    "name": "ipython",
    "version": 3
   },
   "file_extension": ".py",
   "mimetype": "text/x-python",
   "name": "python",
   "nbconvert_exporter": "python",
   "pygments_lexer": "ipython3",
   "version": "3.9.13"
  }
 },
 "nbformat": 4,
 "nbformat_minor": 5
}
