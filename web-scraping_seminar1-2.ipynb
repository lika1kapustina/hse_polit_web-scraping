{
 "cells": [
  {
   "cell_type": "markdown",
   "id": "dd202fe5",
   "metadata": {},
   "source": [
    "# Сбор данных с Web-scraping и API для социально-научных исследований\n",
    "---\n",
    "## Семинары 1-2. Введение в Web-Scraping. HTML.\n",
    "\n",
    "---\n",
    "*ФСН, ОП \"Политология\", 2023-2024 гг.*\n",
    "\n",
    "Лика Капустина,\n",
    "\n",
    "lkapustina@hse.ru\n",
    "\n",
    "**План занятия:**\n",
    "1. **HTML**;\n",
    "2. **Парсинг HTML с помощью `BeautifulSoup`**;\n",
    "---"
   ]
  },
  {
   "cell_type": "markdown",
   "id": "61275cb0",
   "metadata": {},
   "source": [
    "## 1. HTML\n",
    "\n",
    "Мы обсудили структуру HTML используя мою презентацию. Вы всегда можете попрактиковаться в написании html и css на сайте [programiz.com](https://www.programiz.com/html/online-compiler/).\n",
    "\n",
    "Следует отметить, что в ячейках типа Markdown в Python вы можете использовать не простую разметку (звездочки, квадратные скобки для ссылок и изображений, решетки для выделения), а html. \n",
    "\n",
    "Например (проверьте что этот ноутбук открыт в Jupyter Notebook и кликните дважды на эту ячейку):\n",
    "\n",
    "<p></p>\n",
    "<p><font color='ivyblue'>Вот пример.</font></p>\n",
    "<p></p>\n",
    "<p><i>Вы можете даже не заметить, но этот текст написан с использованием html, а не стандартной разметки Markdown.</i>Стандартную разметку markdown легче использовать для повседневной работы и написания кода в Jupyter Notebook, однако, вы можете использовать html в Jupyter Notebook если хотите уточнить характеристики вашего текста: <font color='green'>цвет</font> и <font size=10>размер</font>, центрирование на странице. Если вам интересно использование html и Jupyter Notebook, можете почитать материал по <a href='https://medium.com/analytics-vidhya/the-ultimate-markdown-guide-for-jupyter-notebook-d5e5abf728fd'>ссылке</a> (потребуется VPN). Для вас я также скачала этот материал и загрузила на <font color='blue'>Dropbox</font>: по этой <a href='https://www.dropbox.com/scl/fi/zwtzza3lo82hbo8nlkina/The-Ultimate-Markdown-Guide-for-Jupyter-Notebook-by-Hannan-Satopay-Analytics-Vidhya-Medium.pdf?rlkey=4cdmk3dxsjvtfqejmnbjw8m5m&dl=0'>ссылке</a> вы можете скачать этот гайд (VPN не требуется).</p>\n",
    "\n",
    "---"
   ]
  },
  {
   "cell_type": "markdown",
   "id": "20e0c28c",
   "metadata": {},
   "source": [
    "## 2. Парсинг HTML с помощью `BeautifulSoup`"
   ]
  },
  {
   "cell_type": "markdown",
   "id": "b20ba69b",
   "metadata": {},
   "source": [
    "Импортируем из пакета `bs4` ровно одну функцию – `BeautfiulSoup`, больше нам не понадобится. \n",
    "\n",
    "Если вы столкнулись с проблемой `ModuleNotFoundError`, используйте следующий код:\n",
    "\n",
    "```!pip install bs4```"
   ]
  },
  {
   "cell_type": "code",
   "execution_count": 234,
   "id": "02916c75",
   "metadata": {},
   "outputs": [],
   "source": [
    "from bs4 import BeautifulSoup"
   ]
  },
  {
   "cell_type": "markdown",
   "id": "23d4ed66",
   "metadata": {},
   "source": [
    "Начнем работу с `BeautifulSoup` с базового примера. Допустим, у нас есть следующий кусок html, сохраненный в переменную `html`."
   ]
  },
  {
   "cell_type": "code",
   "execution_count": 244,
   "id": "bd14dfee",
   "metadata": {},
   "outputs": [],
   "source": [
    "html = '''\n",
    "<html>\n",
    "<h1 class=\"person-caption\">Локшин Илья Михайлович</h1>\n",
    "<ul class=\"g-ul g-list small person-employment-addition\"><li class=\"i\">Начал работать в НИУ ВШЭ в 2011 году.</li><li class=\"i\">Научно-педагогический стаж: 12 лет.</li></ul>\n",
    "<span class=\"person-appointment-title\">Доцент:</span>\n",
    "<dl class=\"main-list large main-list-language-knowledge-level\"><dt class=\"b\">Владение языками</dt><dd>английский</dd><dd>немецкий <span class=\"grey i\">(чтение)</span></dd><dd>французский <span class=\"grey i\">(чтение)</span></dd><dd>латинский <span class=\"grey i\">(чтение)</span></dd><dd>итальянский <span class=\"grey i\">(чтение)</span></dd><dd>древнегреческий <span class=\"grey i\">(чтение)</span></dd></dl>\n",
    "<div class=\"b-person-data__inner b-person-data__tags\"><a class=\"tag tag_small\" href=\"/org/persons/?intst=76660881\">Новая политическая экономия</a><a class=\"tag tag_small\" href=\"/org/persons/?intst=63014388\">политические режимы</a><a class=\"tag tag_small\" href=\"/org/persons/?intst=37316398\">политическая философия</a></div>\n",
    "<dl class=\"main-list person-extra-indent\"><dd><span class=\"b\">SPIN РИНЦ</span>:\n",
    "\n",
    "\t\t                        <a href=\"https://elibrary.ru/author_profile.asp?authorid=809751\" class=\"link\" rel=\"nofollow\">5131-3625</a></dd><dd><span class=\"b\">ORCID</span>:\n",
    "\n",
    "\t\t                        <a href=\"https://orcid.org/0000-0002-0968-6868\" class=\"link\" rel=\"nofollow\">0000-0002-0968-6868</a></dd><dd><span class=\"b\">ResearcherID</span>:\n",
    "\n",
    "\t\t                        <a href=\"https://www.webofscience.com/wos/author/rid/K-5427-2015\" class=\"link\" rel=\"nofollow\">K-5427-2015</a></dd><dd><span class=\"b\">Scopus AuthorID</span>:\n",
    "\n",
    "\t\t                        <a href=\"https://www.scopus.com/authid/detail.uri?partnerID=HzOxMe3b&amp;authorId=57192297326&amp;origin=inward\" class=\"link\" rel=\"nofollow\">57192297326</a></dd><dd><a href=\"https://scholar.google.ru/citations?user=K2tqK6YAAAAJ&amp;hl=en&amp;oi=ao\" class=\"link b\" rel=\"nofollow\">Google Scholar</a></dd></dl>\n",
    "\n",
    "<div class=\"b-person-data__inner b-person-data__tags\"><a class=\"tag tag_small\" href=\"/org/persons/?intst=76660881\">Новая политическая экономия</a><a class=\"tag tag_small\" href=\"/org/persons/?intst=63014388\">политические режимы</a><a class=\"tag tag_small\" href=\"/org/persons/?intst=37316398\">политическая философия</a></div>\n",
    "<ul class=\"g-ul g-list g-list_closer \"><li>Благодарность Высшей школы экономики (декабрь 2022)</li><li>Благодарность департамента политики и управления факультета социальных наук НИУ ВШЭ (декабрь 2021)</li><li>Благодарственное письмо проректора НИУ ВШЭ (ноябрь 2021)</li><li>Благодарственное письмо проректора НИУ ВШЭ (ноябрь 2021)</li><li>Благодарность проректора НИУ ВШЭ (июнь 2020)</li><li>Благодарность Факультета социальных наук НИУ ВШЭ (март 2019)</li><li>Благодарность Департамента политической науки НИУ ВШЭ (декабрь 2017)</li><li><p class=\"first_child last_child \">Лучший преподаватель – <a href=\"/best\" class=\"link n\">2023</a>, <a href=\"/best\" class=\"link n\">2022</a>, <a href=\"/best\" class=\"link n\">2021</a>, <a href=\"/best\" class=\"link n\">2020</a>, <a href=\"/best\" class=\"link n\">2019</a>, <a href=\"/best\" class=\"link n\">2018</a>, <a href=\"/best\" class=\"link n\">2017</a>, <a href=\"/best\" class=\"link n\">2016</a>, <a href=\"/best\" class=\"link n\">2015</a>, <a href=\"/best\" class=\"link n\">2014</a>, <a href=\"/best\" class=\"link n\">2013</a>, <a href=\"/best\" class=\"link n\">2012</a></p></li><li><p class=\"first_child last_child \">Надбавка за академическую работу (<a href=\"/science/scifund/bonus_2017_1\" class=\"link n\">2017-2018</a>, <a href=\"/science/scifund/bonus_2016_1\" class=\"link n\">2016-2017</a>)</p></li><li><a href=\"https://www.hse.ru/science/scifund/worksrus/\" class=\"link\">Победитель Конкурса лучших русскоязычных научных и научно-популярных работ работников НИУ ВШЭ – 2022</a></li></ul>\n",
    "<h2 class=\"first_child\"><a href=\"/en/news/882823286.html\" class=\"link link_dark2 no-visited\">‘University Life in Partnership with Artificial Intelligence’</a></h2>\n",
    "<h2 class=\"first_child\"><a href=\"/news/priority/881445213.html\" class=\"link link_dark2 no-visited\">«Жизнь университета в партнерстве с искусственным интеллектом»</a></h2>\n",
    "<h2 class=\"first_child\"><a href=\"https://ioe.hse.ru/news/796591382.html\" class=\"link link_dark2 no-visited\">Кто назначает «святых» в науке?: на вторничном семинаре обсуждали, откуда берутся каноны в социальных дисциплинах</a></h2>\n",
    "<h2 class=\"first_child\"><a href=\"https://social.hse.ru/news/703064649.html\" class=\"link link_dark2 no-visited\">Опубликованы итоги выборов лучших преподавателей — 2022. Поздравляем победителей от факультета!</a></h2>\n",
    "<span class=\"grey\">Время работы: понедельник, с 11:00 до 13:00</span>\n",
    "</html>\n",
    "'''"
   ]
  },
  {
   "cell_type": "markdown",
   "id": "03e28079",
   "metadata": {},
   "source": [
    "Приготовим наш \"суп\""
   ]
  },
  {
   "cell_type": "code",
   "execution_count": 245,
   "id": "46d75fcb",
   "metadata": {},
   "outputs": [
    {
     "data": {
      "text/plain": [
       "bs4.BeautifulSoup"
      ]
     },
     "execution_count": 245,
     "metadata": {},
     "output_type": "execute_result"
    }
   ],
   "source": [
    "soup = BeautifulSoup(html)\n",
    "type(soup) # тип данных получается такой"
   ]
  },
  {
   "cell_type": "markdown",
   "id": "c0371c15",
   "metadata": {},
   "source": [
    "Теперь давайте на него взглянем. Вы можете использовать три вида записей:\n",
    "1. `soup`;\n",
    "\n",
    "2. `print(soup)`;\n",
    "\n",
    "3. `soup.prettify()`\n",
    "\n",
    "Первая и вторая опция покажут вам одинаковый результат. Третья должна показывать обработанный контент в \"причесанном\" виде, но я вижу между этими опциями мало разницы. Используйте ту, с помощью которой вам легче смотреть на ваш html."
   ]
  },
  {
   "cell_type": "code",
   "execution_count": 239,
   "id": "236e0f21",
   "metadata": {},
   "outputs": [],
   "source": [
    "#soup"
   ]
  },
  {
   "cell_type": "code",
   "execution_count": 241,
   "id": "8f934645",
   "metadata": {},
   "outputs": [],
   "source": [
    "#print(soup)"
   ]
  },
  {
   "cell_type": "code",
   "execution_count": 243,
   "id": "b4adde0d",
   "metadata": {
    "scrolled": false
   },
   "outputs": [
    {
     "name": "stdout",
     "output_type": "stream",
     "text": [
      "<html>\n",
      " <body>\n",
      "  <h1 class=\"person-caption\">\n",
      "   Локшин Илья Михайлович\n",
      "  </h1>\n",
      "  <ul class=\"g-ul g-list small person-employment-addition\">\n",
      "   <li class=\"i\">\n",
      "    Начал работать в НИУ ВШЭ в 2011 году.\n",
      "   </li>\n",
      "   <li class=\"i\">\n",
      "    Научно-педагогический стаж: 12 лет.\n",
      "   </li>\n",
      "  </ul>\n",
      "  <span class=\"person-appointment-title\">\n",
      "   Доцент:\n",
      "  </span>\n",
      "  <dl class=\"main-list large main-list-language-knowledge-level\">\n",
      "   <dt class=\"b\">\n",
      "    Владение языками\n",
      "   </dt>\n",
      "   <dd>\n",
      "    английский\n",
      "   </dd>\n",
      "   <dd>\n",
      "    немецкий\n",
      "    <span class=\"grey i\">\n",
      "     (чтение)\n",
      "    </span>\n",
      "   </dd>\n",
      "   <dd>\n",
      "    французский\n",
      "    <span class=\"grey i\">\n",
      "     (чтение)\n",
      "    </span>\n",
      "   </dd>\n",
      "   <dd>\n",
      "    латинский\n",
      "    <span class=\"grey i\">\n",
      "     (чтение)\n",
      "    </span>\n",
      "   </dd>\n",
      "   <dd>\n",
      "    итальянский\n",
      "    <span class=\"grey i\">\n",
      "     (чтение)\n",
      "    </span>\n",
      "   </dd>\n",
      "   <dd>\n",
      "    древнегреческий\n",
      "    <span class=\"grey i\">\n",
      "     (чтение)\n",
      "    </span>\n",
      "   </dd>\n",
      "  </dl>\n",
      "  <div class=\"b-person-data__inner b-person-data__tags\">\n",
      "   <a class=\"tag tag_small\" href=\"/org/persons/?intst=76660881\">\n",
      "    Новая политическая экономия\n",
      "   </a>\n",
      "   <a class=\"tag tag_small\" href=\"/org/persons/?intst=63014388\">\n",
      "    политические режимы\n",
      "   </a>\n",
      "   <a class=\"tag tag_small\" href=\"/org/persons/?intst=37316398\">\n",
      "    политическая философия\n",
      "   </a>\n",
      "  </div>\n",
      "  <dl class=\"main-list person-extra-indent\">\n",
      "   <dd>\n",
      "    <span class=\"b\">\n",
      "     SPIN РИНЦ\n",
      "    </span>\n",
      "    :\n",
      "    <a class=\"link\" href=\"https://elibrary.ru/author_profile.asp?authorid=809751\" rel=\"nofollow\">\n",
      "     5131-3625\n",
      "    </a>\n",
      "   </dd>\n",
      "   <dd>\n",
      "    <span class=\"b\">\n",
      "     ORCID\n",
      "    </span>\n",
      "    :\n",
      "    <a class=\"link\" href=\"https://orcid.org/0000-0002-0968-6868\" rel=\"nofollow\">\n",
      "     0000-0002-0968-6868\n",
      "    </a>\n",
      "   </dd>\n",
      "   <dd>\n",
      "    <span class=\"b\">\n",
      "     ResearcherID\n",
      "    </span>\n",
      "    :\n",
      "    <a class=\"link\" href=\"https://www.webofscience.com/wos/author/rid/K-5427-2015\" rel=\"nofollow\">\n",
      "     K-5427-2015\n",
      "    </a>\n",
      "   </dd>\n",
      "   <dd>\n",
      "    <span class=\"b\">\n",
      "     Scopus AuthorID\n",
      "    </span>\n",
      "    :\n",
      "    <a class=\"link\" href=\"https://www.scopus.com/authid/detail.uri?partnerID=HzOxMe3b&amp;authorId=57192297326&amp;origin=inward\" rel=\"nofollow\">\n",
      "     57192297326\n",
      "    </a>\n",
      "   </dd>\n",
      "   <dd>\n",
      "    <a class=\"link b\" href=\"https://scholar.google.ru/citations?user=K2tqK6YAAAAJ&amp;hl=en&amp;oi=ao\" rel=\"nofollow\">\n",
      "     Google Scholar\n",
      "    </a>\n",
      "   </dd>\n",
      "  </dl>\n",
      "  <div class=\"b-person-data__inner b-person-data__tags\">\n",
      "   <a class=\"tag tag_small\" href=\"/org/persons/?intst=76660881\">\n",
      "    Новая политическая экономия\n",
      "   </a>\n",
      "   <a class=\"tag tag_small\" href=\"/org/persons/?intst=63014388\">\n",
      "    политические режимы\n",
      "   </a>\n",
      "   <a class=\"tag tag_small\" href=\"/org/persons/?intst=37316398\">\n",
      "    политическая философия\n",
      "   </a>\n",
      "  </div>\n",
      "  <ul class=\"g-ul g-list g-list_closer\">\n",
      "   <li>\n",
      "    Благодарность Высшей школы экономики (декабрь 2022)\n",
      "   </li>\n",
      "   <li>\n",
      "    Благодарность департамента политики и управления факультета социальных наук НИУ ВШЭ (декабрь 2021)\n",
      "   </li>\n",
      "   <li>\n",
      "    Благодарственное письмо проректора НИУ ВШЭ (ноябрь 2021)\n",
      "   </li>\n",
      "   <li>\n",
      "    Благодарственное письмо проректора НИУ ВШЭ (ноябрь 2021)\n",
      "   </li>\n",
      "   <li>\n",
      "    Благодарность проректора НИУ ВШЭ (июнь 2020)\n",
      "   </li>\n",
      "   <li>\n",
      "    Благодарность Факультета социальных наук НИУ ВШЭ (март 2019)\n",
      "   </li>\n",
      "   <li>\n",
      "    Благодарность Департамента политической науки НИУ ВШЭ (декабрь 2017)\n",
      "   </li>\n",
      "   <li>\n",
      "    <p class=\"first_child last_child\">\n",
      "     Лучший преподаватель –\n",
      "     <a class=\"link n\" href=\"/best\">\n",
      "      2023\n",
      "     </a>\n",
      "     ,\n",
      "     <a class=\"link n\" href=\"/best\">\n",
      "      2022\n",
      "     </a>\n",
      "     ,\n",
      "     <a class=\"link n\" href=\"/best\">\n",
      "      2021\n",
      "     </a>\n",
      "     ,\n",
      "     <a class=\"link n\" href=\"/best\">\n",
      "      2020\n",
      "     </a>\n",
      "     ,\n",
      "     <a class=\"link n\" href=\"/best\">\n",
      "      2019\n",
      "     </a>\n",
      "     ,\n",
      "     <a class=\"link n\" href=\"/best\">\n",
      "      2018\n",
      "     </a>\n",
      "     ,\n",
      "     <a class=\"link n\" href=\"/best\">\n",
      "      2017\n",
      "     </a>\n",
      "     ,\n",
      "     <a class=\"link n\" href=\"/best\">\n",
      "      2016\n",
      "     </a>\n",
      "     ,\n",
      "     <a class=\"link n\" href=\"/best\">\n",
      "      2015\n",
      "     </a>\n",
      "     ,\n",
      "     <a class=\"link n\" href=\"/best\">\n",
      "      2014\n",
      "     </a>\n",
      "     ,\n",
      "     <a class=\"link n\" href=\"/best\">\n",
      "      2013\n",
      "     </a>\n",
      "     ,\n",
      "     <a class=\"link n\" href=\"/best\">\n",
      "      2012\n",
      "     </a>\n",
      "    </p>\n",
      "   </li>\n",
      "   <li>\n",
      "    <p class=\"first_child last_child\">\n",
      "     Надбавка за академическую работу (\n",
      "     <a class=\"link n\" href=\"/science/scifund/bonus_2017_1\">\n",
      "      2017-2018\n",
      "     </a>\n",
      "     ,\n",
      "     <a class=\"link n\" href=\"/science/scifund/bonus_2016_1\">\n",
      "      2016-2017\n",
      "     </a>\n",
      "     )\n",
      "    </p>\n",
      "   </li>\n",
      "   <li>\n",
      "    <a class=\"link\" href=\"https://www.hse.ru/science/scifund/worksrus/\">\n",
      "     Победитель Конкурса лучших русскоязычных научных и научно-популярных работ работников НИУ ВШЭ – 2022\n",
      "    </a>\n",
      "   </li>\n",
      "  </ul>\n",
      "  <h2 class=\"first_child\">\n",
      "   <a class=\"link link_dark2 no-visited\" href=\"/en/news/882823286.html\">\n",
      "    ‘University Life in Partnership with Artificial Intelligence’\n",
      "   </a>\n",
      "  </h2>\n",
      "  <h2 class=\"first_child\">\n",
      "   <a class=\"link link_dark2 no-visited\" href=\"/news/priority/881445213.html\">\n",
      "    «Жизнь университета в партнерстве с искусственным интеллектом»\n",
      "   </a>\n",
      "  </h2>\n",
      "  <h2 class=\"first_child\">\n",
      "   <a class=\"link link_dark2 no-visited\" href=\"https://ioe.hse.ru/news/796591382.html\">\n",
      "    Кто назначает «святых» в науке?: на вторничном семинаре обсуждали, откуда берутся каноны в социальных дисциплинах\n",
      "   </a>\n",
      "  </h2>\n",
      "  <h2 class=\"first_child\">\n",
      "   <a class=\"link link_dark2 no-visited\" href=\"https://social.hse.ru/news/703064649.html\">\n",
      "    Опубликованы итоги выборов лучших преподавателей — 2022. Поздравляем победителей от факультета!\n",
      "   </a>\n",
      "  </h2>\n",
      "  <span class=\"grey\">\n",
      "   Время работы: понедельник, с 11:00 до 13:00\n",
      "  </span>\n",
      " </body>\n",
      "</html>\n",
      "\n"
     ]
    }
   ],
   "source": [
    "print(soup.prettify())"
   ]
  },
  {
   "cell_type": "markdown",
   "id": "66853ca1",
   "metadata": {},
   "source": [
    "**Как получить данные из этого html?** У `BeautifulSoup` есть несколько методов:\n",
    "* `.find(<name of tag>)` вернет первый элемент под этим тегом из soup;\n",
    "* `.find_all(<name of tag>)` вернет список со всеми элементами под этим тегом из soup;\n",
    "* `.<name of tag>` вернет первый элемент под этим тегом из soup;"
   ]
  },
  {
   "cell_type": "markdown",
   "id": "94134d83",
   "metadata": {},
   "source": [
    "Первый способ – метод `.find(<name of tag>)`. Название тега должно стоять без стрелок, заключено в кавычки. Как найти элемент, содержащий информацию о заголовке первого уровня?"
   ]
  },
  {
   "cell_type": "code",
   "execution_count": 246,
   "id": "1753d93b",
   "metadata": {},
   "outputs": [
    {
     "data": {
      "text/plain": [
       "<h1 class=\"person-caption\">Локшин Илья Михайлович</h1>"
      ]
     },
     "execution_count": 246,
     "metadata": {},
     "output_type": "execute_result"
    }
   ],
   "source": [
    "# soup - сохранена html\n",
    "soup.find('h1') # h1 - название тега"
   ]
  },
  {
   "cell_type": "markdown",
   "id": "111fc567",
   "metadata": {},
   "source": [
    "Второй способ – метод `.find_all(<name of tag>)`. Он вернет список из всех элементов в html, стоящих под этим тегом. Даже если элемент один, вернет список."
   ]
  },
  {
   "cell_type": "code",
   "execution_count": 249,
   "id": "3ae5db42",
   "metadata": {},
   "outputs": [
    {
     "data": {
      "text/plain": [
       "[<h2 class=\"first_child\"><a class=\"link link_dark2 no-visited\" href=\"/en/news/882823286.html\">‘University Life in Partnership with Artificial Intelligence’</a></h2>,\n",
       " <h2 class=\"first_child\"><a class=\"link link_dark2 no-visited\" href=\"/news/priority/881445213.html\">«Жизнь университета в партнерстве с искусственным интеллектом»</a></h2>,\n",
       " <h2 class=\"first_child\"><a class=\"link link_dark2 no-visited\" href=\"https://ioe.hse.ru/news/796591382.html\">Кто назначает «святых» в науке?: на вторничном семинаре обсуждали, откуда берутся каноны в социальных дисциплинах</a></h2>,\n",
       " <h2 class=\"first_child\"><a class=\"link link_dark2 no-visited\" href=\"https://social.hse.ru/news/703064649.html\">Опубликованы итоги выборов лучших преподавателей — 2022. Поздравляем победителей от факультета!</a></h2>]"
      ]
     },
     "execution_count": 249,
     "metadata": {},
     "output_type": "execute_result"
    }
   ],
   "source": [
    "soup.find_all('h2') # все элементы под тегом h2"
   ]
  },
  {
   "cell_type": "code",
   "execution_count": 250,
   "id": "4027861d",
   "metadata": {},
   "outputs": [
    {
     "data": {
      "text/plain": [
       "[<div class=\"b-person-data__inner b-person-data__tags\"><a class=\"tag tag_small\" href=\"/org/persons/?intst=76660881\">Новая политическая экономия</a><a class=\"tag tag_small\" href=\"/org/persons/?intst=63014388\">политические режимы</a><a class=\"tag tag_small\" href=\"/org/persons/?intst=37316398\">политическая философия</a></div>,\n",
       " <div class=\"b-person-data__inner b-person-data__tags\"><a class=\"tag tag_small\" href=\"/org/persons/?intst=76660881\">Новая политическая экономия</a><a class=\"tag tag_small\" href=\"/org/persons/?intst=63014388\">политические режимы</a><a class=\"tag tag_small\" href=\"/org/persons/?intst=37316398\">политическая философия</a></div>]"
      ]
     },
     "execution_count": 250,
     "metadata": {},
     "output_type": "execute_result"
    }
   ],
   "source": [
    "soup.find_all('div') # все элементы под тегом div"
   ]
  },
  {
   "cell_type": "code",
   "execution_count": 251,
   "id": "0935a1a2",
   "metadata": {},
   "outputs": [
    {
     "data": {
      "text/plain": [
       "[<h1 class=\"person-caption\">Локшин Илья Михайлович</h1>]"
      ]
     },
     "execution_count": 251,
     "metadata": {},
     "output_type": "execute_result"
    }
   ],
   "source": [
    "soup.find_all('h1')"
   ]
  },
  {
   "cell_type": "markdown",
   "id": "5300ed81",
   "metadata": {},
   "source": [
    "Чтобы обратиться к первому элементу, нужно использовать индексацию. Индексация в Python начинается с 0. Откройте квадратные скобки и тогда вы сможете вызвать из всего списка только этот элемент."
   ]
  },
  {
   "cell_type": "code",
   "execution_count": 252,
   "id": "64a47864",
   "metadata": {},
   "outputs": [
    {
     "data": {
      "text/plain": [
       "<h1 class=\"person-caption\">Локшин Илья Михайлович</h1>"
      ]
     },
     "execution_count": 252,
     "metadata": {},
     "output_type": "execute_result"
    }
   ],
   "source": [
    "soup.find_all('h1')[0]"
   ]
  },
  {
   "cell_type": "markdown",
   "id": "0f96fb82",
   "metadata": {},
   "source": [
    "Третий способ – возвращает первый элемент под этим тегом. "
   ]
  },
  {
   "cell_type": "code",
   "execution_count": 253,
   "id": "2a49dd11",
   "metadata": {},
   "outputs": [
    {
     "data": {
      "text/plain": [
       "<h1 class=\"person-caption\">Локшин Илья Михайлович</h1>"
      ]
     },
     "execution_count": 253,
     "metadata": {},
     "output_type": "execute_result"
    }
   ],
   "source": [
    "soup.h1"
   ]
  },
  {
   "cell_type": "markdown",
   "id": "cecfdac9",
   "metadata": {},
   "source": [
    "Полученные данные можно сохранить и с ними работать."
   ]
  },
  {
   "cell_type": "code",
   "execution_count": 254,
   "id": "b95cb21e",
   "metadata": {},
   "outputs": [
    {
     "name": "stdout",
     "output_type": "stream",
     "text": [
      "<h1 class=\"person-caption\">Локшин Илья Михайлович</h1>\n"
     ]
    }
   ],
   "source": [
    "person = soup.find('h1')\n",
    "print(person)"
   ]
  },
  {
   "cell_type": "markdown",
   "id": "8cb699a1",
   "metadata": {},
   "source": [
    "Но что это за элемент? Это не обычный текст, а `bs4.element.Tag`."
   ]
  },
  {
   "cell_type": "code",
   "execution_count": 255,
   "id": "7f1dc283",
   "metadata": {},
   "outputs": [
    {
     "name": "stdout",
     "output_type": "stream",
     "text": [
      "<class 'bs4.element.Tag'>\n"
     ]
    }
   ],
   "source": [
    "print(type(person))"
   ]
  },
  {
   "cell_type": "markdown",
   "id": "5fc92311",
   "metadata": {},
   "source": [
    "Как превратить этот элемент в текст? Обратиться к атрибуту `.text`."
   ]
  },
  {
   "cell_type": "code",
   "execution_count": 256,
   "id": "bdfaece8",
   "metadata": {},
   "outputs": [
    {
     "name": "stdout",
     "output_type": "stream",
     "text": [
      "Локшин Илья Михайлович\n"
     ]
    }
   ],
   "source": [
    "print(person.text)"
   ]
  },
  {
   "cell_type": "code",
   "execution_count": 261,
   "id": "c8396e59",
   "metadata": {},
   "outputs": [
    {
     "data": {
      "text/plain": [
       "'‘University Life in Partnership with Artificial Intelligence’'"
      ]
     },
     "execution_count": 261,
     "metadata": {},
     "output_type": "execute_result"
    }
   ],
   "source": [
    "soup.find('h2').text"
   ]
  },
  {
   "cell_type": "markdown",
   "id": "791aa244",
   "metadata": {},
   "source": [
    "Как вы видите теперь, это обычная строка."
   ]
  },
  {
   "cell_type": "code",
   "execution_count": 262,
   "id": "e1bc99d6",
   "metadata": {},
   "outputs": [
    {
     "data": {
      "text/plain": [
       "<h1 class=\"person-caption\">Локшин Илья Михайлович</h1>"
      ]
     },
     "execution_count": 262,
     "metadata": {},
     "output_type": "execute_result"
    }
   ],
   "source": [
    "person"
   ]
  },
  {
   "cell_type": "code",
   "execution_count": 263,
   "id": "4ae8b38b",
   "metadata": {},
   "outputs": [
    {
     "name": "stdout",
     "output_type": "stream",
     "text": [
      "<class 'str'>\n"
     ]
    }
   ],
   "source": [
    "person = person.text\n",
    "print(type(person))"
   ]
  },
  {
   "cell_type": "markdown",
   "id": "09f09a33",
   "metadata": {},
   "source": [
    "К строкам можно применять все методы строк, с которыми вы работали ранее. Например, с помощью `.split()` разбить строку на части и напечатать:"
   ]
  },
  {
   "cell_type": "code",
   "execution_count": 217,
   "id": "3b2c1967",
   "metadata": {},
   "outputs": [
    {
     "name": "stdout",
     "output_type": "stream",
     "text": [
      "['Локшин', 'Илья', 'Михайлович']\n"
     ]
    }
   ],
   "source": [
    "print(person.split())"
   ]
  },
  {
   "cell_type": "markdown",
   "id": "08a4e635",
   "metadata": {},
   "source": [
    "И совместить с f-строками:"
   ]
  },
  {
   "cell_type": "code",
   "execution_count": 271,
   "id": "6ba2e4f3",
   "metadata": {},
   "outputs": [
    {
     "data": {
      "text/plain": [
       "'Локшин Илья Михайлович'"
      ]
     },
     "execution_count": 271,
     "metadata": {},
     "output_type": "execute_result"
    }
   ],
   "source": [
    "person"
   ]
  },
  {
   "cell_type": "code",
   "execution_count": 272,
   "id": "3925db37",
   "metadata": {},
   "outputs": [
    {
     "name": "stdout",
     "output_type": "stream",
     "text": [
      "Преподаватель Локшин Илья Михайлович\n"
     ]
    }
   ],
   "source": [
    "print('Преподаватель', person)"
   ]
  },
  {
   "cell_type": "code",
   "execution_count": 274,
   "id": "487564ad",
   "metadata": {},
   "outputs": [
    {
     "name": "stdout",
     "output_type": "stream",
     "text": [
      "Преподаватель: Локшин Илья Михайлович. Результат вычисления: 1000\n"
     ]
    }
   ],
   "source": [
    "print(f\"Преподаватель: {person}. Результат вычисления: {100 * 10}\")"
   ]
  },
  {
   "cell_type": "code",
   "execution_count": 275,
   "id": "4f0daecf",
   "metadata": {},
   "outputs": [
    {
     "name": "stdout",
     "output_type": "stream",
     "text": [
      "Преподаватель: Локшин Илья Михайлович\n"
     ]
    }
   ],
   "source": [
    "string = f'Преподаватель: {person}'\n",
    "print(string)"
   ]
  },
  {
   "cell_type": "code",
   "execution_count": 270,
   "id": "4ef99f6a",
   "metadata": {},
   "outputs": [
    {
     "name": "stdout",
     "output_type": "stream",
     "text": [
      "Фамилия преподавателя, информация о котором была сохранена в html: Локшин\n"
     ]
    }
   ],
   "source": [
    "print(f'Фамилия преподавателя, информация о котором была сохранена в html: {person.split()[0]}')"
   ]
  },
  {
   "cell_type": "markdown",
   "id": "586769e7",
   "metadata": {},
   "source": [
    "С помощью `BeautifulSoup` можно также просто извлечь весь текст со страницы. Это делается с помощью метода `.get_text()`."
   ]
  },
  {
   "cell_type": "code",
   "execution_count": 277,
   "id": "d8893dc8",
   "metadata": {},
   "outputs": [
    {
     "data": {
      "text/plain": [
       "'\\nЛокшин Илья Михайлович\\nНачал работать в НИУ ВШЭ в 2011 году.Научно-педагогический стаж: 12 лет.\\nДоцент:\\nВладение языкамианглийскийнемецкий (чтение)французский (чтение)латинский (чтение)итальянский (чтение)древнегреческий (чтение)\\nНовая политическая экономияполитические режимыполитическая философия\\nSPIN РИНЦ:\\n\\n\\t\\t                        5131-3625ORCID:\\n\\n\\t\\t                        0000-0002-0968-6868ResearcherID:\\n\\n\\t\\t                        K-5427-2015Scopus AuthorID:\\n\\n\\t\\t                        57192297326Google Scholar\\nНовая политическая экономияполитические режимыполитическая философия\\nБлагодарность Высшей школы экономики (декабрь 2022)Благодарность департамента политики и управления факультета социальных наук НИУ ВШЭ (декабрь 2021)Благодарственное письмо проректора НИУ ВШЭ (ноябрь 2021)Благодарственное письмо проректора НИУ ВШЭ (ноябрь 2021)Благодарность проректора НИУ ВШЭ (июнь 2020)Благодарность Факультета социальных наук НИУ ВШЭ (март 2019)Благодарность Департамента политической науки НИУ ВШЭ (декабрь 2017)Лучший преподаватель – 2023, 2022, 2021, 2020, 2019, 2018, 2017, 2016, 2015, 2014, 2013, 2012Надбавка за академическую работу (2017-2018, 2016-2017)Победитель Конкурса лучших русскоязычных научных и научно-популярных работ работников НИУ ВШЭ – 2022\\n‘University Life in Partnership with Artificial Intelligence’\\n«Жизнь университета в партнерстве с искусственным интеллектом»\\nКто назначает «святых» в науке?: на вторничном семинаре обсуждали, откуда берутся каноны в социальных дисциплинах\\nОпубликованы итоги выборов лучших преподавателей — 2022. Поздравляем победителей от факультета!\\nВремя работы: понедельник, с 11:00 до 13:00\\n\\n'"
      ]
     },
     "execution_count": 277,
     "metadata": {},
     "output_type": "execute_result"
    }
   ],
   "source": [
    "soup.get_text()"
   ]
  },
  {
   "cell_type": "markdown",
   "id": "40cca3c4",
   "metadata": {},
   "source": [
    "Вы также можете использовать обычные методы строк чтобы поработать с текстом"
   ]
  },
  {
   "cell_type": "code",
   "execution_count": 283,
   "id": "221a215c",
   "metadata": {},
   "outputs": [
    {
     "data": {
      "text/plain": [
       "'Локшин Илья Михайлович Начал работать в НИУ ВШЭ в 2011 году.Научно-педагогический стаж: 12 лет. Доцент: Владение языкамианглийскийнемецкий (чтение)французский (чтение)латинский (чтение)итальянский (чтение)древнегреческий (чтение) Новая политическая экономияполитические режимыполитическая философия SPIN РИНЦ:                            5131-3625ORCID:                            0000-0002-0968-6868ResearcherID:                            K-5427-2015Scopus AuthorID:                            57192297326Google Scholar Новая политическая экономияполитические режимыполитическая философия Благодарность Высшей школы экономики (декабрь 2022)Благодарность департамента политики и управления факультета социальных наук НИУ ВШЭ (декабрь 2021)Благодарственное письмо проректора НИУ ВШЭ (ноябрь 2021)Благодарственное письмо проректора НИУ ВШЭ (ноябрь 2021)Благодарность проректора НИУ ВШЭ (июнь 2020)Благодарность Факультета социальных наук НИУ ВШЭ (март 2019)Благодарность Департамента политической науки НИУ ВШЭ (декабрь 2017)Лучший преподаватель – 2023, 2022, 2021, 2020, 2019, 2018, 2017, 2016, 2015, 2014, 2013, 2012Надбавка за академическую работу (2017-2018, 2016-2017)Победитель Конкурса лучших русскоязычных научных и научно-популярных работ работников НИУ ВШЭ – 2022 ‘University Life in Partnership with Artificial Intelligence’ «Жизнь университета в партнерстве с искусственным интеллектом» Кто назначает «святых» в науке?: на вторничном семинаре обсуждали, откуда берутся каноны в социальных дисциплинах Опубликованы итоги выборов лучших преподавателей — 2022. Поздравляем победителей от факультета! Время работы: понедельник, с 11:00 до 13:00'"
      ]
     },
     "execution_count": 283,
     "metadata": {},
     "output_type": "execute_result"
    }
   ],
   "source": [
    "text = soup.get_text()\n",
    "text.strip().replace('\\n', ' ').replace('\\t', ' ')"
   ]
  },
  {
   "cell_type": "markdown",
   "id": "6e349584",
   "metadata": {},
   "source": [
    "И даже избавиться от лишних пробелов внутри текста используя метод `.split()` чтобы превратить строку в список и склеив далее обратно в строку (с помощью `.join()`). \n",
    "\n",
    "Этот текст не идеален, и это нормально, но испоьзование метода `.get_text()` может быть полезно чтобы сразу получить весь текст со страницы. Если вам нужно более точное описание, следует использовать более сложный поиск по элементам с помощью методов `.find()` и `.find_all()`."
   ]
  },
  {
   "cell_type": "code",
   "execution_count": 222,
   "id": "86d4c91d",
   "metadata": {},
   "outputs": [
    {
     "data": {
      "text/plain": [
       "'Локшин Илья Михайлович Начал работать в НИУ ВШЭ в 2011 году.Научно-педагогический стаж: 12 лет. Доцент: Владение языкамианглийскийнемецкий (чтение)французский (чтение)латинский (чтение)итальянский (чтение)древнегреческий (чтение) Новая политическая экономияполитические режимыполитическая философия SPIN РИНЦ: 5131-3625ORCID: 0000-0002-0968-6868ResearcherID: K-5427-2015Scopus AuthorID: 57192297326Google Scholar Новая политическая экономияполитические режимыполитическая философия Благодарность Высшей школы экономики (декабрь 2022)Благодарность департамента политики и управления факультета социальных наук НИУ ВШЭ (декабрь 2021)Благодарственное письмо проректора НИУ ВШЭ (ноябрь 2021)Благодарственное письмо проректора НИУ ВШЭ (ноябрь 2021)Благодарность проректора НИУ ВШЭ (июнь 2020)Благодарность Факультета социальных наук НИУ ВШЭ (март 2019)Благодарность Департамента политической науки НИУ ВШЭ (декабрь 2017)Лучший преподаватель – 2023, 2022, 2021, 2020, 2019, 2018, 2017, 2016, 2015, 2014, 2013, 2012Надбавка за академическую работу (2017-2018, 2016-2017)Победитель Конкурса лучших русскоязычных научных и научно-популярных работ работников НИУ ВШЭ – 2022 ‘University Life in Partnership with Artificial Intelligence’ «Жизнь университета в партнерстве с искусственным интеллектом» Кто назначает «святых» в науке?: на вторничном семинаре обсуждали, откуда берутся каноны в социальных дисциплинах Опубликованы итоги выборов лучших преподавателей — 2022. Поздравляем победителей от факультета! Время работы: понедельник, с 11:00 до 13:00'"
      ]
     },
     "execution_count": 222,
     "metadata": {},
     "output_type": "execute_result"
    }
   ],
   "source": [
    "text = \" \".join(text.split())\n",
    "text"
   ]
  },
  {
   "cell_type": "markdown",
   "id": "5a49487d",
   "metadata": {},
   "source": [
    "**Рассмотрим работу с тегами в html, которые встречаются более одного раза и подробнее обсудим работу с методом `.find_all()`.**"
   ]
  },
  {
   "cell_type": "markdown",
   "id": "caa9f6f6",
   "metadata": {},
   "source": [
    "Вернемся к второму способу, позволяющему получить все элементы под определенным тэгом. Получить отдельный объект со всеми элементами под определенными тэгами можно с помощью метода `.find_all(<name of tag>)`."
   ]
  },
  {
   "cell_type": "code",
   "execution_count": 286,
   "id": "966bb453",
   "metadata": {},
   "outputs": [
    {
     "data": {
      "text/plain": [
       "[<a class=\"tag tag_small\" href=\"/org/persons/?intst=76660881\">Новая политическая экономия</a>,\n",
       " <a class=\"tag tag_small\" href=\"/org/persons/?intst=63014388\">политические режимы</a>,\n",
       " <a class=\"tag tag_small\" href=\"/org/persons/?intst=37316398\">политическая философия</a>,\n",
       " <a class=\"link\" href=\"https://elibrary.ru/author_profile.asp?authorid=809751\" rel=\"nofollow\">5131-3625</a>,\n",
       " <a class=\"link\" href=\"https://orcid.org/0000-0002-0968-6868\" rel=\"nofollow\">0000-0002-0968-6868</a>,\n",
       " <a class=\"link\" href=\"https://www.webofscience.com/wos/author/rid/K-5427-2015\" rel=\"nofollow\">K-5427-2015</a>,\n",
       " <a class=\"link\" href=\"https://www.scopus.com/authid/detail.uri?partnerID=HzOxMe3b&amp;authorId=57192297326&amp;origin=inward\" rel=\"nofollow\">57192297326</a>,\n",
       " <a class=\"link b\" href=\"https://scholar.google.ru/citations?user=K2tqK6YAAAAJ&amp;hl=en&amp;oi=ao\" rel=\"nofollow\">Google Scholar</a>,\n",
       " <a class=\"tag tag_small\" href=\"/org/persons/?intst=76660881\">Новая политическая экономия</a>,\n",
       " <a class=\"tag tag_small\" href=\"/org/persons/?intst=63014388\">политические режимы</a>,\n",
       " <a class=\"tag tag_small\" href=\"/org/persons/?intst=37316398\">политическая философия</a>,\n",
       " <a class=\"link n\" href=\"/best\">2023</a>,\n",
       " <a class=\"link n\" href=\"/best\">2022</a>,\n",
       " <a class=\"link n\" href=\"/best\">2021</a>,\n",
       " <a class=\"link n\" href=\"/best\">2020</a>,\n",
       " <a class=\"link n\" href=\"/best\">2019</a>,\n",
       " <a class=\"link n\" href=\"/best\">2018</a>,\n",
       " <a class=\"link n\" href=\"/best\">2017</a>,\n",
       " <a class=\"link n\" href=\"/best\">2016</a>,\n",
       " <a class=\"link n\" href=\"/best\">2015</a>,\n",
       " <a class=\"link n\" href=\"/best\">2014</a>,\n",
       " <a class=\"link n\" href=\"/best\">2013</a>,\n",
       " <a class=\"link n\" href=\"/best\">2012</a>,\n",
       " <a class=\"link n\" href=\"/science/scifund/bonus_2017_1\">2017-2018</a>,\n",
       " <a class=\"link n\" href=\"/science/scifund/bonus_2016_1\">2016-2017</a>,\n",
       " <a class=\"link\" href=\"https://www.hse.ru/science/scifund/worksrus/\">Победитель Конкурса лучших русскоязычных научных и научно-популярных работ работников НИУ ВШЭ – 2022</a>,\n",
       " <a class=\"link link_dark2 no-visited\" href=\"/en/news/882823286.html\">‘University Life in Partnership with Artificial Intelligence’</a>,\n",
       " <a class=\"link link_dark2 no-visited\" href=\"/news/priority/881445213.html\">«Жизнь университета в партнерстве с искусственным интеллектом»</a>,\n",
       " <a class=\"link link_dark2 no-visited\" href=\"https://ioe.hse.ru/news/796591382.html\">Кто назначает «святых» в науке?: на вторничном семинаре обсуждали, откуда берутся каноны в социальных дисциплинах</a>,\n",
       " <a class=\"link link_dark2 no-visited\" href=\"https://social.hse.ru/news/703064649.html\">Опубликованы итоги выборов лучших преподавателей — 2022. Поздравляем победителей от факультета!</a>]"
      ]
     },
     "execution_count": 286,
     "metadata": {},
     "output_type": "execute_result"
    }
   ],
   "source": [
    "soup.find_all('a')"
   ]
  },
  {
   "cell_type": "markdown",
   "id": "7c56b50f",
   "metadata": {},
   "source": [
    "Выбрать первый или любой другой элемент можно с помощью индексации. Для этого мы открываем квадратные скобки, как когда работаем со списками:\n",
    "\n",
    "```\n",
    "numbers = [10, 20, 30, 100, 200, 300]\n",
    "print(numbers[0]) # 10\n",
    "print(numbers[2]) # 30\n",
    "print(numbers[-1]) # 300\n",
    "```\n",
    "\n",
    "Аналогично работает и с элементами, которые мы получаем при запуске `soup.find_all(<name of tag>)`:\n",
    "\n",
    "```\n",
    "elements = soup.find_all('a')\n",
    "print(elements[0]) # <a class=\"link\" href=\"https://elibrary.ru/author_profile.asp?authorid=809751\" rel=\"nofollow\">5131-3625</a>\n",
    "print(elemenets[3])\n",
    "print(elemenets[-1])\n",
    "```"
   ]
  },
  {
   "cell_type": "code",
   "execution_count": 288,
   "id": "d63d4a70",
   "metadata": {},
   "outputs": [
    {
     "data": {
      "text/plain": [
       "<a class=\"tag tag_small\" href=\"/org/persons/?intst=76660881\">Новая политическая экономия</a>"
      ]
     },
     "execution_count": 288,
     "metadata": {},
     "output_type": "execute_result"
    }
   ],
   "source": [
    "soup.find_all('a')[0] # первый элемент под этим тегом на странице"
   ]
  },
  {
   "cell_type": "code",
   "execution_count": 289,
   "id": "ce4f641e",
   "metadata": {},
   "outputs": [
    {
     "data": {
      "text/plain": [
       "<a class=\"tag tag_small\" href=\"/org/persons/?intst=63014388\">политические режимы</a>"
      ]
     },
     "execution_count": 289,
     "metadata": {},
     "output_type": "execute_result"
    }
   ],
   "source": [
    "soup.find_all('a')[1] # второй элемент под этим тегом на странице"
   ]
  },
  {
   "cell_type": "code",
   "execution_count": 293,
   "id": "9bdcc1fc",
   "metadata": {},
   "outputs": [
    {
     "data": {
      "text/plain": [
       "<a class=\"link\" href=\"https://www.webofscience.com/wos/author/rid/K-5427-2015\" rel=\"nofollow\">K-5427-2015</a>"
      ]
     },
     "execution_count": 293,
     "metadata": {},
     "output_type": "execute_result"
    }
   ],
   "source": [
    "soup.find_all('a')[5]"
   ]
  },
  {
   "cell_type": "code",
   "execution_count": 226,
   "id": "2a456c61",
   "metadata": {},
   "outputs": [
    {
     "name": "stdout",
     "output_type": "stream",
     "text": [
      "<a class=\"tag tag_small\" href=\"/org/persons/?intst=76660881\">Новая политическая экономия</a>\n"
     ]
    }
   ],
   "source": [
    "elements = soup.find_all('a')\n",
    "print(elements[0]) # сохранили в elements, напечатали первый элемент;"
   ]
  },
  {
   "cell_type": "code",
   "execution_count": 294,
   "id": "70273e1b",
   "metadata": {},
   "outputs": [
    {
     "data": {
      "text/plain": [
       "[<a class=\"tag tag_small\" href=\"/org/persons/?intst=76660881\">Новая политическая экономия</a>,\n",
       " <a class=\"tag tag_small\" href=\"/org/persons/?intst=63014388\">политические режимы</a>,\n",
       " <a class=\"tag tag_small\" href=\"/org/persons/?intst=37316398\">политическая философия</a>,\n",
       " <a class=\"link\" href=\"https://elibrary.ru/author_profile.asp?authorid=809751\" rel=\"nofollow\">5131-3625</a>,\n",
       " <a class=\"link\" href=\"https://orcid.org/0000-0002-0968-6868\" rel=\"nofollow\">0000-0002-0968-6868</a>,\n",
       " <a class=\"link\" href=\"https://www.webofscience.com/wos/author/rid/K-5427-2015\" rel=\"nofollow\">K-5427-2015</a>,\n",
       " <a class=\"link\" href=\"https://www.scopus.com/authid/detail.uri?partnerID=HzOxMe3b&amp;authorId=57192297326&amp;origin=inward\" rel=\"nofollow\">57192297326</a>,\n",
       " <a class=\"link b\" href=\"https://scholar.google.ru/citations?user=K2tqK6YAAAAJ&amp;hl=en&amp;oi=ao\" rel=\"nofollow\">Google Scholar</a>,\n",
       " <a class=\"tag tag_small\" href=\"/org/persons/?intst=76660881\">Новая политическая экономия</a>,\n",
       " <a class=\"tag tag_small\" href=\"/org/persons/?intst=63014388\">политические режимы</a>,\n",
       " <a class=\"tag tag_small\" href=\"/org/persons/?intst=37316398\">политическая философия</a>,\n",
       " <a class=\"link n\" href=\"/best\">2023</a>,\n",
       " <a class=\"link n\" href=\"/best\">2022</a>,\n",
       " <a class=\"link n\" href=\"/best\">2021</a>,\n",
       " <a class=\"link n\" href=\"/best\">2020</a>,\n",
       " <a class=\"link n\" href=\"/best\">2019</a>,\n",
       " <a class=\"link n\" href=\"/best\">2018</a>,\n",
       " <a class=\"link n\" href=\"/best\">2017</a>,\n",
       " <a class=\"link n\" href=\"/best\">2016</a>,\n",
       " <a class=\"link n\" href=\"/best\">2015</a>,\n",
       " <a class=\"link n\" href=\"/best\">2014</a>,\n",
       " <a class=\"link n\" href=\"/best\">2013</a>,\n",
       " <a class=\"link n\" href=\"/best\">2012</a>,\n",
       " <a class=\"link n\" href=\"/science/scifund/bonus_2017_1\">2017-2018</a>,\n",
       " <a class=\"link n\" href=\"/science/scifund/bonus_2016_1\">2016-2017</a>,\n",
       " <a class=\"link\" href=\"https://www.hse.ru/science/scifund/worksrus/\">Победитель Конкурса лучших русскоязычных научных и научно-популярных работ работников НИУ ВШЭ – 2022</a>,\n",
       " <a class=\"link link_dark2 no-visited\" href=\"/en/news/882823286.html\">‘University Life in Partnership with Artificial Intelligence’</a>,\n",
       " <a class=\"link link_dark2 no-visited\" href=\"/news/priority/881445213.html\">«Жизнь университета в партнерстве с искусственным интеллектом»</a>,\n",
       " <a class=\"link link_dark2 no-visited\" href=\"https://ioe.hse.ru/news/796591382.html\">Кто назначает «святых» в науке?: на вторничном семинаре обсуждали, откуда берутся каноны в социальных дисциплинах</a>,\n",
       " <a class=\"link link_dark2 no-visited\" href=\"https://social.hse.ru/news/703064649.html\">Опубликованы итоги выборов лучших преподавателей — 2022. Поздравляем победителей от факультета!</a>]"
      ]
     },
     "execution_count": 294,
     "metadata": {},
     "output_type": "execute_result"
    }
   ],
   "source": [
    "a_elements = soup.find_all('a')\n",
    "a_elements"
   ]
  },
  {
   "cell_type": "code",
   "execution_count": 297,
   "id": "961903a7",
   "metadata": {},
   "outputs": [
    {
     "name": "stdout",
     "output_type": "stream",
     "text": [
      "<a class=\"tag tag_small\" href=\"/org/persons/?intst=76660881\">Новая политическая экономия</a>\n",
      "<a class=\"tag tag_small\" href=\"/org/persons/?intst=63014388\">политические режимы</a>\n",
      "<a class=\"tag tag_small\" href=\"/org/persons/?intst=37316398\">политическая философия</a>\n",
      "<a class=\"link\" href=\"https://elibrary.ru/author_profile.asp?authorid=809751\" rel=\"nofollow\">5131-3625</a>\n",
      "<a class=\"link\" href=\"https://orcid.org/0000-0002-0968-6868\" rel=\"nofollow\">0000-0002-0968-6868</a>\n",
      "<a class=\"link\" href=\"https://www.webofscience.com/wos/author/rid/K-5427-2015\" rel=\"nofollow\">K-5427-2015</a>\n",
      "<a class=\"link\" href=\"https://www.scopus.com/authid/detail.uri?partnerID=HzOxMe3b&amp;authorId=57192297326&amp;origin=inward\" rel=\"nofollow\">57192297326</a>\n",
      "<a class=\"link b\" href=\"https://scholar.google.ru/citations?user=K2tqK6YAAAAJ&amp;hl=en&amp;oi=ao\" rel=\"nofollow\">Google Scholar</a>\n",
      "<a class=\"tag tag_small\" href=\"/org/persons/?intst=76660881\">Новая политическая экономия</a>\n",
      "<a class=\"tag tag_small\" href=\"/org/persons/?intst=63014388\">политические режимы</a>\n",
      "<a class=\"tag tag_small\" href=\"/org/persons/?intst=37316398\">политическая философия</a>\n",
      "<a class=\"link n\" href=\"/best\">2023</a>\n",
      "<a class=\"link n\" href=\"/best\">2022</a>\n",
      "<a class=\"link n\" href=\"/best\">2021</a>\n",
      "<a class=\"link n\" href=\"/best\">2020</a>\n",
      "<a class=\"link n\" href=\"/best\">2019</a>\n",
      "<a class=\"link n\" href=\"/best\">2018</a>\n",
      "<a class=\"link n\" href=\"/best\">2017</a>\n",
      "<a class=\"link n\" href=\"/best\">2016</a>\n",
      "<a class=\"link n\" href=\"/best\">2015</a>\n",
      "<a class=\"link n\" href=\"/best\">2014</a>\n",
      "<a class=\"link n\" href=\"/best\">2013</a>\n",
      "<a class=\"link n\" href=\"/best\">2012</a>\n",
      "<a class=\"link n\" href=\"/science/scifund/bonus_2017_1\">2017-2018</a>\n",
      "<a class=\"link n\" href=\"/science/scifund/bonus_2016_1\">2016-2017</a>\n",
      "<a class=\"link\" href=\"https://www.hse.ru/science/scifund/worksrus/\">Победитель Конкурса лучших русскоязычных научных и научно-популярных работ работников НИУ ВШЭ – 2022</a>\n",
      "<a class=\"link link_dark2 no-visited\" href=\"/en/news/882823286.html\">‘University Life in Partnership with Artificial Intelligence’</a>\n",
      "<a class=\"link link_dark2 no-visited\" href=\"/news/priority/881445213.html\">«Жизнь университета в партнерстве с искусственным интеллектом»</a>\n",
      "<a class=\"link link_dark2 no-visited\" href=\"https://ioe.hse.ru/news/796591382.html\">Кто назначает «святых» в науке?: на вторничном семинаре обсуждали, откуда берутся каноны в социальных дисциплинах</a>\n",
      "<a class=\"link link_dark2 no-visited\" href=\"https://social.hse.ru/news/703064649.html\">Опубликованы итоги выборов лучших преподавателей — 2022. Поздравляем победителей от факультета!</a>\n"
     ]
    }
   ],
   "source": [
    "for i in a_elements:\n",
    "    print(i)"
   ]
  },
  {
   "cell_type": "markdown",
   "id": "a9d4e866",
   "metadata": {},
   "source": [
    "На большинстве сайтов, которые вы можете встретить, элементы не обозначаются только одним тэгом. Чаще всего они имеют дополнительные характеристики - атрибуты. Например, `class`. \n",
    "\n",
    "В примере ниже вы можете увидеть, как можно найти все элементы из `soup` под тегом `a`, `class` которых равен `link n`."
   ]
  },
  {
   "cell_type": "code",
   "execution_count": 301,
   "id": "f24c8e5d",
   "metadata": {},
   "outputs": [
    {
     "data": {
      "text/plain": [
       "[<a class=\"tag tag_small\" href=\"/org/persons/?intst=76660881\">Новая политическая экономия</a>,\n",
       " <a class=\"tag tag_small\" href=\"/org/persons/?intst=63014388\">политические режимы</a>,\n",
       " <a class=\"tag tag_small\" href=\"/org/persons/?intst=37316398\">политическая философия</a>,\n",
       " <a class=\"tag tag_small\" href=\"/org/persons/?intst=76660881\">Новая политическая экономия</a>,\n",
       " <a class=\"tag tag_small\" href=\"/org/persons/?intst=63014388\">политические режимы</a>,\n",
       " <a class=\"tag tag_small\" href=\"/org/persons/?intst=37316398\">политическая философия</a>]"
      ]
     },
     "execution_count": 301,
     "metadata": {},
     "output_type": "execute_result"
    }
   ],
   "source": [
    "soup.find_all('a', {'class': 'tag tag_small'})"
   ]
  },
  {
   "cell_type": "code",
   "execution_count": 298,
   "id": "5c3b4bda",
   "metadata": {},
   "outputs": [
    {
     "data": {
      "text/plain": [
       "[<a class=\"link n\" href=\"/best\">2023</a>,\n",
       " <a class=\"link n\" href=\"/best\">2022</a>,\n",
       " <a class=\"link n\" href=\"/best\">2021</a>,\n",
       " <a class=\"link n\" href=\"/best\">2020</a>,\n",
       " <a class=\"link n\" href=\"/best\">2019</a>,\n",
       " <a class=\"link n\" href=\"/best\">2018</a>,\n",
       " <a class=\"link n\" href=\"/best\">2017</a>,\n",
       " <a class=\"link n\" href=\"/best\">2016</a>,\n",
       " <a class=\"link n\" href=\"/best\">2015</a>,\n",
       " <a class=\"link n\" href=\"/best\">2014</a>,\n",
       " <a class=\"link n\" href=\"/best\">2013</a>,\n",
       " <a class=\"link n\" href=\"/best\">2012</a>,\n",
       " <a class=\"link n\" href=\"/science/scifund/bonus_2017_1\">2017-2018</a>,\n",
       " <a class=\"link n\" href=\"/science/scifund/bonus_2016_1\">2016-2017</a>]"
      ]
     },
     "execution_count": 298,
     "metadata": {},
     "output_type": "execute_result"
    }
   ],
   "source": [
    "soup.find_all('a', {'class': {'link n'}}) # (тег, {атрибут: значение атрибута})"
   ]
  },
  {
   "cell_type": "markdown",
   "id": "37e585a1",
   "metadata": {},
   "source": [
    "Как получить все значения сразу под несколькими тегами? Использовать множество, в котором перечислены названия тегов. Это очень удобный способ, который стоит запомнить."
   ]
  },
  {
   "cell_type": "code",
   "execution_count": 230,
   "id": "26ccdff9",
   "metadata": {},
   "outputs": [
    {
     "data": {
      "text/plain": [
       "[<h1 class=\"person-caption\">Локшин Илья Михайлович</h1>,\n",
       " <h2 class=\"first_child\"><a class=\"link link_dark2 no-visited\" href=\"/en/news/882823286.html\">‘University Life in Partnership with Artificial Intelligence’</a></h2>,\n",
       " <h2 class=\"first_child\"><a class=\"link link_dark2 no-visited\" href=\"/news/priority/881445213.html\">«Жизнь университета в партнерстве с искусственным интеллектом»</a></h2>,\n",
       " <h2 class=\"first_child\"><a class=\"link link_dark2 no-visited\" href=\"https://ioe.hse.ru/news/796591382.html\">Кто назначает «святых» в науке?: на вторничном семинаре обсуждали, откуда берутся каноны в социальных дисциплинах</a></h2>,\n",
       " <h2 class=\"first_child\"><a class=\"link link_dark2 no-visited\" href=\"https://social.hse.ru/news/703064649.html\">Опубликованы итоги выборов лучших преподавателей — 2022. Поздравляем победителей от факультета!</a></h2>]"
      ]
     },
     "execution_count": 230,
     "metadata": {},
     "output_type": "execute_result"
    }
   ],
   "source": [
    "soup.find_all({'h1', 'h2', 'h3'})"
   ]
  },
  {
   "cell_type": "markdown",
   "id": "55c6a456",
   "metadata": {},
   "source": [
    "<center><b><font size=4>Задача №1</font></b></center>\n",
    "\n",
    "1. Сохраните в список `li_elements` все элементы под тегом `li`."
   ]
  },
  {
   "cell_type": "code",
   "execution_count": 97,
   "id": "3fcf0a0b",
   "metadata": {},
   "outputs": [],
   "source": [
    "li_elements = #YOUR CODE HERE"
   ]
  },
  {
   "cell_type": "markdown",
   "id": "be0451bd",
   "metadata": {},
   "source": [
    "\n",
    "2. Напечатайте последний элемент списка."
   ]
  },
  {
   "cell_type": "code",
   "execution_count": null,
   "id": "07ff50b8",
   "metadata": {},
   "outputs": [],
   "source": [
    "print(#YOUR CODE HERE)"
   ]
  },
  {
   "cell_type": "markdown",
   "id": "5e861e96",
   "metadata": {},
   "source": [
    "\n",
    "3. Преобразуйте последний элемент списка в строку и напечатайте её."
   ]
  },
  {
   "cell_type": "code",
   "execution_count": null,
   "id": "ebf43ddb",
   "metadata": {},
   "outputs": [],
   "source": [
    "print(#YOUR CODE HERE)"
   ]
  },
  {
   "cell_type": "markdown",
   "id": "4a7ac52e",
   "metadata": {},
   "source": [
    "<center><b><font size=4>Задача №2</font></b></center>\n",
    "\n",
    "Перед вами представлена разметка html. Выполните следующие задания:"
   ]
  },
  {
   "cell_type": "code",
   "execution_count": 156,
   "id": "0d68b268",
   "metadata": {},
   "outputs": [],
   "source": [
    "html = '''\n",
    "<html>\n",
    "<h1 class=\"person-caption\">Порецкова Анастасия Анатольевна</h1>\n",
    "<ul class=\"g-ul g-list small\"><li><span class=\"person-appointment-title\">Доцент:</span><a href=\"https://social.hse.ru/\" class=\"link\">Факультет социальных наук</a> / <a href=\"https://social.hse.ru/politics/\" class=\"link\">Департамент политики и управления</a></li></ul>\n",
    "<li class=\"i\">Начала работать в НИУ ВШЭ в 2013 году.</li>\n",
    "<span class=\"person-appointment-title\">Доцент:</span>\n",
    "<div class=\"b-person-data__inner b-person-data__tags\"><a class=\"tag tag_small\" href=\"/org/persons/?intst=59065151\">политическая теория</a><a class=\"tag tag_small\" href=\"/org/persons/?intst=70350034\">политическая пропаганда</a><a class=\"tag tag_small\" href=\"/org/persons/?intst=61575021\">политические коммуникации</a><a class=\"tag tag_small\" href=\"/org/persons/?intst=62174781\">проблемы методологии</a></div>\n",
    "<dl class=\"main-list large main-list-language-knowledge-level\"><dt class=\"b\">Владение языками</dt><dd>английский</dd></dl>\n",
    "<dl class=\"main-list person-extra-indent\"><dd><span class=\"b\">SPIN РИНЦ</span>:\n",
    "\n",
    "\t\t                        <a href=\"https://elibrary.ru/author_profile.asp?authorid=815057\" class=\"link\" rel=\"nofollow\">3334-5034</a></dd><dd><span class=\"b\">ORCID</span>:\n",
    "\n",
    "\t\t                        <a href=\"https://orcid.org/0000-0002-1051-7068\" class=\"link\" rel=\"nofollow\">0000-0002-1051-7068</a></dd><dd><span class=\"b\">ResearcherID</span>:\n",
    "\n",
    "\t\t                        <a href=\"https://www.webofscience.com/wos/author/rid/K-5804-2015\" class=\"link\" rel=\"nofollow\">K-5804-2015</a></dd><dd><span class=\"b\">Scopus AuthorID</span>:\n",
    "\n",
    "\t\t                        <a href=\"https://www.scopus.com/authid/detail.uri?partnerID=HzOxMe3b&amp;authorId=57214720516&amp;origin=inward\" class=\"link\" rel=\"nofollow\">57214720516</a></dd><dd><a href=\"https://scholar.google.ru/citations?hl=ru&amp;user=T-e7oZsAAAAJ&amp;view_op=list_works\" class=\"link b\" rel=\"nofollow\">Google Scholar</a></dd></dl>\n",
    "<span class=\"grey\">Время консультаций: Четверг: с 11:10 до 14:20. Вторник: с 11:10 до 14:20. Необходима предварительная запись и договоренность с преподавателем.</span>\n",
    "</html>\n",
    "'''"
   ]
  },
  {
   "cell_type": "markdown",
   "id": "7ae6f560",
   "metadata": {},
   "source": [
    "1. Преобразуйте `html` в объект `BeautifulSoup`. Сохраните его в переменную `soup`."
   ]
  },
  {
   "cell_type": "code",
   "execution_count": null,
   "id": "e87d1173",
   "metadata": {},
   "outputs": [],
   "source": [
    "soup = # YOUR CODE HERE"
   ]
  },
  {
   "cell_type": "markdown",
   "id": "c466bb69",
   "metadata": {},
   "source": [
    "2. Напечатайте имя преподавательницы, данные о которой содержатся в html."
   ]
  },
  {
   "cell_type": "code",
   "execution_count": null,
   "id": "f0be780a",
   "metadata": {},
   "outputs": [],
   "source": [
    "print(#YOUR CODE HERE)"
   ]
  },
  {
   "cell_type": "markdown",
   "id": "d8b7dcc6",
   "metadata": {},
   "source": [
    "3. Выведите все элементы под тегом `div`:"
   ]
  },
  {
   "cell_type": "code",
   "execution_count": 169,
   "id": "5d3df5ae",
   "metadata": {},
   "outputs": [],
   "source": [
    "print(#YOUR CODE HERE)"
   ]
  },
  {
   "cell_type": "markdown",
   "id": "3af24c63",
   "metadata": {},
   "source": [
    "Как вы думаете, что мы получили? \n",
    "\n",
    "\n",
    "4. С помощью цикла или генератора списков преобразуйте эти значения, чтобы остались только текстовые значения (строки).\n",
    "\n",
    "Например, не `a class=\"tag tag_small\" href=\"/org/persons/?intst=62174781\">проблемы методологии</a></div>`, а `проблемы мтетодологии`.\n",
    "\n",
    "Сохраните эти значения в переменную `my_list`."
   ]
  },
  {
   "cell_type": "code",
   "execution_count": null,
   "id": "5ae2569d",
   "metadata": {},
   "outputs": [],
   "source": [
    "my_list = # YOUR CODE HERE"
   ]
  },
  {
   "cell_type": "markdown",
   "id": "2a6e6fc6",
   "metadata": {},
   "source": [
    "5. Используя f-строку, напечатайте следующее:\n",
    "\n",
    "```\n",
    "Преподавательница <Имя Отчество Фамилия>.\n",
    "Научные интересы: <научные интересы, перечисленные через запятую с пробелом>\n",
    "```"
   ]
  },
  {
   "cell_type": "code",
   "execution_count": null,
   "id": "636d7541",
   "metadata": {},
   "outputs": [],
   "source": [
    "print(#YOUR CODE HERE)\n",
    "print(#YOUR CODE HERE)"
   ]
  },
  {
   "cell_type": "markdown",
   "id": "30a7e780",
   "metadata": {},
   "source": [
    "**Продолжаем работу: как работать с ссылками?**"
   ]
  },
  {
   "cell_type": "markdown",
   "id": "b3383437",
   "metadata": {},
   "source": [
    "Как вы можете заметить, в представленном html достаточно много ссылок. Выглядят они так:"
   ]
  },
  {
   "cell_type": "code",
   "execution_count": 109,
   "id": "681b9569",
   "metadata": {},
   "outputs": [
    {
     "data": {
      "text/plain": [
       "[<a class=\"link\" href=\"https://elibrary.ru/author_profile.asp?authorid=809751\" rel=\"nofollow\">5131-3625</a>,\n",
       " <a class=\"link\" href=\"https://orcid.org/0000-0002-0968-6868\" rel=\"nofollow\">0000-0002-0968-6868</a>,\n",
       " <a class=\"link\" href=\"https://www.webofscience.com/wos/author/rid/K-5427-2015\" rel=\"nofollow\">K-5427-2015</a>,\n",
       " <a class=\"link\" href=\"https://www.scopus.com/authid/detail.uri?partnerID=HzOxMe3b&amp;authorId=57192297326&amp;origin=inward\" rel=\"nofollow\">57192297326</a>,\n",
       " <a class=\"link b\" href=\"https://scholar.google.ru/citations?user=K2tqK6YAAAAJ&amp;hl=en&amp;oi=ao\" rel=\"nofollow\">Google Scholar</a>,\n",
       " <a class=\"tag tag_small\" href=\"/org/persons/?intst=76660881\">Новая политическая экономия</a>,\n",
       " <a class=\"tag tag_small\" href=\"/org/persons/?intst=63014388\">политические режимы</a>,\n",
       " <a class=\"tag tag_small\" href=\"/org/persons/?intst=37316398\">политическая философия</a>,\n",
       " <a class=\"link n\" href=\"/best\">2023</a>,\n",
       " <a class=\"link n\" href=\"/best\">2022</a>,\n",
       " <a class=\"link n\" href=\"/best\">2021</a>,\n",
       " <a class=\"link n\" href=\"/best\">2020</a>,\n",
       " <a class=\"link n\" href=\"/best\">2019</a>,\n",
       " <a class=\"link n\" href=\"/best\">2018</a>,\n",
       " <a class=\"link n\" href=\"/best\">2017</a>,\n",
       " <a class=\"link n\" href=\"/best\">2016</a>,\n",
       " <a class=\"link n\" href=\"/best\">2015</a>,\n",
       " <a class=\"link n\" href=\"/best\">2014</a>,\n",
       " <a class=\"link n\" href=\"/best\">2013</a>,\n",
       " <a class=\"link n\" href=\"/best\">2012</a>,\n",
       " <a class=\"link n\" href=\"/science/scifund/bonus_2017_1\">2017-2018</a>,\n",
       " <a class=\"link n\" href=\"/science/scifund/bonus_2016_1\">2016-2017</a>,\n",
       " <a class=\"link\" href=\"https://www.hse.ru/science/scifund/worksrus/\">Победитель Конкурса лучших русскоязычных научных и научно-популярных работ работников НИУ ВШЭ – 2022</a>]"
      ]
     },
     "execution_count": 109,
     "metadata": {},
     "output_type": "execute_result"
    }
   ],
   "source": [
    "elements_a = soup.find_all('a')\n",
    "elements_a"
   ]
  },
  {
   "cell_type": "markdown",
   "id": "50b7e8ef",
   "metadata": {},
   "source": [
    "Попытаемся получить первую ссылку. Ранее мы уже обсуждали, что получить обычный текст из элемента html можно, обратившись к атрибуту `.text`. Попробуем использовать его для первого элемента:"
   ]
  },
  {
   "cell_type": "code",
   "execution_count": 111,
   "id": "7647228b",
   "metadata": {},
   "outputs": [
    {
     "data": {
      "text/plain": [
       "'5131-3625'"
      ]
     },
     "execution_count": 111,
     "metadata": {},
     "output_type": "execute_result"
    }
   ],
   "source": [
    "elements_a[0].text # обращаемся к первому элементу в нашем html под тегом <a>"
   ]
  },
  {
   "cell_type": "markdown",
   "id": "a1630c1c",
   "metadata": {},
   "source": [
    "Не получилось. Что делать? На самом деле мы можем увидеть что ссылка находится после слова `href=`, и включена в тело тега, а не является элементом. Это говорит о том, что `href=` это атрибут элемента. \n",
    "\n",
    "Как понять, какие атрибуты есть у определенного элемента (или элементов одного тега)? Используйте метод `.attrs` - и вы получите в словаре список атрибутов и их значений. В этом примере код `elements_a[0].attrs` демонстрирует следующий результат:\n",
    "\n",
    "```\n",
    "{'href': 'https://elibrary.ru/author_profile.asp?authorid=809751',\n",
    " 'class': ['link'],\n",
    " 'rel': ['nofollow']}\n",
    " ```"
   ]
  },
  {
   "cell_type": "code",
   "execution_count": 114,
   "id": "60113e5f",
   "metadata": {},
   "outputs": [
    {
     "data": {
      "text/plain": [
       "{'href': 'https://elibrary.ru/author_profile.asp?authorid=809751',\n",
       " 'class': ['link'],\n",
       " 'rel': ['nofollow']}"
      ]
     },
     "execution_count": 114,
     "metadata": {},
     "output_type": "execute_result"
    }
   ],
   "source": [
    "# атрибуты\n",
    "elements_a[0].attrs"
   ]
  },
  {
   "cell_type": "markdown",
   "id": "992cd76d",
   "metadata": {},
   "source": [
    "Теперь попробуем вновь получить нужную нам ссылку уже понимая, что это атрибут. Это можно сделать несколькими способами:"
   ]
  },
  {
   "cell_type": "code",
   "execution_count": 118,
   "id": "b8bdb997",
   "metadata": {},
   "outputs": [
    {
     "name": "stdout",
     "output_type": "stream",
     "text": [
      "https://elibrary.ru/author_profile.asp?authorid=809751\n",
      "['link']\n",
      "['nofollow']\n"
     ]
    }
   ],
   "source": [
    "# обращаясь к названию(!) атрибута в квадратных скобках\n",
    "print(elements_a[0]['href'])\n",
    "print(elements_a[0]['class'])\n",
    "print(elements_a[0]['rel'])"
   ]
  },
  {
   "cell_type": "code",
   "execution_count": 119,
   "id": "7997eec6",
   "metadata": {},
   "outputs": [
    {
     "name": "stdout",
     "output_type": "stream",
     "text": [
      "https://elibrary.ru/author_profile.asp?authorid=809751\n",
      "['link']\n",
      "['nofollow']\n"
     ]
    }
   ],
   "source": [
    "# или используя метод .get(<name of attribute>)\n",
    "print(elements_a[0].get('href'))\n",
    "print(elements_a[0].get('class'))\n",
    "print(elements_a[0].get('rel'))"
   ]
  },
  {
   "cell_type": "markdown",
   "id": "64415954",
   "metadata": {},
   "source": [
    "Хорошо, что в случае с ссылками нам всегда нужен один атрибут – `href`. Давайте соберем все гиперссылки из html:"
   ]
  },
  {
   "cell_type": "code",
   "execution_count": 120,
   "id": "fe6c2668",
   "metadata": {},
   "outputs": [
    {
     "data": {
      "text/plain": [
       "['https://elibrary.ru/author_profile.asp?authorid=809751',\n",
       " 'https://orcid.org/0000-0002-0968-6868',\n",
       " 'https://www.webofscience.com/wos/author/rid/K-5427-2015',\n",
       " 'https://www.scopus.com/authid/detail.uri?partnerID=HzOxMe3b&authorId=57192297326&origin=inward',\n",
       " 'https://scholar.google.ru/citations?user=K2tqK6YAAAAJ&hl=en&oi=ao',\n",
       " '/org/persons/?intst=76660881',\n",
       " '/org/persons/?intst=63014388',\n",
       " '/org/persons/?intst=37316398',\n",
       " '/best',\n",
       " '/best',\n",
       " '/best',\n",
       " '/best',\n",
       " '/best',\n",
       " '/best',\n",
       " '/best',\n",
       " '/best',\n",
       " '/best',\n",
       " '/best',\n",
       " '/best',\n",
       " '/best',\n",
       " '/science/scifund/bonus_2017_1',\n",
       " '/science/scifund/bonus_2016_1',\n",
       " 'https://www.hse.ru/science/scifund/worksrus/']"
      ]
     },
     "execution_count": 120,
     "metadata": {},
     "output_type": "execute_result"
    }
   ],
   "source": [
    "links = []\n",
    "for i in elements_a:\n",
    "    one_link = i.get('href')\n",
    "    links.append(one_link)\n",
    "    \n",
    "links"
   ]
  },
  {
   "cell_type": "code",
   "execution_count": 121,
   "id": "336cde1a",
   "metadata": {},
   "outputs": [
    {
     "data": {
      "text/plain": [
       "['https://elibrary.ru/author_profile.asp?authorid=809751',\n",
       " 'https://orcid.org/0000-0002-0968-6868',\n",
       " 'https://www.webofscience.com/wos/author/rid/K-5427-2015',\n",
       " 'https://www.scopus.com/authid/detail.uri?partnerID=HzOxMe3b&authorId=57192297326&origin=inward',\n",
       " 'https://scholar.google.ru/citations?user=K2tqK6YAAAAJ&hl=en&oi=ao',\n",
       " '/org/persons/?intst=76660881',\n",
       " '/org/persons/?intst=63014388',\n",
       " '/org/persons/?intst=37316398',\n",
       " '/best',\n",
       " '/best',\n",
       " '/best',\n",
       " '/best',\n",
       " '/best',\n",
       " '/best',\n",
       " '/best',\n",
       " '/best',\n",
       " '/best',\n",
       " '/best',\n",
       " '/best',\n",
       " '/best',\n",
       " '/science/scifund/bonus_2017_1',\n",
       " '/science/scifund/bonus_2016_1',\n",
       " 'https://www.hse.ru/science/scifund/worksrus/']"
      ]
     },
     "execution_count": 121,
     "metadata": {},
     "output_type": "execute_result"
    }
   ],
   "source": [
    "# другой способ работать с элементами - в генераторе списков\n",
    "links = [i.get('href') for i in elements_a]\n",
    "links # результат такой же, кода меньше"
   ]
  },
  {
   "cell_type": "markdown",
   "id": "85f847ab",
   "metadata": {},
   "source": [
    "Но как вы видите, некоторые ссылки – полные (как первые 5), а некоторые содержат в себе только часть ссылки (как `/best`). Чтобы понять, как превратить их в полные, нужно понять, из чего вообще состоит ссылка. В данном примере:\n",
    "\n",
    "<p></p>\n",
    "<center><code>https://www.webofscience.com/wos/author/rid/K-5427-2015</code></center>\n",
    "<p></p>\n",
    "\n",
    "* `https` - протокол (бывает еще http);\n",
    "* `www` – префикс;\n",
    "* `webofscience.com` – домен;\n",
    "* `wos`, `author`, `rid` – путь/каталог.\n",
    "\n",
    "В списке `links` мы видим следующие элементы:\n",
    "* `/org/persons/?intst=76660881`;\n",
    "* `/best`;\n",
    "* `/science/scifund/bonus_2017_1` и пр.\n",
    "\n",
    "Чем они отличаются от элементов выше (первых пяти ссылок)? Тем, что первые пять ссылок это ссылки на внешние ресурсы. А эти – отсылают на другие страницы на сайте Вышки. Значит, чтобы получить полную ссылку, нам нужно присоединить часть ссылки вплоть до домена."
   ]
  },
  {
   "cell_type": "code",
   "execution_count": 67,
   "id": "302fc919",
   "metadata": {},
   "outputs": [
    {
     "data": {
      "text/plain": [
       "['https://elibrary.ru/author_profile.asp?authorid=809751',\n",
       " 'https://orcid.org/0000-0002-0968-6868',\n",
       " 'https://www.webofscience.com/wos/author/rid/K-5427-2015',\n",
       " 'https://www.scopus.com/authid/detail.uri?partnerID=HzOxMe3b&authorId=57192297326&origin=inward',\n",
       " 'https://scholar.google.ru/citations?user=K2tqK6YAAAAJ&hl=en&oi=ao',\n",
       " 'https://www.hse.ru/org/persons/?intst=76660881',\n",
       " 'https://www.hse.ru/org/persons/?intst=63014388',\n",
       " 'https://www.hse.ru/org/persons/?intst=37316398',\n",
       " 'https://www.hse.ru/best',\n",
       " 'https://www.hse.ru/best']"
      ]
     },
     "execution_count": 67,
     "metadata": {},
     "output_type": "execute_result"
    }
   ],
   "source": [
    "# как превратить в нормальную ссылку? давайте сделаем так:\n",
    "\n",
    "correct_links = []\n",
    "\n",
    "for link in links:\n",
    "    if link.startswith('https') == False: # логическая проверка - полная ссылка или нет\n",
    "        link = f'https://www.hse.ru{link}' # используем f-строку\n",
    "    correct_links.append(link)\n",
    "    \n",
    "correct_links[0:10] # корректный результат - тут"
   ]
  },
  {
   "cell_type": "code",
   "execution_count": 125,
   "id": "1ec26588",
   "metadata": {
    "scrolled": true
   },
   "outputs": [
    {
     "name": "stdout",
     "output_type": "stream",
     "text": [
      "Результат запроса к /org/persons/?intst=76660881: "
     ]
    },
    {
     "ename": "MissingSchema",
     "evalue": "Invalid URL '/org/persons/?intst=76660881': No scheme supplied. Perhaps you meant https:///org/persons/?intst=76660881?",
     "output_type": "error",
     "traceback": [
      "\u001b[0;31m---------------------------------------------------------------------------\u001b[0m",
      "\u001b[0;31mMissingSchema\u001b[0m                             Traceback (most recent call last)",
      "\u001b[0;32m/var/folders/lj/_28hw2ts0ys306v1sq_8mxzh0000gn/T/ipykernel_35826/1293423924.py\u001b[0m in \u001b[0;36m<module>\u001b[0;34m\u001b[0m\n\u001b[1;32m      1\u001b[0m \u001b[0;31m# давайте проверим:\u001b[0m\u001b[0;34m\u001b[0m\u001b[0;34m\u001b[0m\u001b[0m\n\u001b[1;32m      2\u001b[0m \u001b[0mprint\u001b[0m\u001b[0;34m(\u001b[0m\u001b[0;34mf'Результат запроса к {links[5]}: '\u001b[0m\u001b[0;34m,\u001b[0m \u001b[0mend\u001b[0m\u001b[0;34m=\u001b[0m\u001b[0;34m''\u001b[0m\u001b[0;34m)\u001b[0m\u001b[0;34m\u001b[0m\u001b[0;34m\u001b[0m\u001b[0m\n\u001b[0;32m----> 3\u001b[0;31m \u001b[0mprint\u001b[0m\u001b[0;34m(\u001b[0m\u001b[0mrequests\u001b[0m\u001b[0;34m.\u001b[0m\u001b[0mget\u001b[0m\u001b[0;34m(\u001b[0m\u001b[0mlinks\u001b[0m\u001b[0;34m[\u001b[0m\u001b[0;36m5\u001b[0m\u001b[0;34m]\u001b[0m\u001b[0;34m)\u001b[0m\u001b[0;34m)\u001b[0m\u001b[0;34m\u001b[0m\u001b[0;34m\u001b[0m\u001b[0m\n\u001b[0m",
      "\u001b[0;32m/opt/anaconda3/lib/python3.9/site-packages/requests/api.py\u001b[0m in \u001b[0;36mget\u001b[0;34m(url, params, **kwargs)\u001b[0m\n\u001b[1;32m     71\u001b[0m     \"\"\"\n\u001b[1;32m     72\u001b[0m \u001b[0;34m\u001b[0m\u001b[0m\n\u001b[0;32m---> 73\u001b[0;31m     \u001b[0;32mreturn\u001b[0m \u001b[0mrequest\u001b[0m\u001b[0;34m(\u001b[0m\u001b[0;34m\"get\"\u001b[0m\u001b[0;34m,\u001b[0m \u001b[0murl\u001b[0m\u001b[0;34m,\u001b[0m \u001b[0mparams\u001b[0m\u001b[0;34m=\u001b[0m\u001b[0mparams\u001b[0m\u001b[0;34m,\u001b[0m \u001b[0;34m**\u001b[0m\u001b[0mkwargs\u001b[0m\u001b[0;34m)\u001b[0m\u001b[0;34m\u001b[0m\u001b[0;34m\u001b[0m\u001b[0m\n\u001b[0m\u001b[1;32m     74\u001b[0m \u001b[0;34m\u001b[0m\u001b[0m\n\u001b[1;32m     75\u001b[0m \u001b[0;34m\u001b[0m\u001b[0m\n",
      "\u001b[0;32m/opt/anaconda3/lib/python3.9/site-packages/requests/api.py\u001b[0m in \u001b[0;36mrequest\u001b[0;34m(method, url, **kwargs)\u001b[0m\n\u001b[1;32m     57\u001b[0m     \u001b[0;31m# cases, and look like a memory leak in others.\u001b[0m\u001b[0;34m\u001b[0m\u001b[0;34m\u001b[0m\u001b[0m\n\u001b[1;32m     58\u001b[0m     \u001b[0;32mwith\u001b[0m \u001b[0msessions\u001b[0m\u001b[0;34m.\u001b[0m\u001b[0mSession\u001b[0m\u001b[0;34m(\u001b[0m\u001b[0;34m)\u001b[0m \u001b[0;32mas\u001b[0m \u001b[0msession\u001b[0m\u001b[0;34m:\u001b[0m\u001b[0;34m\u001b[0m\u001b[0;34m\u001b[0m\u001b[0m\n\u001b[0;32m---> 59\u001b[0;31m         \u001b[0;32mreturn\u001b[0m \u001b[0msession\u001b[0m\u001b[0;34m.\u001b[0m\u001b[0mrequest\u001b[0m\u001b[0;34m(\u001b[0m\u001b[0mmethod\u001b[0m\u001b[0;34m=\u001b[0m\u001b[0mmethod\u001b[0m\u001b[0;34m,\u001b[0m \u001b[0murl\u001b[0m\u001b[0;34m=\u001b[0m\u001b[0murl\u001b[0m\u001b[0;34m,\u001b[0m \u001b[0;34m**\u001b[0m\u001b[0mkwargs\u001b[0m\u001b[0;34m)\u001b[0m\u001b[0;34m\u001b[0m\u001b[0;34m\u001b[0m\u001b[0m\n\u001b[0m\u001b[1;32m     60\u001b[0m \u001b[0;34m\u001b[0m\u001b[0m\n\u001b[1;32m     61\u001b[0m \u001b[0;34m\u001b[0m\u001b[0m\n",
      "\u001b[0;32m/opt/anaconda3/lib/python3.9/site-packages/requests/sessions.py\u001b[0m in \u001b[0;36mrequest\u001b[0;34m(self, method, url, params, data, headers, cookies, files, auth, timeout, allow_redirects, proxies, hooks, stream, verify, cert, json)\u001b[0m\n\u001b[1;32m    571\u001b[0m             \u001b[0mhooks\u001b[0m\u001b[0;34m=\u001b[0m\u001b[0mhooks\u001b[0m\u001b[0;34m,\u001b[0m\u001b[0;34m\u001b[0m\u001b[0;34m\u001b[0m\u001b[0m\n\u001b[1;32m    572\u001b[0m         )\n\u001b[0;32m--> 573\u001b[0;31m         \u001b[0mprep\u001b[0m \u001b[0;34m=\u001b[0m \u001b[0mself\u001b[0m\u001b[0;34m.\u001b[0m\u001b[0mprepare_request\u001b[0m\u001b[0;34m(\u001b[0m\u001b[0mreq\u001b[0m\u001b[0;34m)\u001b[0m\u001b[0;34m\u001b[0m\u001b[0;34m\u001b[0m\u001b[0m\n\u001b[0m\u001b[1;32m    574\u001b[0m \u001b[0;34m\u001b[0m\u001b[0m\n\u001b[1;32m    575\u001b[0m         \u001b[0mproxies\u001b[0m \u001b[0;34m=\u001b[0m \u001b[0mproxies\u001b[0m \u001b[0;32mor\u001b[0m \u001b[0;34m{\u001b[0m\u001b[0;34m}\u001b[0m\u001b[0;34m\u001b[0m\u001b[0;34m\u001b[0m\u001b[0m\n",
      "\u001b[0;32m/opt/anaconda3/lib/python3.9/site-packages/requests/sessions.py\u001b[0m in \u001b[0;36mprepare_request\u001b[0;34m(self, request)\u001b[0m\n\u001b[1;32m    482\u001b[0m \u001b[0;34m\u001b[0m\u001b[0m\n\u001b[1;32m    483\u001b[0m         \u001b[0mp\u001b[0m \u001b[0;34m=\u001b[0m \u001b[0mPreparedRequest\u001b[0m\u001b[0;34m(\u001b[0m\u001b[0;34m)\u001b[0m\u001b[0;34m\u001b[0m\u001b[0;34m\u001b[0m\u001b[0m\n\u001b[0;32m--> 484\u001b[0;31m         p.prepare(\n\u001b[0m\u001b[1;32m    485\u001b[0m             \u001b[0mmethod\u001b[0m\u001b[0;34m=\u001b[0m\u001b[0mrequest\u001b[0m\u001b[0;34m.\u001b[0m\u001b[0mmethod\u001b[0m\u001b[0;34m.\u001b[0m\u001b[0mupper\u001b[0m\u001b[0;34m(\u001b[0m\u001b[0;34m)\u001b[0m\u001b[0;34m,\u001b[0m\u001b[0;34m\u001b[0m\u001b[0;34m\u001b[0m\u001b[0m\n\u001b[1;32m    486\u001b[0m             \u001b[0murl\u001b[0m\u001b[0;34m=\u001b[0m\u001b[0mrequest\u001b[0m\u001b[0;34m.\u001b[0m\u001b[0murl\u001b[0m\u001b[0;34m,\u001b[0m\u001b[0;34m\u001b[0m\u001b[0;34m\u001b[0m\u001b[0m\n",
      "\u001b[0;32m/opt/anaconda3/lib/python3.9/site-packages/requests/models.py\u001b[0m in \u001b[0;36mprepare\u001b[0;34m(self, method, url, headers, files, data, params, auth, cookies, hooks, json)\u001b[0m\n\u001b[1;32m    366\u001b[0m \u001b[0;34m\u001b[0m\u001b[0m\n\u001b[1;32m    367\u001b[0m         \u001b[0mself\u001b[0m\u001b[0;34m.\u001b[0m\u001b[0mprepare_method\u001b[0m\u001b[0;34m(\u001b[0m\u001b[0mmethod\u001b[0m\u001b[0;34m)\u001b[0m\u001b[0;34m\u001b[0m\u001b[0;34m\u001b[0m\u001b[0m\n\u001b[0;32m--> 368\u001b[0;31m         \u001b[0mself\u001b[0m\u001b[0;34m.\u001b[0m\u001b[0mprepare_url\u001b[0m\u001b[0;34m(\u001b[0m\u001b[0murl\u001b[0m\u001b[0;34m,\u001b[0m \u001b[0mparams\u001b[0m\u001b[0;34m)\u001b[0m\u001b[0;34m\u001b[0m\u001b[0;34m\u001b[0m\u001b[0m\n\u001b[0m\u001b[1;32m    369\u001b[0m         \u001b[0mself\u001b[0m\u001b[0;34m.\u001b[0m\u001b[0mprepare_headers\u001b[0m\u001b[0;34m(\u001b[0m\u001b[0mheaders\u001b[0m\u001b[0;34m)\u001b[0m\u001b[0;34m\u001b[0m\u001b[0;34m\u001b[0m\u001b[0m\n\u001b[1;32m    370\u001b[0m         \u001b[0mself\u001b[0m\u001b[0;34m.\u001b[0m\u001b[0mprepare_cookies\u001b[0m\u001b[0;34m(\u001b[0m\u001b[0mcookies\u001b[0m\u001b[0;34m)\u001b[0m\u001b[0;34m\u001b[0m\u001b[0;34m\u001b[0m\u001b[0m\n",
      "\u001b[0;32m/opt/anaconda3/lib/python3.9/site-packages/requests/models.py\u001b[0m in \u001b[0;36mprepare_url\u001b[0;34m(self, url, params)\u001b[0m\n\u001b[1;32m    437\u001b[0m \u001b[0;34m\u001b[0m\u001b[0m\n\u001b[1;32m    438\u001b[0m         \u001b[0;32mif\u001b[0m \u001b[0;32mnot\u001b[0m \u001b[0mscheme\u001b[0m\u001b[0;34m:\u001b[0m\u001b[0;34m\u001b[0m\u001b[0;34m\u001b[0m\u001b[0m\n\u001b[0;32m--> 439\u001b[0;31m             raise MissingSchema(\n\u001b[0m\u001b[1;32m    440\u001b[0m                 \u001b[0;34mf\"Invalid URL {url!r}: No scheme supplied. \"\u001b[0m\u001b[0;34m\u001b[0m\u001b[0;34m\u001b[0m\u001b[0m\n\u001b[1;32m    441\u001b[0m                 \u001b[0;34mf\"Perhaps you meant https://{url}?\"\u001b[0m\u001b[0;34m\u001b[0m\u001b[0;34m\u001b[0m\u001b[0m\n",
      "\u001b[0;31mMissingSchema\u001b[0m: Invalid URL '/org/persons/?intst=76660881': No scheme supplied. Perhaps you meant https:///org/persons/?intst=76660881?"
     ]
    }
   ],
   "source": [
    "# давайте проверим:\n",
    "import requests\n",
    "print(f'Результат запроса к {links[5]}: ', end='')\n",
    "print(requests.get(links[5]))"
   ]
  },
  {
   "cell_type": "code",
   "execution_count": 128,
   "id": "f849ee04",
   "metadata": {},
   "outputs": [
    {
     "name": "stdout",
     "output_type": "stream",
     "text": [
      "Результат запроса к https://www.hse.ru/org/persons/?intst=76660881: <Response [200]>\n"
     ]
    }
   ],
   "source": [
    "print(f'Результат запроса к {correct_links[5]}: ', end='')\n",
    "print(requests.get(correct_links[5]))"
   ]
  },
  {
   "cell_type": "markdown",
   "id": "2445dd93",
   "metadata": {},
   "source": [
    "<center><b><font size=4>Задача №3</font></b></center>\n",
    "\n",
    "Перед вами представлена разметка html. Выполните следующие задания:"
   ]
  },
  {
   "cell_type": "code",
   "execution_count": 188,
   "id": "10629025",
   "metadata": {},
   "outputs": [],
   "source": [
    "html = '''\n",
    "<a class=\"link fa-person__name\" href=\"//www.hse.ru/staff/dariamaltseva\">\n",
    " \t\t\t\t\t\t\tМальцева Дарья Васильевна\n",
    " \t\t\t\t\t\t</a>,\n",
    " <a class=\"link fa-person__name\" href=\"//www.hse.ru/org/persons/510416125\">\n",
    " \t\t\t\t\t\t\tПавлова Ирина Анатольевна\n",
    " \t\t\t\t\t\t</a>,\n",
    " <a class=\"link fa-person__name\" href=\"//www.hse.ru/org/persons/563386642\">\n",
    " \t\t\t\t\t\t\tЗаболотский Александр Викторович\n",
    " \t\t\t\t\t\t</a>,\n",
    " <a class=\"link fa-person__name\" href=\"//www.hse.ru/org/persons/63729\">\n",
    " \t\t\t\t\t\t\tКлимов Иван Александрович\n",
    " \t\t\t\t\t\t</a>,\n",
    " <a class=\"link fa-person__name\" href=\"//www.hse.ru/org/persons/305084525\">\n",
    " \t\t\t\t\t\t\tКапустина Лика Владимировна\n",
    " \t\t\t\t\t\t</a>,\n",
    " <a class=\"link fa-person__name\" href=\"//www.hse.ru/org/persons/225564557\">\n",
    " \t\t\t\t\t\t\tОганян Артём Ашотович\n",
    " \t\t\t\t\t\t</a>,\n",
    " <a class=\"link fa-person__name\" href=\"//www.hse.ru/staff/beylina\">\n",
    " \t\t\t\t\t\t\tСтегний Елена Анатольевна\n",
    " \t\t\t\t\t\t</a>\n",
    "'''"
   ]
  },
  {
   "cell_type": "markdown",
   "id": "943ea1ef",
   "metadata": {},
   "source": [
    "1. Преобразуйте `html` в объект `BeautifulSoup`. Сохраните его в переменную `soup`."
   ]
  },
  {
   "cell_type": "code",
   "execution_count": null,
   "id": "23fc0f4b",
   "metadata": {},
   "outputs": [],
   "source": [
    "soup = #YOUR CODE HERE"
   ]
  },
  {
   "cell_type": "markdown",
   "id": "5111569f",
   "metadata": {},
   "source": [
    "2. Сохраните все элементы под тегом \"a\" в список `links`."
   ]
  },
  {
   "cell_type": "code",
   "execution_count": null,
   "id": "21915443",
   "metadata": {},
   "outputs": [],
   "source": [
    "links = #YOUR CODE HERE"
   ]
  },
  {
   "cell_type": "markdown",
   "id": "5f7ea660",
   "metadata": {},
   "source": [
    "3. Напечатайте тексты, за которыми стоят гиперссылки:"
   ]
  },
  {
   "cell_type": "code",
   "execution_count": null,
   "id": "9d236c2b",
   "metadata": {},
   "outputs": [],
   "source": [
    "# YOUR CODE HERE"
   ]
  },
  {
   "cell_type": "markdown",
   "id": "025c7528",
   "metadata": {},
   "source": [
    "4. Избавьтесь от лишних символов, которые вы видите. Используйте метод `.strip()` или `.replace()`."
   ]
  },
  {
   "cell_type": "code",
   "execution_count": 199,
   "id": "87f6fd5f",
   "metadata": {},
   "outputs": [],
   "source": [
    "# YOUR CODE HERE"
   ]
  },
  {
   "cell_type": "markdown",
   "id": "f1d0e225",
   "metadata": {},
   "source": [
    "5. Напечатайте гиперссылки (только часть элементов под тегами a) из вашего списка `links`."
   ]
  },
  {
   "cell_type": "code",
   "execution_count": 202,
   "id": "390e857a",
   "metadata": {},
   "outputs": [],
   "source": [
    "# YOUR CODE HERE"
   ]
  },
  {
   "cell_type": "markdown",
   "id": "02dcc88b",
   "metadata": {},
   "source": [
    "6. Создайте список `correct_links`, куда вы сохраните полные ссылки. "
   ]
  },
  {
   "cell_type": "code",
   "execution_count": 204,
   "id": "6739f7c3",
   "metadata": {},
   "outputs": [],
   "source": [
    "# YOUR CODE HERE"
   ]
  },
  {
   "cell_type": "markdown",
   "id": "96be962a",
   "metadata": {},
   "source": [
    "7. Проверьте, что вы создали ссылки корректно: с помощью функции `requests.get()` отправьте запрос к первой ссылке. "
   ]
  },
  {
   "cell_type": "code",
   "execution_count": 205,
   "id": "6cb57951",
   "metadata": {},
   "outputs": [],
   "source": [
    "# YOUR CODE HERE"
   ]
  }
 ],
 "metadata": {
  "kernelspec": {
   "display_name": "Python 3 (ipykernel)",
   "language": "python",
   "name": "python3"
  },
  "language_info": {
   "codemirror_mode": {
    "name": "ipython",
    "version": 3
   },
   "file_extension": ".py",
   "mimetype": "text/x-python",
   "name": "python",
   "nbconvert_exporter": "python",
   "pygments_lexer": "ipython3",
   "version": "3.9.13"
  }
 },
 "nbformat": 4,
 "nbformat_minor": 5
}
