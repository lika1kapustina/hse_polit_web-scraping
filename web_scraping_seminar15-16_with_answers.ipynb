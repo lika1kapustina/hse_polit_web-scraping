{
 "cells": [
  {
   "cell_type": "markdown",
   "id": "8f237e0f",
   "metadata": {
    "id": "8f237e0f"
   },
   "source": [
    "# Сбор данных с Web-scraping и API для социально-научных исследований\n",
    "---\n",
    "## Семинары 15-16. Selenium: продолжение. Менеджмент файлов на компьютере с помощью os.\n",
    "\n",
    "---\n",
    "*ФСН, ОП \"Политология\", 2023-2024 гг.*\n",
    "\n",
    "Лика Капустина,\n",
    "\n",
    "lkapustina@hse.ru\n",
    "\n",
    "**План занятия:**\n",
    "\n",
    "3. [3. Selenium: работа со значениями элементов и обработка html страницы (привет, BeautifulSoup)](#part3)\n",
    "4. [4. Selenium: явные и неявные ожидания и обработка исключений](#part4)\n",
    "5. [5. Selenium: ActionChains](#part5)\n",
    "6. [6. os: менеджмент файлов на вашем компьютере](#part6)\n",
    "7. [Дополнительно: что еще можно делать с помощью Selenium? Краткий обзор возможностей](#partlast)\n",
    "---\n",
    "\n",
    "На прошлом занятии мы с вами обсудили старт работы с Selenium – как создавать объект `webdriver`, как искать элементы на странице, как взаимодействовать с кнопками и полями. На этом занятии мы обсудим методы `WebElement`, работу с html-разметой страниц, явные и неявные ожидания, что такое ActionChains и как с помощью этого класса упростить себе работу, как скачивать файлы с сайтов и размещать их в нужных папках на вашем компьютере автоматизированно с помощью `os`. **Весь материал в этом ноутбуке не был представлен на семинаре 13-14**.\n",
    "\n",
    "---\n",
    "\n",
    "**Основные ссылки:**\n",
    "- [Документация Selenium на Python](https://selenium-python.readthedocs.io);\n",
    "- [Неофициальный перевод документации Selenium на Python на русский](https://habr.com/ru/articles/248559/);\n",
    "- [Документация BeautifulSoup на русском](https://www.crummy.com/software/BeautifulSoup/bs4/doc.ru/bs4ru.html);\n",
    "- [Документация os](https://docs.python.org/3/library/os.html);\n",
    "- [Распространенные exceptions в Selenium](https://www.selenium.dev/selenium/docs/api/py/common/selenium.common.exceptions.html)."
   ]
  },
  {
   "cell_type": "markdown",
   "id": "1d76c593",
   "metadata": {},
   "source": [
    "**Продолжим работать с Selenium. Начнем с подгрузки всех необходимых библиотек и классов:**"
   ]
  },
  {
   "cell_type": "code",
   "execution_count": 212,
   "id": "a3bf7d0a",
   "metadata": {},
   "outputs": [],
   "source": [
    "# импорт основных библиотек\n",
    "import pandas as pd # работа с таблицами\n",
    "import numpy as np  # математические операции и пр.\n",
    "import tqdm         # для дальнейшего импорта прогресс-бара\n",
    "import time         # для обычных пауз\n",
    "\n",
    "from selenium import webdriver # импорт драйвера\n",
    "from selenium.webdriver.chrome.service import Service # импортируем сущность Service\n",
    "from webdriver_manager.chrome import ChromeDriverManager # импорт драйвера для Google Chrome\n",
    "from selenium.webdriver.common.by import By # поиск по локаторам\n",
    "from selenium.webdriver.common.keys import Keys # отправление ключей\n",
    "from selenium.webdriver.chrome.options import Options "
   ]
  },
  {
   "cell_type": "code",
   "execution_count": 406,
   "id": "5ed496c5",
   "metadata": {},
   "outputs": [],
   "source": [
    "# запуск вебдрайвера\n",
    "options = Options() # создаем сущность Options\n",
    "options.add_argument(\"start-maximized\") # уточняем, что хотим чтобы при открытии окно было открыто максимально широко\n",
    "wb = webdriver.Chrome(service=Service(ChromeDriverManager().install()), options=options) # создаем вебдрайвер"
   ]
  },
  {
   "cell_type": "markdown",
   "id": "7b7d0241",
   "metadata": {},
   "source": [
    "## 3. Selenium: работа со значениями элементов и обработка html страницы<a name='part3'></a>\n",
    "\n",
    "В этом разделе мы обсудим работу со значениями элементов и вспомним работу со старым-добрым BeautifulSoup. Но сперва откроем страницу поиска Московского городского суда со следующими значениями:\n",
    "* Инстанция – `первая`;\n",
    "* Год – `2023`;\n",
    "* В тексте встречается слово `НИУ ВШЭ`."
   ]
  },
  {
   "cell_type": "code",
   "execution_count": 214,
   "id": "28455b72",
   "metadata": {},
   "outputs": [],
   "source": [
    "link = 'https://mos-gorsud.ru/search?formType=fullForm&courtAlias=&uid=&instance=1&processType=&letterNumber=&caseNumber=&participant=&codex=&judge=&publishingState=&documentType=&documentText=НИУ+ВШЭ&year=2023&caseDateFrom=&caseDateTo=&caseFinalDateFrom=&caseFinalDateTo=&caseLegalForceDateFrom=&caseLegalForceDateTo=&docsDateFrom=&docsDateTo=&documentStatus='\n",
    "wb.get(link) # открываем ссылку"
   ]
  },
  {
   "cell_type": "markdown",
   "id": "e6435ead",
   "metadata": {},
   "source": [
    "### `WebElement`\n",
    "\n",
    "Сущность, с которым мы будем работать с вами сейчас – `WebElement`, то есть, некоторая абстракция, которая стоит за конкретным элементом в разметке конкретной страницы. Давайте воспользуемся [изящным решением со stackoverflow](https://stackoverflow.com/questions/9058305/getting-attributes-of-a-class) и посмотрим на то, какие атрибуты есть у элементов. Часть из них мы уже видели (`find_element`, `find_elements`, `click`, `send_keys`), а с частью поработаем сейчас:\n",
    "\n",
    "[Документация по классу WebElement доступна по ссылке](https://www.selenium.dev/selenium/docs/api/py/webdriver_remote/selenium.webdriver.remote.webelement.html)."
   ]
  },
  {
   "cell_type": "code",
   "execution_count": 215,
   "id": "51b7c62d",
   "metadata": {},
   "outputs": [
    {
     "data": {
      "text/plain": [
       "['tag_name',\n",
       " 'text',\n",
       " 'click',\n",
       " 'submit',\n",
       " 'clear',\n",
       " 'get_property',\n",
       " 'get_dom_attribute',\n",
       " 'get_attribute',\n",
       " 'is_selected',\n",
       " 'is_enabled',\n",
       " 'find_element_by_id',\n",
       " 'find_elements_by_id',\n",
       " 'find_element_by_name',\n",
       " 'find_elements_by_name',\n",
       " 'find_element_by_link_text',\n",
       " 'find_elements_by_link_text',\n",
       " 'find_element_by_partial_link_text',\n",
       " 'find_elements_by_partial_link_text',\n",
       " 'find_element_by_tag_name',\n",
       " 'find_elements_by_tag_name',\n",
       " 'find_element_by_xpath',\n",
       " 'find_elements_by_xpath',\n",
       " 'find_element_by_class_name',\n",
       " 'find_elements_by_class_name',\n",
       " 'find_element_by_css_selector',\n",
       " 'find_elements_by_css_selector',\n",
       " 'send_keys',\n",
       " 'is_displayed',\n",
       " 'location_once_scrolled_into_view',\n",
       " 'size',\n",
       " 'value_of_css_property',\n",
       " 'location',\n",
       " 'rect',\n",
       " 'aria_role',\n",
       " 'accessible_name',\n",
       " 'screenshot_as_base64',\n",
       " 'screenshot_as_png',\n",
       " 'screenshot',\n",
       " 'parent',\n",
       " 'id',\n",
       " 'find_element',\n",
       " 'find_elements']"
      ]
     },
     "execution_count": 215,
     "metadata": {},
     "output_type": "execute_result"
    }
   ],
   "source": [
    "from selenium.webdriver.remote.webelement import WebElement\n",
    "\n",
    "def props(cls):   \n",
    "    return [i for i in cls.__dict__.keys() if i[:1] != '_']\n",
    "\n",
    "properties = props(WebElement)\n",
    "properties # атрибуты класса WebElement"
   ]
  },
  {
   "cell_type": "markdown",
   "id": "4292877b",
   "metadata": {},
   "source": [
    "###  `element.text` и `element.get_attribute()`\n",
    "\n",
    "В Selenium есть два метода, которые позволяют работать с значениями конкретных `webelement` – это `element.text` и `element.get_attribute()`. Разберем на примере:\n",
    "\n",
    "\n",
    "\n",
    "**Как получить текст, который содержит определенный элемент?** С помощью атрибута `.text`:\n",
    "\n",
    "**Найдем .CLASS_NAME, отвечающий за надпись `По вашему запросу найдено записей: 19`:**"
   ]
  },
  {
   "cell_type": "code",
   "execution_count": 216,
   "id": "29fa5de9",
   "metadata": {},
   "outputs": [
    {
     "data": {
      "text/plain": [
       "<selenium.webdriver.remote.webelement.WebElement (session=\"06d3cad1f504d72f4f6d894c6f78a7de\", element=\"f.136A8665D16BEC5DF58BE72F43659528.d.28BD3DE2A264DEFE11924AC230C94D7F.e.275\")>"
      ]
     },
     "execution_count": 216,
     "metadata": {},
     "output_type": "execute_result"
    }
   ],
   "source": [
    "wb.find_element(By.CLASS_NAME, 'resultsearch_text') # нашли элемент"
   ]
  },
  {
   "cell_type": "code",
   "execution_count": 217,
   "id": "e2339014",
   "metadata": {},
   "outputs": [
    {
     "data": {
      "text/plain": [
       "'По вашему запросу найдено записей: 19\\nНажмите, чтобы развернуть таблицу'"
      ]
     },
     "execution_count": 217,
     "metadata": {},
     "output_type": "execute_result"
    }
   ],
   "source": [
    "wb.find_element(By.CLASS_NAME, 'resultsearch_text').text # получили текст, который стоит за элементом"
   ]
  },
  {
   "cell_type": "code",
   "execution_count": 221,
   "id": "1a8133d7",
   "metadata": {},
   "outputs": [
    {
     "data": {
      "text/plain": [
       "'19'"
      ]
     },
     "execution_count": 221,
     "metadata": {},
     "output_type": "execute_result"
    }
   ],
   "source": [
    "wb.find_element(By.CLASS_NAME, 'resultsearch_text').text.split('\\n')[0].split()[-1]"
   ]
  },
  {
   "cell_type": "markdown",
   "id": "a95e74e9",
   "metadata": {},
   "source": [
    "**На странице поиска в самом низу страницы отображается, сколько всего страниц с делами по такому запросу есть на сайте. Вопрос к вам – для чего нам может быть полезно это значение?**\n",
    "\n",
    "Посмотрим на html, стоящий за нужным нам элементом `2`:\n",
    "\n",
    "```\n",
    "<input type=\"hidden\" id=\"paginationFormMaxPages\" value=\"2\">\n",
    "```"
   ]
  },
  {
   "cell_type": "code",
   "execution_count": 143,
   "id": "102f8836",
   "metadata": {},
   "outputs": [
    {
     "data": {
      "text/plain": [
       "''"
      ]
     },
     "execution_count": 143,
     "metadata": {},
     "output_type": "execute_result"
    }
   ],
   "source": [
    "# попытаемся пойти простым путем и просто получить текст страницы\n",
    "wb.find_element(By.ID, 'paginationFormMaxPages').text # ничего не получилось.."
   ]
  },
  {
   "cell_type": "markdown",
   "id": "a2e6e826",
   "metadata": {},
   "source": [
    "Если не получилось поработать с одним методом, нужно идти дальше. Смотрите, значение, которое нам нужно получить – это цифру `2` (число страниц с делами). Для этого посмотрим, для какого атрибута выставлено значение `2`."
   ]
  },
  {
   "cell_type": "code",
   "execution_count": 224,
   "id": "3470838b",
   "metadata": {},
   "outputs": [
    {
     "data": {
      "text/plain": [
       "'2'"
      ]
     },
     "execution_count": 224,
     "metadata": {},
     "output_type": "execute_result"
    }
   ],
   "source": [
    "wb.find_element(By.ID, 'paginationFormMaxPages').get_attribute('value') # и укажем в качестве аргумента метода"
   ]
  },
  {
   "cell_type": "code",
   "execution_count": 226,
   "id": "e82b645f",
   "metadata": {},
   "outputs": [
    {
     "data": {
      "text/plain": [
       "'Истец:'"
      ]
     },
     "execution_count": 226,
     "metadata": {},
     "output_type": "execute_result"
    }
   ],
   "source": [
    "wb.find_element(By.TAG_NAME, 'strong').text"
   ]
  },
  {
   "cell_type": "code",
   "execution_count": 229,
   "id": "83142792",
   "metadata": {
    "scrolled": true
   },
   "outputs": [
    {
     "name": "stdout",
     "output_type": "stream",
     "text": [
      "Истец:\n",
      "Ответчик:\n",
      "Истец:\n",
      "Ответчик:\n",
      "Истец:\n",
      "Ответчик:\n",
      "Истец:\n",
      "Ответчик:\n",
      "Третья сторона со стороны истца:\n",
      "Третья сторона со стороны ответчика:\n",
      "Истец:\n",
      "Ответчик:\n",
      "Истец:\n",
      "Ответчик:\n",
      "Административный истец:\n",
      "Административный ответчик:\n",
      "Истец:\n",
      "Ответчик:\n",
      "Истец:\n",
      "Ответчик:\n",
      "Истец:\n",
      "Ответчик:\n",
      "Административный истец:\n",
      "Административный ответчик:\n",
      "Административный истец:\n",
      "Административный ответчик:\n",
      "Административный истец:\n",
      "Административный ответчик:\n",
      "Подсудимый:\n",
      "Подсудимый:\n",
      "\n",
      "\n",
      "\n",
      "\n",
      "\n",
      "\n",
      "\n",
      "\n",
      "\n",
      "\n",
      "\n",
      "\n",
      "\n",
      "\n",
      "\n",
      "\n",
      "\n",
      "\n",
      "\n",
      "\n",
      "\n",
      "\n",
      "\n",
      "\n",
      "\n",
      "\n",
      "\n",
      "\n",
      "\n",
      "\n"
     ]
    }
   ],
   "source": [
    "for i in wb.find_elements(By.TAG_NAME, 'strong'):\n",
    "    print(i.text)"
   ]
  },
  {
   "cell_type": "markdown",
   "id": "1b0b2045",
   "metadata": {},
   "source": [
    "**Кроме этих двух методов есть и другие, которые позволяют получить информацию о конкретном элементе:**"
   ]
  },
  {
   "cell_type": "code",
   "execution_count": 232,
   "id": "92a4c3a5",
   "metadata": {},
   "outputs": [
    {
     "data": {
      "text/plain": [
       "{'height': 0, 'width': 0}"
      ]
     },
     "execution_count": 232,
     "metadata": {},
     "output_type": "execute_result"
    }
   ],
   "source": [
    "wb.find_element(By.ID, 'paginationFormMaxPages').size # ширина и длина элемента"
   ]
  },
  {
   "cell_type": "code",
   "execution_count": 233,
   "id": "4c05a987",
   "metadata": {},
   "outputs": [
    {
     "data": {
      "text/plain": [
       "{'x': 144, 'y': 4014}"
      ]
     },
     "execution_count": 233,
     "metadata": {},
     "output_type": "execute_result"
    }
   ],
   "source": [
    "wb.find_element(By.ID, 'paginationFormMaxPages').location # местонахождение элемента на странице"
   ]
  },
  {
   "cell_type": "markdown",
   "id": "06c6badb",
   "metadata": {},
   "source": [
    "**Поздравляю! Вы освоили некоторые базовые методы работы с конкретными элементами**"
   ]
  },
  {
   "cell_type": "markdown",
   "id": "48b4e5bc",
   "metadata": {},
   "source": [
    "<p></p>\n",
    "<center><b><font size=4>Задача №1. Работа с элементами страницы</font></b></center>\n",
    "\n",
    "Давайте закрепим успех. **Поработайте с элементами страницы и напечатайте на экран следующую информацию:**\n",
    "\n",
    "* `Заголовок статьи: <значение>`\n",
    "* `Поле \"Найдите дело или задайте вопрос помощнику\" принимает в качестве type значение: <значение>`\n",
    "* `Высота кнопки \"Противодействие коррупции\": <значение>`\n",
    "* `Ширина кнопки \"Противодействие коррупции\": <значение>`"
   ]
  },
  {
   "cell_type": "code",
   "execution_count": 329,
   "id": "4b2cecbb",
   "metadata": {},
   "outputs": [],
   "source": [
    "link = 'https://mos-gorsud.ru/mgs/news/komanda-federalnyh-sudej-rossijskoj-federatsii-zanyala-1-mesto-po-itogam-xv-spartakiady-sredi-federalnyh-organov-gosudarstvennoj-vlasti-rossijskoj-federatsii'\n",
    "wb.get(link)"
   ]
  },
  {
   "cell_type": "markdown",
   "id": "571ea554",
   "metadata": {},
   "source": [
    "**Смотрим на элемент заголовка:**\n",
    "\n",
    "```\n",
    "<h1>\n",
    "                            Команда Федеральных судей Российской Федерации заняла 1 место по итогам XV Спартакиады среди федеральных органов государственной власти Российской Федерации\n",
    "    \n",
    "                                            </h1>\n",
    "```"
   ]
  },
  {
   "cell_type": "code",
   "execution_count": 330,
   "id": "e9910b33",
   "metadata": {},
   "outputs": [
    {
     "name": "stdout",
     "output_type": "stream",
     "text": [
      "Заголовок статьи: Команда Федеральных судей Российской Федерации заняла 1 место по итогам XV Спартакиады среди федеральных органов государственной власти Российской Федерации\n"
     ]
    }
   ],
   "source": [
    "text_of_article = wb.find_element(By.TAG_NAME, 'h1').text # получаем текст первого элемента под тегом h1\n",
    "print(f'Заголовок статьи: {text_of_article}')"
   ]
  },
  {
   "cell_type": "markdown",
   "id": "62e5af32",
   "metadata": {},
   "source": [
    "**Смотрим на поле `Найдите дело или задайте вопрос помощнику`**\n",
    "\n",
    "```\n",
    "<input type=\"text\" autocomplete=\"off\" maxlength=\"255\" placeholder=\"Введите атрибуты судебного дела или опишите ситуацию, с которой вам нужна помощь\" class=\"search-input\">\n",
    "```"
   ]
  },
  {
   "cell_type": "code",
   "execution_count": 331,
   "id": "a587c98f",
   "metadata": {},
   "outputs": [
    {
     "name": "stdout",
     "output_type": "stream",
     "text": [
      "Поле \"Найдите дело или задайте вопрос помощнику\" принимает в качестве type значение: text\n"
     ]
    }
   ],
   "source": [
    "value = wb.find_element(By.CLASS_NAME, 'search-input').get_attribute('type') # внутри - название атрибута\n",
    "print(f'Поле \"Найдите дело или задайте вопрос помощнику\" принимает в качестве type значение: {value}')"
   ]
  },
  {
   "cell_type": "markdown",
   "id": "a45cf1dd",
   "metadata": {},
   "source": [
    "**Смотрим на поле `Противодействие коррупции`**\n",
    "\n",
    "```\n",
    "<img src=\"/resources/img/hand_corruption.png?v=3d3\" width=\"45\" alt=\"Противодействие коррупции\">\n",
    "```"
   ]
  },
  {
   "cell_type": "code",
   "execution_count": 332,
   "id": "6cbc6560",
   "metadata": {
    "scrolled": true
   },
   "outputs": [
    {
     "name": "stdout",
     "output_type": "stream",
     "text": [
      "{'height': 44, 'width': 169}\n"
     ]
    }
   ],
   "source": [
    "button_corruption = wb.find_element(By.CSS_SELECTOR, 'body > div.wrapper > main > aside > div.sidebarslider-wrapper > div:nth-child(2) > div > div > div > a > div > span')\n",
    "print(button_corruption.size)"
   ]
  },
  {
   "cell_type": "code",
   "execution_count": 334,
   "id": "a754d28b",
   "metadata": {},
   "outputs": [
    {
     "name": "stdout",
     "output_type": "stream",
     "text": [
      "Высота кнопки: 44\n"
     ]
    }
   ],
   "source": [
    "print(f\"Высота кнопки: {button_corruption.size['height']}\")"
   ]
  },
  {
   "cell_type": "code",
   "execution_count": 335,
   "id": "c9936896",
   "metadata": {},
   "outputs": [
    {
     "name": "stdout",
     "output_type": "stream",
     "text": [
      "Ширина кнопки: 169\n"
     ]
    }
   ],
   "source": [
    "print(f\"Ширина кнопки: {button_corruption.size['width']}\")"
   ]
  },
  {
   "cell_type": "markdown",
   "id": "117b14cc",
   "metadata": {},
   "source": [
    "### Способы перехода на другие страницы\n",
    "\n",
    "Теперь давайте обсудим, как вы можете переключаться между страницами. **Во-первых, вы можете найти кнопку и кликнуть на кнопку \"следующая страница\"**."
   ]
  },
  {
   "cell_type": "code",
   "execution_count": 246,
   "id": "dcbed30b",
   "metadata": {},
   "outputs": [],
   "source": [
    "link = 'https://mos-gorsud.ru/search?formType=fullForm&courtAlias=&uid=&instance=1&processType=&letterNumber=&caseNumber=&participant=&codex=&judge=&publishingState=&documentType=&documentText=НИУ+ВШЭ&year=2023&caseDateFrom=&caseDateTo=&caseFinalDateFrom=&caseFinalDateTo=&caseLegalForceDateFrom=&caseLegalForceDateTo=&docsDateFrom=&docsDateTo=&documentStatus='\n",
    "wb.get(link) # открываем ссылку с поиском дел"
   ]
  },
  {
   "cell_type": "code",
   "execution_count": 248,
   "id": "49e8a78b",
   "metadata": {},
   "outputs": [],
   "source": [
    "wb.find_element(By.CLASS_NAME, 'next').click()"
   ]
  },
  {
   "cell_type": "code",
   "execution_count": 164,
   "id": "35b8362f",
   "metadata": {},
   "outputs": [
    {
     "name": "stdout",
     "output_type": "stream",
     "text": [
      "<selenium.webdriver.remote.webelement.WebElement (session=\"0baf98523354fbd8737c0bac4739b491\", element=\"f.8B67E3298034E2B8CF7E15063FEA6E36.d.C88775E6220A17733B1475B186C19654.e.1606\")>\n"
     ]
    }
   ],
   "source": [
    "next_page_button = wb.find_element(By.CLASS_NAME, 'next') # кнопка \"далее\"\n",
    "print(next_page_button)"
   ]
  },
  {
   "cell_type": "markdown",
   "id": "8d6dc0bb",
   "metadata": {},
   "source": [
    "После того, как элемент найден, осталось только на него кликнуть."
   ]
  },
  {
   "cell_type": "code",
   "execution_count": 165,
   "id": "eb64b47b",
   "metadata": {},
   "outputs": [],
   "source": [
    "time.sleep(3) # делаем паузу\n",
    "next_page_button.click() # нажимаем на кнопку"
   ]
  },
  {
   "cell_type": "markdown",
   "id": "7712ec1f",
   "metadata": {},
   "source": [
    "При желании вы в цикле могли бы пройтись по всем страницам и каждый раз для перехода на следующую страницу нажимать на эту кнопку.\n",
    "\n",
    "**Но есть ли более оптимальные опции?** Да. Для этого давайте взглянем на ссылку: ```https://mos-gorsud.ru/search??documentText=НИУ+ВШЭ&instance=1&year=2023&formType=fullForm&page=2```. \n",
    "\n",
    "Интересно, что если просто кликнуть на адресное поле и скопировать значение, вы получите отличающуюся строку: ```https://mos-gorsud.ru/search?documentText=%D0%9D%D0%98%D0%A3+%D0%92%D0%A8%D0%AD&instance=1&year=2023&formType=fullForm&page=2```.\n",
    "\n",
    "Если воспользоваться методом `.current_url`, он вернет то же самое: ```https://mos-gorsud.ru/search?documentText=%D0%9D%D0%98%D0%A3+%D0%92%D0%A8%D0%AD&instance=1&year=2023&formType=fullForm&page=2'```.\n",
    "\n",
    "Давайте сразу сгенерируем ссылки, которые в дальнейшем могли бы обойти в цикле и проверим, работают ли они. Для примера возьмем дело `212`:"
   ]
  },
  {
   "cell_type": "code",
   "execution_count": 250,
   "id": "fcb1f08d",
   "metadata": {
    "scrolled": true
   },
   "outputs": [
    {
     "data": {
      "text/plain": [
       "['https://mos-gorsud.ru/search?codex=Ст.+212&formType=fullForm&page=1',\n",
       " 'https://mos-gorsud.ru/search?codex=Ст.+212&formType=fullForm&page=2',\n",
       " 'https://mos-gorsud.ru/search?codex=Ст.+212&formType=fullForm&page=3',\n",
       " 'https://mos-gorsud.ru/search?codex=Ст.+212&formType=fullForm&page=4',\n",
       " 'https://mos-gorsud.ru/search?codex=Ст.+212&formType=fullForm&page=5',\n",
       " 'https://mos-gorsud.ru/search?codex=Ст.+212&formType=fullForm&page=6',\n",
       " 'https://mos-gorsud.ru/search?codex=Ст.+212&formType=fullForm&page=7',\n",
       " 'https://mos-gorsud.ru/search?codex=Ст.+212&formType=fullForm&page=8',\n",
       " 'https://mos-gorsud.ru/search?codex=Ст.+212&formType=fullForm&page=9',\n",
       " 'https://mos-gorsud.ru/search?codex=Ст.+212&formType=fullForm&page=10',\n",
       " 'https://mos-gorsud.ru/search?codex=Ст.+212&formType=fullForm&page=11',\n",
       " 'https://mos-gorsud.ru/search?codex=Ст.+212&formType=fullForm&page=12',\n",
       " 'https://mos-gorsud.ru/search?codex=Ст.+212&formType=fullForm&page=13',\n",
       " 'https://mos-gorsud.ru/search?codex=Ст.+212&formType=fullForm&page=14',\n",
       " 'https://mos-gorsud.ru/search?codex=Ст.+212&formType=fullForm&page=15',\n",
       " 'https://mos-gorsud.ru/search?codex=Ст.+212&formType=fullForm&page=16',\n",
       " 'https://mos-gorsud.ru/search?codex=Ст.+212&formType=fullForm&page=17',\n",
       " 'https://mos-gorsud.ru/search?codex=Ст.+212&formType=fullForm&page=18',\n",
       " 'https://mos-gorsud.ru/search?codex=Ст.+212&formType=fullForm&page=19',\n",
       " 'https://mos-gorsud.ru/search?codex=Ст.+212&formType=fullForm&page=20',\n",
       " 'https://mos-gorsud.ru/search?codex=Ст.+212&formType=fullForm&page=21',\n",
       " 'https://mos-gorsud.ru/search?codex=Ст.+212&formType=fullForm&page=22',\n",
       " 'https://mos-gorsud.ru/search?codex=Ст.+212&formType=fullForm&page=23',\n",
       " 'https://mos-gorsud.ru/search?codex=Ст.+212&formType=fullForm&page=24',\n",
       " 'https://mos-gorsud.ru/search?codex=Ст.+212&formType=fullForm&page=25',\n",
       " 'https://mos-gorsud.ru/search?codex=Ст.+212&formType=fullForm&page=26',\n",
       " 'https://mos-gorsud.ru/search?codex=Ст.+212&formType=fullForm&page=27',\n",
       " 'https://mos-gorsud.ru/search?codex=Ст.+212&formType=fullForm&page=28',\n",
       " 'https://mos-gorsud.ru/search?codex=Ст.+212&formType=fullForm&page=29',\n",
       " 'https://mos-gorsud.ru/search?codex=Ст.+212&formType=fullForm&page=30',\n",
       " 'https://mos-gorsud.ru/search?codex=Ст.+212&formType=fullForm&page=31',\n",
       " 'https://mos-gorsud.ru/search?codex=Ст.+212&formType=fullForm&page=32',\n",
       " 'https://mos-gorsud.ru/search?codex=Ст.+212&formType=fullForm&page=33',\n",
       " 'https://mos-gorsud.ru/search?codex=Ст.+212&formType=fullForm&page=34',\n",
       " 'https://mos-gorsud.ru/search?codex=Ст.+212&formType=fullForm&page=35',\n",
       " 'https://mos-gorsud.ru/search?codex=Ст.+212&formType=fullForm&page=36',\n",
       " 'https://mos-gorsud.ru/search?codex=Ст.+212&formType=fullForm&page=37',\n",
       " 'https://mos-gorsud.ru/search?codex=Ст.+212&formType=fullForm&page=38',\n",
       " 'https://mos-gorsud.ru/search?codex=Ст.+212&formType=fullForm&page=39',\n",
       " 'https://mos-gorsud.ru/search?codex=Ст.+212&formType=fullForm&page=40',\n",
       " 'https://mos-gorsud.ru/search?codex=Ст.+212&formType=fullForm&page=41',\n",
       " 'https://mos-gorsud.ru/search?codex=Ст.+212&formType=fullForm&page=42',\n",
       " 'https://mos-gorsud.ru/search?codex=Ст.+212&formType=fullForm&page=43',\n",
       " 'https://mos-gorsud.ru/search?codex=Ст.+212&formType=fullForm&page=44',\n",
       " 'https://mos-gorsud.ru/search?codex=Ст.+212&formType=fullForm&page=45',\n",
       " 'https://mos-gorsud.ru/search?codex=Ст.+212&formType=fullForm&page=46',\n",
       " 'https://mos-gorsud.ru/search?codex=Ст.+212&formType=fullForm&page=47']"
      ]
     },
     "execution_count": 250,
     "metadata": {},
     "output_type": "execute_result"
    }
   ],
   "source": [
    "pages_with_cases = \\\n",
    "[f'https://mos-gorsud.ru/search?codex=Ст.+212&formType=fullForm&page={i}' \\\n",
    " for i in range(1, 47+1)] # поскольку на сайте всего 47 страниц с ссылками на дела по статье Ст. 212 УК РФ\n",
    "pages_with_cases"
   ]
  },
  {
   "cell_type": "code",
   "execution_count": 251,
   "id": "4b378e73",
   "metadata": {},
   "outputs": [],
   "source": [
    "wb.get(pages_with_cases[0]) # откроем первую ссылку\n",
    "time.sleep(3) # сделаем паузу\n",
    "wb.get(pages_with_cases[-1]) # откроем последнюю ссылку"
   ]
  },
  {
   "cell_type": "markdown",
   "id": "7d51cc7c",
   "metadata": {},
   "source": [
    "**Поздравляю! Вы научились генерировать ссылки или использовать альтернативные методы чтобы проходиться по однотипным страницам**."
   ]
  },
  {
   "cell_type": "markdown",
   "id": "b6cb47d4",
   "metadata": {},
   "source": [
    "### `wb.page_source`\n",
    "\n",
    "**Перейдем к обсуждению работы с html страницы**. На этапе сбора данных работа с html страницы ничем не отличается от того, что мы с вами делали когда обсуждали `requests`.\n",
    "\n",
    "Давайте соберем ссылки на все дела, которые выпали нам в поиске с параметрами `Первая инстанция`, `2023 год`, в тексте присутствует `НИУ ВШЭ`."
   ]
  },
  {
   "cell_type": "code",
   "execution_count": 252,
   "id": "4e163dbd",
   "metadata": {},
   "outputs": [],
   "source": [
    "link = 'https://mos-gorsud.ru/search?formType=fullForm&courtAlias=&uid=&instance=1&processType=&letterNumber=&caseNumber=&participant=&codex=&judge=&publishingState=&documentType=&documentText=НИУ+ВШЭ&year=2023&caseDateFrom=&caseDateTo=&caseFinalDateFrom=&caseFinalDateTo=&caseLegalForceDateFrom=&caseLegalForceDateTo=&docsDateFrom=&docsDateTo=&documentStatus='\n",
    "wb.get(link) # открываем ссылку с поиском дел"
   ]
  },
  {
   "cell_type": "code",
   "execution_count": 253,
   "id": "a4c2b7bb",
   "metadata": {},
   "outputs": [],
   "source": [
    "html = wb.page_source # сохраним html страницы с помощью .page_source\n",
    "soup = BeautifulSoup(html) # сварим суп"
   ]
  },
  {
   "cell_type": "code",
   "execution_count": null,
   "id": "adf76ac0",
   "metadata": {},
   "outputs": [],
   "source": [
    "soup"
   ]
  },
  {
   "cell_type": "code",
   "execution_count": 113,
   "id": "a3d3d215",
   "metadata": {},
   "outputs": [],
   "source": [
    "#soup # посмотрим на него"
   ]
  },
  {
   "cell_type": "markdown",
   "id": "14473ede",
   "metadata": {},
   "source": [
    "Давайте создадим список, в который соберем все ссылки на дела со страницы поиска. Как выглядит элемент с ссылкой на дело?\n",
    "\n",
    "```<a target=\"_blank\" class=\"detailsLink\" href=\"/rs/basmannyj/services/cases/civil/details/7da80261-cd6f-11ed-91bc-678868b51ab8?year=2023&amp;formType=fullForm\">02-3282/2023</a>```\n",
    "\n",
    "Давайте воспользуемся атрибутом `class` и его значением - `detailsLink`. Далее мы обращаемся к нашему объекту `soup` и пользуемся старым добрым методом `.find_all()`, чтобы найти все элементы, удовлетворяющие деталям поиска:\n",
    "\n",
    "*Если вы забыли как пользоваться методами BeautifulSoup, посмотрите материалы семинаров 3-6 или обратитесь к [документации BeautifulSoup](https://www.crummy.com/software/BeautifulSoup/bs4/doc.ru/bs4ru.html)*."
   ]
  },
  {
   "cell_type": "code",
   "execution_count": 258,
   "id": "6457e039",
   "metadata": {},
   "outputs": [
    {
     "data": {
      "text/plain": [
       "'https://mos-gorsud.ru/search?formType=fullForm&courtAlias=&uid=&instance=1&processType=&letterNumber=&caseNumber=&participant=&codex=&judge=&publishingState=&documentType=&documentText=%D0%9D%D0%98%D0%A3+%D0%92%D0%A8%D0%AD&year=2023&caseDateFrom=&caseDateTo=&caseFinalDateFrom=&caseFinalDateTo=&caseLegalForceDateFrom=&caseLegalForceDateTo=&docsDateFrom=&docsDateTo=&documentStatus='"
      ]
     },
     "execution_count": 258,
     "metadata": {},
     "output_type": "execute_result"
    }
   ],
   "source": [
    "wb.current_url"
   ]
  },
  {
   "cell_type": "code",
   "execution_count": 261,
   "id": "013c4bef",
   "metadata": {},
   "outputs": [
    {
     "data": {
      "text/plain": [
       "'/rs/nikulinskij/services/cases/civil/details/16cd8a51-cf91-11ed-901b-a51792e7d9cf?year=2023&formType=fullForm'"
      ]
     },
     "execution_count": 261,
     "metadata": {},
     "output_type": "execute_result"
    }
   ],
   "source": [
    "# как получить ссылку? Запросить атрибут href\n",
    "soup.find('a', {'class':'detailsLink'})['href']"
   ]
  },
  {
   "cell_type": "code",
   "execution_count": 262,
   "id": "8664b4ca",
   "metadata": {},
   "outputs": [
    {
     "data": {
      "text/plain": [
       "'/rs/nikulinskij/services/cases/civil/details/16cd8a51-cf91-11ed-901b-a51792e7d9cf?year=2023&formType=fullForm'"
      ]
     },
     "execution_count": 262,
     "metadata": {},
     "output_type": "execute_result"
    }
   ],
   "source": [
    "# альтернативный способ\n",
    "soup.find('a', {'class':'detailsLink'}).get('href')"
   ]
  },
  {
   "cell_type": "code",
   "execution_count": 264,
   "id": "e11b3bfc",
   "metadata": {},
   "outputs": [
    {
     "data": {
      "text/plain": [
       "'_blank'"
      ]
     },
     "execution_count": 264,
     "metadata": {},
     "output_type": "execute_result"
    }
   ],
   "source": [
    "# чтобы получить значение атрибута, используем .get(атрибут)\n",
    "soup.find('a', {'class':'detailsLink'}).get('target')"
   ]
  },
  {
   "cell_type": "code",
   "execution_count": 268,
   "id": "aa731bb7",
   "metadata": {
    "scrolled": true
   },
   "outputs": [
    {
     "data": {
      "text/plain": [
       "['https://mos-gorsud.ru/rs/nikulinskij/services/cases/civil/details/16cd8a51-cf91-11ed-901b-a51792e7d9cf?year=2023&formType=fullForm',\n",
       " 'https://mos-gorsud.ru/rs/horoshevskij/services/cases/civil/details/63577af0-c944-11ed-ab7e-afa5fd1f1a80?year=2023&formType=fullForm',\n",
       " 'https://mos-gorsud.ru/rs/basmannyj/services/cases/civil/details/7da80261-cd6f-11ed-91bc-678868b51ab8?year=2023&formType=fullForm',\n",
       " 'https://mos-gorsud.ru/rs/tushinskij/services/cases/civil/details/48b8d670-be69-11ed-bcc6-6dacb38b2616?year=2023&formType=fullForm',\n",
       " 'https://mos-gorsud.ru/rs/chertanovskij/services/cases/civil/details/90d28981-c281-11ed-b232-6fb0d5e1e88d?year=2023&formType=fullForm',\n",
       " 'https://mos-gorsud.ru/rs/basmannyj/services/cases/civil/details/6afd9811-934e-11ed-aa38-dd42c3d462a2?year=2023&formType=fullForm',\n",
       " 'https://mos-gorsud.ru/rs/tverskoj/services/cases/kas/details/9d1647c1-890c-11ee-bde3-e15247667f25?year=2023&formType=fullForm',\n",
       " 'https://mos-gorsud.ru/rs/basmannyj/services/cases/civil/details/5b6e1581-4017-11ed-a880-fd90264a79ff?year=2023&formType=fullForm',\n",
       " 'https://mos-gorsud.ru/rs/basmannyj/services/cases/civil/details/6d333e60-3d7b-11ed-9016-67ae9e523f4f?year=2023&formType=fullForm',\n",
       " 'https://mos-gorsud.ru/rs/dorogomilovskij/services/cases/civil/details/9456a0d0-3750-11ed-864d-2fc2ddf82d94?year=2023&formType=fullForm',\n",
       " 'https://mos-gorsud.ru/rs/gagarinskij/services/cases/kas/details/04cf8881-e062-11ed-8599-75e501d02ab0?year=2023&formType=fullForm',\n",
       " 'https://mos-gorsud.ru/rs/lyublinskij/services/cases/kas/details/10e27880-0628-11ee-a80b-5135c3097443?year=2023&formType=fullForm',\n",
       " 'https://mos-gorsud.ru/rs/basmannyj/services/cases/kas/details/9f661f60-ab8a-11ed-9aa9-4bcb8991dd45?year=2023&formType=fullForm',\n",
       " 'https://mos-gorsud.ru/rs/tushinskij/services/cases/criminal/details/928b9240-cf05-11ed-ae9b-fdb62f39c802?year=2023&formType=fullForm',\n",
       " 'https://mos-gorsud.ru/rs/zamoskvoreckij/services/cases/criminal/details/267633c0-45b2-11ee-95af-8bf81380d527?year=2023&formType=fullForm',\n",
       " 'https://mos-gorsud.ru/rs/nikulinskij/services/cases/civil/details/16cd8a51-cf91-11ed-901b-a51792e7d9cf?year=2023&formType=fullForm',\n",
       " 'https://mos-gorsud.ru/rs/horoshevskij/services/cases/civil/details/63577af0-c944-11ed-ab7e-afa5fd1f1a80?year=2023&formType=fullForm',\n",
       " 'https://mos-gorsud.ru/rs/basmannyj/services/cases/civil/details/7da80261-cd6f-11ed-91bc-678868b51ab8?year=2023&formType=fullForm',\n",
       " 'https://mos-gorsud.ru/rs/tushinskij/services/cases/civil/details/48b8d670-be69-11ed-bcc6-6dacb38b2616?year=2023&formType=fullForm',\n",
       " 'https://mos-gorsud.ru/rs/chertanovskij/services/cases/civil/details/90d28981-c281-11ed-b232-6fb0d5e1e88d?year=2023&formType=fullForm',\n",
       " 'https://mos-gorsud.ru/rs/basmannyj/services/cases/civil/details/6afd9811-934e-11ed-aa38-dd42c3d462a2?year=2023&formType=fullForm',\n",
       " 'https://mos-gorsud.ru/rs/tverskoj/services/cases/kas/details/9d1647c1-890c-11ee-bde3-e15247667f25?year=2023&formType=fullForm',\n",
       " 'https://mos-gorsud.ru/rs/basmannyj/services/cases/civil/details/5b6e1581-4017-11ed-a880-fd90264a79ff?year=2023&formType=fullForm',\n",
       " 'https://mos-gorsud.ru/rs/basmannyj/services/cases/civil/details/6d333e60-3d7b-11ed-9016-67ae9e523f4f?year=2023&formType=fullForm',\n",
       " 'https://mos-gorsud.ru/rs/dorogomilovskij/services/cases/civil/details/9456a0d0-3750-11ed-864d-2fc2ddf82d94?year=2023&formType=fullForm',\n",
       " 'https://mos-gorsud.ru/rs/gagarinskij/services/cases/kas/details/04cf8881-e062-11ed-8599-75e501d02ab0?year=2023&formType=fullForm',\n",
       " 'https://mos-gorsud.ru/rs/lyublinskij/services/cases/kas/details/10e27880-0628-11ee-a80b-5135c3097443?year=2023&formType=fullForm',\n",
       " 'https://mos-gorsud.ru/rs/basmannyj/services/cases/kas/details/9f661f60-ab8a-11ed-9aa9-4bcb8991dd45?year=2023&formType=fullForm',\n",
       " 'https://mos-gorsud.ru/rs/tushinskij/services/cases/criminal/details/928b9240-cf05-11ed-ae9b-fdb62f39c802?year=2023&formType=fullForm',\n",
       " 'https://mos-gorsud.ru/rs/zamoskvoreckij/services/cases/criminal/details/267633c0-45b2-11ee-95af-8bf81380d527?year=2023&formType=fullForm']"
      ]
     },
     "execution_count": 268,
     "metadata": {},
     "output_type": "execute_result"
    }
   ],
   "source": [
    "my_links = [f'https://mos-gorsud.ru{i.get(\"href\")}' for i in soup.find_all('a', {'class':'detailsLink'})]\n",
    "my_links = [i for i in my_links if i.find('details') != -1]\n",
    "my_links # получили корректные ссылки"
   ]
  },
  {
   "cell_type": "markdown",
   "id": "7de94c8f",
   "metadata": {},
   "source": [
    "Откроем первую ссылку"
   ]
  },
  {
   "cell_type": "code",
   "execution_count": 168,
   "id": "8756c977",
   "metadata": {},
   "outputs": [],
   "source": [
    "wb.get(links[0]) # все работает!"
   ]
  },
  {
   "cell_type": "markdown",
   "id": "7b500b43",
   "metadata": {},
   "source": [
    "<p></p>\n",
    "<center><b><font size=4>Задача №2. Сбор данных со страницы</font></b></center>\n",
    "\n",
    "**Шаг 1. Вспомните работу с `BeautifulSoup` и напишите функцию `get_info_about_case(link)`, которая принимает на вход ссылку на страницу дела, и возвращает словарь (`dict`) с информацией из таблички в начале страницы и ссылки:**\n",
    "\n",
    "Например, для первого дела вы получите следующий результат:\n",
    "```\n",
    "{'Уникальный идентификатор дела': '77RS0018-02-2023-004059-43',\n",
    " 'Номер дела ~ материала': '02-4668/2023                                        ∼                                     М-2315/2023',\n",
    " 'Стороны': 'Истец: Борсов А.И.Ответчик: ФГАОУ ВО \"Национальный исследовательский университет \"Высшая школа экономики\"',\n",
    " 'Дата поступления': '24.03.2023',\n",
    " 'Дата рассмотрения дела в первой инстанции': '20.06.2023',\n",
    " 'Дата вступления решения в силу': '14.12.2023',\n",
    " 'Cудья': 'Юдина И.В.',\n",
    " 'Категория дела': '179 - О защите прав потребителей - из договоров в сфере торговли, услуг, выполнения работ',\n",
    " 'Номер дела в суде вышестоящей инстанции': '33-48031/2023',\n",
    " 'Текущее состояние': 'Удовлетворено, 20.06.2023',\n",
    " 'Решение апелляции': 'Отменено, 14.12.2023',\n",
    " 'link': 'https://mos-gorsud.ru/rs/nikulinskij/services/cases/civil/details/16cd8a51-cf91-11ed-901b-a51792e7d9cf?year=2023&formType=fullForm'}\n",
    "```"
   ]
  },
  {
   "cell_type": "code",
   "execution_count": 336,
   "id": "5b3c97e9",
   "metadata": {},
   "outputs": [],
   "source": [
    "# YOUR CODE HERE\n",
    "link = 'https://mos-gorsud.ru/rs/nikulinskij/services/cases/civil/details/16cd8a51-cf91-11ed-901b-a51792e7d9cf?year=2023&formType=fullForm'\n",
    "wb.get(link) # открываем ссылку\n",
    "html = wb.page_source # получаем html\n",
    "soup = BeautifulSoup(html) # обрабатываем html в суп"
   ]
  },
  {
   "cell_type": "markdown",
   "id": "d75569f7",
   "metadata": {},
   "source": [
    "Как найти элементы слева? Смотрим на примеры – их объединяет тег `div` и класс `left`:\n",
    "\n",
    "```<div class=\"left\">                        Уникальный идентификатор дела\n",
    "        </div>```\n",
    "        \n",
    "```<div class=\"left\">                Номер дела ~ материала\n",
    "    </div>```"
   ]
  },
  {
   "cell_type": "code",
   "execution_count": 337,
   "id": "60e5e002",
   "metadata": {},
   "outputs": [
    {
     "data": {
      "text/plain": [
       "['Уникальный идентификатор дела',\n",
       " 'Номер дела ~ материала',\n",
       " 'Стороны',\n",
       " 'Дата поступления',\n",
       " 'Дата рассмотрения дела в первой инстанции',\n",
       " 'Дата вступления решения в силу',\n",
       " 'Cудья',\n",
       " 'Категория дела',\n",
       " 'Номер дела в суде вышестоящей инстанции',\n",
       " 'Текущее состояние',\n",
       " 'Решение апелляции']"
      ]
     },
     "execution_count": 337,
     "metadata": {},
     "output_type": "execute_result"
    }
   ],
   "source": [
    "# значения из таблицы с левой стороны\n",
    "columns = [i.text.strip() for i in soup.find_all('div', {'class':'left'})]\n",
    "columns"
   ]
  },
  {
   "cell_type": "markdown",
   "id": "491f653f",
   "metadata": {},
   "source": [
    "Как найти элементы справа? Смотрим на примеры – их объединяет тег `div` и класс `right`:\n",
    "\n",
    "```\n",
    "<div class=\"right\">            77RS0018-02-2023-004059-43\n",
    "        </div>\n",
    "```\n",
    "        \n",
    "```\n",
    "<div class=\"right\">\n",
    "                    02-4668/2023\n",
    "\n",
    "            \n",
    "                            ∼                                     М-2315/2023                                    \n",
    "    </div>\n",
    "```"
   ]
  },
  {
   "cell_type": "code",
   "execution_count": 338,
   "id": "b4c224b6",
   "metadata": {},
   "outputs": [
    {
     "data": {
      "text/plain": [
       "['77RS0018-02-2023-004059-43',\n",
       " '02-4668/2023 ∼ М-2315/2023',\n",
       " 'Истец: Борсов А.И.Ответчик: ФГАОУ ВО \"Национальный исследовательский университет \"Высшая школа экономики\"',\n",
       " '24.03.2023',\n",
       " '20.06.2023',\n",
       " '14.12.2023',\n",
       " 'Юдина И.В.',\n",
       " '179 - О защите прав потребителей - из договоров в сфере торговли, услуг, выполнения работ',\n",
       " '33-48031/2023',\n",
       " 'Удовлетворено, 20.06.2023',\n",
       " 'Отменено, 14.12.2023']"
      ]
     },
     "execution_count": 338,
     "metadata": {},
     "output_type": "execute_result"
    }
   ],
   "source": [
    "# значения из таблицы с правой стороны\n",
    "rows = [\" \".join(i.text.strip().replace('\\n', ' ').split()) for i in soup.find_all('div', {'class':'right'})]\n",
    "rows"
   ]
  },
  {
   "cell_type": "code",
   "execution_count": 340,
   "id": "9492b06f",
   "metadata": {},
   "outputs": [
    {
     "data": {
      "text/plain": [
       "{'Уникальный идентификатор дела': '77RS0018-02-2023-004059-43',\n",
       " 'Номер дела ~ материала': '02-4668/2023 ∼ М-2315/2023',\n",
       " 'Стороны': 'Истец: Борсов А.И.Ответчик: ФГАОУ ВО \"Национальный исследовательский университет \"Высшая школа экономики\"',\n",
       " 'Дата поступления': '24.03.2023',\n",
       " 'Дата рассмотрения дела в первой инстанции': '20.06.2023',\n",
       " 'Дата вступления решения в силу': '14.12.2023',\n",
       " 'Cудья': 'Юдина И.В.',\n",
       " 'Категория дела': '179 - О защите прав потребителей - из договоров в сфере торговли, услуг, выполнения работ',\n",
       " 'Номер дела в суде вышестоящей инстанции': '33-48031/2023',\n",
       " 'Текущее состояние': 'Удовлетворено, 20.06.2023',\n",
       " 'Решение апелляции': 'Отменено, 14.12.2023'}"
      ]
     },
     "execution_count": 340,
     "metadata": {},
     "output_type": "execute_result"
    }
   ],
   "source": [
    "# генерируем пары ключ-значение\n",
    "my_dict = {columns[i]:rows[i] for i in range(len(columns))} # генератор словарей\n",
    "my_dict"
   ]
  },
  {
   "cell_type": "code",
   "execution_count": null,
   "id": "91f5c1e9",
   "metadata": {},
   "outputs": [],
   "source": [
    "def get_info_about_case(link):\n",
    "    wb.get(link) # открыли ссылку\n",
    "    \n",
    "    # обработали html-разметку\n",
    "    html = wb.page_source\n",
    "    soup = BeautifulSoup(html)\n",
    "    columns = [i.text.strip() for i in soup.find_all('div', {'class':'left'})]\n",
    "    rows = [\" \".join(i.text.strip().replace('\\n', ' ').split()) for i in soup.find_all('div', {'class':'right'})]\n",
    "    # получаем словарь\n",
    "    my_dict = {columns[i]:rows[i] for i in range(len(columns))}\n",
    "    return my_dict"
   ]
  },
  {
   "cell_type": "markdown",
   "id": "31a6588d",
   "metadata": {},
   "source": [
    "Как можно создать `pandas.DataFrame` из полученного словаря? С помощью функции `pd.json_normalize()`:"
   ]
  },
  {
   "cell_type": "code",
   "execution_count": 309,
   "id": "daa4663f",
   "metadata": {},
   "outputs": [
    {
     "data": {
      "text/html": [
       "<div>\n",
       "<style scoped>\n",
       "    .dataframe tbody tr th:only-of-type {\n",
       "        vertical-align: middle;\n",
       "    }\n",
       "\n",
       "    .dataframe tbody tr th {\n",
       "        vertical-align: top;\n",
       "    }\n",
       "\n",
       "    .dataframe thead th {\n",
       "        text-align: right;\n",
       "    }\n",
       "</style>\n",
       "<table border=\"1\" class=\"dataframe\">\n",
       "  <thead>\n",
       "    <tr style=\"text-align: right;\">\n",
       "      <th></th>\n",
       "      <th>Уникальный идентификатор дела</th>\n",
       "      <th>Номер дела ~ материала</th>\n",
       "      <th>Стороны</th>\n",
       "      <th>Дата поступления</th>\n",
       "      <th>Дата рассмотрения дела в первой инстанции</th>\n",
       "      <th>Дата вступления решения в силу</th>\n",
       "      <th>Cудья</th>\n",
       "      <th>Категория дела</th>\n",
       "      <th>Номер дела в суде вышестоящей инстанции</th>\n",
       "      <th>Текущее состояние</th>\n",
       "      <th>Решение апелляции</th>\n",
       "    </tr>\n",
       "  </thead>\n",
       "  <tbody>\n",
       "    <tr>\n",
       "      <th>0</th>\n",
       "      <td>77RS0018-02-2023-004059-43</td>\n",
       "      <td>02-4668/2023 ∼ М-2315/2023</td>\n",
       "      <td>Истец: Борсов А.И.Ответчик: ФГАОУ ВО \"Национал...</td>\n",
       "      <td>24.03.2023</td>\n",
       "      <td>20.06.2023</td>\n",
       "      <td>14.12.2023</td>\n",
       "      <td>Юдина И.В.</td>\n",
       "      <td>179 - О защите прав потребителей - из договоро...</td>\n",
       "      <td>33-48031/2023</td>\n",
       "      <td>Удовлетворено, 20.06.2023</td>\n",
       "      <td>Отменено, 14.12.2023</td>\n",
       "    </tr>\n",
       "  </tbody>\n",
       "</table>\n",
       "</div>"
      ],
      "text/plain": [
       "  Уникальный идентификатор дела      Номер дела ~ материала   \n",
       "0    77RS0018-02-2023-004059-43  02-4668/2023 ∼ М-2315/2023  \\\n",
       "\n",
       "                                             Стороны Дата поступления   \n",
       "0  Истец: Борсов А.И.Ответчик: ФГАОУ ВО \"Национал...       24.03.2023  \\\n",
       "\n",
       "  Дата рассмотрения дела в первой инстанции Дата вступления решения в силу   \n",
       "0                                20.06.2023                     14.12.2023  \\\n",
       "\n",
       "        Cудья                                     Категория дела   \n",
       "0  Юдина И.В.  179 - О защите прав потребителей - из договоро...  \\\n",
       "\n",
       "  Номер дела в суде вышестоящей инстанции          Текущее состояние   \n",
       "0                           33-48031/2023  Удовлетворено, 20.06.2023  \\\n",
       "\n",
       "      Решение апелляции  \n",
       "0  Отменено, 14.12.2023  "
      ]
     },
     "execution_count": 309,
     "metadata": {},
     "output_type": "execute_result"
    }
   ],
   "source": [
    "# ключи становятся названиями колонок,\n",
    "# значения - значениями в соответствующих колонках\n",
    "pd.json_normalize(my_dict)"
   ]
  },
  {
   "cell_type": "markdown",
   "id": "c456bcce",
   "metadata": {},
   "source": [
    "**Шаг 2. Напишите функцию `get_cases_data(links)`, которая принимает на вход список с ссылками `links`, проходится по нему, собирает список из словарей с помощью функции `get_info_about_case()`, и возвращает `pandas.DataFrane` с информацией о судебных делах**.\n",
    "\n",
    "*Подсказка:*\n",
    "\n",
    "![Мем](https://pbs.twimg.com/media/E4P9gAtXwAMjiHu.jpg)"
   ]
  },
  {
   "cell_type": "code",
   "execution_count": null,
   "id": "00cb4ed3",
   "metadata": {},
   "outputs": [],
   "source": [
    "links = ['https://mos-gorsud.ru/rs/nikulinskij/services/cases/civil/details/16cd8a51-cf91-11ed-901b-a51792e7d9cf?year=2023&formType=fullForm',\n",
    " 'https://mos-gorsud.ru/rs/horoshevskij/services/cases/civil/details/63577af0-c944-11ed-ab7e-afa5fd1f1a80?year=2023&formType=fullForm',\n",
    " 'https://mos-gorsud.ru/rs/basmannyj/services/cases/civil/details/7da80261-cd6f-11ed-91bc-678868b51ab8?year=2023&formType=fullForm',\n",
    " 'https://mos-gorsud.ru/rs/tushinskij/services/cases/civil/details/48b8d670-be69-11ed-bcc6-6dacb38b2616?year=2023&formType=fullForm',\n",
    " 'https://mos-gorsud.ru/rs/chertanovskij/services/cases/civil/details/90d28981-c281-11ed-b232-6fb0d5e1e88d?year=2023&formType=fullForm',\n",
    " 'https://mos-gorsud.ru/rs/basmannyj/services/cases/civil/details/6afd9811-934e-11ed-aa38-dd42c3d462a2?year=2023&formType=fullForm',\n",
    " 'https://mos-gorsud.ru/rs/tverskoj/services/cases/kas/details/9d1647c1-890c-11ee-bde3-e15247667f25?year=2023&formType=fullForm',\n",
    " 'https://mos-gorsud.ru/rs/basmannyj/services/cases/civil/details/5b6e1581-4017-11ed-a880-fd90264a79ff?year=2023&formType=fullForm',\n",
    " 'https://mos-gorsud.ru/rs/basmannyj/services/cases/civil/details/6d333e60-3d7b-11ed-9016-67ae9e523f4f?year=2023&formType=fullForm',\n",
    " 'https://mos-gorsud.ru/rs/dorogomilovskij/services/cases/civil/details/9456a0d0-3750-11ed-864d-2fc2ddf82d94?year=2023&formType=fullForm',\n",
    " 'https://mos-gorsud.ru/rs/gagarinskij/services/cases/kas/details/04cf8881-e062-11ed-8599-75e501d02ab0?year=2023&formType=fullForm',\n",
    " 'https://mos-gorsud.ru/rs/lyublinskij/services/cases/kas/details/10e27880-0628-11ee-a80b-5135c3097443?year=2023&formType=fullForm',\n",
    " 'https://mos-gorsud.ru/rs/basmannyj/services/cases/kas/details/9f661f60-ab8a-11ed-9aa9-4bcb8991dd45?year=2023&formType=fullForm',\n",
    " 'https://mos-gorsud.ru/rs/tushinskij/services/cases/criminal/details/928b9240-cf05-11ed-ae9b-fdb62f39c802?year=2023&formType=fullForm',\n",
    " 'https://mos-gorsud.ru/rs/zamoskvoreckij/services/cases/criminal/details/267633c0-45b2-11ee-95af-8bf81380d527?year=2023&formType=fullForm']"
   ]
  },
  {
   "cell_type": "code",
   "execution_count": null,
   "id": "30a7e230",
   "metadata": {},
   "outputs": [],
   "source": [
    "def get_cases_data(links):\n",
    "    cases = [] # создаем пустой список\n",
    "    # проходимся по всем ссылкам\n",
    "    for link in tqdm.tqdm(links): \n",
    "        one_case_dict = get_info_about_case(link) # получаем информацию об одном деле в виде словаря\n",
    "        cases.append(one_case_dict) # добавляем словарь в список cases\n",
    "        \n",
    "    # теперь используем метод .json_normalize() и получаем pandas.DataFrame\n",
    "    data = pd.json_normalize([one_case for one_case in cases])\n",
    "    return data"
   ]
  },
  {
   "cell_type": "code",
   "execution_count": 170,
   "id": "6ece12e4",
   "metadata": {},
   "outputs": [
    {
     "data": {
      "text/html": [
       "<div>\n",
       "<style scoped>\n",
       "    .dataframe tbody tr th:only-of-type {\n",
       "        vertical-align: middle;\n",
       "    }\n",
       "\n",
       "    .dataframe tbody tr th {\n",
       "        vertical-align: top;\n",
       "    }\n",
       "\n",
       "    .dataframe thead th {\n",
       "        text-align: right;\n",
       "    }\n",
       "</style>\n",
       "<table border=\"1\" class=\"dataframe\">\n",
       "  <thead>\n",
       "    <tr style=\"text-align: right;\">\n",
       "      <th></th>\n",
       "      <th>Уникальный идентификатор дела</th>\n",
       "      <th>Номер дела ~ материала</th>\n",
       "      <th>Стороны</th>\n",
       "      <th>Дата поступления</th>\n",
       "      <th>Дата рассмотрения дела в первой инстанции</th>\n",
       "      <th>Дата вступления решения в силу</th>\n",
       "      <th>Cудья</th>\n",
       "      <th>Категория дела</th>\n",
       "      <th>Номер дела в суде вышестоящей инстанции</th>\n",
       "      <th>Текущее состояние</th>\n",
       "      <th>Решение апелляции</th>\n",
       "      <th>link</th>\n",
       "      <th>Подсудимый</th>\n",
       "    </tr>\n",
       "  </thead>\n",
       "  <tbody>\n",
       "    <tr>\n",
       "      <th>0</th>\n",
       "      <td>77RS0018-02-2023-004059-43</td>\n",
       "      <td>02-4668/2023                                  ...</td>\n",
       "      <td>Истец: Борсов А.И.Ответчик: ФГАОУ ВО \"Национал...</td>\n",
       "      <td>24.03.2023</td>\n",
       "      <td>20.06.2023</td>\n",
       "      <td>14.12.2023</td>\n",
       "      <td>Юдина И.В.</td>\n",
       "      <td>179 - О защите прав потребителей - из договоро...</td>\n",
       "      <td>33-48031/2023</td>\n",
       "      <td>Удовлетворено, 20.06.2023</td>\n",
       "      <td>Отменено, 14.12.2023</td>\n",
       "      <td>https://mos-gorsud.ru/rs/nikulinskij/services/...</td>\n",
       "      <td>NaN</td>\n",
       "    </tr>\n",
       "    <tr>\n",
       "      <th>1</th>\n",
       "      <td>77RS0031-02-2023-003539-41</td>\n",
       "      <td>02-4564/2023                                  ...</td>\n",
       "      <td>Истец: Дружинин А.А.Ответчик: ФГАОУ высшего об...</td>\n",
       "      <td>03.03.2023</td>\n",
       "      <td>11.05.2023</td>\n",
       "      <td>NaN</td>\n",
       "      <td>Наделяева Е.И.</td>\n",
       "      <td>44 - О восстановлении на государственной (муни...</td>\n",
       "      <td>33-4121/2024</td>\n",
       "      <td>Удовлетворено, 11.05.2023</td>\n",
       "      <td>NaN</td>\n",
       "      <td>https://mos-gorsud.ru/rs/horoshevskij/services...</td>\n",
       "      <td>NaN</td>\n",
       "    </tr>\n",
       "    <tr>\n",
       "      <th>2</th>\n",
       "      <td>77RS0002-02-2022-020618-86</td>\n",
       "      <td>02-3282/2023                                  ...</td>\n",
       "      <td>Истец: Черничкин А.С.Ответчик: ПАО \"Сбербанк Р...</td>\n",
       "      <td>12.10.2022</td>\n",
       "      <td>26.07.2023</td>\n",
       "      <td>NaN</td>\n",
       "      <td>Курносова О.А.</td>\n",
       "      <td>178 - О защите прав потребителей - из договоро...</td>\n",
       "      <td>NaN</td>\n",
       "      <td>Назначено судебное заседание на 14.03.2024 09:50</td>\n",
       "      <td>NaN</td>\n",
       "      <td>https://mos-gorsud.ru/rs/basmannyj/services/ca...</td>\n",
       "      <td>NaN</td>\n",
       "    </tr>\n",
       "    <tr>\n",
       "      <th>3</th>\n",
       "      <td>77RS0033-02-2023-003981-64</td>\n",
       "      <td>02-2500/2023                                  ...</td>\n",
       "      <td>Истец: Солдатенко В.А.Ответчик: Федеральное Го...</td>\n",
       "      <td>03.03.2023</td>\n",
       "      <td>15.08.2023</td>\n",
       "      <td>NaN</td>\n",
       "      <td>Молодцова Е.В.</td>\n",
       "      <td>211- Прочие исковые дела</td>\n",
       "      <td>33-40411/2023                ,                ...</td>\n",
       "      <td>Удовлетворено частично, 15.08.2023</td>\n",
       "      <td>NaN</td>\n",
       "      <td>https://mos-gorsud.ru/rs/chertanovskij/service...</td>\n",
       "      <td>NaN</td>\n",
       "    </tr>\n",
       "    <tr>\n",
       "      <th>4</th>\n",
       "      <td>77RS0002-02-2022-023218-46</td>\n",
       "      <td>02-1845/2023                                  ...</td>\n",
       "      <td>Истец: Андриянова Д.А.Ответчик: Федеральное го...</td>\n",
       "      <td>25.11.2022</td>\n",
       "      <td>10.04.2023</td>\n",
       "      <td>18.05.2023</td>\n",
       "      <td>Старовойтова К.Ю.</td>\n",
       "      <td>54 - Трудовые споры о взыскании невыплаченной ...</td>\n",
       "      <td>NaN</td>\n",
       "      <td>Удовлетворено частично, 10.04.2023</td>\n",
       "      <td>NaN</td>\n",
       "      <td>https://mos-gorsud.ru/rs/basmannyj/services/ca...</td>\n",
       "      <td>NaN</td>\n",
       "    </tr>\n",
       "    <tr>\n",
       "      <th>5</th>\n",
       "      <td>77RS0002-02-2022-016892-12</td>\n",
       "      <td>02-1124/2023                            (02-55...</td>\n",
       "      <td>Истец: Барабанщиков К.Ю.Ответчик: ФГАОУВО \"НИУ...</td>\n",
       "      <td>17.08.2022</td>\n",
       "      <td>07.02.2023</td>\n",
       "      <td>06.09.2023</td>\n",
       "      <td>Курносова О.А.</td>\n",
       "      <td>211- Прочие исковые дела</td>\n",
       "      <td>33-38950/2023</td>\n",
       "      <td>Отказано в удовлетворении, 07.02.2023</td>\n",
       "      <td>Отменено частично, 06.09.2023</td>\n",
       "      <td>https://mos-gorsud.ru/rs/basmannyj/services/ca...</td>\n",
       "      <td>NaN</td>\n",
       "    </tr>\n",
       "    <tr>\n",
       "      <th>6</th>\n",
       "      <td>77RS0002-02-2022-018700-20</td>\n",
       "      <td>02-0986/2023                            (02-54...</td>\n",
       "      <td>Истец: Никонова Ю.А.Ответчик: ФГАОУ ВО \"НИУ \"В...</td>\n",
       "      <td>14.09.2022</td>\n",
       "      <td>14.02.2023</td>\n",
       "      <td>28.04.2023</td>\n",
       "      <td>Курносова О.А.</td>\n",
       "      <td>74 - Иные, возникающие из трудовых правоотношений</td>\n",
       "      <td>NaN</td>\n",
       "      <td>Отказано в удовлетворении, 14.02.2023</td>\n",
       "      <td>NaN</td>\n",
       "      <td>https://mos-gorsud.ru/rs/basmannyj/services/ca...</td>\n",
       "      <td>NaN</td>\n",
       "    </tr>\n",
       "    <tr>\n",
       "      <th>7</th>\n",
       "      <td>77RS0006-02-2022-010324-07</td>\n",
       "      <td>02-0681/2023                            (02-44...</td>\n",
       "      <td>Истец: Жарова А.К.Ответчик: НИУ ВШЭ</td>\n",
       "      <td>11.08.2022</td>\n",
       "      <td>15.03.2023</td>\n",
       "      <td>16.05.2023</td>\n",
       "      <td>Александренко И.М.</td>\n",
       "      <td>54 - Трудовые споры о взыскании невыплаченной ...</td>\n",
       "      <td>NaN</td>\n",
       "      <td>Отказано в удовлетворении, 15.03.2023</td>\n",
       "      <td>NaN</td>\n",
       "      <td>https://mos-gorsud.ru/rs/dorogomilovskij/servi...</td>\n",
       "      <td>NaN</td>\n",
       "    </tr>\n",
       "    <tr>\n",
       "      <th>8</th>\n",
       "      <td>77RS0004-02-2023-005000-96</td>\n",
       "      <td>02а-0622/2023                                 ...</td>\n",
       "      <td>Административный истец: АО \"Московский областн...</td>\n",
       "      <td>18.04.2023</td>\n",
       "      <td>21.06.2023</td>\n",
       "      <td>NaN</td>\n",
       "      <td>Кочнева А.Н.</td>\n",
       "      <td>27 - Прочие об оспаривании решений, действий (...</td>\n",
       "      <td>NaN</td>\n",
       "      <td>Отказано в удовлетворении, 21.06.2023</td>\n",
       "      <td>NaN</td>\n",
       "      <td>https://mos-gorsud.ru/rs/gagarinskij/services/...</td>\n",
       "      <td>NaN</td>\n",
       "    </tr>\n",
       "    <tr>\n",
       "      <th>9</th>\n",
       "      <td>77RS0015-02-2023-009457-13</td>\n",
       "      <td>02а-0621/2023                                 ...</td>\n",
       "      <td>Административный истец: Журкин М.Д.Администрат...</td>\n",
       "      <td>06.06.2023</td>\n",
       "      <td>22.06.2023</td>\n",
       "      <td>NaN</td>\n",
       "      <td>Кац Ю.А.</td>\n",
       "      <td>26 - Об оспаривании решений, действий (бездейс...</td>\n",
       "      <td>33а-2648/2024</td>\n",
       "      <td>Удовлетворено, 22.06.2023</td>\n",
       "      <td>NaN</td>\n",
       "      <td>https://mos-gorsud.ru/rs/lyublinskij/services/...</td>\n",
       "      <td>NaN</td>\n",
       "    </tr>\n",
       "    <tr>\n",
       "      <th>10</th>\n",
       "      <td>77RS0002-02-2021-021399-55</td>\n",
       "      <td>02а-0484/2023</td>\n",
       "      <td>Административный истец: Акмалов А.А.Администра...</td>\n",
       "      <td>13.02.2023</td>\n",
       "      <td>11.05.2023</td>\n",
       "      <td>27.06.2023</td>\n",
       "      <td>Липкина О.А.</td>\n",
       "      <td>66 - Об оспаривании решения в отношении иностр...</td>\n",
       "      <td>NaN</td>\n",
       "      <td>Отказано в удовлетворении, 11.05.2023</td>\n",
       "      <td>NaN</td>\n",
       "      <td>https://mos-gorsud.ru/rs/basmannyj/services/ca...</td>\n",
       "      <td>NaN</td>\n",
       "    </tr>\n",
       "    <tr>\n",
       "      <th>11</th>\n",
       "      <td>77RS0029-02-2023-004608-44</td>\n",
       "      <td>01-0476/2023</td>\n",
       "      <td>NaN</td>\n",
       "      <td>30.03.2023</td>\n",
       "      <td>16.05.2023</td>\n",
       "      <td>01.06.2023</td>\n",
       "      <td>Костырев А.М.</td>\n",
       "      <td>NaN</td>\n",
       "      <td>NaN</td>\n",
       "      <td>Вступило в силу, 01.06.2023</td>\n",
       "      <td>NaN</td>\n",
       "      <td>https://mos-gorsud.ru/rs/tushinskij/services/c...</td>\n",
       "      <td>Геворгян М.С.                            (Ст. ...</td>\n",
       "    </tr>\n",
       "    <tr>\n",
       "      <th>12</th>\n",
       "      <td>77RS0007-02-2023-013355-92</td>\n",
       "      <td>01-0453/2023</td>\n",
       "      <td>NaN</td>\n",
       "      <td>28.08.2023</td>\n",
       "      <td>13.12.2023</td>\n",
       "      <td>29.12.2023</td>\n",
       "      <td>Рахматов Ю.А.</td>\n",
       "      <td>NaN</td>\n",
       "      <td>NaN</td>\n",
       "      <td>Вступило в силу, 29.12.2023</td>\n",
       "      <td>NaN</td>\n",
       "      <td>https://mos-gorsud.ru/rs/zamoskvoreckij/servic...</td>\n",
       "      <td>Бойко Д.В.                            (Ст. 158...</td>\n",
       "    </tr>\n",
       "    <tr>\n",
       "      <th>13</th>\n",
       "      <td>77RS0026-02-2022-014839-49</td>\n",
       "      <td>02-0383/2023                                  ...</td>\n",
       "      <td>Истец: ООО \"Научно-издательский центр ИНФРА-М\"...</td>\n",
       "      <td>05.12.2022</td>\n",
       "      <td>06.10.2023</td>\n",
       "      <td>NaN</td>\n",
       "      <td>Киселёва Н.А.</td>\n",
       "      <td>167 - О защите авторских прав</td>\n",
       "      <td>NaN</td>\n",
       "      <td>Удовлетворено частично, 06.10.2023</td>\n",
       "      <td>NaN</td>\n",
       "      <td>https://mos-gorsud.ru/rs/taganskij/services/ca...</td>\n",
       "      <td>NaN</td>\n",
       "    </tr>\n",
       "    <tr>\n",
       "      <th>14</th>\n",
       "      <td>77RS0002-02-2023-004405-47</td>\n",
       "      <td>01-0275/2023</td>\n",
       "      <td>NaN</td>\n",
       "      <td>10.03.2023</td>\n",
       "      <td>04.07.2023</td>\n",
       "      <td>21.07.2023</td>\n",
       "      <td>Николаева Е.С.</td>\n",
       "      <td>NaN</td>\n",
       "      <td>NaN</td>\n",
       "      <td>Вступило в силу, 21.07.2023</td>\n",
       "      <td>NaN</td>\n",
       "      <td>https://mos-gorsud.ru/rs/basmannyj/services/ca...</td>\n",
       "      <td>Ашурмадов М.Н.                            (Ст....</td>\n",
       "    </tr>\n",
       "    <tr>\n",
       "      <th>15</th>\n",
       "      <td>77RS0018-02-2023-004059-43</td>\n",
       "      <td>02-4668/2023                                  ...</td>\n",
       "      <td>Истец: Борсов А.И.Ответчик: ФГАОУ ВО \"Национал...</td>\n",
       "      <td>24.03.2023</td>\n",
       "      <td>20.06.2023</td>\n",
       "      <td>14.12.2023</td>\n",
       "      <td>Юдина И.В.</td>\n",
       "      <td>179 - О защите прав потребителей - из договоро...</td>\n",
       "      <td>33-48031/2023</td>\n",
       "      <td>Удовлетворено, 20.06.2023</td>\n",
       "      <td>Отменено, 14.12.2023</td>\n",
       "      <td>https://mos-gorsud.ru/rs/nikulinskij/services/...</td>\n",
       "      <td>NaN</td>\n",
       "    </tr>\n",
       "    <tr>\n",
       "      <th>16</th>\n",
       "      <td>77RS0031-02-2023-003539-41</td>\n",
       "      <td>02-4564/2023                                  ...</td>\n",
       "      <td>Истец: Дружинин А.А.Ответчик: ФГАОУ высшего об...</td>\n",
       "      <td>03.03.2023</td>\n",
       "      <td>11.05.2023</td>\n",
       "      <td>NaN</td>\n",
       "      <td>Наделяева Е.И.</td>\n",
       "      <td>44 - О восстановлении на государственной (муни...</td>\n",
       "      <td>33-4121/2024</td>\n",
       "      <td>Удовлетворено, 11.05.2023</td>\n",
       "      <td>NaN</td>\n",
       "      <td>https://mos-gorsud.ru/rs/horoshevskij/services...</td>\n",
       "      <td>NaN</td>\n",
       "    </tr>\n",
       "    <tr>\n",
       "      <th>17</th>\n",
       "      <td>77RS0002-02-2022-020618-86</td>\n",
       "      <td>02-3282/2023                                  ...</td>\n",
       "      <td>Истец: Черничкин А.С.Ответчик: ПАО \"Сбербанк Р...</td>\n",
       "      <td>12.10.2022</td>\n",
       "      <td>26.07.2023</td>\n",
       "      <td>NaN</td>\n",
       "      <td>Курносова О.А.</td>\n",
       "      <td>178 - О защите прав потребителей - из договоро...</td>\n",
       "      <td>NaN</td>\n",
       "      <td>Назначено судебное заседание на 14.03.2024 09:50</td>\n",
       "      <td>NaN</td>\n",
       "      <td>https://mos-gorsud.ru/rs/basmannyj/services/ca...</td>\n",
       "      <td>NaN</td>\n",
       "    </tr>\n",
       "    <tr>\n",
       "      <th>18</th>\n",
       "      <td>77RS0033-02-2023-003981-64</td>\n",
       "      <td>02-2500/2023                                  ...</td>\n",
       "      <td>Истец: Солдатенко В.А.Ответчик: Федеральное Го...</td>\n",
       "      <td>03.03.2023</td>\n",
       "      <td>15.08.2023</td>\n",
       "      <td>NaN</td>\n",
       "      <td>Молодцова Е.В.</td>\n",
       "      <td>211- Прочие исковые дела</td>\n",
       "      <td>33-40411/2023                ,                ...</td>\n",
       "      <td>Удовлетворено частично, 15.08.2023</td>\n",
       "      <td>NaN</td>\n",
       "      <td>https://mos-gorsud.ru/rs/chertanovskij/service...</td>\n",
       "      <td>NaN</td>\n",
       "    </tr>\n",
       "    <tr>\n",
       "      <th>19</th>\n",
       "      <td>77RS0002-02-2022-023218-46</td>\n",
       "      <td>02-1845/2023                                  ...</td>\n",
       "      <td>Истец: Андриянова Д.А.Ответчик: Федеральное го...</td>\n",
       "      <td>25.11.2022</td>\n",
       "      <td>10.04.2023</td>\n",
       "      <td>18.05.2023</td>\n",
       "      <td>Старовойтова К.Ю.</td>\n",
       "      <td>54 - Трудовые споры о взыскании невыплаченной ...</td>\n",
       "      <td>NaN</td>\n",
       "      <td>Удовлетворено частично, 10.04.2023</td>\n",
       "      <td>NaN</td>\n",
       "      <td>https://mos-gorsud.ru/rs/basmannyj/services/ca...</td>\n",
       "      <td>NaN</td>\n",
       "    </tr>\n",
       "    <tr>\n",
       "      <th>20</th>\n",
       "      <td>77RS0002-02-2022-016892-12</td>\n",
       "      <td>02-1124/2023                            (02-55...</td>\n",
       "      <td>Истец: Барабанщиков К.Ю.Ответчик: ФГАОУВО \"НИУ...</td>\n",
       "      <td>17.08.2022</td>\n",
       "      <td>07.02.2023</td>\n",
       "      <td>06.09.2023</td>\n",
       "      <td>Курносова О.А.</td>\n",
       "      <td>211- Прочие исковые дела</td>\n",
       "      <td>33-38950/2023</td>\n",
       "      <td>Отказано в удовлетворении, 07.02.2023</td>\n",
       "      <td>Отменено частично, 06.09.2023</td>\n",
       "      <td>https://mos-gorsud.ru/rs/basmannyj/services/ca...</td>\n",
       "      <td>NaN</td>\n",
       "    </tr>\n",
       "    <tr>\n",
       "      <th>21</th>\n",
       "      <td>77RS0002-02-2022-018700-20</td>\n",
       "      <td>02-0986/2023                            (02-54...</td>\n",
       "      <td>Истец: Никонова Ю.А.Ответчик: ФГАОУ ВО \"НИУ \"В...</td>\n",
       "      <td>14.09.2022</td>\n",
       "      <td>14.02.2023</td>\n",
       "      <td>28.04.2023</td>\n",
       "      <td>Курносова О.А.</td>\n",
       "      <td>74 - Иные, возникающие из трудовых правоотношений</td>\n",
       "      <td>NaN</td>\n",
       "      <td>Отказано в удовлетворении, 14.02.2023</td>\n",
       "      <td>NaN</td>\n",
       "      <td>https://mos-gorsud.ru/rs/basmannyj/services/ca...</td>\n",
       "      <td>NaN</td>\n",
       "    </tr>\n",
       "    <tr>\n",
       "      <th>22</th>\n",
       "      <td>77RS0006-02-2022-010324-07</td>\n",
       "      <td>02-0681/2023                            (02-44...</td>\n",
       "      <td>Истец: Жарова А.К.Ответчик: НИУ ВШЭ</td>\n",
       "      <td>11.08.2022</td>\n",
       "      <td>15.03.2023</td>\n",
       "      <td>16.05.2023</td>\n",
       "      <td>Александренко И.М.</td>\n",
       "      <td>54 - Трудовые споры о взыскании невыплаченной ...</td>\n",
       "      <td>NaN</td>\n",
       "      <td>Отказано в удовлетворении, 15.03.2023</td>\n",
       "      <td>NaN</td>\n",
       "      <td>https://mos-gorsud.ru/rs/dorogomilovskij/servi...</td>\n",
       "      <td>NaN</td>\n",
       "    </tr>\n",
       "    <tr>\n",
       "      <th>23</th>\n",
       "      <td>77RS0004-02-2023-005000-96</td>\n",
       "      <td>02а-0622/2023                                 ...</td>\n",
       "      <td>Административный истец: АО \"Московский областн...</td>\n",
       "      <td>18.04.2023</td>\n",
       "      <td>21.06.2023</td>\n",
       "      <td>NaN</td>\n",
       "      <td>Кочнева А.Н.</td>\n",
       "      <td>27 - Прочие об оспаривании решений, действий (...</td>\n",
       "      <td>NaN</td>\n",
       "      <td>Отказано в удовлетворении, 21.06.2023</td>\n",
       "      <td>NaN</td>\n",
       "      <td>https://mos-gorsud.ru/rs/gagarinskij/services/...</td>\n",
       "      <td>NaN</td>\n",
       "    </tr>\n",
       "    <tr>\n",
       "      <th>24</th>\n",
       "      <td>77RS0015-02-2023-009457-13</td>\n",
       "      <td>02а-0621/2023                                 ...</td>\n",
       "      <td>Административный истец: Журкин М.Д.Администрат...</td>\n",
       "      <td>06.06.2023</td>\n",
       "      <td>22.06.2023</td>\n",
       "      <td>NaN</td>\n",
       "      <td>Кац Ю.А.</td>\n",
       "      <td>26 - Об оспаривании решений, действий (бездейс...</td>\n",
       "      <td>33а-2648/2024</td>\n",
       "      <td>Удовлетворено, 22.06.2023</td>\n",
       "      <td>NaN</td>\n",
       "      <td>https://mos-gorsud.ru/rs/lyublinskij/services/...</td>\n",
       "      <td>NaN</td>\n",
       "    </tr>\n",
       "    <tr>\n",
       "      <th>25</th>\n",
       "      <td>77RS0002-02-2021-021399-55</td>\n",
       "      <td>02а-0484/2023</td>\n",
       "      <td>Административный истец: Акмалов А.А.Администра...</td>\n",
       "      <td>13.02.2023</td>\n",
       "      <td>11.05.2023</td>\n",
       "      <td>27.06.2023</td>\n",
       "      <td>Липкина О.А.</td>\n",
       "      <td>66 - Об оспаривании решения в отношении иностр...</td>\n",
       "      <td>NaN</td>\n",
       "      <td>Отказано в удовлетворении, 11.05.2023</td>\n",
       "      <td>NaN</td>\n",
       "      <td>https://mos-gorsud.ru/rs/basmannyj/services/ca...</td>\n",
       "      <td>NaN</td>\n",
       "    </tr>\n",
       "    <tr>\n",
       "      <th>26</th>\n",
       "      <td>77RS0029-02-2023-004608-44</td>\n",
       "      <td>01-0476/2023</td>\n",
       "      <td>NaN</td>\n",
       "      <td>30.03.2023</td>\n",
       "      <td>16.05.2023</td>\n",
       "      <td>01.06.2023</td>\n",
       "      <td>Костырев А.М.</td>\n",
       "      <td>NaN</td>\n",
       "      <td>NaN</td>\n",
       "      <td>Вступило в силу, 01.06.2023</td>\n",
       "      <td>NaN</td>\n",
       "      <td>https://mos-gorsud.ru/rs/tushinskij/services/c...</td>\n",
       "      <td>Геворгян М.С.                            (Ст. ...</td>\n",
       "    </tr>\n",
       "    <tr>\n",
       "      <th>27</th>\n",
       "      <td>77RS0007-02-2023-013355-92</td>\n",
       "      <td>01-0453/2023</td>\n",
       "      <td>NaN</td>\n",
       "      <td>28.08.2023</td>\n",
       "      <td>13.12.2023</td>\n",
       "      <td>29.12.2023</td>\n",
       "      <td>Рахматов Ю.А.</td>\n",
       "      <td>NaN</td>\n",
       "      <td>NaN</td>\n",
       "      <td>Вступило в силу, 29.12.2023</td>\n",
       "      <td>NaN</td>\n",
       "      <td>https://mos-gorsud.ru/rs/zamoskvoreckij/servic...</td>\n",
       "      <td>Бойко Д.В.                            (Ст. 158...</td>\n",
       "    </tr>\n",
       "    <tr>\n",
       "      <th>28</th>\n",
       "      <td>77RS0026-02-2022-014839-49</td>\n",
       "      <td>02-0383/2023                                  ...</td>\n",
       "      <td>Истец: ООО \"Научно-издательский центр ИНФРА-М\"...</td>\n",
       "      <td>05.12.2022</td>\n",
       "      <td>06.10.2023</td>\n",
       "      <td>NaN</td>\n",
       "      <td>Киселёва Н.А.</td>\n",
       "      <td>167 - О защите авторских прав</td>\n",
       "      <td>NaN</td>\n",
       "      <td>Удовлетворено частично, 06.10.2023</td>\n",
       "      <td>NaN</td>\n",
       "      <td>https://mos-gorsud.ru/rs/taganskij/services/ca...</td>\n",
       "      <td>NaN</td>\n",
       "    </tr>\n",
       "    <tr>\n",
       "      <th>29</th>\n",
       "      <td>77RS0002-02-2023-004405-47</td>\n",
       "      <td>01-0275/2023</td>\n",
       "      <td>NaN</td>\n",
       "      <td>10.03.2023</td>\n",
       "      <td>04.07.2023</td>\n",
       "      <td>21.07.2023</td>\n",
       "      <td>Николаева Е.С.</td>\n",
       "      <td>NaN</td>\n",
       "      <td>NaN</td>\n",
       "      <td>Вступило в силу, 21.07.2023</td>\n",
       "      <td>NaN</td>\n",
       "      <td>https://mos-gorsud.ru/rs/basmannyj/services/ca...</td>\n",
       "      <td>Ашурмадов М.Н.                            (Ст....</td>\n",
       "    </tr>\n",
       "  </tbody>\n",
       "</table>\n",
       "</div>"
      ],
      "text/plain": [
       "   Уникальный идентификатор дела   \n",
       "0     77RS0018-02-2023-004059-43  \\\n",
       "1     77RS0031-02-2023-003539-41   \n",
       "2     77RS0002-02-2022-020618-86   \n",
       "3     77RS0033-02-2023-003981-64   \n",
       "4     77RS0002-02-2022-023218-46   \n",
       "5     77RS0002-02-2022-016892-12   \n",
       "6     77RS0002-02-2022-018700-20   \n",
       "7     77RS0006-02-2022-010324-07   \n",
       "8     77RS0004-02-2023-005000-96   \n",
       "9     77RS0015-02-2023-009457-13   \n",
       "10    77RS0002-02-2021-021399-55   \n",
       "11    77RS0029-02-2023-004608-44   \n",
       "12    77RS0007-02-2023-013355-92   \n",
       "13    77RS0026-02-2022-014839-49   \n",
       "14    77RS0002-02-2023-004405-47   \n",
       "15    77RS0018-02-2023-004059-43   \n",
       "16    77RS0031-02-2023-003539-41   \n",
       "17    77RS0002-02-2022-020618-86   \n",
       "18    77RS0033-02-2023-003981-64   \n",
       "19    77RS0002-02-2022-023218-46   \n",
       "20    77RS0002-02-2022-016892-12   \n",
       "21    77RS0002-02-2022-018700-20   \n",
       "22    77RS0006-02-2022-010324-07   \n",
       "23    77RS0004-02-2023-005000-96   \n",
       "24    77RS0015-02-2023-009457-13   \n",
       "25    77RS0002-02-2021-021399-55   \n",
       "26    77RS0029-02-2023-004608-44   \n",
       "27    77RS0007-02-2023-013355-92   \n",
       "28    77RS0026-02-2022-014839-49   \n",
       "29    77RS0002-02-2023-004405-47   \n",
       "\n",
       "                               Номер дела ~ материала   \n",
       "0   02-4668/2023                                  ...  \\\n",
       "1   02-4564/2023                                  ...   \n",
       "2   02-3282/2023                                  ...   \n",
       "3   02-2500/2023                                  ...   \n",
       "4   02-1845/2023                                  ...   \n",
       "5   02-1124/2023                            (02-55...   \n",
       "6   02-0986/2023                            (02-54...   \n",
       "7   02-0681/2023                            (02-44...   \n",
       "8   02а-0622/2023                                 ...   \n",
       "9   02а-0621/2023                                 ...   \n",
       "10                                      02а-0484/2023   \n",
       "11                                       01-0476/2023   \n",
       "12                                       01-0453/2023   \n",
       "13  02-0383/2023                                  ...   \n",
       "14                                       01-0275/2023   \n",
       "15  02-4668/2023                                  ...   \n",
       "16  02-4564/2023                                  ...   \n",
       "17  02-3282/2023                                  ...   \n",
       "18  02-2500/2023                                  ...   \n",
       "19  02-1845/2023                                  ...   \n",
       "20  02-1124/2023                            (02-55...   \n",
       "21  02-0986/2023                            (02-54...   \n",
       "22  02-0681/2023                            (02-44...   \n",
       "23  02а-0622/2023                                 ...   \n",
       "24  02а-0621/2023                                 ...   \n",
       "25                                      02а-0484/2023   \n",
       "26                                       01-0476/2023   \n",
       "27                                       01-0453/2023   \n",
       "28  02-0383/2023                                  ...   \n",
       "29                                       01-0275/2023   \n",
       "\n",
       "                                              Стороны Дата поступления   \n",
       "0   Истец: Борсов А.И.Ответчик: ФГАОУ ВО \"Национал...       24.03.2023  \\\n",
       "1   Истец: Дружинин А.А.Ответчик: ФГАОУ высшего об...       03.03.2023   \n",
       "2   Истец: Черничкин А.С.Ответчик: ПАО \"Сбербанк Р...       12.10.2022   \n",
       "3   Истец: Солдатенко В.А.Ответчик: Федеральное Го...       03.03.2023   \n",
       "4   Истец: Андриянова Д.А.Ответчик: Федеральное го...       25.11.2022   \n",
       "5   Истец: Барабанщиков К.Ю.Ответчик: ФГАОУВО \"НИУ...       17.08.2022   \n",
       "6   Истец: Никонова Ю.А.Ответчик: ФГАОУ ВО \"НИУ \"В...       14.09.2022   \n",
       "7                 Истец: Жарова А.К.Ответчик: НИУ ВШЭ       11.08.2022   \n",
       "8   Административный истец: АО \"Московский областн...       18.04.2023   \n",
       "9   Административный истец: Журкин М.Д.Администрат...       06.06.2023   \n",
       "10  Административный истец: Акмалов А.А.Администра...       13.02.2023   \n",
       "11                                                NaN       30.03.2023   \n",
       "12                                                NaN       28.08.2023   \n",
       "13  Истец: ООО \"Научно-издательский центр ИНФРА-М\"...       05.12.2022   \n",
       "14                                                NaN       10.03.2023   \n",
       "15  Истец: Борсов А.И.Ответчик: ФГАОУ ВО \"Национал...       24.03.2023   \n",
       "16  Истец: Дружинин А.А.Ответчик: ФГАОУ высшего об...       03.03.2023   \n",
       "17  Истец: Черничкин А.С.Ответчик: ПАО \"Сбербанк Р...       12.10.2022   \n",
       "18  Истец: Солдатенко В.А.Ответчик: Федеральное Го...       03.03.2023   \n",
       "19  Истец: Андриянова Д.А.Ответчик: Федеральное го...       25.11.2022   \n",
       "20  Истец: Барабанщиков К.Ю.Ответчик: ФГАОУВО \"НИУ...       17.08.2022   \n",
       "21  Истец: Никонова Ю.А.Ответчик: ФГАОУ ВО \"НИУ \"В...       14.09.2022   \n",
       "22                Истец: Жарова А.К.Ответчик: НИУ ВШЭ       11.08.2022   \n",
       "23  Административный истец: АО \"Московский областн...       18.04.2023   \n",
       "24  Административный истец: Журкин М.Д.Администрат...       06.06.2023   \n",
       "25  Административный истец: Акмалов А.А.Администра...       13.02.2023   \n",
       "26                                                NaN       30.03.2023   \n",
       "27                                                NaN       28.08.2023   \n",
       "28  Истец: ООО \"Научно-издательский центр ИНФРА-М\"...       05.12.2022   \n",
       "29                                                NaN       10.03.2023   \n",
       "\n",
       "   Дата рассмотрения дела в первой инстанции Дата вступления решения в силу   \n",
       "0                                 20.06.2023                     14.12.2023  \\\n",
       "1                                 11.05.2023                            NaN   \n",
       "2                                 26.07.2023                            NaN   \n",
       "3                                 15.08.2023                            NaN   \n",
       "4                                 10.04.2023                     18.05.2023   \n",
       "5                                 07.02.2023                     06.09.2023   \n",
       "6                                 14.02.2023                     28.04.2023   \n",
       "7                                 15.03.2023                     16.05.2023   \n",
       "8                                 21.06.2023                            NaN   \n",
       "9                                 22.06.2023                            NaN   \n",
       "10                                11.05.2023                     27.06.2023   \n",
       "11                                16.05.2023                     01.06.2023   \n",
       "12                                13.12.2023                     29.12.2023   \n",
       "13                                06.10.2023                            NaN   \n",
       "14                                04.07.2023                     21.07.2023   \n",
       "15                                20.06.2023                     14.12.2023   \n",
       "16                                11.05.2023                            NaN   \n",
       "17                                26.07.2023                            NaN   \n",
       "18                                15.08.2023                            NaN   \n",
       "19                                10.04.2023                     18.05.2023   \n",
       "20                                07.02.2023                     06.09.2023   \n",
       "21                                14.02.2023                     28.04.2023   \n",
       "22                                15.03.2023                     16.05.2023   \n",
       "23                                21.06.2023                            NaN   \n",
       "24                                22.06.2023                            NaN   \n",
       "25                                11.05.2023                     27.06.2023   \n",
       "26                                16.05.2023                     01.06.2023   \n",
       "27                                13.12.2023                     29.12.2023   \n",
       "28                                06.10.2023                            NaN   \n",
       "29                                04.07.2023                     21.07.2023   \n",
       "\n",
       "                 Cудья                                     Категория дела   \n",
       "0           Юдина И.В.  179 - О защите прав потребителей - из договоро...  \\\n",
       "1       Наделяева Е.И.  44 - О восстановлении на государственной (муни...   \n",
       "2       Курносова О.А.  178 - О защите прав потребителей - из договоро...   \n",
       "3       Молодцова Е.В.                           211- Прочие исковые дела   \n",
       "4    Старовойтова К.Ю.  54 - Трудовые споры о взыскании невыплаченной ...   \n",
       "5       Курносова О.А.                           211- Прочие исковые дела   \n",
       "6       Курносова О.А.  74 - Иные, возникающие из трудовых правоотношений   \n",
       "7   Александренко И.М.  54 - Трудовые споры о взыскании невыплаченной ...   \n",
       "8         Кочнева А.Н.  27 - Прочие об оспаривании решений, действий (...   \n",
       "9             Кац Ю.А.  26 - Об оспаривании решений, действий (бездейс...   \n",
       "10        Липкина О.А.  66 - Об оспаривании решения в отношении иностр...   \n",
       "11       Костырев А.М.                                                NaN   \n",
       "12       Рахматов Ю.А.                                                NaN   \n",
       "13       Киселёва Н.А.                      167 - О защите авторских прав   \n",
       "14      Николаева Е.С.                                                NaN   \n",
       "15          Юдина И.В.  179 - О защите прав потребителей - из договоро...   \n",
       "16      Наделяева Е.И.  44 - О восстановлении на государственной (муни...   \n",
       "17      Курносова О.А.  178 - О защите прав потребителей - из договоро...   \n",
       "18      Молодцова Е.В.                           211- Прочие исковые дела   \n",
       "19   Старовойтова К.Ю.  54 - Трудовые споры о взыскании невыплаченной ...   \n",
       "20      Курносова О.А.                           211- Прочие исковые дела   \n",
       "21      Курносова О.А.  74 - Иные, возникающие из трудовых правоотношений   \n",
       "22  Александренко И.М.  54 - Трудовые споры о взыскании невыплаченной ...   \n",
       "23        Кочнева А.Н.  27 - Прочие об оспаривании решений, действий (...   \n",
       "24            Кац Ю.А.  26 - Об оспаривании решений, действий (бездейс...   \n",
       "25        Липкина О.А.  66 - Об оспаривании решения в отношении иностр...   \n",
       "26       Костырев А.М.                                                NaN   \n",
       "27       Рахматов Ю.А.                                                NaN   \n",
       "28       Киселёва Н.А.                      167 - О защите авторских прав   \n",
       "29      Николаева Е.С.                                                NaN   \n",
       "\n",
       "              Номер дела в суде вышестоящей инстанции   \n",
       "0                                       33-48031/2023  \\\n",
       "1                                        33-4121/2024   \n",
       "2                                                 NaN   \n",
       "3   33-40411/2023                ,                ...   \n",
       "4                                                 NaN   \n",
       "5                                       33-38950/2023   \n",
       "6                                                 NaN   \n",
       "7                                                 NaN   \n",
       "8                                                 NaN   \n",
       "9                                       33а-2648/2024   \n",
       "10                                                NaN   \n",
       "11                                                NaN   \n",
       "12                                                NaN   \n",
       "13                                                NaN   \n",
       "14                                                NaN   \n",
       "15                                      33-48031/2023   \n",
       "16                                       33-4121/2024   \n",
       "17                                                NaN   \n",
       "18  33-40411/2023                ,                ...   \n",
       "19                                                NaN   \n",
       "20                                      33-38950/2023   \n",
       "21                                                NaN   \n",
       "22                                                NaN   \n",
       "23                                                NaN   \n",
       "24                                      33а-2648/2024   \n",
       "25                                                NaN   \n",
       "26                                                NaN   \n",
       "27                                                NaN   \n",
       "28                                                NaN   \n",
       "29                                                NaN   \n",
       "\n",
       "                                   Текущее состояние   \n",
       "0                          Удовлетворено, 20.06.2023  \\\n",
       "1                          Удовлетворено, 11.05.2023   \n",
       "2   Назначено судебное заседание на 14.03.2024 09:50   \n",
       "3                 Удовлетворено частично, 15.08.2023   \n",
       "4                 Удовлетворено частично, 10.04.2023   \n",
       "5              Отказано в удовлетворении, 07.02.2023   \n",
       "6              Отказано в удовлетворении, 14.02.2023   \n",
       "7              Отказано в удовлетворении, 15.03.2023   \n",
       "8              Отказано в удовлетворении, 21.06.2023   \n",
       "9                          Удовлетворено, 22.06.2023   \n",
       "10             Отказано в удовлетворении, 11.05.2023   \n",
       "11                       Вступило в силу, 01.06.2023   \n",
       "12                       Вступило в силу, 29.12.2023   \n",
       "13                Удовлетворено частично, 06.10.2023   \n",
       "14                       Вступило в силу, 21.07.2023   \n",
       "15                         Удовлетворено, 20.06.2023   \n",
       "16                         Удовлетворено, 11.05.2023   \n",
       "17  Назначено судебное заседание на 14.03.2024 09:50   \n",
       "18                Удовлетворено частично, 15.08.2023   \n",
       "19                Удовлетворено частично, 10.04.2023   \n",
       "20             Отказано в удовлетворении, 07.02.2023   \n",
       "21             Отказано в удовлетворении, 14.02.2023   \n",
       "22             Отказано в удовлетворении, 15.03.2023   \n",
       "23             Отказано в удовлетворении, 21.06.2023   \n",
       "24                         Удовлетворено, 22.06.2023   \n",
       "25             Отказано в удовлетворении, 11.05.2023   \n",
       "26                       Вступило в силу, 01.06.2023   \n",
       "27                       Вступило в силу, 29.12.2023   \n",
       "28                Удовлетворено частично, 06.10.2023   \n",
       "29                       Вступило в силу, 21.07.2023   \n",
       "\n",
       "                Решение апелляции   \n",
       "0            Отменено, 14.12.2023  \\\n",
       "1                             NaN   \n",
       "2                             NaN   \n",
       "3                             NaN   \n",
       "4                             NaN   \n",
       "5   Отменено частично, 06.09.2023   \n",
       "6                             NaN   \n",
       "7                             NaN   \n",
       "8                             NaN   \n",
       "9                             NaN   \n",
       "10                            NaN   \n",
       "11                            NaN   \n",
       "12                            NaN   \n",
       "13                            NaN   \n",
       "14                            NaN   \n",
       "15           Отменено, 14.12.2023   \n",
       "16                            NaN   \n",
       "17                            NaN   \n",
       "18                            NaN   \n",
       "19                            NaN   \n",
       "20  Отменено частично, 06.09.2023   \n",
       "21                            NaN   \n",
       "22                            NaN   \n",
       "23                            NaN   \n",
       "24                            NaN   \n",
       "25                            NaN   \n",
       "26                            NaN   \n",
       "27                            NaN   \n",
       "28                            NaN   \n",
       "29                            NaN   \n",
       "\n",
       "                                                 link   \n",
       "0   https://mos-gorsud.ru/rs/nikulinskij/services/...  \\\n",
       "1   https://mos-gorsud.ru/rs/horoshevskij/services...   \n",
       "2   https://mos-gorsud.ru/rs/basmannyj/services/ca...   \n",
       "3   https://mos-gorsud.ru/rs/chertanovskij/service...   \n",
       "4   https://mos-gorsud.ru/rs/basmannyj/services/ca...   \n",
       "5   https://mos-gorsud.ru/rs/basmannyj/services/ca...   \n",
       "6   https://mos-gorsud.ru/rs/basmannyj/services/ca...   \n",
       "7   https://mos-gorsud.ru/rs/dorogomilovskij/servi...   \n",
       "8   https://mos-gorsud.ru/rs/gagarinskij/services/...   \n",
       "9   https://mos-gorsud.ru/rs/lyublinskij/services/...   \n",
       "10  https://mos-gorsud.ru/rs/basmannyj/services/ca...   \n",
       "11  https://mos-gorsud.ru/rs/tushinskij/services/c...   \n",
       "12  https://mos-gorsud.ru/rs/zamoskvoreckij/servic...   \n",
       "13  https://mos-gorsud.ru/rs/taganskij/services/ca...   \n",
       "14  https://mos-gorsud.ru/rs/basmannyj/services/ca...   \n",
       "15  https://mos-gorsud.ru/rs/nikulinskij/services/...   \n",
       "16  https://mos-gorsud.ru/rs/horoshevskij/services...   \n",
       "17  https://mos-gorsud.ru/rs/basmannyj/services/ca...   \n",
       "18  https://mos-gorsud.ru/rs/chertanovskij/service...   \n",
       "19  https://mos-gorsud.ru/rs/basmannyj/services/ca...   \n",
       "20  https://mos-gorsud.ru/rs/basmannyj/services/ca...   \n",
       "21  https://mos-gorsud.ru/rs/basmannyj/services/ca...   \n",
       "22  https://mos-gorsud.ru/rs/dorogomilovskij/servi...   \n",
       "23  https://mos-gorsud.ru/rs/gagarinskij/services/...   \n",
       "24  https://mos-gorsud.ru/rs/lyublinskij/services/...   \n",
       "25  https://mos-gorsud.ru/rs/basmannyj/services/ca...   \n",
       "26  https://mos-gorsud.ru/rs/tushinskij/services/c...   \n",
       "27  https://mos-gorsud.ru/rs/zamoskvoreckij/servic...   \n",
       "28  https://mos-gorsud.ru/rs/taganskij/services/ca...   \n",
       "29  https://mos-gorsud.ru/rs/basmannyj/services/ca...   \n",
       "\n",
       "                                           Подсудимый  \n",
       "0                                                 NaN  \n",
       "1                                                 NaN  \n",
       "2                                                 NaN  \n",
       "3                                                 NaN  \n",
       "4                                                 NaN  \n",
       "5                                                 NaN  \n",
       "6                                                 NaN  \n",
       "7                                                 NaN  \n",
       "8                                                 NaN  \n",
       "9                                                 NaN  \n",
       "10                                                NaN  \n",
       "11  Геворгян М.С.                            (Ст. ...  \n",
       "12  Бойко Д.В.                            (Ст. 158...  \n",
       "13                                                NaN  \n",
       "14  Ашурмадов М.Н.                            (Ст....  \n",
       "15                                                NaN  \n",
       "16                                                NaN  \n",
       "17                                                NaN  \n",
       "18                                                NaN  \n",
       "19                                                NaN  \n",
       "20                                                NaN  \n",
       "21                                                NaN  \n",
       "22                                                NaN  \n",
       "23                                                NaN  \n",
       "24                                                NaN  \n",
       "25                                                NaN  \n",
       "26  Геворгян М.С.                            (Ст. ...  \n",
       "27  Бойко Д.В.                            (Ст. 158...  \n",
       "28                                                NaN  \n",
       "29  Ашурмадов М.Н.                            (Ст....  "
      ]
     },
     "execution_count": 170,
     "metadata": {},
     "output_type": "execute_result"
    }
   ],
   "source": [
    "data # Так должен выглядеть результат"
   ]
  },
  {
   "cell_type": "markdown",
   "id": "859d509f",
   "metadata": {},
   "source": [
    "#### Почему метод выше – оптимален? Пояснение с примером:\n",
    "\n",
    "**Как работает `pd.json_normalize()`?**\n",
    "\n",
    "Эта функция принимает на вход словарь/объект json и превращает **ключи в названия колонок**, а **соответствующие им значения помещает в эти самые колонки** (см. пример выше):\n",
    "\n",
    "```pd.json_normalize(my_dict)```\n",
    "\n",
    "**Как может выглядеть альтернатива `pd.json_normalize()`?**\n",
    "\n",
    "Вы могли бы обратиться к странице и не собирать значения **слева** (названия колонок) и значения **справа** (соответствующие им значения) в **словарь**, а пройтись по html разметке и попытаться сделать следующее:\n",
    "```\n",
    "try:\n",
    "    judge = soup.find_all(..., {.. : ..})[0]\n",
    "except:\n",
    "    judge = np.nan\n",
    "try:\n",
    "    court = soup.find_all(..., {.. : ..})[0]\n",
    "except:\n",
    "    court = np.nan\n",
    "try:\n",
    "    result = soup.find_all(..., {.. : ..})[0]\n",
    "except:\n",
    "    result = np.nan\n",
    "# etc (другие атрибуты)\n",
    "\n",
    "df = pd.DataFrame({'judge': judge, 'court': court, 'result': result})\n",
    "```\n",
    "\n",
    "\n",
    "**Если не использовать `pd.json_normalize()`, вы могли бы столкнуться со следующей ситуацией** – у вас в датафрейме есть как гражданские дела, так и уголовные. Например, для дел с индексом `11`, `13`, `14` не указаны `Стороны`, зато указаны `Подсудимые` – это связано с тем что эти дела рассматривались в рамках уголовного процесса. **Если вы собираете данные с помощью функции и проверяете наличие определенных столбцов, вы рискуете собрать не все данные, потому что изначально не сможете определить а какие вообще столбцы у вас есть**.\n",
    "\n",
    "Когда я начинала работать с судебными решениями по делам по статье 20.2 КоАП РФ, я думала что увижу 6-7 столбцов с информацией об административном деле, как в [примере](https://mos-gorsud.ru/mgs/services/cases/review-not-yet/details/a780d097-9af9-42b8-b11f-f147805ae0b6?codex=20.2%2C+Ч.+5&year=2019&formType=fullForm):\n",
    "\n",
    "* `Уникальный идентификатор`;\n",
    "* `Номер дела`;\n",
    "* `Стороны`;\n",
    "* `Дата регистрации`;\n",
    "* `Дата окончания`;\n",
    "* `Судья`;\n",
    "* `Статья КоАП РФ`;\n",
    "* `Результат рассмотрения`;\n",
    "* `Номер дела в суде нижестоящей инстанции`.\n",
    "\n",
    "Как вы можете заметить, как минимум последний пункт встретится явно не во всех делах – потому что если дело уже рассматривалось в суде нижестоящей инстанции, это означает, что это уже вторая инстанция рассмотрения дела; не все дела уходят во вторую инстанцию.\n",
    "\n",
    "\n",
    "**Я собирала информацию со страниц дел с помощью функции, похожей на функцию выше (то есть, все-все колонки и соответствующие значения с помощью `pd.json_normalize()`) и после прохождения по всей генеральной совокупности я увидела следующие колонки:**\n",
    "* `Уникальный идентификатор дела`;\n",
    "* `Номер производства`;\n",
    "* `Лицо, привлеченное к ответственности`;\n",
    "* `Дата регистрации`;\n",
    "* `Дата окончания`;\n",
    "* `Дата обжалуемого решения`;\n",
    "* `Cудья`;\n",
    "* `Статья КоАП РФ`;\n",
    "* `Текущее состояние`;\n",
    "* `Номер дела`;\n",
    "* `Привлекаемое лицо`;\n",
    "* `Дата рассмотрения дела в первой инстанции`;\n",
    "* `Результат рассмотрения`;\n",
    "* `Номер дела в суде нижестоящей инстанции`;\n",
    "* `Дата поступления дела в апелляционную инстанцию`;\n",
    "* `Номер дела в суде вышестоящей инстанции`;\n",
    "* `Другие участники`;\n",
    "* `Основание решения суда`;\n",
    "* `Суд, вынесший решение`;\n",
    "* `Решение кассации`\n",
    "\n",
    "Конечно, не во всех делах были все колонки (например, в итоговом датафрейме для дел в первой инстанции отсутствовали значения связанные с рассмотрением дела в суде вышестоящей инстанции – вместо них были `NaN`). **Как вы можете увидеть, этих колонок оказалось гораздо больше, чем я предполагала. Итого если у вас есть возможность получить словарь с названиями колонок и соответствующими им значениями, есть две причины использовать `pd.json_normalize()` а не функцию с `try-except` внутри:**\n",
    "\n",
    "1. **Причина 1 – функциональная**. \n",
    "* Для того чтобы создать `pandas.DataFrame` с помощью `pd.json_normalize()`, вам нужно использовать одну строчку кода. \n",
    "* Чтобы создать `pandas.DataFrame` как в моем примере выше, вам бы пришлось 20 раз прописать `try-except`. Одна конструкция `try-except` это уже 4 строчки кода, итого получаем альтернативу в виде кода минимум на 80 строк. \n",
    "\n",
    "2. **Причина 2 – содержательная**. Когда вы начинаете работу с веб-страницами, вы не всегда можете сказать **какие точно значения там могут быть**. Например, страницы дел последних лет и страницы дел пять лет назад отличаются; схожие по смыслу значения там названы по разному. Кроме того, некоторые колонки, на сбор которых можно забить, вообще-то могут быть вам полезны. Например, благодаря колонке `Другие участники` я смогла увидеть, что в моей выборке есть несколько десятков дел с несовершеннолетними – потому что в этой колонке были указаны отделы ПДН; это помогло мне отфильтровать дела с несовершеннолетними обвиняемыми и рассматривать только дела с совершеннолетними и в контексте моего исследования это было важно, потому что нормативное регулирование по статье 20.2 КоАП РФ для совершеннолетних и несовершеннолетних отличается.\n",
    "\n",
    "**Вывод – если вы можете собрать словари/json'ы с информацией и превратить их в `pandas.DataFrame`, используйте `pd.json_normalize()` и не используйте много конструкций try-except**."
   ]
  },
  {
   "cell_type": "markdown",
   "id": "1356e1f1",
   "metadata": {},
   "source": [
    "## 4. Selenium: явные и неявные ожидания и обработка исключений<a name='part4'></a>\n",
    "\n",
    "Как вы могли заметить, некоторые сайты загружаются очень постепенно. Сейчас мы с вами использовали ожидания с помощью `time.sleep(seconds)` чтобы перестраховаться от получения `ElementNotVisibleException` – исключения, которое возникает, когда вы пытаетесь взаимодействовать с элементом который еще не подгрузился на страницу. Как считают авторы документации к Selenium на Python:\n",
    "\n",
    "> *Худший пример такого кода (явного ожидания) — это использование команды `time.sleep()`, которая устанавливает точное время ожидания.*\n",
    "---\n",
    "\n",
    "**Почему плохо использовать `time.sleep()`?** Если сайт, с которым вы работаете, долго грузится, то вы скорее всего для всех страниц будете выставлять достаточно большое значение - например, будете ждать 3-5 секунд. Однако, некоторые страницы могут загрузиться у вас быстрее (например, у вас вырастет скорость интернета). Это не страшно когда вы работаете с учебными проектами, но важно, когда занимаетесь сбором данных по работе (в том числе, от вас ждут данные заказчики или коллеги):\n",
    "\n",
    "Представим себе следующую ситуацию:\n",
    "* Вам нужно собрать данные с `10 000` страниц;\n",
    "* Вы проставили 5 секунд ожидания в `time.sleep()` потому что у вас не подгружались моментально все элементы;\n",
    "* Первая половина страниц действительно прогружалась по 5 секунд, **а вот для второй половины – все искомые элементы загружались за 3.5 секунды**.\n",
    "\n",
    "**Тогда:** \n",
    "* **Вы затратили на сбор данных** с 10 тысяч страниц минимум 50 тысяч секунд (833 минуты или **13 часов 52 минуты** – собирали все десять тысяч страниц по 5 секунд), \n",
    "* **А могли бы затратить** меньше –  42.5 тысячи секунд (708 минут или **11 часов 48 минут** - собирали пять тысяч страниц по 5 секунд, другие пять тысяч страниц по 3.5 секунды). \n",
    "\n",
    "**Кажется, что разница небольшая – всего лишь 2 часа и 5 минут**. Но на самом деле это означает, что вам не придется писать заказчику или коллеге *Привет, данные будут через два часа* или что у вас будет время их посмотреть, написать по ним справку, оформить и дообработать при необходимости. Или вы хотя бы увидите фатальные ошибки на час раньше :)\n",
    "\n",
    "---\n",
    "\n",
    "Но есть еще несколько более цивилизованных способов работы с ожиданиями: **неявные** и **явные** ожидания в Selenium.\n",
    "\n",
    "### `wb.implicitly_wait()` и неявные ожидания\n",
    "\n",
    "`Implicit waits` – это когда вы говорите Python:\n",
    ">*Ищи все элементы в течение некоторого времени*\n",
    "* Если элемент не будет найден, вернется исключение `NoSuchElementException`;\n",
    "* Если элемент будет найден (что может произойти и раньше чем через 10 секунд), то исполнение кода продолжится.\n",
    "\n",
    "\n",
    "Другими словами, `wb.implicitly_wait(3)` позволит вам получить ошибку не сразу, а попытаться найти элементы в течение нескольких секунд. В течение этого времени `webdriver` попытается найти эти самые элементы. \n",
    "\n",
    "**Это глобальный таймер**, который применяется ко всем операциям поиска элементов, именно поэтому вы пишите в коде (а не используете этот код для поиска конкретных элементов):\n",
    "\n",
    "`wb.implicitly_wait(3)`\n",
    "\n",
    "Давайте посмотрим на примере:"
   ]
  },
  {
   "cell_type": "code",
   "execution_count": 313,
   "id": "2659e465",
   "metadata": {},
   "outputs": [],
   "source": [
    "link_to_one_case = 'https://mos-gorsud.ru/rs/basmannyj/services/cases/criminal/details/071d64e0-bf4c-11ed-bd85-6751552d0bab?year=2023&formType=fullForm'\n",
    "\n",
    "wb.implicitly_wait(3) # будем ждать 3 секунды появление любого элемента\n",
    "wb.get(link_to_one_case) # открываем страницу\n",
    "\n",
    "open_documents = wb.find_element(By.ID, 'ui-id-3') # ищем кнопку \"Документы\"\n",
    "open_documents.click() # кликаем"
   ]
  },
  {
   "cell_type": "markdown",
   "id": "813b40b7",
   "metadata": {},
   "source": [
    "### `try-except` и работа с исключениями в Selenium\n",
    "Код выше был выполнен успешно, потому что у нас с вами действительно есть этот элемент на странице. А теперь давайте попробуем переписать наш код под взаимодействие с исключениями. В больших проектах важно отлавливать разные исключения – потому что они возникают по разным причинам. Вы можете адаптировать свой код под работу с разными исключениями с помощью `try-except`.\n",
    "\n",
    "Названия всех распространенных исключений в Selenium можно найти по [ссылке](https://www.selenium.dev/selenium/docs/api/py/common/selenium.common.exceptions.html).\n",
    "\n",
    "Рассмотрим на примере:"
   ]
  },
  {
   "cell_type": "code",
   "execution_count": 190,
   "id": "6efa66de",
   "metadata": {
    "scrolled": true
   },
   "outputs": [
    {
     "name": "stdout",
     "output_type": "stream",
     "text": [
      "Такой элемент не найден\n"
     ]
    }
   ],
   "source": [
    "from selenium.common.exceptions import NoSuchElementException\n",
    "from selenium.common.exceptions import ElementNotInteractableException\n",
    "from selenium.common.exceptions import TimeoutException\n",
    "\n",
    "link_to_one_case = 'https://mos-gorsud.ru/rs/basmannyj/services/cases/criminal/details/071d64e0-bf4c-11ed-bd85-6751552d0bab?year=2023&formType=fullForm'\n",
    "\n",
    "wb.implicitly_wait(5) # будем ждать 5 секунд нахождение ЛЮБОГО элемента\n",
    "wb.get(link_to_one_case) # открываем страницу\n",
    "\n",
    "non_existed_id = 'myDinamicElement' # придумала название элемента\n",
    "\n",
    "# пытаемся\n",
    "try:\n",
    "    open_documents = wb.find_element(By.ID, non_existed_id) # ищем кнопку \n",
    "    open_documents.click() # кликаем\n",
    "# Если мы получили в ходе работы блока кода выше ElementNotVisibleException (элемент не видим)\n",
    "except ElementNotVisibleException: \n",
    "    print('Вебдрайвер не может увидеть этот элемент') # печатаем такую строчку\n",
    "# Если мы получили в ходе работы блока кода выше NoSuchElementException (нет такого элемент)\n",
    "except NoSuchElementException: \n",
    "    print('Такой элемент не найден')# печатаем такую строчку\n",
    "# Если мы получили TimeoutException (время вышло)\n",
    "except TimeoutException: \n",
    "    print('Время вышло!') # печатаем такую строчку"
   ]
  },
  {
   "cell_type": "markdown",
   "id": "a46b76df",
   "metadata": {},
   "source": [
    "### Другие методы `WebElement`: `is_displayed()`, `is_enabled()`, `.is_selected()`.\n",
    "\n",
    "Методы выше возвращают булевы значения `True`/`False`:\n",
    "\n",
    "* `.is_displayed()` – проверяет, отображается ли элемент на странице;\n",
    "* `.is_enabled()` – проверяет, доступен ли элемент для взаимодействия;\n",
    "* `.is_selected()` – проверяет, выбран ли элемент (например, chechbox)."
   ]
  },
  {
   "cell_type": "code",
   "execution_count": 191,
   "id": "8a162359",
   "metadata": {},
   "outputs": [],
   "source": [
    "link_to_one_case = 'https://mos-gorsud.ru/rs/basmannyj/services/cases/criminal/details/071d64e0-bf4c-11ed-bd85-6751552d0bab?year=2023&formType=fullForm'\n",
    "\n",
    "wb.get(link_to_one_case) # открываем страницу"
   ]
  },
  {
   "cell_type": "code",
   "execution_count": 196,
   "id": "ac5faa8e",
   "metadata": {},
   "outputs": [
    {
     "name": "stdout",
     "output_type": "stream",
     "text": [
      "С открытой страницы можно скачать файлов: 1\n"
     ]
    }
   ],
   "source": [
    "print('С открытой страницы можно скачать файлов: ', end='')\n",
    "print(len(wb.find_elements(By.LINK_TEXT, 'Скачать файл')))"
   ]
  },
  {
   "cell_type": "code",
   "execution_count": 197,
   "id": "823f873b",
   "metadata": {},
   "outputs": [
    {
     "data": {
      "text/plain": [
       "True"
      ]
     },
     "execution_count": 197,
     "metadata": {},
     "output_type": "execute_result"
    }
   ],
   "source": [
    "wb.find_element(By.LINK_TEXT, 'Скачать файл').is_displayed() # отображается? Да"
   ]
  },
  {
   "cell_type": "code",
   "execution_count": 198,
   "id": "42d61d29",
   "metadata": {},
   "outputs": [
    {
     "data": {
      "text/plain": [
       "True"
      ]
     },
     "execution_count": 198,
     "metadata": {},
     "output_type": "execute_result"
    }
   ],
   "source": [
    "wb.find_element(By.LINK_TEXT, 'Скачать файл').is_enabled() # доступен для взаимодействия? Да"
   ]
  },
  {
   "cell_type": "code",
   "execution_count": 199,
   "id": "df43ebb6",
   "metadata": {},
   "outputs": [
    {
     "data": {
      "text/plain": [
       "False"
      ]
     },
     "execution_count": 199,
     "metadata": {},
     "output_type": "execute_result"
    }
   ],
   "source": [
    "wb.find_element(By.LINK_TEXT, 'Скачать файл').is_selected() # выбран? Нет"
   ]
  },
  {
   "cell_type": "markdown",
   "id": "9fdeec73",
   "metadata": {},
   "source": [
    "В некотором смысле, могут являться альтернативой явных ожиданий или помогут для самых простых действий. Давайте продемонстрируем:"
   ]
  },
  {
   "cell_type": "code",
   "execution_count": 200,
   "id": "a2c27543",
   "metadata": {},
   "outputs": [
    {
     "name": "stdout",
     "output_type": "stream",
     "text": [
      "Кнопка \"Документы\" стала доступна.\n",
      "Открытие страницы заняло 37.07115316390991 секунд. Чтобы кнопка \"Документы\" стала доступна, потребовалосьеще 0.014458894729614258 секунд.\n"
     ]
    }
   ],
   "source": [
    "import time # модуль для работы с временем\n",
    "\n",
    "start = time.time() # замеряем время старта\n",
    "wb.get('https://mos-gorsud.ru/rs/basmannyj/services/cases/criminal/details/071d64e0-bf4c-11ed-bd85-6751552d0bab?year=2023&formType=fullForm')\n",
    "point_1 = time.time() # после того как открылась страница, вновь замеряем время\n",
    "\n",
    "# используем чудесный цикл while \n",
    "\n",
    "while True: # пока не остановлен цикл,\n",
    "    # если мы находим элемент по id и этот элемент доступен для взаимодействия,\n",
    "    if wb.find_element(By.ID, 'ui-id-3').is_enabled():\n",
    "        print('Кнопка \"Документы\" стала доступна.') # печатаем строчку\n",
    "        end = time.time() # замеряем время конца\n",
    "        break # завершаем цикл\n",
    "        \n",
    "print(f'Открытие страницы заняло {point_1 - start} секунд. Чтобы кнопка \"Документы\" стала доступна, потребовалось\\\n",
    " еще {end - point_1} секунд.') # печатаем строчку"
   ]
  },
  {
   "cell_type": "markdown",
   "id": "a4e047bc",
   "metadata": {},
   "source": [
    "Как вы видите, основное время ушло на открытие страницы. Но на появление кнопки \"Документы\" также ушло время. А вот сэкономить это самое время вам помогут явные ожидания."
   ]
  },
  {
   "cell_type": "markdown",
   "id": "11fa814e",
   "metadata": {},
   "source": [
    "### `WebDriverWait() и явные ожидания`\n",
    "\n",
    "Явное ожидание (explicit waits) — **это код, которым вы определяете какое необходимое условие должно произойти для того, чтобы дальнейший код исполнился**. Другими словами, вы говорите Python:\n",
    "\n",
    ">*Ищи данный объект в течение N секунд, и чтобы выполнялось условие (он есть на странице/есть и видим на странице/есть, видим и кликабелен на странице/etc)*\n",
    "\n",
    "* Вы настраиваете явные ожидания для каждого конкретного элемента (а не в целом для поиска всех элементов, как в случае имплицитных ожиданий);\n",
    "* Если элемент не будет найден за определенное число секунд, вернется исключение;\n",
    "* Если элемент будет найден и будет удовлетворять определенному условию (есть на странице/есть и видим на странице/есть, видим и кликабелен на странице/etc), то будет сохранен в переменную `element`.\n",
    "\n",
    "**Пример явного ожидания:**\n",
    "\n",
    "```element = WebDriverWait(wb, 10).until(EC.element_to_be_clickable((By.ID, \"ui-id-3\")))```\n",
    "\n",
    "1. Мы используем класс `WebDriverWait`, внутри обращаемся к объекту `webdriver` и говорим ему: мы будем пытаться получить этот объект в течение 10 секунд: \n",
    "\n",
    "```WebDriverWait(browser, 10).until()```\n",
    "\n",
    "* Если мы найдем элемент до этого момента, то в переменную `element` будет сохранен просто элемент. \n",
    "* Если мы не найдем элемент за `10` секунд, то получим исключение. \n",
    "* Внутри `WebDriverWait` у нас есть аргумент `poll_frequency` - это частота, с которой вебдрайвер будет пытаться найти этот элемент на странице – по умолчанию это `0.5` секунд. То есть, за 10 секунд вебдрайвер попытается 20 раз найти элемент на странице.\n",
    "* `.until()` – это метод, который указывает, какое условие мы ожидаем выполнить.\n",
    "\n",
    "2. Во второй части кода указано, как мы ищем элемент:\n",
    "* Мы обращаемся к `expected_conditions`;\n",
    "* Выбираем класс – `element_to_be_clickable` – то есть, мы ищем не просто элемент (по атрибуту его `ID` в html разметке, `ui-id-3`), а ищем элемент и чтобы он еще был кликабельным. \n",
    "\n",
    "```(EC.element_to_be_clickable((By.ID, \"ui-id-3\")))```\n",
    "\n",
    "\n",
    "\n",
    "\n",
    "**Список всех явных ожиданий доступен в [документации](https://selenium-python.readthedocs.io/waits.html)**, но приведу несколько примеров:\n",
    "\n",
    "* `presence_of_element_located` - ожидание, которое проверяет присутствует ли элемент в html страницы (не обязательно должен быть видимым);\n",
    "* `visibility_of_element_located` - ожидание, которое проверяет присутствует ли элемент в html страницы и видим ли он. Видимость означает что элемент не только отображается, но также имеет высоту (height) и ширину (width) больше, чем 0. \n",
    "* `element_to_be_clickable` – ожидание, которое проверяет, отображается и кликабелен ли элемент.\n",
    "\n",
    "**Какие элементы мы тут используем?**\n",
    "\n",
    "```element = wait.until(EC.element_to_be_clickable((By.ID, 'ui-id-3')))```\n",
    "\n",
    "* `WebDriverWait` – класс, отвечающий за ожидание;\n",
    "* `wait.until()` это метод, отвечающий за ожидание. Внутрь ему мы должны подать то, что и как мы ожидаем.\n",
    "* `EC.<some value>` – класс, отвечащий за то, что конкретно мы ожидаем. В качестве аргумента подаем локатор элемента `(By.ID, 'ui-id-3')`.\n",
    "\n",
    "Воспользуемся явными ожиданиями сами:"
   ]
  },
  {
   "cell_type": "code",
   "execution_count": 195,
   "id": "be781e22",
   "metadata": {},
   "outputs": [],
   "source": [
    "from selenium.webdriver.support.ui import WebDriverWait\n",
    "from selenium.webdriver.support import expected_conditions as EC # загружаем явные ожидания -  класс\n",
    "from selenium.common.exceptions import NoSuchElementException\n",
    "from selenium.common.exceptions import ElementNotInteractableException\n",
    "\n",
    "link_to_one_case = 'https://mos-gorsud.ru/rs/basmannyj/services/cases/criminal/details/071d64e0-bf4c-11ed-bd85-6751552d0bab?year=2023&formType=fullForm'\n",
    "wb.get(link_to_one_case) # открываем ссылку\n",
    "\n",
    "# создаем объект wait\n",
    "wait = WebDriverWait(wb, 3) # мы будем ждать до 3х секунд ИЛИ пока не найдем элемент, удовлетворяющий условиям:\n",
    "\n",
    "try:\n",
    "    # воспользуемся ожиданием, проверяющим, кликабельный ли элемент\n",
    "    # В течение трех секунд пытаемся найти элемент по его ID (ui-id-3) и при этом чтобы на него можно было кликнуть\n",
    "    element = wait.until(EC.element_to_be_clickable((By.ID, 'ui-id-3'))) # пытаемся нажать на кнопку \"Документы\"\n",
    "    element.click() # кликнем\n",
    "    print('Получилось')\n",
    "# если получили исключение NoSuchElementException (нет такого элемента)\n",
    "except NoSuchElementException:\n",
    "    print('Не получилось найти элемент.')\n",
    "# если получили исключение ElementNotInteractableException (с элементом нельзя провзаимодействовать)\n",
    "except ElementNotInteractableException:\n",
    "    print('С этим элементом нельзя взаимодействовать')"
   ]
  },
  {
   "cell_type": "markdown",
   "id": "f12528d3",
   "metadata": {},
   "source": [
    "<p></p>\n",
    "<center><b><font size=4>Задача №3. Явные ожидания </font></b></center>\n",
    "\n",
    "Откройте с помощью `webdriver` страницу ВКР ОП \"Политология\" и выберите [ВКР с первой страницы](https://www.hse.ru/ba/political/students/diplomas) (можно воспользоваться ссылкой в переменной `link`)."
   ]
  },
  {
   "cell_type": "code",
   "execution_count": 172,
   "id": "46d105d0",
   "metadata": {},
   "outputs": [],
   "source": [
    "link = 'https://www.hse.ru/ba/political/students/diplomas/833280930'"
   ]
  },
  {
   "cell_type": "markdown",
   "id": "7601c19d",
   "metadata": {},
   "source": [
    "**Шаг 1. Попытайтесь получить аннотацию ВКР, отправив просто запрос с помощью `requests`**"
   ]
  },
  {
   "cell_type": "code",
   "execution_count": 314,
   "id": "5e3f900b",
   "metadata": {},
   "outputs": [],
   "source": [
    "# YOUR CODE HERE\n",
    "html = requests.get(link)\n",
    "soup = BeautifulSoup(html.text)"
   ]
  },
  {
   "cell_type": "code",
   "execution_count": 316,
   "id": "daeee47b",
   "metadata": {},
   "outputs": [
    {
     "data": {
      "text/plain": [
       "[]"
      ]
     },
     "execution_count": 316,
     "metadata": {},
     "output_type": "execute_result"
    }
   ],
   "source": [
    "soup.find_all('div', {'class':\"vkr-content__text\"}) # элементы подгружаются постепенно\n",
    "# и текст аннотации подгружается не сразу, поэтому мы зачастую и используем Selenium"
   ]
  },
  {
   "cell_type": "markdown",
   "id": "19c87c25",
   "metadata": {},
   "source": [
    "**Шаг 2. Откройте ту же страницу с помощью `webdriver`, используйте неявное ожидание с Selenium на 10 секунд и напечатайте аннотацию ВКР**"
   ]
  },
  {
   "cell_type": "code",
   "execution_count": 368,
   "id": "d0739ce7",
   "metadata": {},
   "outputs": [
    {
     "name": "stdout",
     "output_type": "stream",
     "text": [
      "Проведение российскими войсками специальной военной операции на территории Украины вызывает неоднозначную реакцию в российском обществе. Одной из причин, по которой граждане негативно оценивают политику России на Украине, являются санкции западных стран, направленные на подрыв российской экономики и создание угрозы внутренней стабильности и безопасности государства. Целью данной работы является исследование процесса легитимизации государственной политики по адаптации российской экономики к санкциям после февраля 2022 г.. В работе проводится фрейм-анализ материалов с официального сайта Минэкономразвития РФ, опубликованных в период с 24 февраля 2022 г. по 31 декабря 2022 г., и выделяются способы достижения государством одобрения населением собственной политики по адаптации российской экономики к санкциям. В первой части работы представлен обзор литературы по теме исследования, а также теоретическая рамка исследования. Во второй части приведены результаты фрейм-анализа изученных материалов с сайта Минэкономразвития РФ и освещены способы легитимизации политики государства по адаптации российской экономики к санкциям после февраля 2022 года.\n"
     ]
    }
   ],
   "source": [
    "# YOUR CODE HERE\n",
    "\n",
    "wb.get('https://www.hse.ru/ba/political/students/diplomas/833280930') # открываем эту работу\n",
    "wb.implicitly_wait(10) # неявное ожидание - мы будем ждать появления всех элементов в дальнейшем до 10 секунд\n",
    "annotation = wb.find_element(By.CLASS_NAME, \"vkr-content__text\") \n",
    "print(annotation.text)"
   ]
  },
  {
   "cell_type": "markdown",
   "id": "2f2bcd5a",
   "metadata": {},
   "source": [
    "**Шаг 3. Используйте явное ожидание на наличие объекта аннотации на странице и напечатайте аннотацию ВКР**"
   ]
  },
  {
   "cell_type": "code",
   "execution_count": 369,
   "id": "2756c743",
   "metadata": {},
   "outputs": [
    {
     "name": "stdout",
     "output_type": "stream",
     "text": [
      "Проведение российскими войсками специальной военной операции на территории Украины вызывает неоднозначную реакцию в российском обществе. Одной из причин, по которой граждане негативно оценивают политику России на Украине, являются санкции западных стран, направленные на подрыв российской экономики и создание угрозы внутренней стабильности и безопасности государства. Целью данной работы является исследование процесса легитимизации государственной политики по адаптации российской экономики к санкциям после февраля 2022 г.. В работе проводится фрейм-анализ материалов с официального сайта Минэкономразвития РФ, опубликованных в период с 24 февраля 2022 г. по 31 декабря 2022 г., и выделяются способы достижения государством одобрения населением собственной политики по адаптации российской экономики к санкциям. В первой части работы представлен обзор литературы по теме исследования, а также теоретическая рамка исследования. Во второй части приведены результаты фрейм-анализа изученных материалов с сайта Минэкономразвития РФ и освещены способы легитимизации политики государства по адаптации российской экономики к санкциям после февраля 2022 года.\n"
     ]
    }
   ],
   "source": [
    "# YOUR CODE HERE\n",
    "wb.get('https://www.hse.ru/ba/political/students/diplomas/833280930')\n",
    "\n",
    "wait = WebDriverWait(wb, 3) # ждем до 3х секунд ИЛИ пока не найдем элемент, удовлетворяющий условиям:\n",
    "\n",
    "try:\n",
    "    # воспользуемся ожиданием, проверяющим, присутствует ли элемент,\n",
    "    # ЕСЛИ элемент есть и он присутствует (.presence_of_element_located), то напечатаем текст\n",
    "    # ЕСЛИ это условие не удовлетворяется, то будет вызвано исключение\n",
    "    element = wait.until(EC.presence_of_element_located((By.CLASS_NAME, 'vkr-content__text'))) \n",
    "    print(element.text) # и печатаем текст\n",
    "except:\n",
    "    print('Не получилось')"
   ]
  },
  {
   "cell_type": "markdown",
   "id": "52e688f6",
   "metadata": {},
   "source": [
    "## 5. Selenium: ActionChains <a name='part5'></a>\n",
    "\n",
    "Что такое `ActionChains`? Это способ автоматизации низкоуровневых взаимодействий, таких как движения мыши, действия с кнопками мыши, нажатие клавиш и взаимодействие с контекстным меню. \n",
    "\n",
    "**В чем преимущества `ActionChains`?**\n",
    "* **Вы реализуете сразу цепочку действий**: с помощью ActionChains вы не просто последовательно запускаете отдельные методы, а реализуете цепочки действий, которые выполняются последовательно. Это позволяет имитировать сложные действия пользователя.\n",
    "\n",
    "\n",
    "*  **Вы можете создавать сложные сценарии взаимодействия и работать с элементами, где требуется высокая точность**  – например, `ActionChains` подходит для сценариев вроде рисования на холсте или игры в браузере.\n",
    "\n",
    "Давайте вернемся к странице **\"Поиск\"** и перепишем наш код с помощью `ActionChains`:"
   ]
  },
  {
   "cell_type": "code",
   "execution_count": 211,
   "id": "f0aaa8cd",
   "metadata": {
    "scrolled": true
   },
   "outputs": [],
   "source": [
    "from selenium.webdriver.common.action_chains import ActionChains\n",
    "\n",
    "# Открываем страницу\n",
    "wb.get('https://mos-gorsud.ru/search')\n",
    "\n",
    "expand_search_button = wb.find_element(By.CLASS_NAME, 'extended ') # находим кнопку \"расширенный поиск\"\n",
    "open_menu_instance_var1 = wb.find_element(By.ID, 'instance-button') # находим элемент \"первая инстанция\"\n",
    "open_menu_instance_var2 = wb.find_element(By.CSS_SELECTOR, '#instance-button > span.ui-selectmenu-text') # второй вариант поиска\n",
    "# Зачем используем try-except? Потому что значение \"Первая\" не появляется если не кликнуть заранее на кнопку\n",
    "try:\n",
    "    open_menu_instance_var1.click() \n",
    "except:\n",
    "    open_menu_instance_var2.click()\n",
    "first_instance = wb.find_element(By.ID, 'ui-id-9') # ищем значение \"Первая \"\n",
    "\n",
    "\n",
    "# Использование ActionChains для выполнения последовательности действий\n",
    "\n",
    "actions = ActionChains(wb) # создаем экземпляр класса ActionChains\n",
    "actions.click(expand_search_button)  # будем кликать на кнопку \"расширенный поиск\"\n",
    "try:\n",
    "    actions.click(open_menu_instance_var1)    # будем кликать на кнопку \"раскрыть опции\" для выбора инстанции\n",
    "except:\n",
    "    actions.click(open_menu_instance_var2) # если не получится, то на второй элемент\n",
    "    \n",
    "actions.click(first_instance)        # далее будем кликать на первую инстанцию\n",
    "и                # выполним накопленные действия"
   ]
  },
  {
   "cell_type": "markdown",
   "id": "bbfe57df",
   "metadata": {},
   "source": [
    "А теперь давайте полностью перепишем код решения задачи №2 из ноутбука к семинару 13-14.\n",
    "\n",
    "<p></p>\n",
    "<center><b><font size=4>Задача №4. ActionChains </font></b></center>\n",
    "\n",
    "**Используя `ActionChains`, перепишите код из ячейки выше, добавив выбор года (`2023`) и поиск по тексту судебных решений – чтобы там присутствовало словосочетание `НИУ ВШЭ`. Итого в поиске должно быть:**\n",
    "\n",
    "* Год – `2023`;\n",
    "* Инстанция – `Первая`;\n",
    "* В тексте присутствовать словосочетание `НИУ ВШЭ`.\n",
    "\n",
    "**Покажите преподавательнице, что у вас получилось**.\n",
    "\n",
    "**Решение**\n",
    "\n",
    "Здесь вы можете встретить работу со списковыми включениями, которые не видели раньше. Выглядит это так:\n",
    "\n",
    "```button_2023 = [i for i in wb.find_elements(By.CLASS_NAME, 'ui-menu-item-wrapper') if i.text.strip() == '2023'][0]```\n",
    "\n",
    "Что тут происходит?\n",
    "* Вы ищите все элементы с названием класса `ui-menu-item-wrapper`;\n",
    "* Проходитесь по ним в цикле;\n",
    "* Оставляете в списке только те, текст за которыми `i.text.strip()` равен значению `2023`;\n",
    "* Берете только первое (и единственное) значение `[i for i in ..][0]`;\n",
    "* Сохраняете в переменную `button_2023`.\n",
    "\n",
    "\n",
    "**Это удобный способ искать элементы по значению, которое за ним стоит**. В Selenium есть метод поиска `wb.find_element(By.LINK_TEXT, ...)` и `wb.find_element(By.PARTIAL_LINK_TEXT, ..)`, но он позволяет работать только с объектами, за которыми стоят ссылки, а не с простыми элементами на странице. Попытайтесь использовать на открытой странице поиска ```[i.text for i in wb.find_elements(By.PARTIAL_LINK_TEXT, '2023')]``` и вы это увидите:"
   ]
  },
  {
   "cell_type": "code",
   "execution_count": 412,
   "id": "1e0d5d03",
   "metadata": {},
   "outputs": [
    {
     "data": {
      "text/plain": [
       "['02-4668/2023',\n",
       " '02-4564/2023',\n",
       " '02-3282/2023',\n",
       " '02-2932/2023',\n",
       " '02-2500/2023',\n",
       " '02-1845/2023',\n",
       " '02а-1544/2023',\n",
       " '02-1124/2023',\n",
       " '02-0986/2023',\n",
       " '02-0681/2023',\n",
       " '02а-0622/2023',\n",
       " '02а-0621/2023',\n",
       " '02а-0484/2023',\n",
       " '01-0476/2023',\n",
       " '01-0453/2023']"
      ]
     },
     "execution_count": 412,
     "metadata": {},
     "output_type": "execute_result"
    }
   ],
   "source": [
    "# Запустите этот код и увидите, что вам вернутся только текстовые значения, которые стоят за ссылками\n",
    "# Например, вы не увидите \"Удовлетворено частично, 15.08.2023\"\n",
    "[i.text for i in wb.find_elements(By.PARTIAL_LINK_TEXT, '2023')]"
   ]
  },
  {
   "cell_type": "code",
   "execution_count": 408,
   "id": "13e93fa5",
   "metadata": {},
   "outputs": [],
   "source": [
    "# Решение\n",
    "from selenium.webdriver.common.action_chains import ActionChains\n",
    "\n",
    "wb.implicitly_wait(3) # устанавливаем неявное ожидание (для всех элементов что будем искать до 3х секунд)\n",
    "wb.get('https://mos-gorsud.ru/search') # открываем ссылку\n",
    "\n",
    "expand_search_button = wb.find_element(By.CLASS_NAME, 'extended ') # находим кнопку \"расширенный поиск\"\n",
    "expand_search_button.click() # кликаем на неё\n",
    "\n",
    "open_menu_instance_var1 = wb.find_element(By.ID, 'instance-button') # находим элемент \"первая инстанция\"\n",
    "open_menu_instance_var2 = wb.find_element(By.CSS_SELECTOR, '#instance-button > span.ui-selectmenu-text') # второй вариант поиска\n",
    "# Зачем используем try-except? Потому что значение \"Первая\" не появляется если не кликнуть заранее на кнопку\n",
    "# Поэтому перед использованием ActionChains получаем значение ID для кнопки \"Первая инстанция\",\n",
    "# чтобы потом не словить ошибку (ведь изначально значения еще не подгрузились)\n",
    "try:\n",
    "    open_menu_instance_var1.click() \n",
    "except:\n",
    "    open_menu_instance_var2.click()\n",
    "first_instance = wb.find_element(By.ID, 'ui-id-9') # ищем значение \"Первая \"\n",
    "\n",
    "# ПЕРВЫЙ ОБЪЕКТ ACTIONCHAINS (отвечает за выбор инстанции)\n",
    "# 1. Использование ActionChains для выполнения последовательности действий со значением ИНСТАНЦИЯ\n",
    "actions = ActionChains(wb) # создаем экземпляр класса ActionChains\n",
    "try:\n",
    "    actions.click(open_menu_instance_var1)    # будем кликать на кнопку \"раскрыть опции\" для выбора инстанции\n",
    "except:\n",
    "    actions.click(open_menu_instance_var2) # если не получится, то на второй элемент\n",
    "try:\n",
    "    open_menu_instance_var1.click() # кликнем на кнопку еще раз чтобы раскрылся выбор вариантов\n",
    "except:\n",
    "    open_menu_instance_var2.click() # кликнем на кнопку еще раз\n",
    "    \n",
    "actions.move_to_element(first_instance) # перенесемся к варианту \"Первая\" (иснанция)\n",
    "actions.click(first_instance)        # кликнем на значение \"Первая\" (инстанция)\n",
    "actions.perform() # исполним накопленные действия\n",
    "\n",
    "# ВТОРОЙ ОБЪЕКТ ACTIONCHAINS (отвечает за выбор года, поле текст и кнопку \"Найти\")\n",
    "# 2. Теперь кликнем на поле \"Год\", и сперва получим значение элемента для кнопки \"2023\"\n",
    "open_year_var1 = wb.find_element(By.ID, 'ui-id-1-button') # ищем поле \"Год\" - вариант 1\n",
    "open_year_var2 = wb.find_element(By.CSS_SELECTOR, '#ui-id-1-button') # ищем поле \"Год\" - вариант 2\n",
    "\n",
    "try:\n",
    "    open_year_var1.click() # кликаем выбор года\n",
    "    time.sleep(1) # чуть-чуть ждем, да, к сожалению используя обычные паузы\n",
    "    # ищем кнопку \"2023\"\n",
    "    button_2023 = [i for i in wb.find_elements(By.CLASS_NAME, 'ui-menu-item-wrapper') if i.text.strip() == '2023'][0]\n",
    "except:\n",
    "    open_year_var2.click()\n",
    "    time.sleep(1)\n",
    "    button_2023 = [i for i in wb.find_elements(By.CLASS_NAME, 'ui-menu-item-wrapper') if i.text.strip() == '2023'][0]\n",
    "\n",
    "actions = ActionChains(wb) # создаем экземпляр класса ActionChains\n",
    "actions.move_to_element(button_2023) # двигаемся к варианту \"2023\"\n",
    "actions.click(button_2023) # кликаем на эту кнопку\n",
    "# Тут начинаем работать с полем для ввода текста\n",
    "text_field = wb.find_element(By.ID, 'documentText')\n",
    "actions.move_to_element(text_field)\n",
    "actions.click(text_field)\n",
    "actions.send_keys('НИУ ВШЭ') # посылаем это словосочетание в поле, на которое кликнули только что\n",
    "actions.click(wb.find_element(By.ID, 'case-index-search-form-btn')) # кликаем на кнопку \"Найти\"\n",
    "actions.perform() "
   ]
  },
  {
   "cell_type": "markdown",
   "id": "13aac3fe",
   "metadata": {},
   "source": [
    "## 6. os: менеджмент файлов на вашем компьютере <a name='part6'></a>\n",
    "\n",
    "Модуль `os` выступает в качестве интерфейса между Python и операционной системой, что позволяет управлять путями к файлам, создавать каталоги, получать информацию о запущенных процессах и переменных окружения и выполнять множество других полезных вещей. Документация os доступна по [ссылке](https://docs.python.org/3/library/os.html). \n",
    "\n",
    "Здесь мы сразу же используем и модуль `glob` - он используется для поиска файлов, удовлетворяющих определенным условиям."
   ]
  },
  {
   "cell_type": "code",
   "execution_count": 370,
   "id": "303999e6",
   "metadata": {},
   "outputs": [],
   "source": [
    "import os \n",
    "import glob"
   ]
  },
  {
   "cell_type": "code",
   "execution_count": 371,
   "id": "c24a6546",
   "metadata": {},
   "outputs": [
    {
     "name": "stdout",
     "output_type": "stream",
     "text": [
      "/Users/lika.kapustina/Downloads/Динамика_внутренней_элиты_в_диктатурах.pptx\n"
     ]
    }
   ],
   "source": [
    "your_downloads = '/Users/lika.kapustina/Downloads' # поменяйте это значение на папку со своими загрузкамми\n",
    "\n",
    "list_of_files = glob.glob(f'{your_downloads}/*') # * означает что мы ищем файлы всех форматов.\n",
    "latest_file = max(list_of_files, key=os.path.getctime) # используем в качестве ключа время\n",
    "print(latest_file) # напечатает название последнего по времени файла в ваших загрузках"
   ]
  },
  {
   "cell_type": "markdown",
   "id": "2d23dc19",
   "metadata": {},
   "source": [
    "Давайте адаптируем код выше к нашему коду и будем не только скачивать в цикле все файлы, но и сохранять информацию о том, для какого дела файл мы сохранили."
   ]
  },
  {
   "cell_type": "code",
   "execution_count": 218,
   "id": "c4e16823",
   "metadata": {},
   "outputs": [],
   "source": [
    "# wb = webdriver.Chrome(service=Service(ChromeDriverManager().install()))"
   ]
  },
  {
   "cell_type": "code",
   "execution_count": 224,
   "id": "1b3f0c31",
   "metadata": {},
   "outputs": [
    {
     "name": "stderr",
     "output_type": "stream",
     "text": [
      "100%|███████████████████████████████████████████| 30/30 [18:11<00:00, 36.38s/it]\n"
     ]
    }
   ],
   "source": [
    "downloaded_files = {}\n",
    "\n",
    "for link in tqdm.tqdm(links):\n",
    "    wb.get(link) # открываем дело\n",
    "    wait = WebDriverWait(wb, 3) # подождем 3 секунды ИЛИ пока кнопка \"документы\" не будет найдена\n",
    "    \n",
    "    try:\n",
    "        # Сценарий 1: на странице есть кнопка \"Документы\" и нужно кликнуть на неё чтобы увидеть файлы\n",
    "        # воспользуемся ожиданием, проверяющим, кликабельный ли элемент\n",
    "        element = wait.until(EC.element_to_be_clickable((By.ID, 'ui-id-3'))) # пытаемся нажать на кнопку \"Документы\"\n",
    "        element.click() # кликаем на документы\n",
    "        html = br.page_source\n",
    "        soup = BeautifulSoup(html)\n",
    "        links_for_files = [f\"https://mos-gorsud.ru{i.get('href')}\" for i in soup.find_all('a') if 'Скачать файл' in i.text] # получаем список элементов, которые можно скачать\n",
    "    except:\n",
    "        # Сценарий 2: на странице нет кнопки \"Документы\", но документы для скачивания доступны на основной странице\n",
    "        try:\n",
    "            links_for_files = [f\"https://mos-gorsud.ru{i.get('href')}\" for i in soup.find_all('a') if 'Скачать файл' in i.text] # получаем список элементов, которые можно скачать\n",
    "        # Сценарий 3: на странице не найдено\n",
    "        except:\n",
    "            print(f'На странице {link} не найдено файлов для скачивания.')\n",
    "            continue # если не было не найдено никаких файлов, сразу переходим к работе со следующей ссылкой\n",
    "    \n",
    "    # Перейдем к работе со следующей ссылкой если ошибок не возникло, но нет ссылок для скачивания\n",
    "    if len(links_for_files) == 0:\n",
    "        continue\n",
    "        \n",
    "    # Этот блок кода запускается если у нас есть какие-то ссылки для скачивания \n",
    "    downloaded_files[link] = [] # создаем новый ключ (ссылка) и присваиваем значение - пустой список.\n",
    "     \n",
    "    # Пройдемся по всем ссылкам на скачивание на странице ОДНОГО дела\n",
    "    for one_file_link in links_for_files:\n",
    "        wb.get(one_file_link)\n",
    "        time.sleep(2) # простите мне паузу в 2 секунды, это нужно чтобы файл скачался\n",
    "        \n",
    "        # теперь получим название последнего скачанного файла\n",
    "        list_of_files = glob.glob(f'{your_downloads}/*') # получаем список элементов которые были в папке \"Загрузки\"\n",
    "        latest_file = max(list_of_files, key=os.path.getctime) # получаем последний скачанный элемент\n",
    "        \n",
    "        downloaded_files[link].append(latest_file)"
   ]
  },
  {
   "cell_type": "markdown",
   "id": "481aeaa1",
   "metadata": {},
   "source": [
    "Теперь посмотрим на то что получилось:"
   ]
  },
  {
   "cell_type": "code",
   "execution_count": 225,
   "id": "7a08bbe0",
   "metadata": {
    "collapsed": true
   },
   "outputs": [
    {
     "data": {
      "text/plain": [
       "{'https://mos-gorsud.ru/rs/nikulinskij/services/cases/civil/details/16cd8a51-cf91-11ed-901b-a51792e7d9cf?year=2023&formType=fullForm': ['/Users/lika.kapustina/Downloads/Дело 02-4564_2023. Мотивированное решение. документ - обезличенная копия (30).docx',\n",
       "  '/Users/lika.kapustina/Downloads/Дело 02-4564_2023. Мотивированное решение. документ - обезличенная копия (31).docx'],\n",
       " 'https://mos-gorsud.ru/rs/horoshevskij/services/cases/civil/details/63577af0-c944-11ed-ab7e-afa5fd1f1a80?year=2023&formType=fullForm': ['/Users/lika.kapustina/Downloads/Дело 02-4564_2023. Мотивированное решение. документ - обезличенная копия (32).docx',\n",
       "  '/Users/lika.kapustina/Downloads/Дело 02-4564_2023. Мотивированное решение. документ - обезличенная копия (33).docx'],\n",
       " 'https://mos-gorsud.ru/rs/basmannyj/services/cases/civil/details/7da80261-cd6f-11ed-91bc-678868b51ab8?year=2023&formType=fullForm': ['/Users/lika.kapustina/Downloads/Дело 02-4564_2023. Мотивированное решение. документ - обезличенная копия (34).docx',\n",
       "  '/Users/lika.kapustina/Downloads/Дело 02-4564_2023. Мотивированное решение. документ - обезличенная копия (35).docx'],\n",
       " 'https://mos-gorsud.ru/rs/chertanovskij/services/cases/civil/details/90d28981-c281-11ed-b232-6fb0d5e1e88d?year=2023&formType=fullForm': ['/Users/lika.kapustina/Downloads/Дело 02-4564_2023. Мотивированное решение. документ - обезличенная копия (36).docx',\n",
       "  '/Users/lika.kapustina/Downloads/Дело 02-4564_2023. Мотивированное решение. документ - обезличенная копия (37).docx'],\n",
       " 'https://mos-gorsud.ru/rs/basmannyj/services/cases/civil/details/6afd9811-934e-11ed-aa38-dd42c3d462a2?year=2023&formType=fullForm': ['/Users/lika.kapustina/Downloads/Дело 02-4564_2023. Мотивированное решение. документ - обезличенная копия (38).docx',\n",
       "  '/Users/lika.kapustina/Downloads/Дело 02-4564_2023. Мотивированное решение. документ - обезличенная копия (39).docx'],\n",
       " 'https://mos-gorsud.ru/rs/basmannyj/services/cases/civil/details/5b6e1581-4017-11ed-a880-fd90264a79ff?year=2023&formType=fullForm': ['/Users/lika.kapustina/Downloads/Дело 02-4564_2023. Мотивированное решение. документ - обезличенная копия (40).docx',\n",
       "  '/Users/lika.kapustina/Downloads/Дело 02-4564_2023. Мотивированное решение. документ - обезличенная копия (41).docx'],\n",
       " 'https://mos-gorsud.ru/rs/basmannyj/services/cases/civil/details/6d333e60-3d7b-11ed-9016-67ae9e523f4f?year=2023&formType=fullForm': ['/Users/lika.kapustina/Downloads/Дело 02-4564_2023. Мотивированное решение. документ - обезличенная копия (42).docx',\n",
       "  '/Users/lika.kapustina/Downloads/Дело 02-4564_2023. Мотивированное решение. документ - обезличенная копия (43).docx'],\n",
       " 'https://mos-gorsud.ru/rs/dorogomilovskij/services/cases/civil/details/9456a0d0-3750-11ed-864d-2fc2ddf82d94?year=2023&formType=fullForm': ['/Users/lika.kapustina/Downloads/Дело 02-4564_2023. Мотивированное решение. документ - обезличенная копия (44).docx',\n",
       "  '/Users/lika.kapustina/Downloads/Дело 02-4564_2023. Мотивированное решение. документ - обезличенная копия (45).docx'],\n",
       " 'https://mos-gorsud.ru/rs/gagarinskij/services/cases/kas/details/04cf8881-e062-11ed-8599-75e501d02ab0?year=2023&formType=fullForm': ['/Users/lika.kapustina/Downloads/Дело 02-4564_2023. Мотивированное решение. документ - обезличенная копия (46).docx',\n",
       "  '/Users/lika.kapustina/Downloads/Дело 02-4564_2023. Мотивированное решение. документ - обезличенная копия (47).docx'],\n",
       " 'https://mos-gorsud.ru/rs/lyublinskij/services/cases/kas/details/10e27880-0628-11ee-a80b-5135c3097443?year=2023&formType=fullForm': ['/Users/lika.kapustina/Downloads/Дело 02-4564_2023. Мотивированное решение. документ - обезличенная копия (48).docx',\n",
       "  '/Users/lika.kapustina/Downloads/Дело 02-4564_2023. Мотивированное решение. документ - обезличенная копия (49).docx'],\n",
       " 'https://mos-gorsud.ru/rs/basmannyj/services/cases/kas/details/9f661f60-ab8a-11ed-9aa9-4bcb8991dd45?year=2023&formType=fullForm': ['/Users/lika.kapustina/Downloads/Дело 02-4564_2023. Мотивированное решение. документ - обезличенная копия (50).docx',\n",
       "  '/Users/lika.kapustina/Downloads/Дело 02-4564_2023. Мотивированное решение. документ - обезличенная копия (51).docx'],\n",
       " 'https://mos-gorsud.ru/rs/tushinskij/services/cases/criminal/details/928b9240-cf05-11ed-ae9b-fdb62f39c802?year=2023&formType=fullForm': ['/Users/lika.kapustina/Downloads/Дело 02-4564_2023. Мотивированное решение. документ - обезличенная копия (52).docx',\n",
       "  '/Users/lika.kapustina/Downloads/Дело 02-4564_2023. Мотивированное решение. документ - обезличенная копия (53).docx'],\n",
       " 'https://mos-gorsud.ru/rs/zamoskvoreckij/services/cases/criminal/details/267633c0-45b2-11ee-95af-8bf81380d527?year=2023&formType=fullForm': ['/Users/lika.kapustina/Downloads/Дело 02-4564_2023. Мотивированное решение. документ - обезличенная копия (54).docx',\n",
       "  '/Users/lika.kapustina/Downloads/Дело 02-4564_2023. Мотивированное решение. документ - обезличенная копия (55).docx'],\n",
       " 'https://mos-gorsud.ru/rs/taganskij/services/cases/civil/details/091ecb21-9734-11ed-8ecd-0f1c23b53481?year=2023&formType=fullForm': ['/Users/lika.kapustina/Downloads/Дело 02-4564_2023. Мотивированное решение. документ - обезличенная копия (56).docx',\n",
       "  '/Users/lika.kapustina/Downloads/Дело 02-4564_2023. Мотивированное решение. документ - обезличенная копия (57).docx'],\n",
       " 'https://mos-gorsud.ru/rs/basmannyj/services/cases/criminal/details/071d64e0-bf4c-11ed-bd85-6751552d0bab?year=2023&formType=fullForm': ['/Users/lika.kapustina/Downloads/Дело 02-4564_2023. Мотивированное решение. документ - обезличенная копия (58).docx',\n",
       "  '/Users/lika.kapustina/Downloads/Дело 02-4564_2023. Мотивированное решение. документ - обезличенная копия (59).docx']}"
      ]
     },
     "execution_count": 225,
     "metadata": {},
     "output_type": "execute_result"
    }
   ],
   "source": [
    "downloaded_files"
   ]
  },
  {
   "cell_type": "markdown",
   "id": "7634d96d",
   "metadata": {},
   "source": [
    "<p></p>\n",
    "<center><b><font size=4>Задача №5. Менеджмент файлов </font></b></center>\n",
    "\n",
    "**Воспользуйтесь поиском по документации `os`, stackoverflow и другими ресурсами и сделайте следующее**:\n",
    "* С помощью `os` создайте папку `mosgorsud_hse_data` на вашем **рабочем столе**;\n",
    "* Пройдитесь по всем документам из вашего словаря и, используя функции os, **переместите эти файлы в эту папку**;\n",
    "* Перезапишите в словарь новый путь к файлу;\n",
    "* Напечатайте словарь."
   ]
  },
  {
   "cell_type": "code",
   "execution_count": null,
   "id": "a788d6ee",
   "metadata": {},
   "outputs": [],
   "source": [
    "download_path = '/Users/lika.kapustina/Downloads' # путь к моей папке с загрузками\n",
    "new_path = '/Users/lika.kapustina/Desktop/mosgorsud_hse_data/' # создаю путь, НО не папку(!)\n",
    "# идем по словарю, по ключу и по значению\n",
    "for link, files in downloaded_files.items():\n",
    "    new_pathes = [] # сюда будем сохранять новые адреса файлов\n",
    "    # идем по файлам (их может быть несколько)\n",
    "    for file in files:\n",
    "        # пробуем обработать файл\n",
    "        try:\n",
    "            current_name_of_file = file # нынешний абсолютный адрес файла\n",
    "            new_name_of_file = current_name_of_file.replace(download_path, new_path) # создаем новый путь\n",
    "            os.renames(current_name_of_file, new_name_of_file) # перемещаю файл с помощью os.renames()\n",
    "            new_pathes.append(new_name_of_file)\n",
    "        # если возникает ошибка, то \n",
    "        except Exception as e:\n",
    "            print(e) # печатаем ошибку\n",
    "            new_pathes.append(file) # вновь добавляем путь в файл\n",
    "    # В конце обновляем словарь: перезаписываем туда новые пути к файлам\n",
    "    downloaded_files[link] = new_pathes"
   ]
  },
  {
   "cell_type": "markdown",
   "id": "863200f5",
   "metadata": {},
   "source": [
    "## Дополнительно: что еще можно делать с помощью Selenium? Краткий обзор возможностей<a name='partlast'></a>\n",
    "\n",
    "**Работа с Selenium предоставляет вам множество возможностей. Вот только некоторые из них:**\n",
    "* Поиск элементов по локаторам (семинар 13-14);\n",
    "* Автоматизированный ввод значений в поля и отправка форм (семинар 13-14);\n",
    "* Клики по элементам (семинар 13-14);\n",
    "* Управление браузером, включая:\n",
    "    * Обновление страницы;\n",
    "    * Переключение по вкладкам;\n",
    "    * Возвращение на предыдущую вкладку, etc.\n",
    "* Скроллинг страниц, включая:\n",
    "    * Перемещение вверх и вниз страницы;\n",
    "    * Перемещение к конкретному элементу;\n",
    "    * Использование курсора и нажатия на элементы ПКМ и ЛКМ;\n",
    "* Работа с cookies:\n",
    "    * Получение текущих cookies;\n",
    "    * Отправка заранее подготовленного объекта cookies;\n",
    "* Запускать код javascript в браузере;\n",
    "* Использование методов drag-and-drop: перемещение элементов из одной точки экрана в другую;\n",
    "* Работа с всплывающими (модальными) окнами (включая предупреждения);\n",
    "* Получение скриншотов экрана.\n",
    "\n",
    "Найти как реализовать эти возможности Selenium можно в интернете, на stackoverflow или в официальной документации. Selenium предлагает вам много возможностей для автоматизации действий, включая сбор данных, и я надеюсь что то что мы с вами обсудили будет полезно для ваших учебных и рабочих проектов."
   ]
  }
 ],
 "metadata": {
  "colab": {
   "provenance": []
  },
  "kernelspec": {
   "display_name": "Python 3 (ipykernel)",
   "language": "python",
   "name": "python3"
  },
  "language_info": {
   "codemirror_mode": {
    "name": "ipython",
    "version": 3
   },
   "file_extension": ".py",
   "mimetype": "text/x-python",
   "name": "python",
   "nbconvert_exporter": "python",
   "pygments_lexer": "ipython3",
   "version": "3.9.13"
  }
 },
 "nbformat": 4,
 "nbformat_minor": 5
}
