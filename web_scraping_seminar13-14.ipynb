{
 "cells": [
  {
   "cell_type": "markdown",
   "id": "8f237e0f",
   "metadata": {
    "id": "8f237e0f"
   },
   "source": [
    "# Сбор данных с Web-scraping и API для социально-научных исследований\n",
    "---\n",
    "## Семинары 13-14. Введение в Selenium. Работа с открытыми судебными данными. Менеджмент файлов на компьютере с помощью os.\n",
    "\n",
    "---\n",
    "*ФСН, ОП \"Политология\", 2023-2024 гг.*\n",
    "\n",
    "Лика Капустина,\n",
    "\n",
    "lkapustina@hse.ru\n",
    "\n",
    "**План занятия:**\n",
    "1. [1. Selenium: введение и использование web-driver](#part1)\n",
    "2. [2. Selenium: работа с элементами страницы](#part2)\n",
    "3. [3. Selenium: обработка html страницы (привет, BeautifulSoup)](#part3)\n",
    "4. [4. Selenium: явные и неявные ожидания и обработка исключений](#part4)\n",
    "5. [5. os: менеджмент файлов на вашем компьютере](#part5)\n",
    "---\n",
    "\n",
    "**Основные ссылки:**\n",
    "- [Документация Selenium на Python](https://selenium-python.readthedocs.io);\n",
    "- [Неофициальный перевод документации Selenium на Python на русский](https://habr.com/ru/articles/248559/);\n",
    "- [Документация BeautifulSoup на русском](https://www.crummy.com/software/BeautifulSoup/bs4/doc.ru/bs4ru.html);\n",
    "- [Документация os](https://docs.python.org/3/library/os.html);\n",
    "- [Распространенные exceptions в Selenium](https://www.selenium.dev/selenium/docs/api/py/common/selenium.common.exceptions.html)."
   ]
  },
  {
   "cell_type": "code",
   "execution_count": 3,
   "id": "a184b233",
   "metadata": {},
   "outputs": [],
   "source": [
    "# импорт основных библиотек\n",
    "import pandas as pd # работа с таблицами\n",
    "import numpy as np  # математические операции и пр.\n",
    "import tqdm         # для дальнейшего импорта прогресс-бара\n",
    "import time         # для обычных пауз"
   ]
  },
  {
   "cell_type": "markdown",
   "id": "7cfbfed4",
   "metadata": {},
   "source": [
    "## 1. Selenium: введение и использование web-driver<a name='part1'></a>\n",
    "\n",
    "**Что такое Selenium?**\n",
    "    \n",
    "Selenium – программная библиотека для управления браузерами. Появилась в 2011 году и используется преимущественно для автоматизированного тестирования сайтов, но получила распространение и как инструмент, с помощью которого можно взаимодействовать с Javascript на сайтах и имитировать действия реального пользователя. \n",
    "    \n",
    "**Ниже я продемонстрирую одну из причин, по которой вам иногда необходимо использовать Selenium**. \n",
    "\n",
    "Некоторые сайты не отдают html страниц в ответ на запросы ботов:"
   ]
  },
  {
   "cell_type": "code",
   "execution_count": 51,
   "id": "338719a6",
   "metadata": {},
   "outputs": [
    {
     "name": "stdout",
     "output_type": "stream",
     "text": [
      "\n"
     ]
    }
   ],
   "source": [
    "import requests # импортируем requests для отправки запросов\n",
    "from bs4 import BeautifulSoup # импортируем BeautifulSoup\n",
    "\n",
    "# получим html-разметку со страницы поиска Московского Городского Суда\n",
    "html = requests.get('https://mos-gorsud.ru/search') # сайт московского городского суда\n",
    "soup = BeautifulSoup(html.text) # получаем суп\n",
    "print(soup.prettify()) # что тут? Да, тут пусто"
   ]
  },
  {
   "cell_type": "markdown",
   "id": "fd3624ff",
   "metadata": {},
   "source": [
    "Или в качестве `response` возвращают объекты с неполным содержанием. Например, сейчас мы попытаемся отправить запрос к странице [Высшей школы экономики в ВКонтакте](https://vk.com/hse). На этой странице содержится информация о группе Вышки в ВК, а также посты сообщества."
   ]
  },
  {
   "cell_type": "code",
   "execution_count": 70,
   "id": "a86219bc",
   "metadata": {},
   "outputs": [],
   "source": [
    "html = requests.get('https://vk.com/hse') # отправляем запрос\n",
    "soup = BeautifulSoup(html.text) # обрабатываем html\n",
    "#print(soup.prettify())"
   ]
  },
  {
   "cell_type": "markdown",
   "id": "cb5ea647",
   "metadata": {},
   "source": [
    "Зачастую единственное решение в таких случаях – либо пользоваться API сайта (если оно существует), либо использовать Selenium для имитации браузера и действий реального пользователя."
   ]
  },
  {
   "cell_type": "markdown",
   "id": "baadf25a",
   "metadata": {},
   "source": [
    "### Использование Selenium webdriver\n",
    "\n",
    "**Что такое `webdriver`?** Webdriver – это основная сущность в Selenium, которая отвечает за управление браузером. \n",
    "\n",
    "Сейчас мы воспользуемся `WebdriverManager` – это класс, который поможет нам не мучаться с установкой WebDriver под каждую новую версию Google Chrome.\n",
    "\n",
    "**Альтернатива**. Альтернативный способ установки webdriver для автоматизированной работы с браузером с помощью Selenium представляет из себя скачивание [ChromeDriver](https://chromedriver.chromium.org) под определенную версию Chrome. Это выглядело так: вы скачиваете Chromedriver под определенную версию своего браузера Chrome и каждый раз после выхода новой версии Google Chrome вы заново скачиваете подходящую версию ChromeDriver. С выхода версии 115 Google Chrome процесс скачивания подходящей версии стал [сложнее](https://www.browserstack.com/guide/run-selenium-tests-using-selenium-chromedriver). **Поэтому я советую вам пользоваться установкой Chromedriver через `ChromeDriverManager()`.**"
   ]
  },
  {
   "cell_type": "code",
   "execution_count": 2,
   "id": "d6fb09f9",
   "metadata": {},
   "outputs": [],
   "source": [
    "#!pip install selenium # установка selenium\n",
    "#!pip install webdriver-manager # установка пакета webdriver_manager"
   ]
  },
  {
   "cell_type": "markdown",
   "id": "2cd84ba6",
   "metadata": {},
   "source": [
    "**`webdriver.Chrome()`, `ChromeDriverManager()`, `wb.get()`**\n",
    "\n",
    "С помощью кода ниже мы cоздадим `selenium.webdriver.chrome.webdriver.WebDriver`, откроем определенную страницу, а по прошествии 5 секунд она будет закрыта. Такая запись с помощью `with` позволяет создать объект webdriver в первой строчке, а далее прописать код, который будет использован до автоматического прекращения работы webdriver (по окончанию последней строчки кода):"
   ]
  },
  {
   "cell_type": "code",
   "execution_count": 8,
   "id": "0396b3ea",
   "metadata": {},
   "outputs": [],
   "source": [
    "from selenium import webdriver # импорт драйвера\n",
    "from selenium.webdriver.chrome.service import Service # импортируем сущность Service\n",
    "from webdriver_manager.chrome import ChromeDriverManager # импорт драйвера для Google Chrome\n",
    "\n",
    "\n",
    "with webdriver.Chrome(service=Service(ChromeDriverManager().install())) as wb:\n",
    "    wb.get(\"https://www.hse.ru/edu/courses/875214615\") # открываем определенную страницу\n",
    "    time.sleep(5) # открываем страницу на 5 секунд, через 5 секунд она закроется"
   ]
  },
  {
   "cell_type": "markdown",
   "id": "557cb0c7",
   "metadata": {},
   "source": [
    "**Есть альтернатива**\n",
    "\n",
    "Используйте строчку кода ниже, чтобы открыть окно Google Chrome с помощью webdriver и присвоить имя `wb` вашему `selenium.webdriver.chrome.webdriver.WebDriver`."
   ]
  },
  {
   "cell_type": "code",
   "execution_count": 182,
   "id": "e6b4e6f0",
   "metadata": {},
   "outputs": [],
   "source": [
    "wb = webdriver.Chrome(service=Service(ChromeDriverManager().install())) # делается это так"
   ]
  },
  {
   "cell_type": "code",
   "execution_count": 18,
   "id": "d14e3c6a",
   "metadata": {},
   "outputs": [
    {
     "data": {
      "text/plain": [
       "<selenium.webdriver.chrome.webdriver.WebDriver (session=\"edfdc034014c87ad28421c29b4fa2700\")>"
      ]
     },
     "execution_count": 18,
     "metadata": {},
     "output_type": "execute_result"
    }
   ],
   "source": [
    "wb # можем исследовать наш объект Webdriver"
   ]
  },
  {
   "cell_type": "code",
   "execution_count": 21,
   "id": "3fbae610",
   "metadata": {},
   "outputs": [
    {
     "data": {
      "text/plain": [
       "selenium.webdriver.chrome.webdriver.WebDriver"
      ]
     },
     "execution_count": 21,
     "metadata": {},
     "output_type": "execute_result"
    }
   ],
   "source": [
    "type(wb) # и посмотреть на его тип"
   ]
  },
  {
   "cell_type": "markdown",
   "id": "6e7b356a",
   "metadata": {},
   "source": [
    "**`selenium.webdriver.chrome.options`**\n",
    "\n",
    "При использовании `Selenium` вы можете использовать большое количество разных возможностей: например, открыть окно браузера в полный экран. Для этого нужно поработать с классом `Options()`:"
   ]
  },
  {
   "cell_type": "code",
   "execution_count": 72,
   "id": "7f2152a3",
   "metadata": {},
   "outputs": [],
   "source": [
    "from selenium.webdriver.chrome.options import Options \n",
    "\n",
    "options = Options() # создаем сущность Options\n",
    "options.add_argument(\"start-maximized\") # уточняем, что хотим чтобы при открытии окно было открыто максимально широко\n",
    "wb = webdriver.Chrome(service=Service(ChromeDriverManager().install()), options=options) # создаем вебдрайвер\n",
    "wb.get(\"https://www.hse.ru/edu/courses/875214615\") # открываем ссылку"
   ]
  },
  {
   "cell_type": "markdown",
   "id": "61b95cae",
   "metadata": {},
   "source": [
    "**Ручное взаимодействие с открытой страницей браузера и `wb.current_url`** \n",
    "\n",
    "С помощью метода `wb.current_url` вы можете получить ссылку на конкретную страницу. Зачем это нужно? В некоторых проектах вы можете переключаться между страницами (например, страницами новостей, профилями в социальных сетях) с помощью кнопок и других элементов (то есть, у вас не будет изначального списка ссылок, по которому вы будете идти). Чтобы сохранить в датафрейм информацию по данной конкретной странице, вам нужно будет использовать метод `wb.current_url`.\n",
    "\n",
    "**Другая особенность Selenium – вы можете переключаться между разными страницами в открытом вами окне и браузер будет запоминать ваши действия**. Например:\n",
    "* Вы можете открыть страницу социальной сети, залогиниться там вручную (не посылая значения в поля), а дальше использовать скрипт, написанный с использованием Selenium для выполнения автоматических действий. \n",
    "* Вы можете открыть страницу социальной сети, залогиниться там вручную (не посылая значения в поля), вручную ввести код подтверждения который пришел вам на телефон, а дальше использовать скрипт, написанный с использованием Selenium для выполнения автоматических действий.\n",
    "* Вы можете открыть страницу и нажать на определенную кнопку настроек (например, *переключиться на светлую тему* или *скрыть уведомления*), и при работе с открытым в рамках данной сессии окном вебдрайвер запомнит настройки на этом сайте.\n",
    "\n",
    "Продемонстрируем на примере, что браузер проследит за вашими действиями:"
   ]
  },
  {
   "cell_type": "code",
   "execution_count": 73,
   "id": "22d8af5e",
   "metadata": {},
   "outputs": [
    {
     "data": {
      "text/plain": [
       "'https://www.hse.ru/edu/courses/875214615'"
      ]
     },
     "execution_count": 73,
     "metadata": {},
     "output_type": "execute_result"
    }
   ],
   "source": [
    "time.sleep(3)\n",
    "print(wb.current_url) # это наша нынешняя ссылка"
   ]
  },
  {
   "cell_type": "code",
   "execution_count": 74,
   "id": "7c7ddc78",
   "metadata": {},
   "outputs": [],
   "source": [
    "# давайте немного походим по сайту"
   ]
  },
  {
   "cell_type": "code",
   "execution_count": 75,
   "id": "4357e08c",
   "metadata": {},
   "outputs": [
    {
     "name": "stdout",
     "output_type": "stream",
     "text": [
      "https://www.hse.ru/\n"
     ]
    }
   ],
   "source": [
    "# и теперь напечатаем ссылку страницы, которую мы только что открыли\n",
    "time.sleep(3)\n",
    "print(wb.current_url)"
   ]
  },
  {
   "cell_type": "markdown",
   "id": "836001a9",
   "metadata": {},
   "source": [
    "**`wb.close()` и `wb.quit()`**\n",
    "\n",
    "Вы также можете закрыть открытое с помощью вебдрайвера окно. Это можно сделать с помощью метода `wb.close()` или `wb.quit()`.\n",
    "\n",
    "* `wb.close()` - закрывает браузер, который сейчас открыт;\n",
    "\n",
    "* `wb.quit()` - закрывает все окна и уничтожает сущность Webdriver. На практике вы не почувствуете разницы."
   ]
  },
  {
   "cell_type": "code",
   "execution_count": 183,
   "id": "29ebd521",
   "metadata": {},
   "outputs": [],
   "source": [
    "time.sleep(5) # сперва подождем пять секунд\n",
    "wb.close()    # теперь закроем открытое окно"
   ]
  },
  {
   "cell_type": "code",
   "execution_count": 181,
   "id": "35cc040e",
   "metadata": {},
   "outputs": [],
   "source": [
    "time.sleep(3) # подождем три секунды\n",
    "wb.quit()     # другой способ"
   ]
  },
  {
   "cell_type": "markdown",
   "id": "e8b10df8",
   "metadata": {},
   "source": [
    "Обратите внимание - когда вы закрываете окно, вы больше **не можете взаимодействовать с тем окном, которым пользовались раньше**. Вам придется вновь создавать webdriver (`selenium.webdriver.chrome.webdriver.WebDriver`) и взаимодействовать уже с новым окном."
   ]
  },
  {
   "cell_type": "code",
   "execution_count": 16,
   "id": "883b919f",
   "metadata": {
    "collapsed": true
   },
   "outputs": [
    {
     "ename": "InvalidSessionIdException",
     "evalue": "Message: invalid session id\nStacktrace:\n0   chromedriver                        0x0000000100fef538 chromedriver + 4687160\n1   chromedriver                        0x0000000100fe6d83 chromedriver + 4652419\n2   chromedriver                        0x0000000100bd7dcb chromedriver + 396747\n3   chromedriver                        0x0000000100c15ac7 chromedriver + 649927\n4   chromedriver                        0x0000000100c467e4 chromedriver + 849892\n5   chromedriver                        0x0000000100c412f2 chromedriver + 828146\n6   chromedriver                        0x0000000100c40b6d chromedriver + 826221\n7   chromedriver                        0x0000000100ba46bf chromedriver + 186047\n8   chromedriver                        0x0000000100faf980 chromedriver + 4426112\n9   chromedriver                        0x0000000100fb4c18 chromedriver + 4447256\n10  chromedriver                        0x0000000100f93e81 chromedriver + 4312705\n11  chromedriver                        0x0000000100fb5966 chromedriver + 4450662\n12  chromedriver                        0x0000000100f85c9c chromedriver + 4254876\n13  chromedriver                        0x0000000100ba2f93 chromedriver + 180115\n14  dyld                                0x0000000201c4e41f start + 1903\n",
     "output_type": "error",
     "traceback": [
      "\u001b[0;31m---------------------------------------------------------------------------\u001b[0m",
      "\u001b[0;31mInvalidSessionIdException\u001b[0m                 Traceback (most recent call last)",
      "\u001b[0;32m/var/folders/lj/_28hw2ts0ys306v1sq_8mxzh0000gn/T/ipykernel_12384/2631061795.py\u001b[0m in \u001b[0;36m<module>\u001b[0;34m\u001b[0m\n\u001b[0;32m----> 1\u001b[0;31m \u001b[0mwb\u001b[0m\u001b[0;34m.\u001b[0m\u001b[0mcurrent_url\u001b[0m\u001b[0;34m\u001b[0m\u001b[0;34m\u001b[0m\u001b[0m\n\u001b[0m",
      "\u001b[0;32m/opt/anaconda3/lib/python3.9/site-packages/selenium/webdriver/remote/webdriver.py\u001b[0m in \u001b[0;36mcurrent_url\u001b[0;34m(self)\u001b[0m\n\u001b[1;32m    906\u001b[0m                 \u001b[0mdriver\u001b[0m\u001b[0;34m.\u001b[0m\u001b[0mcurrent_url\u001b[0m\u001b[0;34m\u001b[0m\u001b[0;34m\u001b[0m\u001b[0m\n\u001b[1;32m    907\u001b[0m         \"\"\"\n\u001b[0;32m--> 908\u001b[0;31m         \u001b[0;32mreturn\u001b[0m \u001b[0mself\u001b[0m\u001b[0;34m.\u001b[0m\u001b[0mexecute\u001b[0m\u001b[0;34m(\u001b[0m\u001b[0mCommand\u001b[0m\u001b[0;34m.\u001b[0m\u001b[0mGET_CURRENT_URL\u001b[0m\u001b[0;34m)\u001b[0m\u001b[0;34m[\u001b[0m\u001b[0;34m'value'\u001b[0m\u001b[0;34m]\u001b[0m\u001b[0;34m\u001b[0m\u001b[0;34m\u001b[0m\u001b[0m\n\u001b[0m\u001b[1;32m    909\u001b[0m \u001b[0;34m\u001b[0m\u001b[0m\n\u001b[1;32m    910\u001b[0m     \u001b[0;34m@\u001b[0m\u001b[0mproperty\u001b[0m\u001b[0;34m\u001b[0m\u001b[0;34m\u001b[0m\u001b[0m\n",
      "\u001b[0;32m/opt/anaconda3/lib/python3.9/site-packages/selenium/webdriver/remote/webdriver.py\u001b[0m in \u001b[0;36mexecute\u001b[0;34m(self, driver_command, params)\u001b[0m\n\u001b[1;32m    416\u001b[0m         \u001b[0mresponse\u001b[0m \u001b[0;34m=\u001b[0m \u001b[0mself\u001b[0m\u001b[0;34m.\u001b[0m\u001b[0mcommand_executor\u001b[0m\u001b[0;34m.\u001b[0m\u001b[0mexecute\u001b[0m\u001b[0;34m(\u001b[0m\u001b[0mdriver_command\u001b[0m\u001b[0;34m,\u001b[0m \u001b[0mparams\u001b[0m\u001b[0;34m)\u001b[0m\u001b[0;34m\u001b[0m\u001b[0;34m\u001b[0m\u001b[0m\n\u001b[1;32m    417\u001b[0m         \u001b[0;32mif\u001b[0m \u001b[0mresponse\u001b[0m\u001b[0;34m:\u001b[0m\u001b[0;34m\u001b[0m\u001b[0;34m\u001b[0m\u001b[0m\n\u001b[0;32m--> 418\u001b[0;31m             \u001b[0mself\u001b[0m\u001b[0;34m.\u001b[0m\u001b[0merror_handler\u001b[0m\u001b[0;34m.\u001b[0m\u001b[0mcheck_response\u001b[0m\u001b[0;34m(\u001b[0m\u001b[0mresponse\u001b[0m\u001b[0;34m)\u001b[0m\u001b[0;34m\u001b[0m\u001b[0;34m\u001b[0m\u001b[0m\n\u001b[0m\u001b[1;32m    419\u001b[0m             response['value'] = self._unwrap_value(\n\u001b[1;32m    420\u001b[0m                 response.get('value', None))\n",
      "\u001b[0;32m/opt/anaconda3/lib/python3.9/site-packages/selenium/webdriver/remote/errorhandler.py\u001b[0m in \u001b[0;36mcheck_response\u001b[0;34m(self, response)\u001b[0m\n\u001b[1;32m    241\u001b[0m                 \u001b[0malert_text\u001b[0m \u001b[0;34m=\u001b[0m \u001b[0mvalue\u001b[0m\u001b[0;34m[\u001b[0m\u001b[0;34m'alert'\u001b[0m\u001b[0;34m]\u001b[0m\u001b[0;34m.\u001b[0m\u001b[0mget\u001b[0m\u001b[0;34m(\u001b[0m\u001b[0;34m'text'\u001b[0m\u001b[0;34m)\u001b[0m\u001b[0;34m\u001b[0m\u001b[0;34m\u001b[0m\u001b[0m\n\u001b[1;32m    242\u001b[0m             \u001b[0;32mraise\u001b[0m \u001b[0mexception_class\u001b[0m\u001b[0;34m(\u001b[0m\u001b[0mmessage\u001b[0m\u001b[0;34m,\u001b[0m \u001b[0mscreen\u001b[0m\u001b[0;34m,\u001b[0m \u001b[0mstacktrace\u001b[0m\u001b[0;34m,\u001b[0m \u001b[0malert_text\u001b[0m\u001b[0;34m)\u001b[0m  \u001b[0;31m# type: ignore[call-arg]  # mypy is not smart enough here\u001b[0m\u001b[0;34m\u001b[0m\u001b[0;34m\u001b[0m\u001b[0m\n\u001b[0;32m--> 243\u001b[0;31m         \u001b[0;32mraise\u001b[0m \u001b[0mexception_class\u001b[0m\u001b[0;34m(\u001b[0m\u001b[0mmessage\u001b[0m\u001b[0;34m,\u001b[0m \u001b[0mscreen\u001b[0m\u001b[0;34m,\u001b[0m \u001b[0mstacktrace\u001b[0m\u001b[0;34m)\u001b[0m\u001b[0;34m\u001b[0m\u001b[0;34m\u001b[0m\u001b[0m\n\u001b[0m\u001b[1;32m    244\u001b[0m \u001b[0;34m\u001b[0m\u001b[0m\n\u001b[1;32m    245\u001b[0m     \u001b[0;32mdef\u001b[0m \u001b[0m_value_or_default\u001b[0m\u001b[0;34m(\u001b[0m\u001b[0mself\u001b[0m\u001b[0;34m,\u001b[0m \u001b[0mobj\u001b[0m\u001b[0;34m:\u001b[0m \u001b[0mMapping\u001b[0m\u001b[0;34m[\u001b[0m\u001b[0m_KT\u001b[0m\u001b[0;34m,\u001b[0m \u001b[0m_VT\u001b[0m\u001b[0;34m]\u001b[0m\u001b[0;34m,\u001b[0m \u001b[0mkey\u001b[0m\u001b[0;34m:\u001b[0m \u001b[0m_KT\u001b[0m\u001b[0;34m,\u001b[0m \u001b[0mdefault\u001b[0m\u001b[0;34m:\u001b[0m \u001b[0m_VT\u001b[0m\u001b[0;34m)\u001b[0m \u001b[0;34m->\u001b[0m \u001b[0m_VT\u001b[0m\u001b[0;34m:\u001b[0m\u001b[0;34m\u001b[0m\u001b[0;34m\u001b[0m\u001b[0m\n",
      "\u001b[0;31mInvalidSessionIdException\u001b[0m: Message: invalid session id\nStacktrace:\n0   chromedriver                        0x0000000100fef538 chromedriver + 4687160\n1   chromedriver                        0x0000000100fe6d83 chromedriver + 4652419\n2   chromedriver                        0x0000000100bd7dcb chromedriver + 396747\n3   chromedriver                        0x0000000100c15ac7 chromedriver + 649927\n4   chromedriver                        0x0000000100c467e4 chromedriver + 849892\n5   chromedriver                        0x0000000100c412f2 chromedriver + 828146\n6   chromedriver                        0x0000000100c40b6d chromedriver + 826221\n7   chromedriver                        0x0000000100ba46bf chromedriver + 186047\n8   chromedriver                        0x0000000100faf980 chromedriver + 4426112\n9   chromedriver                        0x0000000100fb4c18 chromedriver + 4447256\n10  chromedriver                        0x0000000100f93e81 chromedriver + 4312705\n11  chromedriver                        0x0000000100fb5966 chromedriver + 4450662\n12  chromedriver                        0x0000000100f85c9c chromedriver + 4254876\n13  chromedriver                        0x0000000100ba2f93 chromedriver + 180115\n14  dyld                                0x0000000201c4e41f start + 1903\n"
     ]
    }
   ],
   "source": [
    "wb.current_url # ошибка"
   ]
  },
  {
   "cell_type": "markdown",
   "id": "092dd982",
   "metadata": {},
   "source": [
    "## 2. Selenium: работа с элементами страницы<a name='part2'></a>\n",
    "\n",
    "### Selenium и работа с элементами страницы\n",
    "\n",
    "**Другая причина по которой пользуются Selenium – это возможность взаимодействовать с элементами страницы: отправлять значения в формы, нажимать на кнопки и пр.** До некоторой информации невозможно добраться с помощью `requests` - например, если предварительно на сайте вам нужно нажать на кнопки вроде `Развернуть` и `Показать все`. С помощью Selenium вы можете взаимодействовать с этими самыми элементами."
   ]
  },
  {
   "cell_type": "markdown",
   "id": "0e9b05ae",
   "metadata": {},
   "source": [
    "**`wb.find_element(By.)`**\n",
    "\n",
    "Что такое `.By`? `By` - класс, содержащий статические методы для идентификации элементов.\n",
    "\n",
    "В свою очередь, `webelement` – это сущность, представляющая собой абстракцию над каким-то веб-элементом (кнопки, ссылки, поля ввода).\n",
    "\n",
    "Вы можете использовать разные методы `.By` чтобы находить конкретные элементы:\n",
    "<p></p>\n",
    "<center>\n",
    "    <table>\n",
    "        <tr>\n",
    "            <th><center>By.</center></th>\n",
    "            <th><center>Описание</center></th>\n",
    "        <tr><td>ID</td>\n",
    "            <td>id конкретного элемента html</td></tr>\n",
    "        <tr><td>TAG_NAME</td>\n",
    "        <td>Название тега конкретного элемента html</td></tr>\n",
    "        <tr><td>CLASS_NAME</td>\n",
    "        <td>Название класса конкретного элемента html</td></tr>\n",
    "        <tr><td>СSS_SELECTOR</td>\n",
    "        <td>Локатор, который включает в себя конкретные уникальные атрибуты элемента html</td></tr>\n",
    "        <tr><td>XPATH</td>\n",
    "        <td>Путь по дереву html к элементу</td></tr>\n",
    "        <tr><td>NAME</td>\n",
    "            <td>Значение атрибута <code>name</code> конкретного элемента html</td></tr>\n",
    "        <tr><td>PARTIAL_LINK_TEXT</td>\n",
    "        <td>Возвращает элемент html, который содержит этот текст</td></tr>\n",
    "        <tr><td>LINK_TEXT</td>\n",
    "        <td>Возвращает элемент html, который содержит в точности этот текст</td></tr>\n",
    "    </table>\n",
    "</center>\n",
    "\n",
    "**`wb.find_element(By.)` и `wb.find_elements(By.)`**: точно также, как при работе с объектами `bs4.BeautifulSoup` у вас есть возможность пользоваться двумя методами для поиска по элементам:\n",
    "* Методом, возвращающим первый элемент, удовлетворяющий условию – `wb.find_element(By., ..)`\n",
    "* Методом, возвращающим все элементы, удовлетворяющие условию – `wb.find_elements(By.)`.\n",
    "\n",
    "Использование метода `wb.find_elements(By.)` удобно, когда вам нужно найти сразу несколько элементов, с которыми вы потом хотите взаимодействовать: например, если вы хотите найти несколько кнопок с одинаковым классом чтобы в дальнейшем в цикле прокликать их. \n",
    "\n",
    "Полная документация по поиску элементов с помощью Selenium [доступна по ссылке](https://selenium-python.readthedocs.io/locating-elements.html).\n",
    "\n",
    "---\n",
    "\n",
    "Давайте попробуем поискать элементы на странице поиска по судебным делам на сайте **[Московского городского суда](https://mos-gorsud.ru/search)**. Сайт Московского городского суда позволяет получить информацию о делах в самом Московском городском суде (суде субъекта федерации), так и о делах, которые рассматриваются в московских районных судах (наиболее распространенный уровень судов в России кроме мировых судей). Сперва откроем страницу:"
   ]
  },
  {
   "cell_type": "code",
   "execution_count": 185,
   "id": "a8daf67f",
   "metadata": {},
   "outputs": [],
   "source": [
    "wb = webdriver.Chrome(service=Service(ChromeDriverManager().install())) # создаем сущность вебдрайвера\n",
    "url = 'https://mos-gorsud.ru/search' # сохраняем ссылку в переменную\n",
    "wb.get(url) # открываем эту самую ссылку"
   ]
  },
  {
   "cell_type": "markdown",
   "id": "6145a6c6",
   "metadata": {},
   "source": [
    "Обратим внимание на элемент **<u>Нажмите, чтобы развернуть таблицу</u>**. \n",
    "\n",
    "Кликнем на него правой кнопкой мыши, нажмем `Просмотреть код`. \n",
    "\n",
    "Как мы видим, в html-разметке страницы этому элементу соответствует следующая строчка:\n",
    "\n",
    "```<a href=\"#\" class=\"js-table-modal-trigger\">Нажмите, чтобы развернуть таблицу</a>```\n",
    "\n",
    "**Как можно найти этот конкретный элемент на странице?** В случае с элементами, которые содержат в себе ссылки, можно использовать такие способы поиска:"
   ]
  },
  {
   "cell_type": "code",
   "execution_count": 25,
   "id": "a8bda28a",
   "metadata": {},
   "outputs": [
    {
     "data": {
      "text/plain": [
       "<selenium.webdriver.remote.webelement.WebElement (session=\"e19e46afc29723154422089c818a62a4\", element=\"C4A9C2AC6FC7A176A280E36D8E8FDE9F_element_4717\")>"
      ]
     },
     "execution_count": 25,
     "metadata": {},
     "output_type": "execute_result"
    }
   ],
   "source": [
    "from selenium.webdriver.common.by import By # импортируем класс .By\n",
    "wb.find_element(By.LINK_TEXT, 'Нажмите, чтобы развернуть таблицу') # ищем элемент с ссылкой по конкретному значению"
   ]
  },
  {
   "cell_type": "code",
   "execution_count": 28,
   "id": "a36c7d4e",
   "metadata": {},
   "outputs": [
    {
     "data": {
      "text/plain": [
       "<selenium.webdriver.remote.webelement.WebElement (session=\"e19e46afc29723154422089c818a62a4\", element=\"C4A9C2AC6FC7A176A280E36D8E8FDE9F_element_4717\")>"
      ]
     },
     "execution_count": 28,
     "metadata": {},
     "output_type": "execute_result"
    }
   ],
   "source": [
    "wb.find_element(By.PARTIAL_LINK_TEXT, 'Нажмите') # ищем элемент по частичному тексту ссылки"
   ]
  },
  {
   "cell_type": "markdown",
   "id": "f50295dd",
   "metadata": {},
   "source": [
    "Можно искать элемент по названию класса:"
   ]
  },
  {
   "cell_type": "code",
   "execution_count": 29,
   "id": "7241f2e8",
   "metadata": {
    "scrolled": true
   },
   "outputs": [
    {
     "data": {
      "text/plain": [
       "<selenium.webdriver.remote.webelement.WebElement (session=\"e19e46afc29723154422089c818a62a4\", element=\"C4A9C2AC6FC7A176A280E36D8E8FDE9F_element_4717\")>"
      ]
     },
     "execution_count": 29,
     "metadata": {},
     "output_type": "execute_result"
    }
   ],
   "source": [
    "wb.find_element(By.CLASS_NAME, 'js-table-modal-trigger') # нашли элемент по названию class"
   ]
  },
  {
   "cell_type": "markdown",
   "id": "cf9faf1f",
   "metadata": {},
   "source": [
    "Но есть также и другие способы. Например, поиск по css-selector'у, xpath и пр. \n",
    "\n",
    "**Как его выполнить?**\n",
    "\n",
    "Для этого сперва нужно будет обратиться к конкретному элементу, нажать на него правой кнопкой мыши, навести курсор на `Копировать`/`Copy`, и далее в выпадающем окне выбрать одно из значений. Например, при выборе `Копировать selector`/`Copy css-selector` вы получите css-selector: так вы сможете найти конкретный элемент, используя синтаксис css-selector'ов."
   ]
  },
  {
   "cell_type": "code",
   "execution_count": 30,
   "id": "8a9fd8c1",
   "metadata": {},
   "outputs": [
    {
     "data": {
      "text/plain": [
       "<selenium.webdriver.remote.webelement.WebElement (session=\"e19e46afc29723154422089c818a62a4\", element=\"C4A9C2AC6FC7A176A280E36D8E8FDE9F_element_4717\")>"
      ]
     },
     "execution_count": 30,
     "metadata": {},
     "output_type": "execute_result"
    }
   ],
   "source": [
    "wb.find_element(By.CSS_SELECTOR, '#content > div > div.resultsearch_text > div > a') # скопировали css-selector"
   ]
  },
  {
   "cell_type": "markdown",
   "id": "863344a2",
   "metadata": {},
   "source": [
    "Другой способ - скопировать **xpath**. xpath – это путь к элементу html по дереву html документа. Чтобы получить xpath элемента, вам нужно навести на конкретный элемент, кликнуть правой кнопкой мыши, нажать `Копировать xpath` или `Копировать полную строку xpath`."
   ]
  },
  {
   "cell_type": "code",
   "execution_count": 31,
   "id": "115f4254",
   "metadata": {},
   "outputs": [
    {
     "data": {
      "text/plain": [
       "<selenium.webdriver.remote.webelement.WebElement (session=\"e19e46afc29723154422089c818a62a4\", element=\"C4A9C2AC6FC7A176A280E36D8E8FDE9F_element_4717\")>"
      ]
     },
     "execution_count": 31,
     "metadata": {},
     "output_type": "execute_result"
    }
   ],
   "source": [
    "wb.find_element(By.XPATH, '//*[@id=\"content\"]/div/div[1]/div/a') # просто xpath"
   ]
  },
  {
   "cell_type": "code",
   "execution_count": 32,
   "id": "945ada48",
   "metadata": {},
   "outputs": [
    {
     "data": {
      "text/plain": [
       "<selenium.webdriver.remote.webelement.WebElement (session=\"e19e46afc29723154422089c818a62a4\", element=\"C4A9C2AC6FC7A176A280E36D8E8FDE9F_element_4717\")>"
      ]
     },
     "execution_count": 32,
     "metadata": {},
     "output_type": "execute_result"
    }
   ],
   "source": [
    "wb.find_element(By.XPATH, '/html/body/div[2]/main/section/div[2]/div/div[1]/div/a') # полный xpath"
   ]
  },
  {
   "cell_type": "markdown",
   "id": "3485e19d",
   "metadata": {},
   "source": [
    "**`.click()`**\n",
    "\n",
    "Зачем мы ищем конкретные элемены? Правильно, чтобы с ними провзаимодействовать. Со многими элементами можно провзаимодействовать, просто кликнув на них. За это отвечает метод `.click()`. "
   ]
  },
  {
   "cell_type": "code",
   "execution_count": 34,
   "id": "f34bbb60",
   "metadata": {},
   "outputs": [],
   "source": [
    "time.sleep(3) # делаем паузу\n",
    "button_open_table = wb.find_element(By.CSS_SELECTOR, '#content > div > div.resultsearch_text > div > a') # элемент\n",
    "button_open_table.click() # кликаем на конкретный элемент\n",
    "time.sleep(3) # делаем паузу"
   ]
  },
  {
   "cell_type": "markdown",
   "id": "446b272d",
   "metadata": {},
   "source": [
    "**Поздравляю! Теперь вы научились находить элементы и кликать на них.**\n",
    "\n",
    "<p></p>\n",
    "<center><b><font size=4>Задача №1. Поиск элементов страницы. </font></b></center>\n",
    "\n",
    "**На предыдущем шаге нам удалось открыть таблицу. Теперь напишите код который закроет эту таблицу, и используйте конструкцию `try-except`, чтобы этот код выглядел следующим образом:**\n",
    "\n",
    "* Попытайтесь найти элемент по названию класса и кликнуть на него;\n",
    "    * Если не получилось – попытайтесь найти элемент по css_selector и кликнуть на него;\n",
    "        * Если не получилось - попытайтесь найти элемент по xpath и кликнуть на него;\n",
    "            * Если не получилось - напечатайте строку `Увы, не получилось!` и кликнуть на него.\n",
    "            \n",
    "В каждом блоке кода после `except` добавьте паузу на 2 секунды."
   ]
  },
  {
   "cell_type": "code",
   "execution_count": null,
   "id": "72804ac7",
   "metadata": {},
   "outputs": [],
   "source": [
    "# YOUR CODE HERE"
   ]
  },
  {
   "cell_type": "markdown",
   "id": "0b8f4d50",
   "metadata": {},
   "source": [
    "### Selenium и отправка значений в поля\n",
    "\n",
    "Кроме того, что с помощью Selenium вы можете искать конкретные значения и кликать на них, вы также можете работать с **полями для ввода информации**\n",
    "\n",
    "Сперва кликнем на кнопку `Расширенная форма`, чтобы иметь возможности провзаимодействовать с полями для расширенного поиска по судебным делам."
   ]
  },
  {
   "cell_type": "code",
   "execution_count": 76,
   "id": "7c57b659",
   "metadata": {},
   "outputs": [],
   "source": [
    "# короче отправляем всякие параметры в поля запроса\n",
    "url = 'https://mos-gorsud.ru/search' # сохраняем ссылку в переменную\n",
    "wb.get(url) # открываем эту самую ссылку"
   ]
  },
  {
   "cell_type": "code",
   "execution_count": 78,
   "id": "cc083f9c",
   "metadata": {},
   "outputs": [],
   "source": [
    "time.sleep(3) # подождем три секунды\n",
    "extended_search = wb.find_element(By.CLASS_NAME, 'extended ') # class этого элемента - \"extended \"\n",
    "extended_search.click() # кликнем на элемент"
   ]
  },
  {
   "cell_type": "markdown",
   "id": "32d9194f",
   "metadata": {},
   "source": [
    "Теперь наша задача - найти интересующие нас поля. Давайте найдем поле `Статья` и скопируем `css-selector` элемента, который соответствует этому полю на сайте:"
   ]
  },
  {
   "cell_type": "code",
   "execution_count": 80,
   "id": "cef37254",
   "metadata": {},
   "outputs": [
    {
     "name": "stdout",
     "output_type": "stream",
     "text": [
      "<selenium.webdriver.remote.webelement.WebElement (session=\"aea96f84067c7604c92f48b8a15a7a23\", element=\"829575CBFFFD6CB51E6DCBE0C64C140B_element_36\")>\n"
     ]
    }
   ],
   "source": [
    "article_field = wb.find_element(By.CSS_SELECTOR, '#codex') \n",
    "print(article_field) # элемент найден"
   ]
  },
  {
   "cell_type": "markdown",
   "id": "6f01e86f",
   "metadata": {},
   "source": [
    "**`.send_keys()`**\n",
    "\n",
    "Теперь обратимся к методу `.send_keys()`. Этот метод работает так:\n",
    "* В начале - название поля, в которое вы собираетесь отправить определенное значение;\n",
    "* далее - название метода - `.send_keys()`;\n",
    "* в скобках - значение, которое вы планируете отправить в определенную форму.\n",
    "\n",
    "Давайте выполним поиск дел по статье **212 Уголовного кодекса Российской Федерации**: найдем дела о [массовых беспорядках](https://www.consultant.ru/document/cons_doc_LAW_10699/cdfbaa9aeaf8b47695af18e41433e4e3f5f4be5f/)."
   ]
  },
  {
   "cell_type": "code",
   "execution_count": 81,
   "id": "7205f458",
   "metadata": {},
   "outputs": [],
   "source": [
    "from selenium.webdriver.common.keys import Keys # посылка текста для ввода в формы (логина, пароля, поиска)\n",
    "\n",
    "article = 'Ст. 212'\n",
    "article_field.send_keys(article + '\\n') # в конце добавляем \\n чтобы сразу запустить поиск\n",
    "time.sleep(5) # делаем паузу"
   ]
  },
  {
   "cell_type": "markdown",
   "id": "b1d2182a",
   "metadata": {},
   "source": [
    "**Поздравляю! Вы научились отправлять значения в поля**."
   ]
  },
  {
   "cell_type": "markdown",
   "id": "05cfcc4e",
   "metadata": {},
   "source": [
    "<p></p>\n",
    "<center><b><font size=4>Задача №2. Работа с полями и элементами страницы</font></b></center>\n",
    "\n",
    "**Используя расширенный поиск, вернитесь к главной странице, введите следующие значения в соответствующие поля и выполните поиск по сайту:**\n",
    "\n",
    "* `Инстанция` – первая (подумайте, как можно выбрать это значение);\n",
    "* `Год` – **2023**;\n",
    "* В `Тексте` присутствует словосочетание **НИУ ВШЭ**.\n",
    "\n",
    "**Покажите преподавательнице, что у вас открылось.**"
   ]
  },
  {
   "cell_type": "code",
   "execution_count": 98,
   "id": "67e7ac55",
   "metadata": {},
   "outputs": [],
   "source": [
    "url = 'https://mos-gorsud.ru/search'\n",
    "wb.get(url)\n",
    "\n",
    "# YOUR CODE HERE"
   ]
  },
  {
   "cell_type": "markdown",
   "id": "51a72f3a",
   "metadata": {},
   "source": [
    "## 3. Selenium: обработка html страницы<a name='part3'></a>\n",
    "\n",
    "Теперь давайте обсудим, как вы можете переключаться между страницами. **Во-первых, вы можете найти кнопку и кликнуть на кнопку \"следующая страница\"**."
   ]
  },
  {
   "cell_type": "code",
   "execution_count": 91,
   "id": "07e42e3c",
   "metadata": {},
   "outputs": [
    {
     "name": "stdout",
     "output_type": "stream",
     "text": [
      "<selenium.webdriver.remote.webelement.WebElement (session=\"aea96f84067c7604c92f48b8a15a7a23\", element=\"5DFD9010371C55777FADF4F944495885_element_7181\")>\n"
     ]
    }
   ],
   "source": [
    "next_page_button = wb.find_element(By.CLASS_NAME, 'next') # кнопка \"далее\"\n",
    "print(next_page_button)"
   ]
  },
  {
   "cell_type": "markdown",
   "id": "d7e97c50",
   "metadata": {},
   "source": [
    "После того, как элемент найден, осталось только на него кликнуть."
   ]
  },
  {
   "cell_type": "code",
   "execution_count": 92,
   "id": "edc025fd",
   "metadata": {},
   "outputs": [],
   "source": [
    "time.sleep(3) # делаем паузу\n",
    "next_page_button.click() # нажимаем на кнопку"
   ]
  },
  {
   "cell_type": "markdown",
   "id": "15277796",
   "metadata": {},
   "source": [
    "При желании вы в цикле могли бы пройтись по всем страницам и каждый раз для перехода на следующую страницу нажимать на эту кнопку.\n",
    "\n",
    "**Но есть ли более оптимальные опции?** Да. Для этого давайте взглянем на ссылку: ```https://mos-gorsud.ru/search??documentText=НИУ+ВШЭ&instance=1&year=2023&formType=fullForm&page=2```. \n",
    "\n",
    "Интересно, что если просто кликнуть на адресное поле и скопировать значение, вы получите отличающуюся строку: ```https://mos-gorsud.ru/search?documentText=%D0%9D%D0%98%D0%A3+%D0%92%D0%A8%D0%AD&instance=1&year=2023&formType=fullForm&page=2```.\n",
    "\n",
    "Если воспользоваться методом `.current_url`, он вернет то же самое: ```https://mos-gorsud.ru/search?documentText=%D0%9D%D0%98%D0%A3+%D0%92%D0%A8%D0%AD&instance=1&year=2023&formType=fullForm&page=2'```.\n",
    "\n",
    "Давайте сразу сгенерируем ссылки, которые в дальнейшем могли бы обойти в цикле и проверим, работают ли они:"
   ]
  },
  {
   "cell_type": "code",
   "execution_count": 97,
   "id": "374d1d0f",
   "metadata": {},
   "outputs": [],
   "source": [
    "pages_with_cases = \\\n",
    "[f'https://mos-gorsud.ru/search?codex=Ст.+212&formType=fullForm&page={i}' \\\n",
    " for i in range(1, 47+1)] # поскольку на сайте всего 47 страниц с ссылками на дела по статье Ст. 212 УК РФ\n",
    "\n",
    "wb.get(pages_with_cases[0]) # откроем первую ссылку\n",
    "time.sleep(3) # сделаем паузу\n",
    "wb.get(pages_with_cases[-1]) # откроем последнюю ссылку"
   ]
  },
  {
   "cell_type": "markdown",
   "id": "b5cfb569",
   "metadata": {},
   "source": [
    "**`wb.page_source`**\n",
    "\n",
    "**Перейдем к обсуждению работы с html страницы**. На этапе сбора данных работа с html страницы ничем не отличается от того, что мы с вами делали когда обсуждали `requests`.\n",
    "\n",
    "Давайте соберем ссылки на все дела, которые выпали нам в поиске с параметрами `Первая инстанция`, `2023 год`, в тексте присутствует `НИУ ВШЭ`."
   ]
  },
  {
   "cell_type": "code",
   "execution_count": 107,
   "id": "f4dc1c71",
   "metadata": {},
   "outputs": [
    {
     "name": "stdout",
     "output_type": "stream",
     "text": [
      "https://mos-gorsud.ru/search?formType=fullForm&courtAlias=&uid=&instance=1&processType=&letterNumber=&caseNumber=&participant=&codex=&judge=&publishingState=&documentType=&documentText=%D0%9D%D0%98%D0%A3+%D0%92%D0%A8%D0%AD&year=2023&caseDateFrom=&caseDateTo=&caseFinalDateFrom=&caseFinalDateTo=&caseLegalForceDateFrom=&caseLegalForceDateTo=&docsDateFrom=&docsDateTo=&documentStatus=\n"
     ]
    }
   ],
   "source": [
    "need_link = wb.current_url # текущая ссылка\n",
    "print(need_link)"
   ]
  },
  {
   "cell_type": "code",
   "execution_count": 111,
   "id": "ab7a1714",
   "metadata": {},
   "outputs": [],
   "source": [
    "html = wb.page_source # сохраним html страницы с помощью .page_source\n",
    "soup = BeautifulSoup(html) # сварим суп"
   ]
  },
  {
   "cell_type": "code",
   "execution_count": 113,
   "id": "3b82b7c6",
   "metadata": {},
   "outputs": [],
   "source": [
    "#soup # посмотрим на него"
   ]
  },
  {
   "cell_type": "markdown",
   "id": "826c05a0",
   "metadata": {},
   "source": [
    "Давайте создадим список, в который соберем все ссылки на дела со страницы поиска. Как выглядит элемент с ссылкой на дело?\n",
    "\n",
    "```<a target=\"_blank\" class=\"detailsLink\" href=\"/rs/basmannyj/services/cases/civil/details/7da80261-cd6f-11ed-91bc-678868b51ab8?year=2023&amp;formType=fullForm\">02-3282/2023</a>```\n",
    "\n",
    "Давайте воспользуемся атрибутом `class` и его значением - `detailsLink`. Далее мы обращаемся к нашему объекту `soup` и пользуемся старым добрым методом `.find_all()`, чтобы найти все элементы, удовлетворяющие деталям поиска:\n",
    "\n",
    "*Если вы забыли как пользоваться методами BeautifulSoup, посмотрите материалы семинаров 3-6 или обратитесь к [документации BeautifulSoup](https://www.crummy.com/software/BeautifulSoup/bs4/doc.ru/bs4ru.html)*."
   ]
  },
  {
   "cell_type": "code",
   "execution_count": 122,
   "id": "c853f0e4",
   "metadata": {},
   "outputs": [],
   "source": [
    "links = [i.get('href') for i in soup.find_all('a', {'class': 'detailsLink'})]\n",
    "links = [f'https://mos-gorsud.ru{part_link}' for part_link in links]\n",
    "links = links[::2]"
   ]
  },
  {
   "cell_type": "markdown",
   "id": "01dacc6d",
   "metadata": {},
   "source": [
    "Откроем первую ссылку"
   ]
  },
  {
   "cell_type": "code",
   "execution_count": 123,
   "id": "a4232dbb",
   "metadata": {},
   "outputs": [],
   "source": [
    "wb.get(links[0]) # все работает!"
   ]
  },
  {
   "cell_type": "markdown",
   "id": "92bf971b",
   "metadata": {},
   "source": [
    "<p></p>\n",
    "<center><b><font size=4>Задача №3. Сбор данных со страницы</font></b></center>\n",
    "\n",
    "**Шаг 1. Вспомните работу с `BeautifulSoup` и напишите функцию `get_info_about_case(link)`, которая принимает на вход ссылку на страницу дела, и возвращает словарь (`dict`) с информацией из таблички в начале страницы и ссылки:**\n",
    "\n",
    "Например, для первого дела вы получите следующий результат:\n",
    "```\n",
    "{'Уникальный идентификатор дела': '77RS0018-02-2023-004059-43',\n",
    " 'Номер дела ~ материала': '02-4668/2023                                        ∼                                     М-2315/2023',\n",
    " 'Стороны': 'Истец: Борсов А.И.Ответчик: ФГАОУ ВО \"Национальный исследовательский университет \"Высшая школа экономики\"',\n",
    " 'Дата поступления': '24.03.2023',\n",
    " 'Дата рассмотрения дела в первой инстанции': '20.06.2023',\n",
    " 'Дата вступления решения в силу': '14.12.2023',\n",
    " 'Cудья': 'Юдина И.В.',\n",
    " 'Категория дела': '179 - О защите прав потребителей - из договоров в сфере торговли, услуг, выполнения работ',\n",
    " 'Номер дела в суде вышестоящей инстанции': '33-48031/2023',\n",
    " 'Текущее состояние': 'Удовлетворено, 20.06.2023',\n",
    " 'Решение апелляции': 'Отменено, 14.12.2023',\n",
    " 'link': 'https://mos-gorsud.ru/rs/nikulinskij/services/cases/civil/details/16cd8a51-cf91-11ed-901b-a51792e7d9cf?year=2023&formType=fullForm'}\n",
    "```"
   ]
  },
  {
   "cell_type": "code",
   "execution_count": 126,
   "id": "3accf859",
   "metadata": {},
   "outputs": [],
   "source": [
    "# YOUR CODE HERE"
   ]
  },
  {
   "cell_type": "markdown",
   "id": "66d13dab",
   "metadata": {},
   "source": [
    "**Шаг 2. Напишите функцию `get_cases_data(links)`, которая принимает на вход список с ссылками `links`, проходится по нему, собирает список из словарей с помощью функции `get_info_about_case()`, и возвращает `pandas.DataFrane` с информацией о судебных делах**"
   ]
  },
  {
   "cell_type": "code",
   "execution_count": null,
   "id": "f0982c03",
   "metadata": {},
   "outputs": [],
   "source": [
    "# YOUR CODE HERE"
   ]
  },
  {
   "cell_type": "code",
   "execution_count": 170,
   "id": "76bb439c",
   "metadata": {},
   "outputs": [
    {
     "data": {
      "text/html": [
       "<div>\n",
       "<style scoped>\n",
       "    .dataframe tbody tr th:only-of-type {\n",
       "        vertical-align: middle;\n",
       "    }\n",
       "\n",
       "    .dataframe tbody tr th {\n",
       "        vertical-align: top;\n",
       "    }\n",
       "\n",
       "    .dataframe thead th {\n",
       "        text-align: right;\n",
       "    }\n",
       "</style>\n",
       "<table border=\"1\" class=\"dataframe\">\n",
       "  <thead>\n",
       "    <tr style=\"text-align: right;\">\n",
       "      <th></th>\n",
       "      <th>Уникальный идентификатор дела</th>\n",
       "      <th>Номер дела ~ материала</th>\n",
       "      <th>Стороны</th>\n",
       "      <th>Дата поступления</th>\n",
       "      <th>Дата рассмотрения дела в первой инстанции</th>\n",
       "      <th>Дата вступления решения в силу</th>\n",
       "      <th>Cудья</th>\n",
       "      <th>Категория дела</th>\n",
       "      <th>Номер дела в суде вышестоящей инстанции</th>\n",
       "      <th>Текущее состояние</th>\n",
       "      <th>Решение апелляции</th>\n",
       "      <th>link</th>\n",
       "      <th>Подсудимый</th>\n",
       "    </tr>\n",
       "  </thead>\n",
       "  <tbody>\n",
       "    <tr>\n",
       "      <th>0</th>\n",
       "      <td>77RS0018-02-2023-004059-43</td>\n",
       "      <td>02-4668/2023                                  ...</td>\n",
       "      <td>Истец: Борсов А.И.Ответчик: ФГАОУ ВО \"Национал...</td>\n",
       "      <td>24.03.2023</td>\n",
       "      <td>20.06.2023</td>\n",
       "      <td>14.12.2023</td>\n",
       "      <td>Юдина И.В.</td>\n",
       "      <td>179 - О защите прав потребителей - из договоро...</td>\n",
       "      <td>33-48031/2023</td>\n",
       "      <td>Удовлетворено, 20.06.2023</td>\n",
       "      <td>Отменено, 14.12.2023</td>\n",
       "      <td>https://mos-gorsud.ru/rs/nikulinskij/services/...</td>\n",
       "      <td>NaN</td>\n",
       "    </tr>\n",
       "    <tr>\n",
       "      <th>1</th>\n",
       "      <td>77RS0031-02-2023-003539-41</td>\n",
       "      <td>02-4564/2023                                  ...</td>\n",
       "      <td>Истец: Дружинин А.А.Ответчик: ФГАОУ высшего об...</td>\n",
       "      <td>03.03.2023</td>\n",
       "      <td>11.05.2023</td>\n",
       "      <td>NaN</td>\n",
       "      <td>Наделяева Е.И.</td>\n",
       "      <td>44 - О восстановлении на государственной (муни...</td>\n",
       "      <td>33-4121/2024</td>\n",
       "      <td>Удовлетворено, 11.05.2023</td>\n",
       "      <td>NaN</td>\n",
       "      <td>https://mos-gorsud.ru/rs/horoshevskij/services...</td>\n",
       "      <td>NaN</td>\n",
       "    </tr>\n",
       "    <tr>\n",
       "      <th>2</th>\n",
       "      <td>77RS0002-02-2022-020618-86</td>\n",
       "      <td>02-3282/2023                                  ...</td>\n",
       "      <td>Истец: Черничкин А.С.Ответчик: ПАО \"Сбербанк Р...</td>\n",
       "      <td>12.10.2022</td>\n",
       "      <td>26.07.2023</td>\n",
       "      <td>NaN</td>\n",
       "      <td>Курносова О.А.</td>\n",
       "      <td>178 - О защите прав потребителей - из договоро...</td>\n",
       "      <td>NaN</td>\n",
       "      <td>Назначено судебное заседание на 14.03.2024 09:50</td>\n",
       "      <td>NaN</td>\n",
       "      <td>https://mos-gorsud.ru/rs/basmannyj/services/ca...</td>\n",
       "      <td>NaN</td>\n",
       "    </tr>\n",
       "    <tr>\n",
       "      <th>3</th>\n",
       "      <td>77RS0033-02-2023-003981-64</td>\n",
       "      <td>02-2500/2023                                  ...</td>\n",
       "      <td>Истец: Солдатенко В.А.Ответчик: Федеральное Го...</td>\n",
       "      <td>03.03.2023</td>\n",
       "      <td>15.08.2023</td>\n",
       "      <td>NaN</td>\n",
       "      <td>Молодцова Е.В.</td>\n",
       "      <td>211- Прочие исковые дела</td>\n",
       "      <td>33-40411/2023                ,                ...</td>\n",
       "      <td>Удовлетворено частично, 15.08.2023</td>\n",
       "      <td>NaN</td>\n",
       "      <td>https://mos-gorsud.ru/rs/chertanovskij/service...</td>\n",
       "      <td>NaN</td>\n",
       "    </tr>\n",
       "    <tr>\n",
       "      <th>4</th>\n",
       "      <td>77RS0002-02-2022-023218-46</td>\n",
       "      <td>02-1845/2023                                  ...</td>\n",
       "      <td>Истец: Андриянова Д.А.Ответчик: Федеральное го...</td>\n",
       "      <td>25.11.2022</td>\n",
       "      <td>10.04.2023</td>\n",
       "      <td>18.05.2023</td>\n",
       "      <td>Старовойтова К.Ю.</td>\n",
       "      <td>54 - Трудовые споры о взыскании невыплаченной ...</td>\n",
       "      <td>NaN</td>\n",
       "      <td>Удовлетворено частично, 10.04.2023</td>\n",
       "      <td>NaN</td>\n",
       "      <td>https://mos-gorsud.ru/rs/basmannyj/services/ca...</td>\n",
       "      <td>NaN</td>\n",
       "    </tr>\n",
       "    <tr>\n",
       "      <th>5</th>\n",
       "      <td>77RS0002-02-2022-016892-12</td>\n",
       "      <td>02-1124/2023                            (02-55...</td>\n",
       "      <td>Истец: Барабанщиков К.Ю.Ответчик: ФГАОУВО \"НИУ...</td>\n",
       "      <td>17.08.2022</td>\n",
       "      <td>07.02.2023</td>\n",
       "      <td>06.09.2023</td>\n",
       "      <td>Курносова О.А.</td>\n",
       "      <td>211- Прочие исковые дела</td>\n",
       "      <td>33-38950/2023</td>\n",
       "      <td>Отказано в удовлетворении, 07.02.2023</td>\n",
       "      <td>Отменено частично, 06.09.2023</td>\n",
       "      <td>https://mos-gorsud.ru/rs/basmannyj/services/ca...</td>\n",
       "      <td>NaN</td>\n",
       "    </tr>\n",
       "    <tr>\n",
       "      <th>6</th>\n",
       "      <td>77RS0002-02-2022-018700-20</td>\n",
       "      <td>02-0986/2023                            (02-54...</td>\n",
       "      <td>Истец: Никонова Ю.А.Ответчик: ФГАОУ ВО \"НИУ \"В...</td>\n",
       "      <td>14.09.2022</td>\n",
       "      <td>14.02.2023</td>\n",
       "      <td>28.04.2023</td>\n",
       "      <td>Курносова О.А.</td>\n",
       "      <td>74 - Иные, возникающие из трудовых правоотношений</td>\n",
       "      <td>NaN</td>\n",
       "      <td>Отказано в удовлетворении, 14.02.2023</td>\n",
       "      <td>NaN</td>\n",
       "      <td>https://mos-gorsud.ru/rs/basmannyj/services/ca...</td>\n",
       "      <td>NaN</td>\n",
       "    </tr>\n",
       "    <tr>\n",
       "      <th>7</th>\n",
       "      <td>77RS0006-02-2022-010324-07</td>\n",
       "      <td>02-0681/2023                            (02-44...</td>\n",
       "      <td>Истец: Жарова А.К.Ответчик: НИУ ВШЭ</td>\n",
       "      <td>11.08.2022</td>\n",
       "      <td>15.03.2023</td>\n",
       "      <td>16.05.2023</td>\n",
       "      <td>Александренко И.М.</td>\n",
       "      <td>54 - Трудовые споры о взыскании невыплаченной ...</td>\n",
       "      <td>NaN</td>\n",
       "      <td>Отказано в удовлетворении, 15.03.2023</td>\n",
       "      <td>NaN</td>\n",
       "      <td>https://mos-gorsud.ru/rs/dorogomilovskij/servi...</td>\n",
       "      <td>NaN</td>\n",
       "    </tr>\n",
       "    <tr>\n",
       "      <th>8</th>\n",
       "      <td>77RS0004-02-2023-005000-96</td>\n",
       "      <td>02а-0622/2023                                 ...</td>\n",
       "      <td>Административный истец: АО \"Московский областн...</td>\n",
       "      <td>18.04.2023</td>\n",
       "      <td>21.06.2023</td>\n",
       "      <td>NaN</td>\n",
       "      <td>Кочнева А.Н.</td>\n",
       "      <td>27 - Прочие об оспаривании решений, действий (...</td>\n",
       "      <td>NaN</td>\n",
       "      <td>Отказано в удовлетворении, 21.06.2023</td>\n",
       "      <td>NaN</td>\n",
       "      <td>https://mos-gorsud.ru/rs/gagarinskij/services/...</td>\n",
       "      <td>NaN</td>\n",
       "    </tr>\n",
       "    <tr>\n",
       "      <th>9</th>\n",
       "      <td>77RS0015-02-2023-009457-13</td>\n",
       "      <td>02а-0621/2023                                 ...</td>\n",
       "      <td>Административный истец: Журкин М.Д.Администрат...</td>\n",
       "      <td>06.06.2023</td>\n",
       "      <td>22.06.2023</td>\n",
       "      <td>NaN</td>\n",
       "      <td>Кац Ю.А.</td>\n",
       "      <td>26 - Об оспаривании решений, действий (бездейс...</td>\n",
       "      <td>33а-2648/2024</td>\n",
       "      <td>Удовлетворено, 22.06.2023</td>\n",
       "      <td>NaN</td>\n",
       "      <td>https://mos-gorsud.ru/rs/lyublinskij/services/...</td>\n",
       "      <td>NaN</td>\n",
       "    </tr>\n",
       "    <tr>\n",
       "      <th>10</th>\n",
       "      <td>77RS0002-02-2021-021399-55</td>\n",
       "      <td>02а-0484/2023</td>\n",
       "      <td>Административный истец: Акмалов А.А.Администра...</td>\n",
       "      <td>13.02.2023</td>\n",
       "      <td>11.05.2023</td>\n",
       "      <td>27.06.2023</td>\n",
       "      <td>Липкина О.А.</td>\n",
       "      <td>66 - Об оспаривании решения в отношении иностр...</td>\n",
       "      <td>NaN</td>\n",
       "      <td>Отказано в удовлетворении, 11.05.2023</td>\n",
       "      <td>NaN</td>\n",
       "      <td>https://mos-gorsud.ru/rs/basmannyj/services/ca...</td>\n",
       "      <td>NaN</td>\n",
       "    </tr>\n",
       "    <tr>\n",
       "      <th>11</th>\n",
       "      <td>77RS0029-02-2023-004608-44</td>\n",
       "      <td>01-0476/2023</td>\n",
       "      <td>NaN</td>\n",
       "      <td>30.03.2023</td>\n",
       "      <td>16.05.2023</td>\n",
       "      <td>01.06.2023</td>\n",
       "      <td>Костырев А.М.</td>\n",
       "      <td>NaN</td>\n",
       "      <td>NaN</td>\n",
       "      <td>Вступило в силу, 01.06.2023</td>\n",
       "      <td>NaN</td>\n",
       "      <td>https://mos-gorsud.ru/rs/tushinskij/services/c...</td>\n",
       "      <td>Геворгян М.С.                            (Ст. ...</td>\n",
       "    </tr>\n",
       "    <tr>\n",
       "      <th>12</th>\n",
       "      <td>77RS0007-02-2023-013355-92</td>\n",
       "      <td>01-0453/2023</td>\n",
       "      <td>NaN</td>\n",
       "      <td>28.08.2023</td>\n",
       "      <td>13.12.2023</td>\n",
       "      <td>29.12.2023</td>\n",
       "      <td>Рахматов Ю.А.</td>\n",
       "      <td>NaN</td>\n",
       "      <td>NaN</td>\n",
       "      <td>Вступило в силу, 29.12.2023</td>\n",
       "      <td>NaN</td>\n",
       "      <td>https://mos-gorsud.ru/rs/zamoskvoreckij/servic...</td>\n",
       "      <td>Бойко Д.В.                            (Ст. 158...</td>\n",
       "    </tr>\n",
       "    <tr>\n",
       "      <th>13</th>\n",
       "      <td>77RS0026-02-2022-014839-49</td>\n",
       "      <td>02-0383/2023                                  ...</td>\n",
       "      <td>Истец: ООО \"Научно-издательский центр ИНФРА-М\"...</td>\n",
       "      <td>05.12.2022</td>\n",
       "      <td>06.10.2023</td>\n",
       "      <td>NaN</td>\n",
       "      <td>Киселёва Н.А.</td>\n",
       "      <td>167 - О защите авторских прав</td>\n",
       "      <td>NaN</td>\n",
       "      <td>Удовлетворено частично, 06.10.2023</td>\n",
       "      <td>NaN</td>\n",
       "      <td>https://mos-gorsud.ru/rs/taganskij/services/ca...</td>\n",
       "      <td>NaN</td>\n",
       "    </tr>\n",
       "    <tr>\n",
       "      <th>14</th>\n",
       "      <td>77RS0002-02-2023-004405-47</td>\n",
       "      <td>01-0275/2023</td>\n",
       "      <td>NaN</td>\n",
       "      <td>10.03.2023</td>\n",
       "      <td>04.07.2023</td>\n",
       "      <td>21.07.2023</td>\n",
       "      <td>Николаева Е.С.</td>\n",
       "      <td>NaN</td>\n",
       "      <td>NaN</td>\n",
       "      <td>Вступило в силу, 21.07.2023</td>\n",
       "      <td>NaN</td>\n",
       "      <td>https://mos-gorsud.ru/rs/basmannyj/services/ca...</td>\n",
       "      <td>Ашурмадов М.Н.                            (Ст....</td>\n",
       "    </tr>\n",
       "    <tr>\n",
       "      <th>15</th>\n",
       "      <td>77RS0018-02-2023-004059-43</td>\n",
       "      <td>02-4668/2023                                  ...</td>\n",
       "      <td>Истец: Борсов А.И.Ответчик: ФГАОУ ВО \"Национал...</td>\n",
       "      <td>24.03.2023</td>\n",
       "      <td>20.06.2023</td>\n",
       "      <td>14.12.2023</td>\n",
       "      <td>Юдина И.В.</td>\n",
       "      <td>179 - О защите прав потребителей - из договоро...</td>\n",
       "      <td>33-48031/2023</td>\n",
       "      <td>Удовлетворено, 20.06.2023</td>\n",
       "      <td>Отменено, 14.12.2023</td>\n",
       "      <td>https://mos-gorsud.ru/rs/nikulinskij/services/...</td>\n",
       "      <td>NaN</td>\n",
       "    </tr>\n",
       "    <tr>\n",
       "      <th>16</th>\n",
       "      <td>77RS0031-02-2023-003539-41</td>\n",
       "      <td>02-4564/2023                                  ...</td>\n",
       "      <td>Истец: Дружинин А.А.Ответчик: ФГАОУ высшего об...</td>\n",
       "      <td>03.03.2023</td>\n",
       "      <td>11.05.2023</td>\n",
       "      <td>NaN</td>\n",
       "      <td>Наделяева Е.И.</td>\n",
       "      <td>44 - О восстановлении на государственной (муни...</td>\n",
       "      <td>33-4121/2024</td>\n",
       "      <td>Удовлетворено, 11.05.2023</td>\n",
       "      <td>NaN</td>\n",
       "      <td>https://mos-gorsud.ru/rs/horoshevskij/services...</td>\n",
       "      <td>NaN</td>\n",
       "    </tr>\n",
       "    <tr>\n",
       "      <th>17</th>\n",
       "      <td>77RS0002-02-2022-020618-86</td>\n",
       "      <td>02-3282/2023                                  ...</td>\n",
       "      <td>Истец: Черничкин А.С.Ответчик: ПАО \"Сбербанк Р...</td>\n",
       "      <td>12.10.2022</td>\n",
       "      <td>26.07.2023</td>\n",
       "      <td>NaN</td>\n",
       "      <td>Курносова О.А.</td>\n",
       "      <td>178 - О защите прав потребителей - из договоро...</td>\n",
       "      <td>NaN</td>\n",
       "      <td>Назначено судебное заседание на 14.03.2024 09:50</td>\n",
       "      <td>NaN</td>\n",
       "      <td>https://mos-gorsud.ru/rs/basmannyj/services/ca...</td>\n",
       "      <td>NaN</td>\n",
       "    </tr>\n",
       "    <tr>\n",
       "      <th>18</th>\n",
       "      <td>77RS0033-02-2023-003981-64</td>\n",
       "      <td>02-2500/2023                                  ...</td>\n",
       "      <td>Истец: Солдатенко В.А.Ответчик: Федеральное Го...</td>\n",
       "      <td>03.03.2023</td>\n",
       "      <td>15.08.2023</td>\n",
       "      <td>NaN</td>\n",
       "      <td>Молодцова Е.В.</td>\n",
       "      <td>211- Прочие исковые дела</td>\n",
       "      <td>33-40411/2023                ,                ...</td>\n",
       "      <td>Удовлетворено частично, 15.08.2023</td>\n",
       "      <td>NaN</td>\n",
       "      <td>https://mos-gorsud.ru/rs/chertanovskij/service...</td>\n",
       "      <td>NaN</td>\n",
       "    </tr>\n",
       "    <tr>\n",
       "      <th>19</th>\n",
       "      <td>77RS0002-02-2022-023218-46</td>\n",
       "      <td>02-1845/2023                                  ...</td>\n",
       "      <td>Истец: Андриянова Д.А.Ответчик: Федеральное го...</td>\n",
       "      <td>25.11.2022</td>\n",
       "      <td>10.04.2023</td>\n",
       "      <td>18.05.2023</td>\n",
       "      <td>Старовойтова К.Ю.</td>\n",
       "      <td>54 - Трудовые споры о взыскании невыплаченной ...</td>\n",
       "      <td>NaN</td>\n",
       "      <td>Удовлетворено частично, 10.04.2023</td>\n",
       "      <td>NaN</td>\n",
       "      <td>https://mos-gorsud.ru/rs/basmannyj/services/ca...</td>\n",
       "      <td>NaN</td>\n",
       "    </tr>\n",
       "    <tr>\n",
       "      <th>20</th>\n",
       "      <td>77RS0002-02-2022-016892-12</td>\n",
       "      <td>02-1124/2023                            (02-55...</td>\n",
       "      <td>Истец: Барабанщиков К.Ю.Ответчик: ФГАОУВО \"НИУ...</td>\n",
       "      <td>17.08.2022</td>\n",
       "      <td>07.02.2023</td>\n",
       "      <td>06.09.2023</td>\n",
       "      <td>Курносова О.А.</td>\n",
       "      <td>211- Прочие исковые дела</td>\n",
       "      <td>33-38950/2023</td>\n",
       "      <td>Отказано в удовлетворении, 07.02.2023</td>\n",
       "      <td>Отменено частично, 06.09.2023</td>\n",
       "      <td>https://mos-gorsud.ru/rs/basmannyj/services/ca...</td>\n",
       "      <td>NaN</td>\n",
       "    </tr>\n",
       "    <tr>\n",
       "      <th>21</th>\n",
       "      <td>77RS0002-02-2022-018700-20</td>\n",
       "      <td>02-0986/2023                            (02-54...</td>\n",
       "      <td>Истец: Никонова Ю.А.Ответчик: ФГАОУ ВО \"НИУ \"В...</td>\n",
       "      <td>14.09.2022</td>\n",
       "      <td>14.02.2023</td>\n",
       "      <td>28.04.2023</td>\n",
       "      <td>Курносова О.А.</td>\n",
       "      <td>74 - Иные, возникающие из трудовых правоотношений</td>\n",
       "      <td>NaN</td>\n",
       "      <td>Отказано в удовлетворении, 14.02.2023</td>\n",
       "      <td>NaN</td>\n",
       "      <td>https://mos-gorsud.ru/rs/basmannyj/services/ca...</td>\n",
       "      <td>NaN</td>\n",
       "    </tr>\n",
       "    <tr>\n",
       "      <th>22</th>\n",
       "      <td>77RS0006-02-2022-010324-07</td>\n",
       "      <td>02-0681/2023                            (02-44...</td>\n",
       "      <td>Истец: Жарова А.К.Ответчик: НИУ ВШЭ</td>\n",
       "      <td>11.08.2022</td>\n",
       "      <td>15.03.2023</td>\n",
       "      <td>16.05.2023</td>\n",
       "      <td>Александренко И.М.</td>\n",
       "      <td>54 - Трудовые споры о взыскании невыплаченной ...</td>\n",
       "      <td>NaN</td>\n",
       "      <td>Отказано в удовлетворении, 15.03.2023</td>\n",
       "      <td>NaN</td>\n",
       "      <td>https://mos-gorsud.ru/rs/dorogomilovskij/servi...</td>\n",
       "      <td>NaN</td>\n",
       "    </tr>\n",
       "    <tr>\n",
       "      <th>23</th>\n",
       "      <td>77RS0004-02-2023-005000-96</td>\n",
       "      <td>02а-0622/2023                                 ...</td>\n",
       "      <td>Административный истец: АО \"Московский областн...</td>\n",
       "      <td>18.04.2023</td>\n",
       "      <td>21.06.2023</td>\n",
       "      <td>NaN</td>\n",
       "      <td>Кочнева А.Н.</td>\n",
       "      <td>27 - Прочие об оспаривании решений, действий (...</td>\n",
       "      <td>NaN</td>\n",
       "      <td>Отказано в удовлетворении, 21.06.2023</td>\n",
       "      <td>NaN</td>\n",
       "      <td>https://mos-gorsud.ru/rs/gagarinskij/services/...</td>\n",
       "      <td>NaN</td>\n",
       "    </tr>\n",
       "    <tr>\n",
       "      <th>24</th>\n",
       "      <td>77RS0015-02-2023-009457-13</td>\n",
       "      <td>02а-0621/2023                                 ...</td>\n",
       "      <td>Административный истец: Журкин М.Д.Администрат...</td>\n",
       "      <td>06.06.2023</td>\n",
       "      <td>22.06.2023</td>\n",
       "      <td>NaN</td>\n",
       "      <td>Кац Ю.А.</td>\n",
       "      <td>26 - Об оспаривании решений, действий (бездейс...</td>\n",
       "      <td>33а-2648/2024</td>\n",
       "      <td>Удовлетворено, 22.06.2023</td>\n",
       "      <td>NaN</td>\n",
       "      <td>https://mos-gorsud.ru/rs/lyublinskij/services/...</td>\n",
       "      <td>NaN</td>\n",
       "    </tr>\n",
       "    <tr>\n",
       "      <th>25</th>\n",
       "      <td>77RS0002-02-2021-021399-55</td>\n",
       "      <td>02а-0484/2023</td>\n",
       "      <td>Административный истец: Акмалов А.А.Администра...</td>\n",
       "      <td>13.02.2023</td>\n",
       "      <td>11.05.2023</td>\n",
       "      <td>27.06.2023</td>\n",
       "      <td>Липкина О.А.</td>\n",
       "      <td>66 - Об оспаривании решения в отношении иностр...</td>\n",
       "      <td>NaN</td>\n",
       "      <td>Отказано в удовлетворении, 11.05.2023</td>\n",
       "      <td>NaN</td>\n",
       "      <td>https://mos-gorsud.ru/rs/basmannyj/services/ca...</td>\n",
       "      <td>NaN</td>\n",
       "    </tr>\n",
       "    <tr>\n",
       "      <th>26</th>\n",
       "      <td>77RS0029-02-2023-004608-44</td>\n",
       "      <td>01-0476/2023</td>\n",
       "      <td>NaN</td>\n",
       "      <td>30.03.2023</td>\n",
       "      <td>16.05.2023</td>\n",
       "      <td>01.06.2023</td>\n",
       "      <td>Костырев А.М.</td>\n",
       "      <td>NaN</td>\n",
       "      <td>NaN</td>\n",
       "      <td>Вступило в силу, 01.06.2023</td>\n",
       "      <td>NaN</td>\n",
       "      <td>https://mos-gorsud.ru/rs/tushinskij/services/c...</td>\n",
       "      <td>Геворгян М.С.                            (Ст. ...</td>\n",
       "    </tr>\n",
       "    <tr>\n",
       "      <th>27</th>\n",
       "      <td>77RS0007-02-2023-013355-92</td>\n",
       "      <td>01-0453/2023</td>\n",
       "      <td>NaN</td>\n",
       "      <td>28.08.2023</td>\n",
       "      <td>13.12.2023</td>\n",
       "      <td>29.12.2023</td>\n",
       "      <td>Рахматов Ю.А.</td>\n",
       "      <td>NaN</td>\n",
       "      <td>NaN</td>\n",
       "      <td>Вступило в силу, 29.12.2023</td>\n",
       "      <td>NaN</td>\n",
       "      <td>https://mos-gorsud.ru/rs/zamoskvoreckij/servic...</td>\n",
       "      <td>Бойко Д.В.                            (Ст. 158...</td>\n",
       "    </tr>\n",
       "    <tr>\n",
       "      <th>28</th>\n",
       "      <td>77RS0026-02-2022-014839-49</td>\n",
       "      <td>02-0383/2023                                  ...</td>\n",
       "      <td>Истец: ООО \"Научно-издательский центр ИНФРА-М\"...</td>\n",
       "      <td>05.12.2022</td>\n",
       "      <td>06.10.2023</td>\n",
       "      <td>NaN</td>\n",
       "      <td>Киселёва Н.А.</td>\n",
       "      <td>167 - О защите авторских прав</td>\n",
       "      <td>NaN</td>\n",
       "      <td>Удовлетворено частично, 06.10.2023</td>\n",
       "      <td>NaN</td>\n",
       "      <td>https://mos-gorsud.ru/rs/taganskij/services/ca...</td>\n",
       "      <td>NaN</td>\n",
       "    </tr>\n",
       "    <tr>\n",
       "      <th>29</th>\n",
       "      <td>77RS0002-02-2023-004405-47</td>\n",
       "      <td>01-0275/2023</td>\n",
       "      <td>NaN</td>\n",
       "      <td>10.03.2023</td>\n",
       "      <td>04.07.2023</td>\n",
       "      <td>21.07.2023</td>\n",
       "      <td>Николаева Е.С.</td>\n",
       "      <td>NaN</td>\n",
       "      <td>NaN</td>\n",
       "      <td>Вступило в силу, 21.07.2023</td>\n",
       "      <td>NaN</td>\n",
       "      <td>https://mos-gorsud.ru/rs/basmannyj/services/ca...</td>\n",
       "      <td>Ашурмадов М.Н.                            (Ст....</td>\n",
       "    </tr>\n",
       "  </tbody>\n",
       "</table>\n",
       "</div>"
      ],
      "text/plain": [
       "   Уникальный идентификатор дела   \n",
       "0     77RS0018-02-2023-004059-43  \\\n",
       "1     77RS0031-02-2023-003539-41   \n",
       "2     77RS0002-02-2022-020618-86   \n",
       "3     77RS0033-02-2023-003981-64   \n",
       "4     77RS0002-02-2022-023218-46   \n",
       "5     77RS0002-02-2022-016892-12   \n",
       "6     77RS0002-02-2022-018700-20   \n",
       "7     77RS0006-02-2022-010324-07   \n",
       "8     77RS0004-02-2023-005000-96   \n",
       "9     77RS0015-02-2023-009457-13   \n",
       "10    77RS0002-02-2021-021399-55   \n",
       "11    77RS0029-02-2023-004608-44   \n",
       "12    77RS0007-02-2023-013355-92   \n",
       "13    77RS0026-02-2022-014839-49   \n",
       "14    77RS0002-02-2023-004405-47   \n",
       "15    77RS0018-02-2023-004059-43   \n",
       "16    77RS0031-02-2023-003539-41   \n",
       "17    77RS0002-02-2022-020618-86   \n",
       "18    77RS0033-02-2023-003981-64   \n",
       "19    77RS0002-02-2022-023218-46   \n",
       "20    77RS0002-02-2022-016892-12   \n",
       "21    77RS0002-02-2022-018700-20   \n",
       "22    77RS0006-02-2022-010324-07   \n",
       "23    77RS0004-02-2023-005000-96   \n",
       "24    77RS0015-02-2023-009457-13   \n",
       "25    77RS0002-02-2021-021399-55   \n",
       "26    77RS0029-02-2023-004608-44   \n",
       "27    77RS0007-02-2023-013355-92   \n",
       "28    77RS0026-02-2022-014839-49   \n",
       "29    77RS0002-02-2023-004405-47   \n",
       "\n",
       "                               Номер дела ~ материала   \n",
       "0   02-4668/2023                                  ...  \\\n",
       "1   02-4564/2023                                  ...   \n",
       "2   02-3282/2023                                  ...   \n",
       "3   02-2500/2023                                  ...   \n",
       "4   02-1845/2023                                  ...   \n",
       "5   02-1124/2023                            (02-55...   \n",
       "6   02-0986/2023                            (02-54...   \n",
       "7   02-0681/2023                            (02-44...   \n",
       "8   02а-0622/2023                                 ...   \n",
       "9   02а-0621/2023                                 ...   \n",
       "10                                      02а-0484/2023   \n",
       "11                                       01-0476/2023   \n",
       "12                                       01-0453/2023   \n",
       "13  02-0383/2023                                  ...   \n",
       "14                                       01-0275/2023   \n",
       "15  02-4668/2023                                  ...   \n",
       "16  02-4564/2023                                  ...   \n",
       "17  02-3282/2023                                  ...   \n",
       "18  02-2500/2023                                  ...   \n",
       "19  02-1845/2023                                  ...   \n",
       "20  02-1124/2023                            (02-55...   \n",
       "21  02-0986/2023                            (02-54...   \n",
       "22  02-0681/2023                            (02-44...   \n",
       "23  02а-0622/2023                                 ...   \n",
       "24  02а-0621/2023                                 ...   \n",
       "25                                      02а-0484/2023   \n",
       "26                                       01-0476/2023   \n",
       "27                                       01-0453/2023   \n",
       "28  02-0383/2023                                  ...   \n",
       "29                                       01-0275/2023   \n",
       "\n",
       "                                              Стороны Дата поступления   \n",
       "0   Истец: Борсов А.И.Ответчик: ФГАОУ ВО \"Национал...       24.03.2023  \\\n",
       "1   Истец: Дружинин А.А.Ответчик: ФГАОУ высшего об...       03.03.2023   \n",
       "2   Истец: Черничкин А.С.Ответчик: ПАО \"Сбербанк Р...       12.10.2022   \n",
       "3   Истец: Солдатенко В.А.Ответчик: Федеральное Го...       03.03.2023   \n",
       "4   Истец: Андриянова Д.А.Ответчик: Федеральное го...       25.11.2022   \n",
       "5   Истец: Барабанщиков К.Ю.Ответчик: ФГАОУВО \"НИУ...       17.08.2022   \n",
       "6   Истец: Никонова Ю.А.Ответчик: ФГАОУ ВО \"НИУ \"В...       14.09.2022   \n",
       "7                 Истец: Жарова А.К.Ответчик: НИУ ВШЭ       11.08.2022   \n",
       "8   Административный истец: АО \"Московский областн...       18.04.2023   \n",
       "9   Административный истец: Журкин М.Д.Администрат...       06.06.2023   \n",
       "10  Административный истец: Акмалов А.А.Администра...       13.02.2023   \n",
       "11                                                NaN       30.03.2023   \n",
       "12                                                NaN       28.08.2023   \n",
       "13  Истец: ООО \"Научно-издательский центр ИНФРА-М\"...       05.12.2022   \n",
       "14                                                NaN       10.03.2023   \n",
       "15  Истец: Борсов А.И.Ответчик: ФГАОУ ВО \"Национал...       24.03.2023   \n",
       "16  Истец: Дружинин А.А.Ответчик: ФГАОУ высшего об...       03.03.2023   \n",
       "17  Истец: Черничкин А.С.Ответчик: ПАО \"Сбербанк Р...       12.10.2022   \n",
       "18  Истец: Солдатенко В.А.Ответчик: Федеральное Го...       03.03.2023   \n",
       "19  Истец: Андриянова Д.А.Ответчик: Федеральное го...       25.11.2022   \n",
       "20  Истец: Барабанщиков К.Ю.Ответчик: ФГАОУВО \"НИУ...       17.08.2022   \n",
       "21  Истец: Никонова Ю.А.Ответчик: ФГАОУ ВО \"НИУ \"В...       14.09.2022   \n",
       "22                Истец: Жарова А.К.Ответчик: НИУ ВШЭ       11.08.2022   \n",
       "23  Административный истец: АО \"Московский областн...       18.04.2023   \n",
       "24  Административный истец: Журкин М.Д.Администрат...       06.06.2023   \n",
       "25  Административный истец: Акмалов А.А.Администра...       13.02.2023   \n",
       "26                                                NaN       30.03.2023   \n",
       "27                                                NaN       28.08.2023   \n",
       "28  Истец: ООО \"Научно-издательский центр ИНФРА-М\"...       05.12.2022   \n",
       "29                                                NaN       10.03.2023   \n",
       "\n",
       "   Дата рассмотрения дела в первой инстанции Дата вступления решения в силу   \n",
       "0                                 20.06.2023                     14.12.2023  \\\n",
       "1                                 11.05.2023                            NaN   \n",
       "2                                 26.07.2023                            NaN   \n",
       "3                                 15.08.2023                            NaN   \n",
       "4                                 10.04.2023                     18.05.2023   \n",
       "5                                 07.02.2023                     06.09.2023   \n",
       "6                                 14.02.2023                     28.04.2023   \n",
       "7                                 15.03.2023                     16.05.2023   \n",
       "8                                 21.06.2023                            NaN   \n",
       "9                                 22.06.2023                            NaN   \n",
       "10                                11.05.2023                     27.06.2023   \n",
       "11                                16.05.2023                     01.06.2023   \n",
       "12                                13.12.2023                     29.12.2023   \n",
       "13                                06.10.2023                            NaN   \n",
       "14                                04.07.2023                     21.07.2023   \n",
       "15                                20.06.2023                     14.12.2023   \n",
       "16                                11.05.2023                            NaN   \n",
       "17                                26.07.2023                            NaN   \n",
       "18                                15.08.2023                            NaN   \n",
       "19                                10.04.2023                     18.05.2023   \n",
       "20                                07.02.2023                     06.09.2023   \n",
       "21                                14.02.2023                     28.04.2023   \n",
       "22                                15.03.2023                     16.05.2023   \n",
       "23                                21.06.2023                            NaN   \n",
       "24                                22.06.2023                            NaN   \n",
       "25                                11.05.2023                     27.06.2023   \n",
       "26                                16.05.2023                     01.06.2023   \n",
       "27                                13.12.2023                     29.12.2023   \n",
       "28                                06.10.2023                            NaN   \n",
       "29                                04.07.2023                     21.07.2023   \n",
       "\n",
       "                 Cудья                                     Категория дела   \n",
       "0           Юдина И.В.  179 - О защите прав потребителей - из договоро...  \\\n",
       "1       Наделяева Е.И.  44 - О восстановлении на государственной (муни...   \n",
       "2       Курносова О.А.  178 - О защите прав потребителей - из договоро...   \n",
       "3       Молодцова Е.В.                           211- Прочие исковые дела   \n",
       "4    Старовойтова К.Ю.  54 - Трудовые споры о взыскании невыплаченной ...   \n",
       "5       Курносова О.А.                           211- Прочие исковые дела   \n",
       "6       Курносова О.А.  74 - Иные, возникающие из трудовых правоотношений   \n",
       "7   Александренко И.М.  54 - Трудовые споры о взыскании невыплаченной ...   \n",
       "8         Кочнева А.Н.  27 - Прочие об оспаривании решений, действий (...   \n",
       "9             Кац Ю.А.  26 - Об оспаривании решений, действий (бездейс...   \n",
       "10        Липкина О.А.  66 - Об оспаривании решения в отношении иностр...   \n",
       "11       Костырев А.М.                                                NaN   \n",
       "12       Рахматов Ю.А.                                                NaN   \n",
       "13       Киселёва Н.А.                      167 - О защите авторских прав   \n",
       "14      Николаева Е.С.                                                NaN   \n",
       "15          Юдина И.В.  179 - О защите прав потребителей - из договоро...   \n",
       "16      Наделяева Е.И.  44 - О восстановлении на государственной (муни...   \n",
       "17      Курносова О.А.  178 - О защите прав потребителей - из договоро...   \n",
       "18      Молодцова Е.В.                           211- Прочие исковые дела   \n",
       "19   Старовойтова К.Ю.  54 - Трудовые споры о взыскании невыплаченной ...   \n",
       "20      Курносова О.А.                           211- Прочие исковые дела   \n",
       "21      Курносова О.А.  74 - Иные, возникающие из трудовых правоотношений   \n",
       "22  Александренко И.М.  54 - Трудовые споры о взыскании невыплаченной ...   \n",
       "23        Кочнева А.Н.  27 - Прочие об оспаривании решений, действий (...   \n",
       "24            Кац Ю.А.  26 - Об оспаривании решений, действий (бездейс...   \n",
       "25        Липкина О.А.  66 - Об оспаривании решения в отношении иностр...   \n",
       "26       Костырев А.М.                                                NaN   \n",
       "27       Рахматов Ю.А.                                                NaN   \n",
       "28       Киселёва Н.А.                      167 - О защите авторских прав   \n",
       "29      Николаева Е.С.                                                NaN   \n",
       "\n",
       "              Номер дела в суде вышестоящей инстанции   \n",
       "0                                       33-48031/2023  \\\n",
       "1                                        33-4121/2024   \n",
       "2                                                 NaN   \n",
       "3   33-40411/2023                ,                ...   \n",
       "4                                                 NaN   \n",
       "5                                       33-38950/2023   \n",
       "6                                                 NaN   \n",
       "7                                                 NaN   \n",
       "8                                                 NaN   \n",
       "9                                       33а-2648/2024   \n",
       "10                                                NaN   \n",
       "11                                                NaN   \n",
       "12                                                NaN   \n",
       "13                                                NaN   \n",
       "14                                                NaN   \n",
       "15                                      33-48031/2023   \n",
       "16                                       33-4121/2024   \n",
       "17                                                NaN   \n",
       "18  33-40411/2023                ,                ...   \n",
       "19                                                NaN   \n",
       "20                                      33-38950/2023   \n",
       "21                                                NaN   \n",
       "22                                                NaN   \n",
       "23                                                NaN   \n",
       "24                                      33а-2648/2024   \n",
       "25                                                NaN   \n",
       "26                                                NaN   \n",
       "27                                                NaN   \n",
       "28                                                NaN   \n",
       "29                                                NaN   \n",
       "\n",
       "                                   Текущее состояние   \n",
       "0                          Удовлетворено, 20.06.2023  \\\n",
       "1                          Удовлетворено, 11.05.2023   \n",
       "2   Назначено судебное заседание на 14.03.2024 09:50   \n",
       "3                 Удовлетворено частично, 15.08.2023   \n",
       "4                 Удовлетворено частично, 10.04.2023   \n",
       "5              Отказано в удовлетворении, 07.02.2023   \n",
       "6              Отказано в удовлетворении, 14.02.2023   \n",
       "7              Отказано в удовлетворении, 15.03.2023   \n",
       "8              Отказано в удовлетворении, 21.06.2023   \n",
       "9                          Удовлетворено, 22.06.2023   \n",
       "10             Отказано в удовлетворении, 11.05.2023   \n",
       "11                       Вступило в силу, 01.06.2023   \n",
       "12                       Вступило в силу, 29.12.2023   \n",
       "13                Удовлетворено частично, 06.10.2023   \n",
       "14                       Вступило в силу, 21.07.2023   \n",
       "15                         Удовлетворено, 20.06.2023   \n",
       "16                         Удовлетворено, 11.05.2023   \n",
       "17  Назначено судебное заседание на 14.03.2024 09:50   \n",
       "18                Удовлетворено частично, 15.08.2023   \n",
       "19                Удовлетворено частично, 10.04.2023   \n",
       "20             Отказано в удовлетворении, 07.02.2023   \n",
       "21             Отказано в удовлетворении, 14.02.2023   \n",
       "22             Отказано в удовлетворении, 15.03.2023   \n",
       "23             Отказано в удовлетворении, 21.06.2023   \n",
       "24                         Удовлетворено, 22.06.2023   \n",
       "25             Отказано в удовлетворении, 11.05.2023   \n",
       "26                       Вступило в силу, 01.06.2023   \n",
       "27                       Вступило в силу, 29.12.2023   \n",
       "28                Удовлетворено частично, 06.10.2023   \n",
       "29                       Вступило в силу, 21.07.2023   \n",
       "\n",
       "                Решение апелляции   \n",
       "0            Отменено, 14.12.2023  \\\n",
       "1                             NaN   \n",
       "2                             NaN   \n",
       "3                             NaN   \n",
       "4                             NaN   \n",
       "5   Отменено частично, 06.09.2023   \n",
       "6                             NaN   \n",
       "7                             NaN   \n",
       "8                             NaN   \n",
       "9                             NaN   \n",
       "10                            NaN   \n",
       "11                            NaN   \n",
       "12                            NaN   \n",
       "13                            NaN   \n",
       "14                            NaN   \n",
       "15           Отменено, 14.12.2023   \n",
       "16                            NaN   \n",
       "17                            NaN   \n",
       "18                            NaN   \n",
       "19                            NaN   \n",
       "20  Отменено частично, 06.09.2023   \n",
       "21                            NaN   \n",
       "22                            NaN   \n",
       "23                            NaN   \n",
       "24                            NaN   \n",
       "25                            NaN   \n",
       "26                            NaN   \n",
       "27                            NaN   \n",
       "28                            NaN   \n",
       "29                            NaN   \n",
       "\n",
       "                                                 link   \n",
       "0   https://mos-gorsud.ru/rs/nikulinskij/services/...  \\\n",
       "1   https://mos-gorsud.ru/rs/horoshevskij/services...   \n",
       "2   https://mos-gorsud.ru/rs/basmannyj/services/ca...   \n",
       "3   https://mos-gorsud.ru/rs/chertanovskij/service...   \n",
       "4   https://mos-gorsud.ru/rs/basmannyj/services/ca...   \n",
       "5   https://mos-gorsud.ru/rs/basmannyj/services/ca...   \n",
       "6   https://mos-gorsud.ru/rs/basmannyj/services/ca...   \n",
       "7   https://mos-gorsud.ru/rs/dorogomilovskij/servi...   \n",
       "8   https://mos-gorsud.ru/rs/gagarinskij/services/...   \n",
       "9   https://mos-gorsud.ru/rs/lyublinskij/services/...   \n",
       "10  https://mos-gorsud.ru/rs/basmannyj/services/ca...   \n",
       "11  https://mos-gorsud.ru/rs/tushinskij/services/c...   \n",
       "12  https://mos-gorsud.ru/rs/zamoskvoreckij/servic...   \n",
       "13  https://mos-gorsud.ru/rs/taganskij/services/ca...   \n",
       "14  https://mos-gorsud.ru/rs/basmannyj/services/ca...   \n",
       "15  https://mos-gorsud.ru/rs/nikulinskij/services/...   \n",
       "16  https://mos-gorsud.ru/rs/horoshevskij/services...   \n",
       "17  https://mos-gorsud.ru/rs/basmannyj/services/ca...   \n",
       "18  https://mos-gorsud.ru/rs/chertanovskij/service...   \n",
       "19  https://mos-gorsud.ru/rs/basmannyj/services/ca...   \n",
       "20  https://mos-gorsud.ru/rs/basmannyj/services/ca...   \n",
       "21  https://mos-gorsud.ru/rs/basmannyj/services/ca...   \n",
       "22  https://mos-gorsud.ru/rs/dorogomilovskij/servi...   \n",
       "23  https://mos-gorsud.ru/rs/gagarinskij/services/...   \n",
       "24  https://mos-gorsud.ru/rs/lyublinskij/services/...   \n",
       "25  https://mos-gorsud.ru/rs/basmannyj/services/ca...   \n",
       "26  https://mos-gorsud.ru/rs/tushinskij/services/c...   \n",
       "27  https://mos-gorsud.ru/rs/zamoskvoreckij/servic...   \n",
       "28  https://mos-gorsud.ru/rs/taganskij/services/ca...   \n",
       "29  https://mos-gorsud.ru/rs/basmannyj/services/ca...   \n",
       "\n",
       "                                           Подсудимый  \n",
       "0                                                 NaN  \n",
       "1                                                 NaN  \n",
       "2                                                 NaN  \n",
       "3                                                 NaN  \n",
       "4                                                 NaN  \n",
       "5                                                 NaN  \n",
       "6                                                 NaN  \n",
       "7                                                 NaN  \n",
       "8                                                 NaN  \n",
       "9                                                 NaN  \n",
       "10                                                NaN  \n",
       "11  Геворгян М.С.                            (Ст. ...  \n",
       "12  Бойко Д.В.                            (Ст. 158...  \n",
       "13                                                NaN  \n",
       "14  Ашурмадов М.Н.                            (Ст....  \n",
       "15                                                NaN  \n",
       "16                                                NaN  \n",
       "17                                                NaN  \n",
       "18                                                NaN  \n",
       "19                                                NaN  \n",
       "20                                                NaN  \n",
       "21                                                NaN  \n",
       "22                                                NaN  \n",
       "23                                                NaN  \n",
       "24                                                NaN  \n",
       "25                                                NaN  \n",
       "26  Геворгян М.С.                            (Ст. ...  \n",
       "27  Бойко Д.В.                            (Ст. 158...  \n",
       "28                                                NaN  \n",
       "29  Ашурмадов М.Н.                            (Ст....  "
      ]
     },
     "execution_count": 170,
     "metadata": {},
     "output_type": "execute_result"
    }
   ],
   "source": [
    "data # Так должен выглядеть результат"
   ]
  },
  {
   "cell_type": "markdown",
   "id": "81d188d1",
   "metadata": {},
   "source": [
    "## 4. Selenium: явные и неявные ожидания и обработка исключений<a name='part4'></a>\n",
    "\n",
    "Как вы могли заметить, некоторые сайты загружаются очень постепенно. Сейчас мы с вами использовали ожидания с помощью `time.sleep(seconds)` чтобы перестраховаться от получения `ElementNotVisibleException` – исключения, которое возникает, когда вы пытаетесь взаимодействовать с элементом который еще не подгрузился на страницу. Как считают авторы документации к Selenium на Python:\n",
    "\n",
    "> *Худший пример такого кода (явного ожидания) — это использование команды `time.sleep()`, которая устанавливает точное время ожидания.*\n",
    "---\n",
    "\n",
    "**Почему плохо использовать `time.sleep()`?** Если сайт, с которым вы работаете, долго грузится, то вы скорее всего для всех страниц будете выставлять достаточно большое значение - например, будете ждать 3-5 секунд. Однако, некоторые страницы могут загрузиться у вас быстрее (например, у вас вырастет скорость интернета). Это не страшно когда вы работаете с учебными проектами, но важно, когда занимаетесь сбором данных по работе (в том числе, от вас ждут данные заказчики или коллеги):\n",
    "\n",
    "Представим себе следующую ситуацию:\n",
    "* Вам нужно собрать данные с `10 000` страниц;\n",
    "* Вы проставили 5 секунд ожидания в `time.sleep()` потому что у вас не подгружались моментально все элементы;\n",
    "* Первая половина страниц действительно прогружалась по 5 секунд, а вот для второй половины – все искомые элементы загружались за 3.5 секунды.\n",
    "\n",
    "**Тогда:** вы затратили на сбор данных с 10 тысяч страниц минимум 50 тысяч секунд (833 минуты или 13 часов – собирали все десять тысяч страниц по 5 секунд), **а могли бы затратить** меньше –  как минимум, 42.5 тысячи секунд (708 минут или 11 часов 48 минут - собирали пять тысяч страниц по 5 секунд, другие пять тысяч страниц по 3.5 секунды). \n",
    "\n",
    "**Кажется, что разница небольшая**. Но на самом деле это означает, что вам не придется писать заказчику или коллеге `Привет, данные будут через час` или что у вас будет время их посмотреть, написать по ним справку, оформить и дообработать при необходимости. Или вы хотя бы увидите фатальные ошибки на час раньше :)\n",
    "\n",
    "---\n",
    "\n",
    "Но есть еще несколько более цивилизованных способов работы с ожиданиями: **неявные** и **явные** ожидания в Selenium.\n",
    "\n",
    "**`wb.implicitly_wait()` и неявные ожидания**\n",
    "\n",
    "Что это за неявное ожидание такое? Неявное ожидание указывает WebDriverу опрашивать html определенное количество времени (чаще - секунд), когда пытается найти элемент или элементы. Значение по умолчанию равно 0. Если коротко - это простой путь: вы говорите – *Webdriver, ищи этот элемент столько-то секунд*.\n",
    "\n",
    "Давайте посмотрим на примере:"
   ]
  },
  {
   "cell_type": "code",
   "execution_count": 179,
   "id": "e49c6966",
   "metadata": {},
   "outputs": [],
   "source": [
    "link_to_one_case = 'https://mos-gorsud.ru/rs/basmannyj/services/cases/criminal/details/071d64e0-bf4c-11ed-bd85-6751552d0bab?year=2023&formType=fullForm'\n",
    "\n",
    "wb.implicitly_wait(3) # будем ждать 3 секунды\n",
    "wb.get(link_to_one_case) # открываем страницу\n",
    "\n",
    "open_documents = wb.find_element(By.ID, 'ui-id-3') # ищем кнопку \"Документы\"\n",
    "open_documents.click() # кликаем"
   ]
  },
  {
   "cell_type": "markdown",
   "id": "5834621b",
   "metadata": {},
   "source": [
    "**`try-except` и работа с исключениями в Selenium**\n",
    "Код выше был выполнен успешно, потому что у нас с вами действительно есть этот элемент на странице. А теперь давайте попробуем переписать наш код под взаимодействие с исключениями.\n",
    "\n",
    "Названия всех распространенных исключений в Selenium можно найти по [ссылке](https://www.selenium.dev/selenium/docs/api/py/common/selenium.common.exceptions.html)."
   ]
  },
  {
   "cell_type": "code",
   "execution_count": 190,
   "id": "ce476275",
   "metadata": {
    "scrolled": true
   },
   "outputs": [
    {
     "name": "stdout",
     "output_type": "stream",
     "text": [
      "Такой элемент не найден\n"
     ]
    }
   ],
   "source": [
    "from selenium.common.exceptions import NoSuchElementException\n",
    "from selenium.common.exceptions import ElementNotInteractableException\n",
    "from selenium.common.exceptions import TimeoutException\n",
    "\n",
    "link_to_one_case = 'https://mos-gorsud.ru/rs/basmannyj/services/cases/criminal/details/071d64e0-bf4c-11ed-bd85-6751552d0bab?year=2023&formType=fullForm'\n",
    "\n",
    "wb.implicitly_wait(3) # будем ждать 3 секунды\n",
    "wb.get(link_to_one_case) # открываем страницу\n",
    "\n",
    "non_existed_id = 'myDinamicElement'\n",
    "\n",
    "try:\n",
    "    open_documents = wb.find_element(By.ID, non_existed_id) # ищем кнопку \n",
    "    open_documents.click() # кликаем\n",
    "except ElementNotVisibleException: # работаем с исключениями - если элемент не видим\n",
    "    print('Вебдрайвер не может увидеть этот элемент')\n",
    "except NoSuchElementException: # если элемент не найден\n",
    "    print('Такой элемент не найден')\n",
    "except TimeoutException: # если время вышло\n",
    "    print('Время вышло!')"
   ]
  },
  {
   "cell_type": "markdown",
   "id": "3a243e97",
   "metadata": {},
   "source": [
    "**`WebDriverWait() и явные ожидания`**\n",
    "\n",
    "Явное ожидание — это код, которым вы определяете какое необходимое условие должно произойти для того, чтобы дальнейший код исполнился. Список всех явных ожиданий доступен в [документации](https://selenium-python.readthedocs.io/waits.html), но приведу несколько примеров:\n",
    "\n",
    "* `presence_of_element_located` - ожидание, которое проверяет присутствует ли элемент в html страницы (не обязательно должен быть видимым);\n",
    "* `visibility_of_element_located` - ожидание, которое проверяет присутствует ли элемент в html страницы и видим ли он. Видимость означает что элемент не только отображается, но также имеет высоту (height) и ширину (width) больше, чем 0. \n",
    "* `element_to_be_clickable` – ожидание, которое проверяет, отображается и кликабелен ли элемент.\n",
    "\n",
    "Какие элементы мы тут используем?\n",
    "* `WebDriverWait` – класс, отвечающий за ожидание;\n",
    "* `wait.until()` это метод, отвечающий за ожидание. Внутрь ему мы должны подать то, что и как мы ожидаем.\n",
    "* `EC.<some value>` – класс, отвечащий за то, что конкретно мы ожидаем. В качестве аргумента подаем локатор элемента `(By.ID, 'ui-id-3')`.\n",
    "\n",
    "Воспользуемся явными ожиданиями сами:"
   ]
  },
  {
   "cell_type": "code",
   "execution_count": 195,
   "id": "33c397f4",
   "metadata": {},
   "outputs": [],
   "source": [
    "from selenium.webdriver.support.ui import WebDriverWait\n",
    "from selenium.webdriver.support import expected_conditions as EC\n",
    "from selenium.common.exceptions import NoSuchElementException\n",
    "from selenium.common.exceptions import ElementNotInteractableException\n",
    "\n",
    "link_to_one_case = 'https://mos-gorsud.ru/rs/basmannyj/services/cases/criminal/details/071d64e0-bf4c-11ed-bd85-6751552d0bab?year=2023&formType=fullForm'\n",
    "wb.get(link_to_one_case) # открываем ссылку\n",
    "wait = WebDriverWait(wb, 3) # ждем до 3х секунд ИЛИ пока не найдем элемент, удовлетворяющий условиям:\n",
    "\n",
    "try:\n",
    "    # воспользуемся ожиданием, проверяющим, кликабельный ли элемент\n",
    "    element = wait.until(EC.element_to_be_clickable((By.ID, 'ui-id-3'))) # пытаемся нажать на кнопку \"Документы\"\n",
    "    element.click()\n",
    "    print('Получилось')\n",
    "except NoSuchElementException:\n",
    "    print('Не получилось найти элемент.')\n",
    "except ElementNotInteractableException:\n",
    "    print('С этим элементом нельзя взаимодействовать')"
   ]
  },
  {
   "cell_type": "markdown",
   "id": "97c7d927",
   "metadata": {},
   "source": [
    "## 5. os: менеджмент файлов на вашем компьютере <a name='part5'></a>\n",
    "\n",
    "Модуль `os` выступает в качестве интерфейса между Python и операционной системой, что позволяет управлять путями к файлам, создавать каталоги, получать информацию о запущенных процессах и переменных окружения и выполнять множество других полезных вещей. Документация os доступна по [ссылке](https://docs.python.org/3/library/os.html). Здесь мы сразу же используем и модуль `glob` - он используется для поиска файлов, удовлетворяющих определенным условиям."
   ]
  },
  {
   "cell_type": "code",
   "execution_count": 214,
   "id": "33e35ee4",
   "metadata": {},
   "outputs": [],
   "source": [
    "import os \n",
    "import glob"
   ]
  },
  {
   "cell_type": "code",
   "execution_count": 215,
   "id": "34f93c0e",
   "metadata": {},
   "outputs": [
    {
     "name": "stdout",
     "output_type": "stream",
     "text": [
      "/Users/lika.kapustina/Downloads/$RECYCLE.BIN\n"
     ]
    }
   ],
   "source": [
    "your_downloads = '/Users/lika.kapustina/Downloads' # поменяйте это значение\n",
    "\n",
    "list_of_files = glob.glob(f'{your_downloads}/*') # * означает что мы ищем файлы всех форматов.\n",
    "latest_file = max(list_of_files, key=os.path.getctime) # используем в качестве ключа время\n",
    "print(latest_file) # напечатает название последнего по времени файла в ваших загрузках (у меня тут файлов нет)"
   ]
  },
  {
   "cell_type": "markdown",
   "id": "1e81dd92",
   "metadata": {},
   "source": [
    "Давайте адаптируем код выше к нашему коду и будем не только скачивать в цикле все файлы, но и сохранять информацию о том, для какого дела файл мы сохранили."
   ]
  },
  {
   "cell_type": "code",
   "execution_count": 218,
   "id": "279f84c7",
   "metadata": {},
   "outputs": [],
   "source": [
    "# wb = webdriver.Chrome(service=Service(ChromeDriverManager().install()))"
   ]
  },
  {
   "cell_type": "code",
   "execution_count": 224,
   "id": "c164a273",
   "metadata": {},
   "outputs": [
    {
     "name": "stderr",
     "output_type": "stream",
     "text": [
      "100%|███████████████████████████████████████████| 30/30 [18:11<00:00, 36.38s/it]\n"
     ]
    }
   ],
   "source": [
    "downloaded_files = {}\n",
    "\n",
    "for link in tqdm.tqdm(links):\n",
    "    wb.get(link) # открываем дело\n",
    "    wait = WebDriverWait(wb, 3) # подождем 3 секунды ИЛИ пока кнопка \"документы\" не будет найдена\n",
    "    \n",
    "    try:\n",
    "        # Сценарий 1: на странице есть кнопка \"Документы\" и нужно кликнуть на неё чтобы увидеть файлы\n",
    "        # воспользуемся ожиданием, проверяющим, кликабельный ли элемент\n",
    "        element = wait.until(EC.element_to_be_clickable((By.ID, 'ui-id-3'))) # пытаемся нажать на кнопку \"Документы\"\n",
    "        element.click() # кликаем на документы\n",
    "        html = br.page_source\n",
    "        soup = BeautifulSoup(html)\n",
    "        links_for_files = [f\"https://mos-gorsud.ru{i.get('href')}\" for i in soup.find_all('a') if 'Скачать файл' in i.text] # получаем список элементов, которые можно скачать\n",
    "    except:\n",
    "        # Сценарий 2: на странице нет кнопки \"Документы\", но документы для скачивания доступны на основной странице\n",
    "        try:\n",
    "            links_for_files = [f\"https://mos-gorsud.ru{i.get('href')}\" for i in soup.find_all('a') if 'Скачать файл' in i.text] # получаем список элементов, которые можно скачать\n",
    "        # Сценарий 3: на странице не найдено\n",
    "        except:\n",
    "            print(f'На странице {link} не найдено файлов для скачивания.')\n",
    "            continue # если не было не найдено никаких файлов, сразу переходим к работе со следующей ссылкой\n",
    "    \n",
    "    # Перейдем к работе со следующей ссылкой если ошибок не возникло, но нет ссылок для скачивания\n",
    "    if len(links_for_files) == 0:\n",
    "        continue\n",
    "        \n",
    "    # Этот блок кода запускается если у нас есть какие-то ссылки для скачивания \n",
    "    downloaded_files[link] = [] # создаем новый ключ (ссылка) и присваиваем значение - пустой список.\n",
    "     \n",
    "    # Пройдемся по всем ссылкам на скачивание на странице ОДНОГО дела\n",
    "    for one_file_link in links_for_files:\n",
    "        wb.get(one_file_link)\n",
    "        time.sleep(2) # простите мне паузу в 2 секунды, это нужно чтобы файл скачался\n",
    "        \n",
    "        # теперь получим название последнего скачанного файла\n",
    "        list_of_files = glob.glob(f'{your_downloads}/*') \n",
    "        latest_file = max(list_of_files, key=os.path.getctime)\n",
    "        \n",
    "        downloaded_files[link].append(latest_file)"
   ]
  },
  {
   "cell_type": "markdown",
   "id": "7a7b3529",
   "metadata": {},
   "source": [
    "Теперь посмотрим на то что получилось:"
   ]
  },
  {
   "cell_type": "code",
   "execution_count": 225,
   "id": "48161f77",
   "metadata": {},
   "outputs": [
    {
     "data": {
      "text/plain": [
       "{'https://mos-gorsud.ru/rs/nikulinskij/services/cases/civil/details/16cd8a51-cf91-11ed-901b-a51792e7d9cf?year=2023&formType=fullForm': ['/Users/lika.kapustina/Downloads/Дело 02-4564_2023. Мотивированное решение. документ - обезличенная копия (30).docx',\n",
       "  '/Users/lika.kapustina/Downloads/Дело 02-4564_2023. Мотивированное решение. документ - обезличенная копия (31).docx'],\n",
       " 'https://mos-gorsud.ru/rs/horoshevskij/services/cases/civil/details/63577af0-c944-11ed-ab7e-afa5fd1f1a80?year=2023&formType=fullForm': ['/Users/lika.kapustina/Downloads/Дело 02-4564_2023. Мотивированное решение. документ - обезличенная копия (32).docx',\n",
       "  '/Users/lika.kapustina/Downloads/Дело 02-4564_2023. Мотивированное решение. документ - обезличенная копия (33).docx'],\n",
       " 'https://mos-gorsud.ru/rs/basmannyj/services/cases/civil/details/7da80261-cd6f-11ed-91bc-678868b51ab8?year=2023&formType=fullForm': ['/Users/lika.kapustina/Downloads/Дело 02-4564_2023. Мотивированное решение. документ - обезличенная копия (34).docx',\n",
       "  '/Users/lika.kapustina/Downloads/Дело 02-4564_2023. Мотивированное решение. документ - обезличенная копия (35).docx'],\n",
       " 'https://mos-gorsud.ru/rs/chertanovskij/services/cases/civil/details/90d28981-c281-11ed-b232-6fb0d5e1e88d?year=2023&formType=fullForm': ['/Users/lika.kapustina/Downloads/Дело 02-4564_2023. Мотивированное решение. документ - обезличенная копия (36).docx',\n",
       "  '/Users/lika.kapustina/Downloads/Дело 02-4564_2023. Мотивированное решение. документ - обезличенная копия (37).docx'],\n",
       " 'https://mos-gorsud.ru/rs/basmannyj/services/cases/civil/details/6afd9811-934e-11ed-aa38-dd42c3d462a2?year=2023&formType=fullForm': ['/Users/lika.kapustina/Downloads/Дело 02-4564_2023. Мотивированное решение. документ - обезличенная копия (38).docx',\n",
       "  '/Users/lika.kapustina/Downloads/Дело 02-4564_2023. Мотивированное решение. документ - обезличенная копия (39).docx'],\n",
       " 'https://mos-gorsud.ru/rs/basmannyj/services/cases/civil/details/5b6e1581-4017-11ed-a880-fd90264a79ff?year=2023&formType=fullForm': ['/Users/lika.kapustina/Downloads/Дело 02-4564_2023. Мотивированное решение. документ - обезличенная копия (40).docx',\n",
       "  '/Users/lika.kapustina/Downloads/Дело 02-4564_2023. Мотивированное решение. документ - обезличенная копия (41).docx'],\n",
       " 'https://mos-gorsud.ru/rs/basmannyj/services/cases/civil/details/6d333e60-3d7b-11ed-9016-67ae9e523f4f?year=2023&formType=fullForm': ['/Users/lika.kapustina/Downloads/Дело 02-4564_2023. Мотивированное решение. документ - обезличенная копия (42).docx',\n",
       "  '/Users/lika.kapustina/Downloads/Дело 02-4564_2023. Мотивированное решение. документ - обезличенная копия (43).docx'],\n",
       " 'https://mos-gorsud.ru/rs/dorogomilovskij/services/cases/civil/details/9456a0d0-3750-11ed-864d-2fc2ddf82d94?year=2023&formType=fullForm': ['/Users/lika.kapustina/Downloads/Дело 02-4564_2023. Мотивированное решение. документ - обезличенная копия (44).docx',\n",
       "  '/Users/lika.kapustina/Downloads/Дело 02-4564_2023. Мотивированное решение. документ - обезличенная копия (45).docx'],\n",
       " 'https://mos-gorsud.ru/rs/gagarinskij/services/cases/kas/details/04cf8881-e062-11ed-8599-75e501d02ab0?year=2023&formType=fullForm': ['/Users/lika.kapustina/Downloads/Дело 02-4564_2023. Мотивированное решение. документ - обезличенная копия (46).docx',\n",
       "  '/Users/lika.kapustina/Downloads/Дело 02-4564_2023. Мотивированное решение. документ - обезличенная копия (47).docx'],\n",
       " 'https://mos-gorsud.ru/rs/lyublinskij/services/cases/kas/details/10e27880-0628-11ee-a80b-5135c3097443?year=2023&formType=fullForm': ['/Users/lika.kapustina/Downloads/Дело 02-4564_2023. Мотивированное решение. документ - обезличенная копия (48).docx',\n",
       "  '/Users/lika.kapustina/Downloads/Дело 02-4564_2023. Мотивированное решение. документ - обезличенная копия (49).docx'],\n",
       " 'https://mos-gorsud.ru/rs/basmannyj/services/cases/kas/details/9f661f60-ab8a-11ed-9aa9-4bcb8991dd45?year=2023&formType=fullForm': ['/Users/lika.kapustina/Downloads/Дело 02-4564_2023. Мотивированное решение. документ - обезличенная копия (50).docx',\n",
       "  '/Users/lika.kapustina/Downloads/Дело 02-4564_2023. Мотивированное решение. документ - обезличенная копия (51).docx'],\n",
       " 'https://mos-gorsud.ru/rs/tushinskij/services/cases/criminal/details/928b9240-cf05-11ed-ae9b-fdb62f39c802?year=2023&formType=fullForm': ['/Users/lika.kapustina/Downloads/Дело 02-4564_2023. Мотивированное решение. документ - обезличенная копия (52).docx',\n",
       "  '/Users/lika.kapustina/Downloads/Дело 02-4564_2023. Мотивированное решение. документ - обезличенная копия (53).docx'],\n",
       " 'https://mos-gorsud.ru/rs/zamoskvoreckij/services/cases/criminal/details/267633c0-45b2-11ee-95af-8bf81380d527?year=2023&formType=fullForm': ['/Users/lika.kapustina/Downloads/Дело 02-4564_2023. Мотивированное решение. документ - обезличенная копия (54).docx',\n",
       "  '/Users/lika.kapustina/Downloads/Дело 02-4564_2023. Мотивированное решение. документ - обезличенная копия (55).docx'],\n",
       " 'https://mos-gorsud.ru/rs/taganskij/services/cases/civil/details/091ecb21-9734-11ed-8ecd-0f1c23b53481?year=2023&formType=fullForm': ['/Users/lika.kapustina/Downloads/Дело 02-4564_2023. Мотивированное решение. документ - обезличенная копия (56).docx',\n",
       "  '/Users/lika.kapustina/Downloads/Дело 02-4564_2023. Мотивированное решение. документ - обезличенная копия (57).docx'],\n",
       " 'https://mos-gorsud.ru/rs/basmannyj/services/cases/criminal/details/071d64e0-bf4c-11ed-bd85-6751552d0bab?year=2023&formType=fullForm': ['/Users/lika.kapustina/Downloads/Дело 02-4564_2023. Мотивированное решение. документ - обезличенная копия (58).docx',\n",
       "  '/Users/lika.kapustina/Downloads/Дело 02-4564_2023. Мотивированное решение. документ - обезличенная копия (59).docx']}"
      ]
     },
     "execution_count": 225,
     "metadata": {},
     "output_type": "execute_result"
    }
   ],
   "source": [
    "downloaded_files"
   ]
  },
  {
   "cell_type": "markdown",
   "id": "00e4183a",
   "metadata": {},
   "source": [
    "<p></p>\n",
    "<center><b><font size=4>Задача №4. Менеджмент файлов </font></b></center>\n",
    "\n",
    "**Воспользуйтесь поиском по документации `os`, stackoverflow и другими ресурсами и сделайте следующее**:\n",
    "* Создайте папку `mosgorsud_hse_data` на вашем **рабочем столе**;\n",
    "* Пройдитесь по всем документам из вашего словаря и, используя функции os, **переместите эти файлы в эту папку**;\n",
    "* Перезапишите в словарь новый путь к файлу;\n",
    "* Напечатайте словарь."
   ]
  },
  {
   "cell_type": "code",
   "execution_count": null,
   "id": "195383cc",
   "metadata": {},
   "outputs": [],
   "source": [
    "# YOUR CODE HERE"
   ]
  }
 ],
 "metadata": {
  "colab": {
   "provenance": []
  },
  "kernelspec": {
   "display_name": "Python 3 (ipykernel)",
   "language": "python",
   "name": "python3"
  },
  "language_info": {
   "codemirror_mode": {
    "name": "ipython",
    "version": 3
   },
   "file_extension": ".py",
   "mimetype": "text/x-python",
   "name": "python",
   "nbconvert_exporter": "python",
   "pygments_lexer": "ipython3",
   "version": "3.9.13"
  }
 },
 "nbformat": 4,
 "nbformat_minor": 5
}
