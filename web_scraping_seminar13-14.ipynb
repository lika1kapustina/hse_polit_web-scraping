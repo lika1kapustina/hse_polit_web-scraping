{
 "cells": [
  {
   "cell_type": "markdown",
   "id": "8f237e0f",
   "metadata": {
    "id": "8f237e0f"
   },
   "source": [
    "# Сбор данных с Web-scraping и API для социально-научных исследований\n",
    "---\n",
    "## Семинары 13-14. Введение в Selenium. Работа с открытыми судебными данными.\n",
    "\n",
    "---\n",
    "*ФСН, ОП \"Политология\", 2023-2024 гг.*\n",
    "\n",
    "Лика Капустина,\n",
    "\n",
    "lkapustina@hse.ru\n",
    "\n",
    "**План занятия:**\n",
    "1. [1. Selenium: введение и использование web-driver](#part1)\n",
    "2. [2. Selenium: работа с элементами страницы](#part2)\n",
    "---\n",
    "\n",
    "**Основные ссылки:**\n",
    "- [Документация Selenium на Python](https://selenium-python.readthedocs.io);\n",
    "- [Неофициальный перевод документации Selenium на Python на русский](https://habr.com/ru/articles/248559/);\n",
    "- [Документация BeautifulSoup на русском](https://www.crummy.com/software/BeautifulSoup/bs4/doc.ru/bs4ru.html);\n",
    "- [Распространенные exceptions в Selenium](https://www.selenium.dev/selenium/docs/api/py/common/selenium.common.exceptions.html)."
   ]
  },
  {
   "cell_type": "code",
   "execution_count": 226,
   "id": "a3bf7d0a",
   "metadata": {},
   "outputs": [],
   "source": [
    "# импорт основных библиотек\n",
    "import pandas as pd # работа с таблицами\n",
    "import numpy as np  # математические операции и пр.\n",
    "import tqdm         # для дальнейшего импорта прогресс-бара\n",
    "import time         # для обычных пауз"
   ]
  },
  {
   "cell_type": "markdown",
   "id": "019d0544",
   "metadata": {},
   "source": [
    "## 1. Selenium: введение и использование web-driver<a name='part1'></a>\n",
    "\n",
    "**Что такое Selenium?**\n",
    "    \n",
    "Selenium – программная библиотека для управления браузерами. Появилась в 2011 году и используется преимущественно для автоматизированного тестирования сайтов, но получила распространение и как инструмент, с помощью которого можно взаимодействовать с Javascript на сайтах и имитировать действия реального пользователя. \n",
    "    \n",
    "**Ниже я продемонстрирую одну из причин, по которой вам иногда необходимо использовать Selenium**. \n",
    "\n",
    "Некоторые сайты не отдают html страниц в ответ на запросы ботов:"
   ]
  },
  {
   "cell_type": "code",
   "execution_count": 227,
   "id": "d69a7ee8",
   "metadata": {},
   "outputs": [
    {
     "name": "stdout",
     "output_type": "stream",
     "text": [
      "\n"
     ]
    }
   ],
   "source": [
    "import requests # импортируем requests для отправки запросов\n",
    "from bs4 import BeautifulSoup # импортируем BeautifulSoup\n",
    "\n",
    "# получим html-разметку со страницы поиска Московского Городского Суда\n",
    "html = requests.get('https://mos-gorsud.ru/search') # сайт московского городского суда\n",
    "soup = BeautifulSoup(html.text) # получаем суп\n",
    "print(soup.prettify()) # что тут? Да, тут пусто"
   ]
  },
  {
   "cell_type": "markdown",
   "id": "f8c5c457",
   "metadata": {},
   "source": [
    "Или в качестве `response` возвращают объекты с неполным содержанием. Например, сейчас мы попытаемся отправить запрос к странице [Высшей школы экономики в ВКонтакте](https://vk.com/hse). На этой странице содержится информация о группе Вышки в ВК, а также посты сообщества."
   ]
  },
  {
   "cell_type": "code",
   "execution_count": 231,
   "id": "d4a65005",
   "metadata": {},
   "outputs": [],
   "source": [
    "html = requests.get('https://vk.com/hse') # отправляем запрос\n",
    "soup = BeautifulSoup(html.text) # обрабатываем html\n",
    "#print(soup.prettify())"
   ]
  },
  {
   "cell_type": "markdown",
   "id": "f36ca6c6",
   "metadata": {},
   "source": [
    "Зачастую единственное решение в таких случаях – либо пользоваться API сайта (если оно существует), либо использовать Selenium для имитации браузера и действий реального пользователя."
   ]
  },
  {
   "cell_type": "markdown",
   "id": "d846fdbd",
   "metadata": {},
   "source": [
    "### Использование Selenium webdriver\n",
    "\n",
    "**Что такое `webdriver`?** Webdriver – это основная сущность в Selenium, которая отвечает за управление браузером. \n",
    "\n",
    "Сейчас мы воспользуемся `WebdriverManager` – это класс, который поможет нам не мучаться с установкой WebDriver под каждую новую версию Google Chrome.\n",
    "\n",
    "**Альтернатива**. Альтернативный способ установки webdriver для автоматизированной работы с браузером с помощью Selenium представляет из себя скачивание [ChromeDriver](https://chromedriver.chromium.org) под определенную версию Chrome. Это выглядело так: вы скачиваете Chromedriver под определенную версию своего браузера Chrome и каждый раз после выхода новой версии Google Chrome вы заново скачиваете подходящую версию ChromeDriver. С выхода версии 115 Google Chrome процесс скачивания подходящей версии стал [сложнее](https://www.browserstack.com/guide/run-selenium-tests-using-selenium-chromedriver). **Поэтому я советую вам пользоваться установкой Chromedriver через `ChromeDriverManager()`.**"
   ]
  },
  {
   "cell_type": "code",
   "execution_count": 2,
   "id": "6f48b323",
   "metadata": {},
   "outputs": [],
   "source": [
    "!pip install selenium # установка selenium\n",
    "!pip install webdriver-manager # установка пакета webdriver_manager"
   ]
  },
  {
   "cell_type": "markdown",
   "id": "1e6b4316",
   "metadata": {},
   "source": [
    "**`webdriver.Chrome()`, `ChromeDriverManager()`, `wb.get()`**\n",
    "\n",
    "С помощью кода ниже мы cоздадим `selenium.webdriver.chrome.webdriver.WebDriver`, откроем определенную страницу, а по прошествии 5 секунд она будет закрыта. Такая запись с помощью `with` позволяет создать объект webdriver в первой строчке, а далее прописать код, который будет использован до автоматического прекращения работы webdriver (по окончанию последней строчки кода):"
   ]
  },
  {
   "cell_type": "code",
   "execution_count": 235,
   "id": "b04e0e51",
   "metadata": {},
   "outputs": [],
   "source": [
    "from selenium import webdriver # импорт драйвера\n",
    "from selenium.webdriver.chrome.service import Service # импортируем сущность Service\n",
    "from webdriver_manager.chrome import ChromeDriverManager # импорт драйвера для Google Chrome\n",
    "\n",
    "\n",
    "with webdriver.Chrome(service=Service(ChromeDriverManager().install())) as wb:\n",
    "    wb.get(\"https://www.hse.ru/edu/courses/875214615\") # открываем определенную страницу\n",
    "    time.sleep(5) # открываем страницу на 5 секунд, через 5 секунд она закроется"
   ]
  },
  {
   "cell_type": "markdown",
   "id": "1f74a5d4",
   "metadata": {},
   "source": [
    "**Есть альтернатива**\n",
    "\n",
    "Используйте строчку кода ниже, чтобы открыть окно Google Chrome с помощью webdriver и присвоить имя `wb` вашему `selenium.webdriver.chrome.webdriver.WebDriver`."
   ]
  },
  {
   "cell_type": "code",
   "execution_count": 236,
   "id": "b994a5a3",
   "metadata": {},
   "outputs": [],
   "source": [
    "wb = webdriver.Chrome(service=Service(ChromeDriverManager().install())) # делается это так"
   ]
  },
  {
   "cell_type": "code",
   "execution_count": 237,
   "id": "fb8b62c5",
   "metadata": {},
   "outputs": [
    {
     "data": {
      "text/plain": [
       "<selenium.webdriver.chrome.webdriver.WebDriver (session=\"7448954b20f5a3e6953d060ac24e8299\")>"
      ]
     },
     "execution_count": 237,
     "metadata": {},
     "output_type": "execute_result"
    }
   ],
   "source": [
    "wb # можем исследовать наш объект Webdriver"
   ]
  },
  {
   "cell_type": "code",
   "execution_count": 238,
   "id": "a266545b",
   "metadata": {},
   "outputs": [
    {
     "data": {
      "text/plain": [
       "selenium.webdriver.chrome.webdriver.WebDriver"
      ]
     },
     "execution_count": 238,
     "metadata": {},
     "output_type": "execute_result"
    }
   ],
   "source": [
    "type(wb) # и посмотреть на его тип"
   ]
  },
  {
   "cell_type": "markdown",
   "id": "de7d6d91",
   "metadata": {},
   "source": [
    "**`selenium.webdriver.chrome.options`**\n",
    "\n",
    "При использовании `Selenium` вы можете использовать большое количество разных возможностей: например, открыть окно браузера в полный экран. Для этого нужно поработать с классом `Options()`:"
   ]
  },
  {
   "cell_type": "code",
   "execution_count": 239,
   "id": "6b9b9b96",
   "metadata": {},
   "outputs": [],
   "source": [
    "from selenium.webdriver.chrome.options import Options \n",
    "\n",
    "options = Options() # создаем сущность Options\n",
    "options.add_argument(\"start-maximized\") # уточняем, что хотим чтобы при открытии окно было открыто максимально широко\n",
    "wb = webdriver.Chrome(service=Service(ChromeDriverManager().install()), options=options) # создаем вебдрайвер\n",
    "wb.get(\"https://www.hse.ru/edu/courses/875214615\") # открываем ссылку"
   ]
  },
  {
   "cell_type": "markdown",
   "id": "213dbce2",
   "metadata": {},
   "source": [
    "**Ручное взаимодействие с открытой страницей браузера и `wb.current_url`** \n",
    "\n",
    "С помощью метода `wb.current_url` вы можете получить ссылку на конкретную страницу. Зачем это нужно? В некоторых проектах вы можете переключаться между страницами (например, страницами новостей, профилями в социальных сетях) с помощью кнопок и других элементов (то есть, у вас не будет изначального списка ссылок, по которому вы будете идти). Чтобы сохранить в датафрейм информацию по данной конкретной странице, вам нужно будет использовать метод `wb.current_url`.\n",
    "\n",
    "**Другая особенность Selenium – вы можете переключаться между разными страницами в открытом вами окне и браузер будет запоминать ваши действия**. Например:\n",
    "* Вы можете открыть страницу социальной сети, залогиниться там вручную (не посылая значения в поля), а дальше использовать скрипт, написанный с использованием Selenium для выполнения автоматических действий. \n",
    "* Вы можете открыть страницу социальной сети, залогиниться там вручную (не посылая значения в поля), вручную ввести код подтверждения который пришел вам на телефон, а дальше использовать скрипт, написанный с использованием Selenium для выполнения автоматических действий.\n",
    "* Вы можете открыть страницу и нажать на определенную кнопку настроек (например, *переключиться на светлую тему* или *скрыть уведомления*), и при работе с открытым в рамках данной сессии окном вебдрайвер запомнит настройки на этом сайте.\n",
    "\n",
    "Продемонстрируем на примере, что браузер проследит за вашими действиями:"
   ]
  },
  {
   "cell_type": "code",
   "execution_count": 240,
   "id": "d1103aad",
   "metadata": {},
   "outputs": [
    {
     "name": "stdout",
     "output_type": "stream",
     "text": [
      "https://www.hse.ru/edu/courses/875214615\n"
     ]
    }
   ],
   "source": [
    "time.sleep(3)\n",
    "print(wb.current_url) # это наша нынешняя ссылка"
   ]
  },
  {
   "cell_type": "code",
   "execution_count": 74,
   "id": "630d00ba",
   "metadata": {},
   "outputs": [],
   "source": [
    "# давайте немного походим по сайту"
   ]
  },
  {
   "cell_type": "code",
   "execution_count": 241,
   "id": "c63c82f6",
   "metadata": {},
   "outputs": [
    {
     "name": "stdout",
     "output_type": "stream",
     "text": [
      "https://www.hse.ru/edu/courses/575402863\n"
     ]
    }
   ],
   "source": [
    "# и теперь напечатаем ссылку страницы, которую мы только что открыли\n",
    "time.sleep(3)\n",
    "print(wb.current_url)"
   ]
  },
  {
   "cell_type": "markdown",
   "id": "72ba23a1",
   "metadata": {},
   "source": [
    "**`wb.close()` и `wb.quit()`**\n",
    "\n",
    "Вы также можете закрыть открытое с помощью вебдрайвера окно. Это можно сделать с помощью метода `wb.close()` или `wb.quit()`.\n",
    "\n",
    "* `wb.close()` - закрывает браузер, который сейчас открыт;\n",
    "\n",
    "* `wb.quit()` - закрывает все окна и уничтожает сущность Webdriver. На практике вы не почувствуете разницы."
   ]
  },
  {
   "cell_type": "code",
   "execution_count": 242,
   "id": "48c46a21",
   "metadata": {},
   "outputs": [],
   "source": [
    "time.sleep(5) # сперва подождем пять секунд\n",
    "wb.close()    # теперь закроем открытое окно"
   ]
  },
  {
   "cell_type": "code",
   "execution_count": 181,
   "id": "bf2da63c",
   "metadata": {},
   "outputs": [],
   "source": [
    "time.sleep(3) # подождем три секунды\n",
    "wb.quit()     # другой способ"
   ]
  },
  {
   "cell_type": "markdown",
   "id": "ed48b4d9",
   "metadata": {},
   "source": [
    "Обратите внимание - когда вы закрываете окно, вы больше **не можете взаимодействовать с тем окном, которым пользовались раньше**. Вам придется вновь создавать webdriver (`selenium.webdriver.chrome.webdriver.WebDriver`) и взаимодействовать уже с новым окном."
   ]
  },
  {
   "cell_type": "code",
   "execution_count": 243,
   "id": "843b40c5",
   "metadata": {
    "scrolled": true
   },
   "outputs": [
    {
     "ename": "InvalidSessionIdException",
     "evalue": "Message: invalid session id\nStacktrace:\n0   chromedriver                        0x0000000102fa12f8 chromedriver + 4625144\n1   chromedriver                        0x0000000102f98ea3 chromedriver + 4591267\n2   chromedriver                        0x0000000102b97c97 chromedriver + 392343\n3   chromedriver                        0x0000000102bd5735 chromedriver + 644917\n4   chromedriver                        0x0000000102c05754 chromedriver + 841556\n5   chromedriver                        0x0000000102c004cf chromedriver + 820431\n6   chromedriver                        0x0000000102bff6ae chromedriver + 816814\n7   chromedriver                        0x0000000102b64caf chromedriver + 183471\n8   chromedriver                        0x0000000102f61ac0 chromedriver + 4364992\n9   chromedriver                        0x0000000102f66e86 chromedriver + 4386438\n10  chromedriver                        0x0000000102f4672e chromedriver + 4253486\n11  chromedriver                        0x0000000102f67bc9 chromedriver + 4389833\n12  chromedriver                        0x0000000102f38a79 chromedriver + 4196985\n13  chromedriver                        0x0000000102b63873 chromedriver + 178291\n14  dyld                                0x0000000203c9441f start + 1903\n",
     "output_type": "error",
     "traceback": [
      "\u001b[0;31m---------------------------------------------------------------------------\u001b[0m",
      "\u001b[0;31mInvalidSessionIdException\u001b[0m                 Traceback (most recent call last)",
      "\u001b[0;32m/var/folders/lj/_28hw2ts0ys306v1sq_8mxzh0000gn/T/ipykernel_12384/2751558731.py\u001b[0m in \u001b[0;36m<module>\u001b[0;34m\u001b[0m\n\u001b[0;32m----> 1\u001b[0;31m \u001b[0mwb\u001b[0m\u001b[0;34m.\u001b[0m\u001b[0mcurrent_url\u001b[0m \u001b[0;31m# ошибка\u001b[0m\u001b[0;34m\u001b[0m\u001b[0;34m\u001b[0m\u001b[0m\n\u001b[0m",
      "\u001b[0;32m/opt/anaconda3/lib/python3.9/site-packages/selenium/webdriver/remote/webdriver.py\u001b[0m in \u001b[0;36mcurrent_url\u001b[0;34m(self)\u001b[0m\n\u001b[1;32m    906\u001b[0m                 \u001b[0mdriver\u001b[0m\u001b[0;34m.\u001b[0m\u001b[0mcurrent_url\u001b[0m\u001b[0;34m\u001b[0m\u001b[0;34m\u001b[0m\u001b[0m\n\u001b[1;32m    907\u001b[0m         \"\"\"\n\u001b[0;32m--> 908\u001b[0;31m         \u001b[0;32mreturn\u001b[0m \u001b[0mself\u001b[0m\u001b[0;34m.\u001b[0m\u001b[0mexecute\u001b[0m\u001b[0;34m(\u001b[0m\u001b[0mCommand\u001b[0m\u001b[0;34m.\u001b[0m\u001b[0mGET_CURRENT_URL\u001b[0m\u001b[0;34m)\u001b[0m\u001b[0;34m[\u001b[0m\u001b[0;34m'value'\u001b[0m\u001b[0;34m]\u001b[0m\u001b[0;34m\u001b[0m\u001b[0;34m\u001b[0m\u001b[0m\n\u001b[0m\u001b[1;32m    909\u001b[0m \u001b[0;34m\u001b[0m\u001b[0m\n\u001b[1;32m    910\u001b[0m     \u001b[0;34m@\u001b[0m\u001b[0mproperty\u001b[0m\u001b[0;34m\u001b[0m\u001b[0;34m\u001b[0m\u001b[0m\n",
      "\u001b[0;32m/opt/anaconda3/lib/python3.9/site-packages/selenium/webdriver/remote/webdriver.py\u001b[0m in \u001b[0;36mexecute\u001b[0;34m(self, driver_command, params)\u001b[0m\n\u001b[1;32m    416\u001b[0m         \u001b[0mresponse\u001b[0m \u001b[0;34m=\u001b[0m \u001b[0mself\u001b[0m\u001b[0;34m.\u001b[0m\u001b[0mcommand_executor\u001b[0m\u001b[0;34m.\u001b[0m\u001b[0mexecute\u001b[0m\u001b[0;34m(\u001b[0m\u001b[0mdriver_command\u001b[0m\u001b[0;34m,\u001b[0m \u001b[0mparams\u001b[0m\u001b[0;34m)\u001b[0m\u001b[0;34m\u001b[0m\u001b[0;34m\u001b[0m\u001b[0m\n\u001b[1;32m    417\u001b[0m         \u001b[0;32mif\u001b[0m \u001b[0mresponse\u001b[0m\u001b[0;34m:\u001b[0m\u001b[0;34m\u001b[0m\u001b[0;34m\u001b[0m\u001b[0m\n\u001b[0;32m--> 418\u001b[0;31m             \u001b[0mself\u001b[0m\u001b[0;34m.\u001b[0m\u001b[0merror_handler\u001b[0m\u001b[0;34m.\u001b[0m\u001b[0mcheck_response\u001b[0m\u001b[0;34m(\u001b[0m\u001b[0mresponse\u001b[0m\u001b[0;34m)\u001b[0m\u001b[0;34m\u001b[0m\u001b[0;34m\u001b[0m\u001b[0m\n\u001b[0m\u001b[1;32m    419\u001b[0m             response['value'] = self._unwrap_value(\n\u001b[1;32m    420\u001b[0m                 response.get('value', None))\n",
      "\u001b[0;32m/opt/anaconda3/lib/python3.9/site-packages/selenium/webdriver/remote/errorhandler.py\u001b[0m in \u001b[0;36mcheck_response\u001b[0;34m(self, response)\u001b[0m\n\u001b[1;32m    241\u001b[0m                 \u001b[0malert_text\u001b[0m \u001b[0;34m=\u001b[0m \u001b[0mvalue\u001b[0m\u001b[0;34m[\u001b[0m\u001b[0;34m'alert'\u001b[0m\u001b[0;34m]\u001b[0m\u001b[0;34m.\u001b[0m\u001b[0mget\u001b[0m\u001b[0;34m(\u001b[0m\u001b[0;34m'text'\u001b[0m\u001b[0;34m)\u001b[0m\u001b[0;34m\u001b[0m\u001b[0;34m\u001b[0m\u001b[0m\n\u001b[1;32m    242\u001b[0m             \u001b[0;32mraise\u001b[0m \u001b[0mexception_class\u001b[0m\u001b[0;34m(\u001b[0m\u001b[0mmessage\u001b[0m\u001b[0;34m,\u001b[0m \u001b[0mscreen\u001b[0m\u001b[0;34m,\u001b[0m \u001b[0mstacktrace\u001b[0m\u001b[0;34m,\u001b[0m \u001b[0malert_text\u001b[0m\u001b[0;34m)\u001b[0m  \u001b[0;31m# type: ignore[call-arg]  # mypy is not smart enough here\u001b[0m\u001b[0;34m\u001b[0m\u001b[0;34m\u001b[0m\u001b[0m\n\u001b[0;32m--> 243\u001b[0;31m         \u001b[0;32mraise\u001b[0m \u001b[0mexception_class\u001b[0m\u001b[0;34m(\u001b[0m\u001b[0mmessage\u001b[0m\u001b[0;34m,\u001b[0m \u001b[0mscreen\u001b[0m\u001b[0;34m,\u001b[0m \u001b[0mstacktrace\u001b[0m\u001b[0;34m)\u001b[0m\u001b[0;34m\u001b[0m\u001b[0;34m\u001b[0m\u001b[0m\n\u001b[0m\u001b[1;32m    244\u001b[0m \u001b[0;34m\u001b[0m\u001b[0m\n\u001b[1;32m    245\u001b[0m     \u001b[0;32mdef\u001b[0m \u001b[0m_value_or_default\u001b[0m\u001b[0;34m(\u001b[0m\u001b[0mself\u001b[0m\u001b[0;34m,\u001b[0m \u001b[0mobj\u001b[0m\u001b[0;34m:\u001b[0m \u001b[0mMapping\u001b[0m\u001b[0;34m[\u001b[0m\u001b[0m_KT\u001b[0m\u001b[0;34m,\u001b[0m \u001b[0m_VT\u001b[0m\u001b[0;34m]\u001b[0m\u001b[0;34m,\u001b[0m \u001b[0mkey\u001b[0m\u001b[0;34m:\u001b[0m \u001b[0m_KT\u001b[0m\u001b[0;34m,\u001b[0m \u001b[0mdefault\u001b[0m\u001b[0;34m:\u001b[0m \u001b[0m_VT\u001b[0m\u001b[0;34m)\u001b[0m \u001b[0;34m->\u001b[0m \u001b[0m_VT\u001b[0m\u001b[0;34m:\u001b[0m\u001b[0;34m\u001b[0m\u001b[0;34m\u001b[0m\u001b[0m\n",
      "\u001b[0;31mInvalidSessionIdException\u001b[0m: Message: invalid session id\nStacktrace:\n0   chromedriver                        0x0000000102fa12f8 chromedriver + 4625144\n1   chromedriver                        0x0000000102f98ea3 chromedriver + 4591267\n2   chromedriver                        0x0000000102b97c97 chromedriver + 392343\n3   chromedriver                        0x0000000102bd5735 chromedriver + 644917\n4   chromedriver                        0x0000000102c05754 chromedriver + 841556\n5   chromedriver                        0x0000000102c004cf chromedriver + 820431\n6   chromedriver                        0x0000000102bff6ae chromedriver + 816814\n7   chromedriver                        0x0000000102b64caf chromedriver + 183471\n8   chromedriver                        0x0000000102f61ac0 chromedriver + 4364992\n9   chromedriver                        0x0000000102f66e86 chromedriver + 4386438\n10  chromedriver                        0x0000000102f4672e chromedriver + 4253486\n11  chromedriver                        0x0000000102f67bc9 chromedriver + 4389833\n12  chromedriver                        0x0000000102f38a79 chromedriver + 4196985\n13  chromedriver                        0x0000000102b63873 chromedriver + 178291\n14  dyld                                0x0000000203c9441f start + 1903\n"
     ]
    }
   ],
   "source": [
    "wb.current_url # ошибка"
   ]
  },
  {
   "cell_type": "markdown",
   "id": "6f3481bd",
   "metadata": {},
   "source": [
    "## 2. Selenium: работа с элементами страницы<a name='part2'></a>\n",
    "\n",
    "### Selenium и работа с элементами страницы\n",
    "\n",
    "**Другая причина по которой пользуются Selenium – это возможность взаимодействовать с элементами страницы: отправлять значения в формы, нажимать на кнопки и пр.** До некоторой информации невозможно добраться с помощью `requests` - например, если предварительно на сайте вам нужно нажать на кнопки вроде `Развернуть` и `Показать все`. С помощью Selenium вы можете взаимодействовать с этими самыми элементами."
   ]
  },
  {
   "cell_type": "markdown",
   "id": "679c4f09",
   "metadata": {},
   "source": [
    "**`wb.find_element(By.)`**\n",
    "\n",
    "Что такое `.By`? `By` - класс, содержащий статические методы для идентификации элементов.\n",
    "\n",
    "В свою очередь, `webelement` – это сущность, представляющая собой абстракцию над каким-то веб-элементом (кнопки, ссылки, поля ввода).\n",
    "\n",
    "Вы можете использовать разные методы `.By` чтобы находить конкретные элементы:\n",
    "<p></p>\n",
    "<center>\n",
    "    <table>\n",
    "        <tr>\n",
    "            <th><center>By.</center></th>\n",
    "            <th><center>Описание</center></th>\n",
    "        <tr><td>ID</td>\n",
    "            <td>id конкретного элемента html</td></tr>\n",
    "        <tr><td>TAG_NAME</td>\n",
    "        <td>Название тега конкретного элемента html</td></tr>\n",
    "        <tr><td>CLASS_NAME</td>\n",
    "        <td>Название класса конкретного элемента html</td></tr>\n",
    "        <tr><td>СSS_SELECTOR</td>\n",
    "        <td>Локатор, который включает в себя конкретные уникальные атрибуты элемента html</td></tr>\n",
    "        <tr><td>XPATH</td>\n",
    "        <td>Путь по дереву html к элементу</td></tr>\n",
    "        <tr><td>NAME</td>\n",
    "            <td>Значение атрибута <code>name</code> конкретного элемента html</td></tr>\n",
    "        <tr><td>PARTIAL_LINK_TEXT</td>\n",
    "        <td>Возвращает элемент html, который содержит этот текст</td></tr>\n",
    "        <tr><td>LINK_TEXT</td>\n",
    "        <td>Возвращает элемент html, который содержит в точности этот текст</td></tr>\n",
    "    </table>\n",
    "</center>\n",
    "\n",
    "**`wb.find_element(By.)` и `wb.find_elements(By.)`**: точно также, как при работе с объектами `bs4.BeautifulSoup` у вас есть возможность пользоваться двумя методами для поиска по элементам:\n",
    "* Методом, возвращающим первый элемент, удовлетворяющий условию – `wb.find_element(By., ..)`\n",
    "* Методом, возвращающим все элементы, удовлетворяющие условию – `wb.find_elements(By.)`.\n",
    "\n",
    "Использование метода `wb.find_elements(By.)` удобно, когда вам нужно найти сразу несколько элементов, с которыми вы потом хотите взаимодействовать: например, если вы хотите найти несколько кнопок с одинаковым классом чтобы в дальнейшем в цикле прокликать их. \n",
    "\n",
    "Полная документация по поиску элементов с помощью Selenium [доступна по ссылке](https://selenium-python.readthedocs.io/locating-elements.html).\n",
    "\n",
    "---\n",
    "\n",
    "Давайте попробуем поискать элементы на странице поиска по судебным делам на сайте **[Московского городского суда](https://mos-gorsud.ru/search)**. Сайт Московского городского суда позволяет получить информацию о делах в самом Московском городском суде (суде субъекта федерации), так и о делах, которые рассматриваются в московских районных судах (наиболее распространенный уровень судов в России кроме мировых судей). Сперва откроем страницу:"
   ]
  },
  {
   "cell_type": "code",
   "execution_count": 244,
   "id": "aac81a68",
   "metadata": {},
   "outputs": [],
   "source": [
    "wb = webdriver.Chrome(service=Service(ChromeDriverManager().install())) # создаем сущность вебдрайвера\n",
    "url = 'https://mos-gorsud.ru/search' # сохраняем ссылку в переменную\n",
    "wb.get(url) # открываем эту самую ссылку"
   ]
  },
  {
   "cell_type": "markdown",
   "id": "ae7f55d9",
   "metadata": {},
   "source": [
    "Обратим внимание на элемент **<u>Нажмите, чтобы развернуть таблицу</u>**. \n",
    "\n",
    "Кликнем на него правой кнопкой мыши, нажмем `Просмотреть код`. \n",
    "\n",
    "Как мы видим, в html-разметке страницы этому элементу соответствует следующая строчка:\n",
    "\n",
    "```<a href=\"#\" class=\"js-table-modal-trigger\">Нажмите, чтобы развернуть таблицу</a>```\n",
    "\n",
    "**Как можно найти этот конкретный элемент на странице?** В случае с элементами, которые содержат в себе ссылки, можно использовать такие способы поиска:"
   ]
  },
  {
   "cell_type": "code",
   "execution_count": 246,
   "id": "f5f036bd",
   "metadata": {},
   "outputs": [
    {
     "data": {
      "text/plain": [
       "<selenium.webdriver.remote.webelement.WebElement (session=\"49f8502ee04e801b42cfcfc3bf5e230e\", element=\"f.9F46158C5E34D443CF14D89564842CAA.d.7BC055606C330295AACBFD2FFABDD329.e.392\")>"
      ]
     },
     "execution_count": 246,
     "metadata": {},
     "output_type": "execute_result"
    }
   ],
   "source": [
    "from selenium.webdriver.common.by import By # импортируем класс .By\n",
    "wb.find_element(By.LINK_TEXT, 'Нажмите, чтобы развернуть таблицу') # ищем элемент с ссылкой по конкретному значению"
   ]
  },
  {
   "cell_type": "code",
   "execution_count": 249,
   "id": "c98be258",
   "metadata": {},
   "outputs": [
    {
     "data": {
      "text/plain": [
       "<selenium.webdriver.remote.webelement.WebElement (session=\"49f8502ee04e801b42cfcfc3bf5e230e\", element=\"f.9F46158C5E34D443CF14D89564842CAA.d.7BC055606C330295AACBFD2FFABDD329.e.392\")>"
      ]
     },
     "execution_count": 249,
     "metadata": {},
     "output_type": "execute_result"
    }
   ],
   "source": [
    "wb.find_element(By.PARTIAL_LINK_TEXT, 'Нажмите') # ищем элемент по частичному тексту ссылки"
   ]
  },
  {
   "cell_type": "markdown",
   "id": "02a70564",
   "metadata": {},
   "source": [
    "Можно искать элемент по названию класса:"
   ]
  },
  {
   "cell_type": "code",
   "execution_count": 250,
   "id": "cf60e757",
   "metadata": {
    "scrolled": true
   },
   "outputs": [
    {
     "data": {
      "text/plain": [
       "<selenium.webdriver.remote.webelement.WebElement (session=\"49f8502ee04e801b42cfcfc3bf5e230e\", element=\"f.9F46158C5E34D443CF14D89564842CAA.d.7BC055606C330295AACBFD2FFABDD329.e.392\")>"
      ]
     },
     "execution_count": 250,
     "metadata": {},
     "output_type": "execute_result"
    }
   ],
   "source": [
    "wb.find_element(By.CLASS_NAME, 'js-table-modal-trigger') # нашли элемент по названию class"
   ]
  },
  {
   "cell_type": "markdown",
   "id": "a2fb3bca",
   "metadata": {},
   "source": [
    "Но есть также и другие способы. Например, поиск по css-selector'у, xpath и пр. \n",
    "\n",
    "**Как его выполнить?**\n",
    "\n",
    "Для этого сперва нужно будет обратиться к конкретному элементу, нажать на него правой кнопкой мыши, навести курсор на `Копировать`/`Copy`, и далее в выпадающем окне выбрать одно из значений. Например, при выборе `Копировать selector`/`Copy css-selector` вы получите css-selector: так вы сможете найти конкретный элемент, используя синтаксис css-selector'ов."
   ]
  },
  {
   "cell_type": "code",
   "execution_count": null,
   "id": "59548e35",
   "metadata": {},
   "outputs": [],
   "source": [
    "#content > div > div.resultsearch_text > div > a"
   ]
  },
  {
   "cell_type": "code",
   "execution_count": 251,
   "id": "35f05524",
   "metadata": {},
   "outputs": [
    {
     "data": {
      "text/plain": [
       "<selenium.webdriver.remote.webelement.WebElement (session=\"49f8502ee04e801b42cfcfc3bf5e230e\", element=\"f.9F46158C5E34D443CF14D89564842CAA.d.7BC055606C330295AACBFD2FFABDD329.e.392\")>"
      ]
     },
     "execution_count": 251,
     "metadata": {},
     "output_type": "execute_result"
    }
   ],
   "source": [
    "wb.find_element(By.CSS_SELECTOR, '#content > div > div.resultsearch_text > div > a') # скопировали css-selector"
   ]
  },
  {
   "cell_type": "markdown",
   "id": "dc5f29a5",
   "metadata": {},
   "source": [
    "Другой способ - скопировать **xpath**. xpath – это путь к элементу html по дереву html документа. Чтобы получить xpath элемента, вам нужно навести на конкретный элемент, кликнуть правой кнопкой мыши, нажать `Копировать xpath` или `Копировать полную строку xpath`."
   ]
  },
  {
   "cell_type": "code",
   "execution_count": 252,
   "id": "776e8871",
   "metadata": {},
   "outputs": [
    {
     "data": {
      "text/plain": [
       "<selenium.webdriver.remote.webelement.WebElement (session=\"49f8502ee04e801b42cfcfc3bf5e230e\", element=\"f.9F46158C5E34D443CF14D89564842CAA.d.7BC055606C330295AACBFD2FFABDD329.e.392\")>"
      ]
     },
     "execution_count": 252,
     "metadata": {},
     "output_type": "execute_result"
    }
   ],
   "source": [
    "wb.find_element(By.XPATH, '//*[@id=\"content\"]/div/div[1]/div/a') # просто xpath"
   ]
  },
  {
   "cell_type": "code",
   "execution_count": 253,
   "id": "23e633bb",
   "metadata": {},
   "outputs": [
    {
     "data": {
      "text/plain": [
       "<selenium.webdriver.remote.webelement.WebElement (session=\"49f8502ee04e801b42cfcfc3bf5e230e\", element=\"f.9F46158C5E34D443CF14D89564842CAA.d.7BC055606C330295AACBFD2FFABDD329.e.392\")>"
      ]
     },
     "execution_count": 253,
     "metadata": {},
     "output_type": "execute_result"
    }
   ],
   "source": [
    "wb.find_element(By.XPATH, '/html/body/div[2]/main/section/div[2]/div/div[1]/div/a') # полный xpath"
   ]
  },
  {
   "cell_type": "markdown",
   "id": "46d25110",
   "metadata": {},
   "source": [
    "**`.click()`**\n",
    "\n",
    "Зачем мы ищем конкретные элемены? Правильно, чтобы с ними провзаимодействовать. Со многими элементами можно провзаимодействовать, просто кликнув на них. За это отвечает метод `.click()`. "
   ]
  },
  {
   "cell_type": "code",
   "execution_count": 254,
   "id": "a32a12fc",
   "metadata": {},
   "outputs": [],
   "source": [
    "time.sleep(3) # делаем паузу\n",
    "button_open_table = wb.find_element(By.CSS_SELECTOR, '#content > div > div.resultsearch_text > div > a') # элемент\n",
    "button_open_table.click() # кликаем на конкретный элемент\n",
    "time.sleep(3) # делаем паузу"
   ]
  },
  {
   "cell_type": "markdown",
   "id": "a0b06493",
   "metadata": {},
   "source": [
    "**Поздравляю! Теперь вы научились находить элементы и кликать на них.**\n",
    "\n",
    "<p></p>\n",
    "<center><b><font size=4>Задача №1. Поиск элементов страницы. </font></b></center>\n",
    "\n",
    "**На предыдущем шаге нам удалось открыть таблицу. Теперь напишите код который закроет эту таблицу, и используйте конструкцию `try-except`, чтобы этот код выглядел следующим образом:**\n",
    "\n",
    "* Попытайтесь найти элемент по названию класса и кликнуть на него;\n",
    "    * Если не получилось – попытайтесь найти элемент по css_selector и кликнуть на него;\n",
    "        * Если не получилось - попытайтесь найти элемент по xpath и кликнуть на него;\n",
    "            * Если не получилось - напечатайте строку `Увы, не получилось!` и кликнуть на него.\n",
    "            \n",
    "В каждом блоке кода после `except` добавьте паузу на 2 секунды."
   ]
  },
  {
   "cell_type": "code",
   "execution_count": 1,
   "id": "e89a83da",
   "metadata": {},
   "outputs": [],
   "source": [
    "# YOUR CODE HERE"
   ]
  },
  {
   "cell_type": "markdown",
   "id": "70d2f159",
   "metadata": {},
   "source": [
    "### Selenium и отправка значений в поля\n",
    "\n",
    "Кроме того, что с помощью Selenium вы можете искать конкретные значения и кликать на них, вы также можете работать с **полями для ввода информации**\n",
    "\n",
    "Сперва кликнем на кнопку `Расширенная форма`, чтобы иметь возможности провзаимодействовать с полями для расширенного поиска по судебным делам."
   ]
  },
  {
   "cell_type": "code",
   "execution_count": 76,
   "id": "d80c2cae",
   "metadata": {},
   "outputs": [],
   "source": [
    "# короче отправляем всякие параметры в поля запроса\n",
    "url = 'https://mos-gorsud.ru/search' # сохраняем ссылку в переменную\n",
    "wb.get(url) # открываем эту самую ссылку"
   ]
  },
  {
   "cell_type": "code",
   "execution_count": 257,
   "id": "804c0eec",
   "metadata": {},
   "outputs": [],
   "source": [
    "time.sleep(3) # подождем три секунды\n",
    "extended_search = wb.find_element(By.CLASS_NAME, 'extended ') # class этого элемента - \"extended \"\n",
    "extended_search.click() # кликнем на элемент"
   ]
  },
  {
   "cell_type": "markdown",
   "id": "88ae0e66",
   "metadata": {},
   "source": [
    "Теперь наша задача - найти интересующие нас поля. Давайте найдем поле `Статья` и скопируем `css-selector` элемента, который соответствует этому полю на сайте:"
   ]
  },
  {
   "cell_type": "code",
   "execution_count": 259,
   "id": "6fc58937",
   "metadata": {},
   "outputs": [
    {
     "data": {
      "text/plain": [
       "<selenium.webdriver.remote.webelement.WebElement (session=\"49f8502ee04e801b42cfcfc3bf5e230e\", element=\"f.9F46158C5E34D443CF14D89564842CAA.d.7BC055606C330295AACBFD2FFABDD329.e.37\")>"
      ]
     },
     "execution_count": 259,
     "metadata": {},
     "output_type": "execute_result"
    }
   ],
   "source": [
    "article_field = wb.find_element(By.ID, 'codex')\n",
    "article_field"
   ]
  },
  {
   "cell_type": "markdown",
   "id": "ecabd3bf",
   "metadata": {},
   "source": [
    "**`.send_keys()`**\n",
    "\n",
    "Теперь обратимся к методу `.send_keys()`. Этот метод работает так:\n",
    "* В начале - название поля, в которое вы собираетесь отправить определенное значение;\n",
    "* далее - название метода - `.send_keys()`;\n",
    "* в скобках - значение, которое вы планируете отправить в определенную форму.\n",
    "\n",
    "Давайте выполним поиск дел по статье **212 Уголовного кодекса Российской Федерации**: найдем дела о [массовых беспорядках](https://www.consultant.ru/document/cons_doc_LAW_10699/cdfbaa9aeaf8b47695af18e41433e4e3f5f4be5f/)."
   ]
  },
  {
   "cell_type": "code",
   "execution_count": 260,
   "id": "701b3f67",
   "metadata": {},
   "outputs": [],
   "source": [
    "from selenium.webdriver.common.keys import Keys # посылка текста для ввода в формы (логина, пароля, поиска)\n",
    "\n",
    "article = 'Ст. 212'\n",
    "# мы обращаемся к конкретному элементу - article_field\n",
    "article_field.send_keys(article + '\\n') # в конце добавляем \\n чтобы сразу запустить поиск\n",
    "time.sleep(5) # делаем паузу"
   ]
  },
  {
   "cell_type": "code",
   "execution_count": 261,
   "id": "1c798574",
   "metadata": {},
   "outputs": [],
   "source": [
    "time.sleep(2)\n",
    "wb.find_element(By.ID, 'case-index-search-form-btn').click()"
   ]
  },
  {
   "cell_type": "markdown",
   "id": "50349d2d",
   "metadata": {},
   "source": [
    "**Поздравляю! Вы научились отправлять значения в поля**."
   ]
  },
  {
   "cell_type": "markdown",
   "id": "849c7d1e",
   "metadata": {},
   "source": [
    "<p></p>\n",
    "<center><b><font size=4>Задача №2. Работа с полями и элементами страницы</font></b></center>\n",
    "\n",
    "**Используя расширенный поиск, вернитесь к главной странице, введите следующие значения в соответствующие поля и выполните поиск по сайту:**\n",
    "\n",
    "* `Инстанция` – первая (подумайте, как можно выбрать это значение);\n",
    "* `Год` – **2023**;\n",
    "* В `Тексте` присутствует словосочетание **НИУ ВШЭ**.\n",
    "\n",
    "**Покажите преподавательнице, что у вас открылось.**"
   ]
  },
  {
   "cell_type": "code",
   "execution_count": 262,
   "id": "de60559f",
   "metadata": {},
   "outputs": [],
   "source": [
    "url = 'https://mos-gorsud.ru/search'\n",
    "wb.get(url)\n",
    "\n",
    "# YOUR CODE HERE"
   ]
  },
  {
   "cell_type": "markdown",
   "id": "dc482c1b",
   "metadata": {},
   "source": [
    "Один из возможных вариантов решения:"
   ]
  },
  {
   "cell_type": "code",
   "execution_count": 263,
   "id": "e5311df9",
   "metadata": {},
   "outputs": [],
   "source": [
    "# YOUR CODE HERE"
   ]
  }
 ],
 "metadata": {
  "colab": {
   "provenance": []
  },
  "kernelspec": {
   "display_name": "Python 3 (ipykernel)",
   "language": "python",
   "name": "python3"
  },
  "language_info": {
   "codemirror_mode": {
    "name": "ipython",
    "version": 3
   },
   "file_extension": ".py",
   "mimetype": "text/x-python",
   "name": "python",
   "nbconvert_exporter": "python",
   "pygments_lexer": "ipython3",
   "version": "3.9.13"
  }
 },
 "nbformat": 4,
 "nbformat_minor": 5
}
